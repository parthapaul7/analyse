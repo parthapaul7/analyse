{
 "cells": [
  {
   "cell_type": "code",
   "execution_count": 50,
   "id": "f1cd7719",
   "metadata": {},
   "outputs": [],
   "source": [
    "import pandas as pd\n",
    "import numpy as np"
   ]
  },
  {
   "cell_type": "code",
   "execution_count": 51,
   "id": "16ee110e",
   "metadata": {},
   "outputs": [
    {
     "data": {
      "text/plain": [
       "array(['Ge', 'Mg', 'B', 'Si', 'Cl', 'Mn', 'Pd', 'B', 'Hg', 'Mg', 'P',\n",
       "       'Al', 'Mg', 'Sn', 'F', 'Pb', 'B', 'Br', 'Tl', 'Pd', 'Tl', 'U', 'I',\n",
       "       'Ge', 'H', 'Ag', 'C', 'Ir', 'Mg', 'Mg', 'Cd', 'Al', 'Bi', 'Al',\n",
       "       'F', 'Tl', 'Be', 'Pt', 'Pa', 'S', 'S', 'Hf', 'Be', 'Rh', 'Mg', 'B',\n",
       "       'I', 'Mg', 'Ag', 'Zn', 'Au', 'Au', 'F', 'N', 'Fe', 'Mg', 'Mg',\n",
       "       'Mg', 'As', 'S', 'Mg', 'Cl', 'In', 'Si', 'Mg', 'Mg', 'I', 'Sn',\n",
       "       'N', 'Ga', 'Br', 'B'], dtype=object)"
      ]
     },
     "execution_count": 51,
     "metadata": {},
     "output_type": "execute_result"
    }
   ],
   "source": [
    "df = pd.read_csv(\"all_props.csv\", na_values=[\"\"])\n",
    "\n",
    "\n",
    "# Save to a CSV file\n",
    "molecules = df['Symbol'].values\n",
    "\n",
    "\n",
    "molecules = molecules\n",
    "molecules"
   ]
  },
  {
   "cell_type": "code",
   "execution_count": 52,
   "id": "54869ef1",
   "metadata": {},
   "outputs": [],
   "source": [
    "df.drop(columns=['Symbol','results_per_total','results_per_li'], inplace=True)"
   ]
  },
  {
   "cell_type": "code",
   "execution_count": 53,
   "id": "b33c9931",
   "metadata": {},
   "outputs": [],
   "source": [
    "df['Sqrt_pol'] = np.sqrt(df['Polarizability'])"
   ]
  },
  {
   "cell_type": "markdown",
   "id": "27eabe02",
   "metadata": {},
   "source": [
    "### making the combinations"
   ]
  },
  {
   "cell_type": "code",
   "execution_count": 54,
   "id": "af1472a5",
   "metadata": {},
   "outputs": [],
   "source": [
    "import itertools\n",
    "import numpy as np\n",
    "import pandas as pd\n",
    "from multiprocessing import Pool, cpu_count"
   ]
  },
  {
   "cell_type": "code",
   "execution_count": 55,
   "id": "6ef91e54",
   "metadata": {},
   "outputs": [],
   "source": [
    "import itertools\n",
    "import numpy as np\n",
    "import pandas as pd\n",
    "\n",
    "def generate_combinations_df(params_df, param_names):\n",
    "    results = []\n",
    "\n",
    "    # Convert all parameter values to numeric, coercing errors to NaN\n",
    "    params_df = params_df.apply(pd.to_numeric, errors='coerce')\n",
    "\n",
    "    # Precompute inverses of all parameters\n",
    "    params_inv_df = params_df.applymap(lambda x: np.power(float(x), -1) if pd.notnull(x) and x != 0 else np.nan)\n",
    "    params_inv_df.columns = [f\"{name}^(-1)\" for name in param_names]\n",
    "\n",
    "    # Combine original parameters and their inverses\n",
    "    combined_params_df = pd.concat([params_df, params_inv_df], axis=1)\n",
    "    combined_param_names = list(combined_params_df.columns)\n",
    "\n",
    "    # Precompute invalid pairs (parameter and its inverse)\n",
    "    invalid_pairs = {f\"{name}^(-1)\": name for name in param_names}\n",
    "    invalid_pairs.update({name: f\"{name}^(-1)\" for name in param_names})\n",
    "\n",
    "    # Generate all subsets of parameters (combinations)\n",
    "    for r in range(1, len(combined_param_names) + 1):\n",
    "        for subset_indices in itertools.combinations(range(len(combined_param_names)), r):\n",
    "\n",
    "            subset_names = [combined_param_names[i] for i in subset_indices]\n",
    "\n",
    "            # Skip invalid subsets early\n",
    "            if any(invalid_pairs.get(name) in subset_names for name in subset_names):\n",
    "                continue\n",
    "\n",
    "            # Select the subset DataFrame\n",
    "            subset = combined_params_df[subset_names]\n",
    "\n",
    "            # Replace NaN values with 0\n",
    "            subset = subset.fillna(0)\n",
    "\n",
    "            # Compute results for valid subsets\n",
    "            expr_str = \" * \".join(subset_names)\n",
    "            expr_val = subset.prod(axis=1)\n",
    "            results.append((expr_str, expr_val))\n",
    "\n",
    "    return results\n"
   ]
  },
  {
   "cell_type": "code",
   "execution_count": 56,
   "id": "0f84f0e7",
   "metadata": {},
   "outputs": [],
   "source": [
    "import itertools\n",
    "import numpy as np\n",
    "import pandas as pd\n",
    "\n",
    "def generate_combinations_df(params_df, param_names, restricted_properties=None, restricted_to_inverses=None):\n",
    "    if restricted_properties is None:\n",
    "        restricted_properties = []\n",
    "    if restricted_to_inverses is None:\n",
    "        restricted_to_inverses = []\n",
    "\n",
    "    results = []\n",
    "\n",
    "    # Convert all parameter values to numeric, coercing errors to NaN\n",
    "    params_df = params_df.apply(pd.to_numeric, errors='coerce')\n",
    "\n",
    "    # Precompute inverses of all parameters\n",
    "    params_inv_df = params_df.applymap(lambda x: np.power(float(x), -1) if pd.notnull(x) and x != 0 else np.nan)\n",
    "    params_inv_df.columns = [f\"{name}^(-1)\" for name in param_names]\n",
    "\n",
    "    # Combine original parameters and their inverses\n",
    "    combined_params_df = pd.concat([params_df, params_inv_df], axis=1)\n",
    "    combined_param_names = list(combined_params_df.columns)\n",
    "\n",
    "     # Precompute invalid pairs (parameter and its inverse)\n",
    "    invalid_pairs = {f\"{name}^(-1)\": name for name in param_names}\n",
    "    invalid_pairs.update({name: f\"{name}^(-1)\" for name in param_names})\n",
    "    \n",
    "    # Generate all subsets of parameters (combinations)\n",
    "    for r in range(1, len(combined_param_names) + 1):\n",
    "        for subset_indices in itertools.combinations(range(len(combined_param_names)), r):\n",
    "            subset_names = [combined_param_names[i] for i in subset_indices]\n",
    "\n",
    "            # Replace NaN values with 0\n",
    "             # Skip invalid subsets early\n",
    "            if any(invalid_pairs.get(name) in subset_names for name in subset_names):\n",
    "                continue\n",
    "            \n",
    "            subset = combined_params_df[subset_names]\n",
    "            subset = subset.fillna(0)\n",
    "\n",
    "            # Check if both a parameter and its inverse are in the subset\n",
    "            invalid = False\n",
    "           \n",
    "            # Exclude subsets containing restricted inverses\n",
    "            for restricted in restricted_properties:\n",
    "                if f\"{restricted}^(-1)\" in subset_names:\n",
    "                    invalid = True\n",
    "                    break\n",
    "\n",
    "            # Ensure restricted properties only appear as inverses\n",
    "            for restricted in restricted_to_inverses:\n",
    "                if restricted in subset_names or (restricted not in param_names and f\"{restricted}^(-1)\" not in subset_names):\n",
    "                    invalid = True\n",
    "                    break\n",
    "\n",
    "            if invalid:\n",
    "                continue\n",
    "\n",
    "            # Compute results for valid subsets\n",
    "            expr_str = \" * \".join(subset_names)\n",
    "            expr_val = subset.prod(axis=1)\n",
    "            results.append((expr_str, expr_val))\n",
    "            expr_str = \" + \".join(subset_names)\n",
    "            expr_val = subset.sum(axis=1)\n",
    "            results.append((expr_str, expr_val))\n",
    "\n",
    "    return results\n"
   ]
  },
  {
   "cell_type": "code",
   "execution_count": 57,
   "id": "191500d7",
   "metadata": {},
   "outputs": [],
   "source": [
    "import itertools\n",
    "import numpy as np\n",
    "import pandas as pd\n",
    "from multiprocessing import Pool, cpu_count\n",
    "\n",
    "def process_combinations_chunk(args):\n",
    "    combined_params_df, combined_param_names, param_names, indices_chunk = args\n",
    "    results = []\n",
    "\n",
    "    for indices in indices_chunk:\n",
    "        subset_names = [combined_param_names[i] for i in indices]\n",
    "        subset = combined_params_df[subset_names]\n",
    "\n",
    "        # Replace NaN values with 0\n",
    "        subset = subset.fillna(0)\n",
    "\n",
    "        # Check if both a parameter and its inverse are in the subset\n",
    "        invalid = False\n",
    "        for name in subset_names:\n",
    "            if name.endswith(\"^(-1)\") and name[:-5] in subset_names:\n",
    "                invalid = True\n",
    "                break\n",
    "            elif name in param_names and f\"{name}^(-1)\" in subset_names:\n",
    "                invalid = True\n",
    "                break\n",
    "\n",
    "        if not invalid:\n",
    "            # Compute results for valid subsets\n",
    "            expr_str = \" * \".join(subset_names)\n",
    "            expr_val = subset.prod(axis=1)\n",
    "            results.append((expr_str, expr_val))\n",
    "\n",
    "    return results\n",
    "\n",
    "def generate_combinations_df_parallel(params_df, param_names):\n",
    "    # Convert all parameter values to numeric, coercing errors to NaN\n",
    "    params_df = params_df.apply(pd.to_numeric, errors='coerce')\n",
    "\n",
    "    # Precompute inverses of all parameters\n",
    "    params_inv_df = params_df.applymap(lambda x: np.power(float(x), -1) if pd.notnull(x) and x != 0 else np.nan)\n",
    "    params_inv_df.columns = [f\"{name}^(-1)\" for name in param_names]\n",
    "\n",
    "    # Combine original parameters and their inverses\n",
    "    combined_params_df = pd.concat([params_df, params_inv_df], axis=1)\n",
    "    combined_param_names = list(combined_params_df.columns)\n",
    "\n",
    "    # Generate all subsets of parameter indices\n",
    "    all_combinations = [\n",
    "        indices for r in range(1, len(combined_param_names) + 1)\n",
    "        for indices in itertools.combinations(range(len(combined_param_names)), r)\n",
    "    ]\n",
    "\n",
    "    # Divide all_combinations into chunks\n",
    "    num_workers = min(cpu_count(), len(all_combinations))\n",
    "    chunk_size = max(1, len(all_combinations) // num_workers)\n",
    "    chunks = [all_combinations[i:i + chunk_size] for i in range(0, len(all_combinations), chunk_size)]\n",
    "\n",
    "    print(f\"Using {num_workers} workers to process {len(all_combinations)} combinations in {len(chunks)} chunks\")\n",
    "\n",
    "    # Prepare arguments for parallel processing\n",
    "    args = [\n",
    "        (combined_params_df, combined_param_names, param_names, chunk)\n",
    "        for chunk in chunks\n",
    "    ]\n",
    "\n",
    "    # Use multiprocessing to process combinations in parallel\n",
    "    with Pool(processes=num_workers) as pool:\n",
    "        results = pool.map(process_combinations_chunk, args)\n",
    "\n",
    "    # Flatten results\n",
    "    flattened_results = [item for sublist in results for item in sublist]\n",
    "    return flattened_results\n"
   ]
  },
  {
   "cell_type": "markdown",
   "id": "2613a9e0",
   "metadata": {},
   "source": [
    "### Running Combinations"
   ]
  },
  {
   "cell_type": "code",
   "execution_count": 58,
   "id": "49434668",
   "metadata": {},
   "outputs": [],
   "source": [
    "# numeretor = ['Ion_C','Ion_A']\n",
    "# denomeretor = ['Abs_diff_pol','Sum_pol','Abs_diff_EN','Sum_EN']\n",
    "numeretor = None\n",
    "denomeretor = None"
   ]
  },
  {
   "cell_type": "code",
   "execution_count": 59,
   "id": "3e198660",
   "metadata": {},
   "outputs": [
    {
     "name": "stdout",
     "output_type": "stream",
     "text": [
      "Calculating expressions...\n"
     ]
    },
    {
     "name": "stderr",
     "output_type": "stream",
     "text": [
      "/var/folders/zp/h52np6n918qd9v9139ls4z600000gn/T/ipykernel_27904/1368268208.py:17: FutureWarning: DataFrame.applymap has been deprecated. Use DataFrame.map instead.\n",
      "  params_inv_df = params_df.applymap(lambda x: np.power(float(x), -1) if pd.notnull(x) and x != 0 else np.nan)\n"
     ]
    },
    {
     "name": "stdout",
     "output_type": "stream",
     "text": [
      "Expressions cached.\n",
      "(13120, 2)\n"
     ]
    }
   ],
   "source": [
    "\n",
    "import os\n",
    "import pandas as pd\n",
    "\n",
    "takeSaved = False\n",
    "\n",
    "all_expressions = []\n",
    "expressions = []\n",
    "# Define file name to save/load the results\n",
    "cache_file = \"cached_expressions.pkl\"\n",
    "\n",
    "if os.path.exists(cache_file) and takeSaved:\n",
    "    # Load the cached results if they exist\n",
    "    expressions = pd.read_pickle(cache_file)\n",
    "    all_expressions = list(expressions.itertuples(index=False, name=None))\n",
    "    print(\"Loaded cached expressions.\")\n",
    "else:\n",
    "    # Perform the costly computation if cache does not exist\n",
    "    print(\"Calculating expressions...\")\n",
    "    param_names = list(df.columns)\n",
    "    all_expressions = generate_combinations_df(df.iloc[:,:], param_names, restricted_properties=numeretor, restricted_to_inverses=denomeretor)\n",
    "    expressions = pd.DataFrame(all_expressions, columns=['Expression', 'Value'])\n",
    "\n",
    "    # Save the results to cache\n",
    "    expressions.to_pickle(cache_file)\n",
    "    print(\"Expressions cached.\")\n",
    "\n",
    "# Print the shape of the expressions DataFrame\n",
    "print(expressions.shape)\n"
   ]
  },
  {
   "cell_type": "code",
   "execution_count": 60,
   "id": "b5b05b99",
   "metadata": {},
   "outputs": [
    {
     "data": {
      "text/html": [
       "<div>\n",
       "<style scoped>\n",
       "    .dataframe tbody tr th:only-of-type {\n",
       "        vertical-align: middle;\n",
       "    }\n",
       "\n",
       "    .dataframe tbody tr th {\n",
       "        vertical-align: top;\n",
       "    }\n",
       "\n",
       "    .dataframe thead th {\n",
       "        text-align: right;\n",
       "    }\n",
       "</style>\n",
       "<table border=\"1\" class=\"dataframe\">\n",
       "  <thead>\n",
       "    <tr style=\"text-align: right;\">\n",
       "      <th></th>\n",
       "      <th>Expression</th>\n",
       "      <th>Value</th>\n",
       "    </tr>\n",
       "  </thead>\n",
       "  <tbody>\n",
       "    <tr>\n",
       "      <th>0</th>\n",
       "      <td>AtomicMass</td>\n",
       "      <td>0      72.630\n",
       "1      24.305\n",
       "2      10.810\n",
       "3   ...</td>\n",
       "    </tr>\n",
       "    <tr>\n",
       "      <th>1</th>\n",
       "      <td>AtomicMass</td>\n",
       "      <td>0      72.630\n",
       "1      24.305\n",
       "2      10.810\n",
       "3   ...</td>\n",
       "    </tr>\n",
       "    <tr>\n",
       "      <th>2</th>\n",
       "      <td>AtomicRadius</td>\n",
       "      <td>0     211.0\n",
       "1     173.0\n",
       "2     192.0\n",
       "3     210....</td>\n",
       "    </tr>\n",
       "    <tr>\n",
       "      <th>3</th>\n",
       "      <td>AtomicRadius</td>\n",
       "      <td>0     211.0\n",
       "1     173.0\n",
       "2     192.0\n",
       "3     210....</td>\n",
       "    </tr>\n",
       "    <tr>\n",
       "      <th>4</th>\n",
       "      <td>Electronegativity</td>\n",
       "      <td>0     2.01\n",
       "1     1.31\n",
       "2     2.04\n",
       "3     1.90\n",
       "4 ...</td>\n",
       "    </tr>\n",
       "  </tbody>\n",
       "</table>\n",
       "</div>"
      ],
      "text/plain": [
       "          Expression                                              Value\n",
       "0         AtomicMass  0      72.630\n",
       "1      24.305\n",
       "2      10.810\n",
       "3   ...\n",
       "1         AtomicMass  0      72.630\n",
       "1      24.305\n",
       "2      10.810\n",
       "3   ...\n",
       "2       AtomicRadius  0     211.0\n",
       "1     173.0\n",
       "2     192.0\n",
       "3     210....\n",
       "3       AtomicRadius  0     211.0\n",
       "1     173.0\n",
       "2     192.0\n",
       "3     210....\n",
       "4  Electronegativity  0     2.01\n",
       "1     1.31\n",
       "2     2.04\n",
       "3     1.90\n",
       "4 ..."
      ]
     },
     "execution_count": 60,
     "metadata": {},
     "output_type": "execute_result"
    }
   ],
   "source": [
    "expressions['Value'] = expressions['Value'] \n",
    "expressions.head()"
   ]
  },
  {
   "cell_type": "markdown",
   "id": "c04dc3fd",
   "metadata": {},
   "source": [
    "### Addition results to the combinations"
   ]
  },
  {
   "cell_type": "code",
   "execution_count": 61,
   "id": "bde3caea",
   "metadata": {},
   "outputs": [],
   "source": [
    "values_dict = {expr_str: expr_val for expr_str, expr_val in all_expressions}\n",
    "values = pd.DataFrame(values_dict)\n",
    "values['res'] = pd.read_csv(\"all_props.csv\", na_values=[\"\"])['results_per_total'].values"
   ]
  },
  {
   "cell_type": "code",
   "execution_count": 62,
   "id": "40114b0f",
   "metadata": {},
   "outputs": [
    {
     "data": {
      "text/plain": [
       "(13105, 13105)"
      ]
     },
     "execution_count": 62,
     "metadata": {},
     "output_type": "execute_result"
    }
   ],
   "source": [
    "\n",
    "correlation = values.corr()\n",
    "\n",
    "correlation.shape"
   ]
  },
  {
   "cell_type": "code",
   "execution_count": 63,
   "id": "978b3876",
   "metadata": {},
   "outputs": [
    {
     "name": "stdout",
     "output_type": "stream",
     "text": [
      "res                                                                                                                                              1.000000\n",
      "Sqrt_pol * AtomicRadius^(-1) * Electronegativity^(-1) * IonizationEnergy^(-1)                                                                    0.570770\n",
      "Polarizability * AtomicRadius^(-1) * Electronegativity^(-1) * IonizationEnergy^(-1) * Sqrt_pol^(-1)                                              0.570770\n",
      "Sqrt_pol * AtomicRadius^(-1) * Electronegativity^(-1)                                                                                            0.561563\n",
      "Polarizability * AtomicRadius^(-1) * Electronegativity^(-1) * Sqrt_pol^(-1)                                                                      0.561563\n",
      "                                                                                                                                                   ...   \n",
      "Sqrt_pol + AtomicMass^(-1) + AtomicRadius^(-1) + Electronegativity^(-1)                                                                          0.475607\n",
      "Sqrt_pol + AtomicMass^(-1) + Electronegativity^(-1)                                                                                              0.475495\n",
      "Sqrt_pol + AtomicMass^(-1) + AtomicRadius^(-1) + Electronegativity^(-1) + IonizationEnergy^(-1)                                                  0.475408\n",
      "Sqrt_pol + AtomicMass^(-1) + Electronegativity^(-1) + IonizationEnergy^(-1)                                                                      0.475296\n",
      "AtomicMass * AtomicRadius * ElectronAffinity * LiSites * Electronegativity^(-1) * IonizationEnergy^(-1) * Polarizability^(-1) * Sqrt_pol^(-1)    0.475287\n",
      "Name: res, Length: 100, dtype: float64\n"
     ]
    }
   ],
   "source": [
    "results=correlation['res'].abs().sort_values(ascending=False)\n",
    "print(results.iloc[0:100])\n",
    "top_vars = results.iloc[1:100].index"
   ]
  },
  {
   "cell_type": "code",
   "execution_count": 64,
   "id": "7e3f029a",
   "metadata": {},
   "outputs": [
    {
     "name": "stdout",
     "output_type": "stream",
     "text": [
      "res                                                                                                    1.000000\n",
      "Sqrt_pol * AtomicRadius^(-1) * Electronegativity^(-1) * IonizationEnergy^(-1)                          0.570770\n",
      "Polarizability * AtomicRadius^(-1) * Electronegativity^(-1) * IonizationEnergy^(-1) * Sqrt_pol^(-1)    0.570770\n",
      "Sqrt_pol * AtomicRadius^(-1) * Electronegativity^(-1)                                                  0.561563\n",
      "Polarizability * AtomicRadius^(-1) * Electronegativity^(-1) * Sqrt_pol^(-1)                            0.561563\n",
      "                                                                                                         ...   \n",
      "Polarizability + AtomicRadius^(-1) + Electronegativity^(-1) + IonizationEnergy^(-1) + Sqrt_pol^(-1)    0.472077\n",
      "IonizationEnergy + Polarizability + AtomicMass^(-1) + AtomicRadius^(-1) + Electronegativity^(-1)       0.472070\n",
      "Polarizability + Electronegativity^(-1) + IonizationEnergy^(-1) + Sqrt_pol^(-1)                        0.472069\n",
      "IonizationEnergy + Polarizability + AtomicMass^(-1) + Electronegativity^(-1)                           0.472063\n",
      "Polarizability + AtomicRadius^(-1) + Electronegativity^(-1) + Sqrt_pol^(-1)                            0.472049\n",
      "Name: res, Length: 200, dtype: float64\n"
     ]
    }
   ],
   "source": [
    "results=correlation['res'].abs().sort_values(ascending=False)\n",
    "print(results.iloc[0:200])\n",
    "top_vars = results.iloc[1:200].index\n"
   ]
  },
  {
   "cell_type": "code",
   "execution_count": 65,
   "id": "91d3a52d",
   "metadata": {},
   "outputs": [],
   "source": [
    "param = top_vars[0]\n",
    "\n",
    "y = values[param]\n",
    "x = values['res']"
   ]
  },
  {
   "cell_type": "code",
   "execution_count": 66,
   "id": "6a67fd60",
   "metadata": {},
   "outputs": [
    {
     "data": {
      "image/png": "[encoded data removed]",
      "text/plain": [
       "<Figure size 1000x600 with 1 Axes>"
      ]
     },
     "metadata": {},
     "output_type": "display_data"
    }
   ],
   "source": [
    "import matplotlib.pyplot as plt\n",
    "from sklearn.linear_model import LinearRegression\n",
    "from sklearn.metrics import mean_absolute_percentage_error, mean_squared_error, r2_score\n",
    "\n",
    "# Reshape x to a 2D array\n",
    "x_reshaped = x.values.reshape(-1, 1)  # Convert x to a 2D array (n, 1)\n",
    "\n",
    "# Create and fit the linear regression model\n",
    "model = LinearRegression()\n",
    "model.fit(x_reshaped, y)\n",
    "\n",
    "# Get the slope (coefficient) and intercept\n",
    "slope = model.coef_[0]  # model.coef_ gives the slope of the line\n",
    "intercept = model.intercept_  # model.intercept_ gives the intercept\n",
    "\n",
    "# Predict y values using the linear model\n",
    "y_pred = model.predict(x_reshaped)\n",
    "\n",
    "# Calculate R^2, MSE, and MAPE\n",
    "r_squared = r2_score(y, y_pred)\n",
    "mse = mean_squared_error(y, y_pred)\n",
    "mape = mean_absolute_percentage_error(y, y_pred)\n",
    "\n",
    "# Display the equation of the line\n",
    "equation = f\"y = {slope:.4f}x + {intercept:.4f}\"\n",
    "\n",
    "# Plot the data points and the regression line\n",
    "plt.figure(figsize=(10, 6))\n",
    "plt.scatter(x, y, color='blue', label='Data points')\n",
    "plt.plot(x, y_pred, color='red', label='Regression Line')\n",
    "plt.title(f'Scatter Plot of x vs y with Linear Regression Line\\n{param}')\n",
    "plt.xlabel('Percentage Error')\n",
    "plt.ylabel('Function Value')\n",
    "plt.grid()\n",
    "plt.legend()\n",
    "\n",
    "for i in range(len(x)):\n",
    "    plt.annotate(f\"{y.iloc[i]:.4f}\", (x.iloc[i], y.iloc[i]), textcoords=\"offset points\", xytext=(5,5), ha='right', fontsize=9)\n",
    "\n",
    "# Add text box with metrics\n",
    "textstr = f\"$R^2$: {r_squared:.4f}\\nMSE: {mse:.4f} \\nMAPE: {mape:.4f}\\n{equation}\"\n",
    "plt.gca().text(0.05, 0.65, textstr, transform=plt.gca().transAxes, fontsize=10,\n",
    "               verticalalignment='top', bbox=dict(boxstyle=\"round\", facecolor=\"white\", alpha=0.8))\n",
    "\n",
    "plt.show()"
   ]
  }
 ],
 "metadata": {
  "kernelspec": {
   "display_name": "stress",
   "language": "python",
   "name": "python3"
  },
  "language_info": {
   "codemirror_mode": {
    "name": "ipython",
    "version": 3
   },
   "file_extension": ".py",
   "mimetype": "text/x-python",
   "name": "python",
   "nbconvert_exporter": "python",
   "pygments_lexer": "ipython3",
   "version": "3.12.2"
  }
 },
 "nbformat": 4,
 "nbformat_minor": 5
}

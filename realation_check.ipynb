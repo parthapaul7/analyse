{
 "cells": [
  {
   "cell_type": "code",
   "execution_count": 49,
   "metadata": {},
   "outputs": [],
   "source": [
    "import pandas as pd\n",
    "import numpy as np"
   ]
  },
  {
   "cell_type": "markdown",
   "metadata": {},
   "source": [
    "### Loading the feature functions from CSV and trimming"
   ]
  },
  {
   "cell_type": "code",
   "execution_count": 50,
   "metadata": {},
   "outputs": [
    {
     "data": {
      "text/plain": [
       "array(['LiH', 'NaH', 'KH', 'RbH', 'CsH', 'CsCl', 'LiCl', 'CuI', 'LiF'],\n",
       "      dtype=object)"
      ]
     },
     "execution_count": 50,
     "metadata": {},
     "output_type": "execute_result"
    }
   ],
   "source": [
    "df = pd.read_csv(\"ff_valence.csv\")\n",
    "\n",
    "# Save to a CSV file\n",
    "molecules = df['Mol'].values\n",
    "\n",
    "\n",
    "molecules = molecules\n",
    "molecules"
   ]
  },
  {
   "cell_type": "markdown",
   "metadata": {},
   "source": [
    "### Size Modification and adding parameters to Data Frame"
   ]
  },
  {
   "cell_type": "code",
   "execution_count": 51,
   "metadata": {},
   "outputs": [
    {
     "data": {
      "text/html": [
       "<div>\n",
       "<style scoped>\n",
       "    .dataframe tbody tr th:only-of-type {\n",
       "        vertical-align: middle;\n",
       "    }\n",
       "\n",
       "    .dataframe tbody tr th {\n",
       "        vertical-align: top;\n",
       "    }\n",
       "\n",
       "    .dataframe thead th {\n",
       "        text-align: right;\n",
       "    }\n",
       "</style>\n",
       "<table border=\"1\" class=\"dataframe\">\n",
       "  <thead>\n",
       "    <tr style=\"text-align: right;\">\n",
       "      <th></th>\n",
       "      <th>Mol</th>\n",
       "      <th>Pol_C</th>\n",
       "      <th>Pol_A</th>\n",
       "      <th>RadV_C</th>\n",
       "      <th>RadV_A</th>\n",
       "      <th>CN_C</th>\n",
       "      <th>Ion_C</th>\n",
       "      <th>Ion_A</th>\n",
       "      <th>Sum_rad</th>\n",
       "      <th>Sum_pol</th>\n",
       "    </tr>\n",
       "  </thead>\n",
       "  <tbody>\n",
       "    <tr>\n",
       "      <th>0</th>\n",
       "      <td>LiH</td>\n",
       "      <td>164.1</td>\n",
       "      <td>4.51</td>\n",
       "      <td>182</td>\n",
       "      <td>120</td>\n",
       "      <td>6</td>\n",
       "      <td>5.392</td>\n",
       "      <td>13.590</td>\n",
       "      <td>302</td>\n",
       "      <td>168.61</td>\n",
       "    </tr>\n",
       "    <tr>\n",
       "      <th>1</th>\n",
       "      <td>NaH</td>\n",
       "      <td>162.7</td>\n",
       "      <td>4.51</td>\n",
       "      <td>227</td>\n",
       "      <td>120</td>\n",
       "      <td>6</td>\n",
       "      <td>5.139</td>\n",
       "      <td>13.590</td>\n",
       "      <td>347</td>\n",
       "      <td>167.21</td>\n",
       "    </tr>\n",
       "    <tr>\n",
       "      <th>2</th>\n",
       "      <td>KH</td>\n",
       "      <td>289.7</td>\n",
       "      <td>4.51</td>\n",
       "      <td>275</td>\n",
       "      <td>120</td>\n",
       "      <td>6</td>\n",
       "      <td>4.341</td>\n",
       "      <td>13.590</td>\n",
       "      <td>395</td>\n",
       "      <td>294.21</td>\n",
       "    </tr>\n",
       "    <tr>\n",
       "      <th>3</th>\n",
       "      <td>RbH</td>\n",
       "      <td>319.8</td>\n",
       "      <td>4.51</td>\n",
       "      <td>303</td>\n",
       "      <td>120</td>\n",
       "      <td>6</td>\n",
       "      <td>4.177</td>\n",
       "      <td>13.590</td>\n",
       "      <td>423</td>\n",
       "      <td>324.31</td>\n",
       "    </tr>\n",
       "    <tr>\n",
       "      <th>4</th>\n",
       "      <td>CsH</td>\n",
       "      <td>400.6</td>\n",
       "      <td>4.51</td>\n",
       "      <td>343</td>\n",
       "      <td>120</td>\n",
       "      <td>6</td>\n",
       "      <td>3.849</td>\n",
       "      <td>13.590</td>\n",
       "      <td>463</td>\n",
       "      <td>405.11</td>\n",
       "    </tr>\n",
       "    <tr>\n",
       "      <th>5</th>\n",
       "      <td>CsCl</td>\n",
       "      <td>400.6</td>\n",
       "      <td>14.60</td>\n",
       "      <td>343</td>\n",
       "      <td>175</td>\n",
       "      <td>6</td>\n",
       "      <td>3.849</td>\n",
       "      <td>12.960</td>\n",
       "      <td>518</td>\n",
       "      <td>415.20</td>\n",
       "    </tr>\n",
       "    <tr>\n",
       "      <th>6</th>\n",
       "      <td>LiCl</td>\n",
       "      <td>164.1</td>\n",
       "      <td>14.60</td>\n",
       "      <td>120</td>\n",
       "      <td>175</td>\n",
       "      <td>6</td>\n",
       "      <td>5.392</td>\n",
       "      <td>12.960</td>\n",
       "      <td>295</td>\n",
       "      <td>178.70</td>\n",
       "    </tr>\n",
       "    <tr>\n",
       "      <th>7</th>\n",
       "      <td>CuI</td>\n",
       "      <td>46.5</td>\n",
       "      <td>32.90</td>\n",
       "      <td>140</td>\n",
       "      <td>198</td>\n",
       "      <td>4</td>\n",
       "      <td>7.726</td>\n",
       "      <td>10.451</td>\n",
       "      <td>338</td>\n",
       "      <td>79.40</td>\n",
       "    </tr>\n",
       "    <tr>\n",
       "      <th>8</th>\n",
       "      <td>LiF</td>\n",
       "      <td>164.1</td>\n",
       "      <td>3.74</td>\n",
       "      <td>120</td>\n",
       "      <td>135</td>\n",
       "      <td>6</td>\n",
       "      <td>5.392</td>\n",
       "      <td>17.423</td>\n",
       "      <td>255</td>\n",
       "      <td>167.84</td>\n",
       "    </tr>\n",
       "  </tbody>\n",
       "</table>\n",
       "</div>"
      ],
      "text/plain": [
       "    Mol  Pol_C  Pol_A  RadV_C  RadV_A  CN_C  Ion_C   Ion_A  Sum_rad  Sum_pol\n",
       "0   LiH  164.1   4.51     182     120     6  5.392  13.590      302   168.61\n",
       "1   NaH  162.7   4.51     227     120     6  5.139  13.590      347   167.21\n",
       "2    KH  289.7   4.51     275     120     6  4.341  13.590      395   294.21\n",
       "3   RbH  319.8   4.51     303     120     6  4.177  13.590      423   324.31\n",
       "4   CsH  400.6   4.51     343     120     6  3.849  13.590      463   405.11\n",
       "5  CsCl  400.6  14.60     343     175     6  3.849  12.960      518   415.20\n",
       "6  LiCl  164.1  14.60     120     175     6  5.392  12.960      295   178.70\n",
       "7   CuI   46.5  32.90     140     198     4  7.726  10.451      338    79.40\n",
       "8   LiF  164.1   3.74     120     135     6  5.392  17.423      255   167.84"
      ]
     },
     "execution_count": 51,
     "metadata": {},
     "output_type": "execute_result"
    }
   ],
   "source": [
    "df = df.iloc[:9,0:8]\n",
    "\n",
    "df['Sum_rad'] = df['RadV_C'] + df['RadV_A']\n",
    "# # df['Diff_rad'] = df['RadV_A'] - df['RadV_C']\n",
    "df['Sum_pol'] = df['Pol_C'] + df['Pol_A']\n",
    "# df['sum_ion'] = df['Ion_C'] + df['Ion_A']\n",
    "# # df['diff_ion'] = df['Ion_C'] - df['Ion_A']\n",
    "df"
   ]
  },
  {
   "cell_type": "markdown",
   "metadata": {},
   "source": [
    "### making the combinations"
   ]
  },
  {
   "cell_type": "code",
   "execution_count": 52,
   "metadata": {},
   "outputs": [],
   "source": [
    "## Generating all the cominations of the parameters\n",
    "\n",
    "import itertools\n",
    "import numpy as np\n",
    "import pandas as pd\n",
    "\n",
    "def generate_combinations_df(params_df, param_names):\n",
    "    results = []\n",
    "\n",
    "    # Convert all parameter values to numeric, coercing errors to NaN\n",
    "    params_df = params_df.apply(pd.to_numeric, errors='coerce')\n",
    "\n",
    "    # Precompute inverses of all parameters\n",
    "    # Convert to float to handle integer to negative power issue\n",
    "    params_inv_df = params_df.applymap(lambda x: np.power(float(x), -1) if pd.notnull(x) and x != 0 else np.nan)\n",
    "    params_inv_df.columns = [f\"{name}^(-1)\" for name in param_names]\n",
    "\n",
    "    # Combine original parameters and their inverses\n",
    "    combined_params_df = pd.concat([params_df, params_inv_df], axis=1)\n",
    "    combined_param_names = list(combined_params_df.columns)\n",
    "\n",
    "    # Generate all subsets of parameters (combinations)\n",
    "    for r in range(1, len(combined_param_names) + 1):\n",
    "        for subset_indices in itertools.combinations(range(len(combined_param_names)), r):\n",
    "\n",
    "            subset_names = [combined_param_names[i] for i in subset_indices]\n",
    "            subset = combined_params_df[subset_names]\n",
    "\n",
    "            # Replace NaN values with 0\n",
    "            subset = subset.fillna(0)\n",
    "\n",
    "            # Check if both a parameter and its inverse are in the subset\n",
    "            invalid = False\n",
    "            for name in subset_names:\n",
    "                if name.endswith(\"^(-1)\") and name[:-5] in subset_names:\n",
    "                    invalid = True\n",
    "                    break\n",
    "                elif name in param_names and f\"{name}^(-1)\" in subset_names:\n",
    "                    invalid = True\n",
    "                    break\n",
    "\n",
    "            if invalid:\n",
    "                continue\n",
    "\n",
    "            # Compute results for valid subsets\n",
    "            expr_str = \" * \".join(subset_names)\n",
    "            expr_val = subset.prod(axis=1)\n",
    "            results.append((expr_str, expr_val))\n",
    "\n",
    "    return results"
   ]
  },
  {
   "cell_type": "code",
   "execution_count": 53,
   "metadata": {},
   "outputs": [
    {
     "name": "stdout",
     "output_type": "stream",
     "text": [
      "Calculating expressions...\n"
     ]
    },
    {
     "name": "stderr",
     "output_type": "stream",
     "text": [
      "C:\\Users\\user\\AppData\\Local\\Temp\\ipykernel_32064\\1172358489.py:15: FutureWarning: DataFrame.applymap has been deprecated. Use DataFrame.map instead.\n",
      "  params_inv_df = params_df.applymap(lambda x: np.power(float(x), -1) if pd.notnull(x) and x != 0 else np.nan)\n"
     ]
    },
    {
     "name": "stdout",
     "output_type": "stream",
     "text": [
      "Expressions cached.\n",
      "(19682, 2)\n"
     ]
    }
   ],
   "source": [
    "\n",
    "import os\n",
    "import pandas as pd\n",
    "\n",
    "takeSaved = False\n",
    "\n",
    "all_expressions = []\n",
    "expressions = []\n",
    "# Define file name to save/load the results\n",
    "cache_file = \"cached_expressions.pkl\"\n",
    "\n",
    "if os.path.exists(cache_file) and takeSaved:\n",
    "    # Load the cached results if they exist\n",
    "    expressions = pd.read_pickle(cache_file)\n",
    "    all_expressions = list(expressions.itertuples(index=False, name=None))\n",
    "    print(\"Loaded cached expressions.\")\n",
    "else:\n",
    "    # Perform the costly computation if cache does not exist\n",
    "    print(\"Calculating expressions...\")\n",
    "    param_names = list(df.iloc[:,1:].columns)\n",
    "    all_expressions = generate_combinations_df(df.iloc[:, 1:], param_names)\n",
    "    expressions = pd.DataFrame(all_expressions, columns=['Expression', 'Value'])\n",
    "\n",
    "    # Save the results to cache\n",
    "    expressions.to_pickle(cache_file)\n",
    "    print(\"Expressions cached.\")\n",
    "\n",
    "# Print the shape of the expressions DataFrame\n",
    "print(expressions.shape)\n"
   ]
  },
  {
   "cell_type": "code",
   "execution_count": 54,
   "metadata": {},
   "outputs": [
    {
     "data": {
      "text/html": [
       "<div>\n",
       "<style scoped>\n",
       "    .dataframe tbody tr th:only-of-type {\n",
       "        vertical-align: middle;\n",
       "    }\n",
       "\n",
       "    .dataframe tbody tr th {\n",
       "        vertical-align: top;\n",
       "    }\n",
       "\n",
       "    .dataframe thead th {\n",
       "        text-align: right;\n",
       "    }\n",
       "</style>\n",
       "<table border=\"1\" class=\"dataframe\">\n",
       "  <thead>\n",
       "    <tr style=\"text-align: right;\">\n",
       "      <th></th>\n",
       "      <th>Expression</th>\n",
       "      <th>Value</th>\n",
       "    </tr>\n",
       "  </thead>\n",
       "  <tbody>\n",
       "    <tr>\n",
       "      <th>0</th>\n",
       "      <td>Pol_C</td>\n",
       "      <td>0    164.1\n",
       "1    162.7\n",
       "2    289.7\n",
       "3    319.8\n",
       "4 ...</td>\n",
       "    </tr>\n",
       "    <tr>\n",
       "      <th>1</th>\n",
       "      <td>Pol_A</td>\n",
       "      <td>0     4.51\n",
       "1     4.51\n",
       "2     4.51\n",
       "3     4.51\n",
       "4 ...</td>\n",
       "    </tr>\n",
       "    <tr>\n",
       "      <th>2</th>\n",
       "      <td>RadV_C</td>\n",
       "      <td>0    182\n",
       "1    227\n",
       "2    275\n",
       "3    303\n",
       "4    343\n",
       "5...</td>\n",
       "    </tr>\n",
       "    <tr>\n",
       "      <th>3</th>\n",
       "      <td>RadV_A</td>\n",
       "      <td>0    120\n",
       "1    120\n",
       "2    120\n",
       "3    120\n",
       "4    120\n",
       "5...</td>\n",
       "    </tr>\n",
       "    <tr>\n",
       "      <th>4</th>\n",
       "      <td>CN_C</td>\n",
       "      <td>0    6\n",
       "1    6\n",
       "2    6\n",
       "3    6\n",
       "4    6\n",
       "5    6\n",
       "6   ...</td>\n",
       "    </tr>\n",
       "  </tbody>\n",
       "</table>\n",
       "</div>"
      ],
      "text/plain": [
       "  Expression                                              Value\n",
       "0      Pol_C  0    164.1\n",
       "1    162.7\n",
       "2    289.7\n",
       "3    319.8\n",
       "4 ...\n",
       "1      Pol_A  0     4.51\n",
       "1     4.51\n",
       "2     4.51\n",
       "3     4.51\n",
       "4 ...\n",
       "2     RadV_C  0    182\n",
       "1    227\n",
       "2    275\n",
       "3    303\n",
       "4    343\n",
       "5...\n",
       "3     RadV_A  0    120\n",
       "1    120\n",
       "2    120\n",
       "3    120\n",
       "4    120\n",
       "5...\n",
       "4       CN_C  0    6\n",
       "1    6\n",
       "2    6\n",
       "3    6\n",
       "4    6\n",
       "5    6\n",
       "6   ..."
      ]
     },
     "execution_count": 54,
     "metadata": {},
     "output_type": "execute_result"
    }
   ],
   "source": [
    "expressions.head()"
   ]
  },
  {
   "cell_type": "markdown",
   "metadata": {},
   "source": [
    "### Addition results to the combinations"
   ]
  },
  {
   "cell_type": "code",
   "execution_count": 55,
   "metadata": {},
   "outputs": [
    {
     "data": {
      "text/plain": [
       "[14.137466826376718,\n",
       " 14.087159279098158,\n",
       " 14.02702180402777,\n",
       " 12.930918115689444,\n",
       " 12.275605094480198,\n",
       " 3.2325958680570794,\n",
       " 5.11791434948661,\n",
       " 3.5739198265668453,\n",
       " 4.719651538728355]"
      ]
     },
     "execution_count": 55,
     "metadata": {},
     "output_type": "execute_result"
    }
   ],
   "source": [
    "%store -r res\n",
    "res"
   ]
  },
  {
   "cell_type": "code",
   "execution_count": 56,
   "metadata": {},
   "outputs": [],
   "source": [
    "values_dict = {expr_str: expr_val for expr_str, expr_val in all_expressions}\n",
    "values = pd.DataFrame(values_dict)\n",
    "values['res'] = res"
   ]
  },
  {
   "cell_type": "markdown",
   "metadata": {},
   "source": [
    "### Finding Corelation"
   ]
  },
  {
   "cell_type": "code",
   "execution_count": 57,
   "metadata": {},
   "outputs": [
    {
     "data": {
      "text/plain": [
       "(19683, 19683)"
      ]
     },
     "execution_count": 57,
     "metadata": {},
     "output_type": "execute_result"
    }
   ],
   "source": [
    "\n",
    "correlation = values.corr()\n",
    "\n",
    "correlation.shape"
   ]
  },
  {
   "cell_type": "code",
   "execution_count": 58,
   "metadata": {},
   "outputs": [
    {
     "name": "stdout",
     "output_type": "stream",
     "text": [
      "res                                                                                       1.000000\n",
      "RadV_C * CN_C * Ion_C * RadV_A^(-1) * Ion_A^(-1) * Sum_rad^(-1)                           0.976181\n",
      "Pol_C * RadV_C * Ion_C * RadV_A^(-1) * Ion_A^(-1) * Sum_rad^(-1) * Sum_pol^(-1)           0.975665\n",
      "Pol_C * RadV_A^(-1) * CN_C^(-1) * Ion_A^(-1) * Sum_pol^(-1)                               0.974741\n",
      "RadV_A * CN_C * Ion_A * Sum_pol * Pol_C^(-1)                                              0.971182\n",
      "RadV_A * Ion_A * Sum_rad * RadV_C^(-1) * CN_C^(-1) * Ion_C^(-1)                           0.965857\n",
      "RadV_A^(-1) * Ion_A^(-1)                                                                  0.962337\n",
      "Pol_C * RadV_C * CN_C * Ion_C * RadV_A^(-1) * Ion_A^(-1) * Sum_rad^(-1) * Sum_pol^(-1)    0.960766\n",
      "RadV_A * Ion_A * Sum_rad * Sum_pol * Pol_C^(-1) * RadV_C^(-1) * Ion_C^(-1)                0.952499\n",
      "CN_C * RadV_A^(-1) * Ion_A^(-1)                                                           0.952263\n",
      "RadV_A * Ion_A                                                                            0.949182\n",
      "RadV_C * Pol_C^(-1) * Pol_A^(-1) * RadV_A^(-1) * Ion_C^(-1) * Ion_A^(-1)                  0.948614\n",
      "RadV_C * CN_C * Pol_C^(-1) * Pol_A^(-1) * RadV_A^(-1) * Ion_C^(-1) * Ion_A^(-1)           0.948413\n",
      "RadV_C * Pol_A^(-1) * RadV_A^(-1) * CN_C^(-1) * Ion_C^(-1) * Ion_A^(-1) * Sum_pol^(-1)    0.947934\n",
      "RadV_C * Pol_A^(-1) * RadV_A^(-1) * Ion_C^(-1) * Ion_A^(-1) * Sum_pol^(-1)                0.947484\n",
      "RadV_C * CN_C * Pol_A^(-1) * RadV_A^(-1) * Ion_C^(-1) * Ion_A^(-1) * Sum_pol^(-1)         0.946453\n",
      "Pol_C * RadV_C * Ion_C * RadV_A^(-1) * CN_C^(-1) * Sum_rad^(-1) * Sum_pol^(-1)            0.945469\n",
      "RadV_C * Pol_C^(-1) * Pol_A^(-1) * RadV_A^(-1) * CN_C^(-1) * Ion_C^(-1) * Ion_A^(-1)      0.945260\n",
      "RadV_C * CN_C * Sum_rad * Pol_C^(-1) * Pol_A^(-1) * RadV_A^(-1) * Ion_A^(-1)              0.944946\n",
      "RadV_C * CN_C * Ion_C * RadV_A^(-1) * Sum_rad^(-1)                                        0.944929\n",
      "Name: res, dtype: float64\n"
     ]
    }
   ],
   "source": [
    "results=correlation['res'].abs().sort_values(ascending=False)\n",
    "print(results.iloc[0:20])\n",
    "top_vars = results.iloc[1:20].index"
   ]
  },
  {
   "cell_type": "markdown",
   "metadata": {},
   "source": [
    "### Final Results"
   ]
  },
  {
   "cell_type": "code",
   "execution_count": 59,
   "metadata": {},
   "outputs": [
    {
     "name": "stdout",
     "output_type": "stream",
     "text": [
      "res                                                                                       1.000000\n",
      "RadV_C * CN_C * Ion_C * RadV_A^(-1) * Ion_A^(-1) * Sum_rad^(-1)                           0.976181\n",
      "Pol_C * RadV_C * Ion_C * RadV_A^(-1) * Ion_A^(-1) * Sum_rad^(-1) * Sum_pol^(-1)           0.975665\n",
      "Pol_C * RadV_A^(-1) * CN_C^(-1) * Ion_A^(-1) * Sum_pol^(-1)                               0.974741\n",
      "RadV_A * CN_C * Ion_A * Sum_pol * Pol_C^(-1)                                              0.971182\n",
      "RadV_A * Ion_A * Sum_rad * RadV_C^(-1) * CN_C^(-1) * Ion_C^(-1)                           0.965857\n",
      "RadV_A^(-1) * Ion_A^(-1)                                                                  0.962337\n",
      "Pol_C * RadV_C * CN_C * Ion_C * RadV_A^(-1) * Ion_A^(-1) * Sum_rad^(-1) * Sum_pol^(-1)    0.960766\n",
      "RadV_A * Ion_A * Sum_rad * Sum_pol * Pol_C^(-1) * RadV_C^(-1) * Ion_C^(-1)                0.952499\n",
      "CN_C * RadV_A^(-1) * Ion_A^(-1)                                                           0.952263\n",
      "RadV_A * Ion_A                                                                            0.949182\n",
      "RadV_C * Pol_C^(-1) * Pol_A^(-1) * RadV_A^(-1) * Ion_C^(-1) * Ion_A^(-1)                  0.948614\n",
      "RadV_C * CN_C * Pol_C^(-1) * Pol_A^(-1) * RadV_A^(-1) * Ion_C^(-1) * Ion_A^(-1)           0.948413\n",
      "RadV_C * Pol_A^(-1) * RadV_A^(-1) * CN_C^(-1) * Ion_C^(-1) * Ion_A^(-1) * Sum_pol^(-1)    0.947934\n",
      "RadV_C * Pol_A^(-1) * RadV_A^(-1) * Ion_C^(-1) * Ion_A^(-1) * Sum_pol^(-1)                0.947484\n",
      "RadV_C * CN_C * Pol_A^(-1) * RadV_A^(-1) * Ion_C^(-1) * Ion_A^(-1) * Sum_pol^(-1)         0.946453\n",
      "Pol_C * RadV_C * Ion_C * RadV_A^(-1) * CN_C^(-1) * Sum_rad^(-1) * Sum_pol^(-1)            0.945469\n",
      "RadV_C * Pol_C^(-1) * Pol_A^(-1) * RadV_A^(-1) * CN_C^(-1) * Ion_C^(-1) * Ion_A^(-1)      0.945260\n",
      "RadV_C * CN_C * Sum_rad * Pol_C^(-1) * Pol_A^(-1) * RadV_A^(-1) * Ion_A^(-1)              0.944946\n",
      "RadV_C * CN_C * Ion_C * RadV_A^(-1) * Sum_rad^(-1)                                        0.944929\n",
      "Name: res, dtype: float64\n"
     ]
    }
   ],
   "source": [
    "results=correlation['res'].abs().sort_values(ascending=False)\n",
    "print(results.iloc[0:20])\n",
    "top_vars = results.iloc[1:20].index\n"
   ]
  },
  {
   "cell_type": "code",
   "execution_count": 60,
   "metadata": {},
   "outputs": [
    {
     "data": {
      "image/png": "[encoded data removed]",
      "text/plain": [
       "<Figure size 640x480 with 1 Axes>"
      ]
     },
     "metadata": {},
     "output_type": "display_data"
    },
    {
     "name": "stdout",
     "output_type": "stream",
     "text": [
      "1.0\n"
     ]
    }
   ],
   "source": [
    "import matplotlib.pyplot as plt\n",
    "\n",
    "plt.scatter(results['res'],results[top_vars[3]])\n",
    "plt.plot(results['res'],results[top_vars[0]])\n",
    "plt.show()\n",
    "\n",
    "values[top_vars[0]]\n",
    "\n",
    "\n",
    "# param = df['Cat_EN']*df['Ani_EN']*df['Rad_C']*df['CN']*df['Ion_C']*df['Ion_A']\n",
    "\n",
    "\n",
    "\n",
    "# y = list(values[top_vars[0]])[:4]+list(values[top_vars[0]])[5:]\n",
    "# x = list(values['res'])[:4]+list(values['res'])[5:]\n",
    "\n",
    "# plt.scatter(x,y)\n",
    "# x\n",
    "\n",
    "print(results['res'])"
   ]
  },
  {
   "cell_type": "code",
   "execution_count": 61,
   "metadata": {},
   "outputs": [
    {
     "data": {
      "image/png": "[encoded data removed]",
      "text/plain": [
       "<Figure size 800x600 with 1 Axes>"
      ]
     },
     "metadata": {},
     "output_type": "display_data"
    },
    {
     "data": {
      "text/plain": [
       "(0.9529298327274175, 3.154248729385633e-07, 'y = 0.0005x + 0.0041')"
      ]
     },
     "execution_count": 61,
     "metadata": {},
     "output_type": "execute_result"
    }
   ],
   "source": [
    "param = top_vars[0]\n",
    "\n",
    "y = values[param]\n",
    "x = values['res']\n",
    "\n",
    "import matplotlib.pyplot as plt\n",
    "from sklearn.linear_model import LinearRegression\n",
    "from sklearn.metrics import mean_squared_error, r2_score\n",
    "\n",
    "# Assuming x and y are Pandas Series\n",
    "# Reshape x to a 2D array\n",
    "x_reshaped = x.values.reshape(-1, 1)  # Convert x to a 2D array (n, 1)\n",
    "\n",
    "# Create and fit the linear regression model\n",
    "model = LinearRegression()\n",
    "model.fit(x_reshaped, y)\n",
    "\n",
    "# Get the slope (coefficient) and intercept\n",
    "slope = model.coef_[0]  # model.coef_ gives the slope of the line\n",
    "intercept = model.intercept_  # model.intercept_ gives the intercept\n",
    "\n",
    "# Predict y values using the linear model\n",
    "y_pred = model.predict(x_reshaped)\n",
    "\n",
    "# Plot the data points and the regression line\n",
    "plt.figure(figsize=(8, 6))\n",
    "plt.scatter(x, y, color='blue', label='Data points')\n",
    "plt.plot(x, y_pred, color='red', label='Regression Line')\n",
    "plt.title(f'Scatter Plot of x vs y with Linear Regression Line \\n{param}')\n",
    "plt.xlabel(' Percentage Error')\n",
    "plt.ylabel(' Function Value')\n",
    "plt.grid()\n",
    "plt.legend()\n",
    "plt.show()\n",
    "\n",
    "# Calculate R^2 and MSE\n",
    "r_squared = r2_score(y, y_pred)\n",
    "msd = mean_squared_error(y, y_pred)\n",
    "\n",
    "# Display the equation of the line\n",
    "equation = f\"y = {slope:.4f}x + {intercept:.4f}\"\n",
    "r_squared, msd, equation\n"
   ]
  }
 ],
 "metadata": {
  "kernelspec": {
   "display_name": "base",
   "language": "python",
   "name": "python3"
  },
  "language_info": {
   "codemirror_mode": {
    "name": "ipython",
    "version": 3
   },
   "file_extension": ".py",
   "mimetype": "text/x-python",
   "name": "python",
   "nbconvert_exporter": "python",
   "pygments_lexer": "ipython3",
   "version": "3.12.3"
  }
 },
 "nbformat": 4,
 "nbformat_minor": 2
}

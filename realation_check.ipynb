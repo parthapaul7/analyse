{
 "cells": [
  {
   "cell_type": "code",
   "execution_count": 429,
   "metadata": {},
   "outputs": [],
   "source": [
    "import pandas as pd\n",
    "import numpy as np"
   ]
  },
  {
   "cell_type": "markdown",
   "metadata": {},
   "source": [
    "### Loading the feature functions from CSV and trimming"
   ]
  },
  {
   "cell_type": "code",
   "execution_count": 430,
   "metadata": {},
   "outputs": [
    {
     "data": {
      "text/plain": [
       "array(['LiH', 'NaH', 'KH', 'RbH', 'CsH', 'CsCl', 'LiCl', 'CuI', 'LiF'],\n",
       "      dtype=object)"
      ]
     },
     "execution_count": 430,
     "metadata": {},
     "output_type": "execute_result"
    }
   ],
   "source": [
    "df = pd.read_csv(\"features/ff_pol.csv\")\n",
    "\n",
    "# Save to a CSV file\n",
    "molecules = df['Mol'].values\n",
    "\n",
    "\n",
    "molecules = molecules\n",
    "molecules"
   ]
  },
  {
   "cell_type": "markdown",
   "metadata": {},
   "source": [
    "### Size Modification and adding parameters to Data Frame"
   ]
  },
  {
   "cell_type": "code",
   "execution_count": 431,
   "metadata": {},
   "outputs": [
    {
     "data": {
      "text/html": [
       "<div>\n",
       "<style scoped>\n",
       "    .dataframe tbody tr th:only-of-type {\n",
       "        vertical-align: middle;\n",
       "    }\n",
       "\n",
       "    .dataframe tbody tr th {\n",
       "        vertical-align: top;\n",
       "    }\n",
       "\n",
       "    .dataframe thead th {\n",
       "        text-align: right;\n",
       "    }\n",
       "</style>\n",
       "<table border=\"1\" class=\"dataframe\">\n",
       "  <thead>\n",
       "    <tr style=\"text-align: right;\">\n",
       "      <th></th>\n",
       "      <th>Mol</th>\n",
       "      <th>Pol_C</th>\n",
       "      <th>Pol_A</th>\n",
       "      <th>CN_C</th>\n",
       "      <th>Ion_C</th>\n",
       "      <th>Ion_A</th>\n",
       "      <th>EA_A</th>\n",
       "      <th>EN_C</th>\n",
       "      <th>EN_A</th>\n",
       "    </tr>\n",
       "  </thead>\n",
       "  <tbody>\n",
       "    <tr>\n",
       "      <th>0</th>\n",
       "      <td>LiH</td>\n",
       "      <td>164.1</td>\n",
       "      <td>4.51</td>\n",
       "      <td>6</td>\n",
       "      <td>5.392</td>\n",
       "      <td>13.590</td>\n",
       "      <td>0.754</td>\n",
       "      <td>0.98</td>\n",
       "      <td>2.20</td>\n",
       "    </tr>\n",
       "    <tr>\n",
       "      <th>1</th>\n",
       "      <td>NaH</td>\n",
       "      <td>162.7</td>\n",
       "      <td>4.51</td>\n",
       "      <td>6</td>\n",
       "      <td>5.139</td>\n",
       "      <td>13.590</td>\n",
       "      <td>0.754</td>\n",
       "      <td>0.93</td>\n",
       "      <td>2.20</td>\n",
       "    </tr>\n",
       "    <tr>\n",
       "      <th>2</th>\n",
       "      <td>KH</td>\n",
       "      <td>289.7</td>\n",
       "      <td>4.51</td>\n",
       "      <td>6</td>\n",
       "      <td>4.341</td>\n",
       "      <td>13.590</td>\n",
       "      <td>0.754</td>\n",
       "      <td>0.82</td>\n",
       "      <td>2.20</td>\n",
       "    </tr>\n",
       "    <tr>\n",
       "      <th>3</th>\n",
       "      <td>RbH</td>\n",
       "      <td>319.8</td>\n",
       "      <td>4.51</td>\n",
       "      <td>6</td>\n",
       "      <td>4.177</td>\n",
       "      <td>13.590</td>\n",
       "      <td>0.754</td>\n",
       "      <td>0.82</td>\n",
       "      <td>2.20</td>\n",
       "    </tr>\n",
       "    <tr>\n",
       "      <th>4</th>\n",
       "      <td>CsH</td>\n",
       "      <td>400.6</td>\n",
       "      <td>4.51</td>\n",
       "      <td>6</td>\n",
       "      <td>3.849</td>\n",
       "      <td>13.590</td>\n",
       "      <td>0.754</td>\n",
       "      <td>0.79</td>\n",
       "      <td>2.20</td>\n",
       "    </tr>\n",
       "    <tr>\n",
       "      <th>5</th>\n",
       "      <td>CsCl</td>\n",
       "      <td>400.6</td>\n",
       "      <td>14.60</td>\n",
       "      <td>8</td>\n",
       "      <td>3.849</td>\n",
       "      <td>12.960</td>\n",
       "      <td>3.617</td>\n",
       "      <td>0.79</td>\n",
       "      <td>3.16</td>\n",
       "    </tr>\n",
       "    <tr>\n",
       "      <th>6</th>\n",
       "      <td>LiCl</td>\n",
       "      <td>164.1</td>\n",
       "      <td>14.60</td>\n",
       "      <td>6</td>\n",
       "      <td>5.392</td>\n",
       "      <td>12.960</td>\n",
       "      <td>3.617</td>\n",
       "      <td>2.20</td>\n",
       "      <td>3.16</td>\n",
       "    </tr>\n",
       "    <tr>\n",
       "      <th>7</th>\n",
       "      <td>CuI</td>\n",
       "      <td>46.5</td>\n",
       "      <td>32.90</td>\n",
       "      <td>4</td>\n",
       "      <td>7.726</td>\n",
       "      <td>10.451</td>\n",
       "      <td>3.059</td>\n",
       "      <td>1.90</td>\n",
       "      <td>2.66</td>\n",
       "    </tr>\n",
       "    <tr>\n",
       "      <th>8</th>\n",
       "      <td>LiF</td>\n",
       "      <td>164.1</td>\n",
       "      <td>3.74</td>\n",
       "      <td>6</td>\n",
       "      <td>5.392</td>\n",
       "      <td>17.423</td>\n",
       "      <td>3.339</td>\n",
       "      <td>2.20</td>\n",
       "      <td>3.98</td>\n",
       "    </tr>\n",
       "  </tbody>\n",
       "</table>\n",
       "</div>"
      ],
      "text/plain": [
       "    Mol  Pol_C  Pol_A  CN_C  Ion_C   Ion_A   EA_A  EN_C  EN_A\n",
       "0   LiH  164.1   4.51     6  5.392  13.590  0.754  0.98  2.20\n",
       "1   NaH  162.7   4.51     6  5.139  13.590  0.754  0.93  2.20\n",
       "2    KH  289.7   4.51     6  4.341  13.590  0.754  0.82  2.20\n",
       "3   RbH  319.8   4.51     6  4.177  13.590  0.754  0.82  2.20\n",
       "4   CsH  400.6   4.51     6  3.849  13.590  0.754  0.79  2.20\n",
       "5  CsCl  400.6  14.60     8  3.849  12.960  3.617  0.79  3.16\n",
       "6  LiCl  164.1  14.60     6  5.392  12.960  3.617  2.20  3.16\n",
       "7   CuI   46.5  32.90     4  7.726  10.451  3.059  1.90  2.66\n",
       "8   LiF  164.1   3.74     6  5.392  17.423  3.339  2.20  3.98"
      ]
     },
     "execution_count": 431,
     "metadata": {},
     "output_type": "execute_result"
    }
   ],
   "source": [
    "df"
   ]
  },
  {
   "cell_type": "code",
   "execution_count": 432,
   "metadata": {},
   "outputs": [
    {
     "data": {
      "text/plain": [
       "[14.137466826376718,\n",
       " 14.087159279098158,\n",
       " 14.02702180402777,\n",
       " 12.930918115689444,\n",
       " 12.275605094480198,\n",
       " 3.2325958680570794,\n",
       " 5.11791434948661,\n",
       " 3.5739198265668453,\n",
       " 4.719651538728355]"
      ]
     },
     "execution_count": 432,
     "metadata": {},
     "output_type": "execute_result"
    }
   ],
   "source": [
    "\n",
    "%store -r res\n",
    "res"
   ]
  },
  {
   "cell_type": "code",
   "execution_count": 433,
   "metadata": {},
   "outputs": [
    {
     "data": {
      "text/plain": [
       "[14.137466826376718,\n",
       " 14.087159279098158,\n",
       " 14.02702180402777,\n",
       " 12.930918115689444,\n",
       " 12.275605094480198,\n",
       " 3.2325958680570794,\n",
       " 5.11791434948661,\n",
       " 3.5739198265668453,\n",
       " 4.719651538728355]"
      ]
     },
     "execution_count": 433,
     "metadata": {},
     "output_type": "execute_result"
    }
   ],
   "source": [
    "# always inverse of EN_A\n",
    "# val = df['EA_A']\n",
    "df['comb'] = 1/ df['EA_A']\n",
    "# df['comb'] = df['comb'] * df['Ion_C']\n",
    "df['comb'] = df['comb'] * df['CN_C']\n",
    "df['comb'] = df['comb'] * df['EN_C']\n",
    "# df['comb'] = df['comb'] / df['Pol_A']\n",
    "\n",
    "## always inverse of delta EN\n",
    "\n",
    "## always inverse of pol_A ( anion polarisation)\n",
    "\n",
    "## remove df['EA_A'] from the dataframe\n",
    "df = df.drop(columns=['EA_A'])\n",
    "# df = df.drop(columns=['Ion_C'])\n",
    "df = df.drop(columns=['CN_C'])\n",
    "\n",
    "# df = df.drop(columns=['Pol_A'])\n",
    "\n",
    "res"
   ]
  },
  {
   "cell_type": "code",
   "execution_count": 434,
   "metadata": {},
   "outputs": [
    {
     "data": {
      "text/html": [
       "<div>\n",
       "<style scoped>\n",
       "    .dataframe tbody tr th:only-of-type {\n",
       "        vertical-align: middle;\n",
       "    }\n",
       "\n",
       "    .dataframe tbody tr th {\n",
       "        vertical-align: top;\n",
       "    }\n",
       "\n",
       "    .dataframe thead th {\n",
       "        text-align: right;\n",
       "    }\n",
       "</style>\n",
       "<table border=\"1\" class=\"dataframe\">\n",
       "  <thead>\n",
       "    <tr style=\"text-align: right;\">\n",
       "      <th></th>\n",
       "      <th>Mol</th>\n",
       "      <th>Pol_C</th>\n",
       "      <th>Pol_A</th>\n",
       "      <th>Ion_C</th>\n",
       "      <th>Ion_A</th>\n",
       "      <th>EN_A</th>\n",
       "      <th>comb</th>\n",
       "      <th>Sum_EN</th>\n",
       "      <th>Sum_ion</th>\n",
       "      <th>Abs_diff_ion</th>\n",
       "    </tr>\n",
       "  </thead>\n",
       "  <tbody>\n",
       "    <tr>\n",
       "      <th>0</th>\n",
       "      <td>LiH</td>\n",
       "      <td>164.1</td>\n",
       "      <td>4.51</td>\n",
       "      <td>5.392</td>\n",
       "      <td>13.590</td>\n",
       "      <td>2.20</td>\n",
       "      <td>7.798408</td>\n",
       "      <td>3.18</td>\n",
       "      <td>18.982</td>\n",
       "      <td>8.198</td>\n",
       "    </tr>\n",
       "    <tr>\n",
       "      <th>1</th>\n",
       "      <td>NaH</td>\n",
       "      <td>162.7</td>\n",
       "      <td>4.51</td>\n",
       "      <td>5.139</td>\n",
       "      <td>13.590</td>\n",
       "      <td>2.20</td>\n",
       "      <td>7.400531</td>\n",
       "      <td>3.13</td>\n",
       "      <td>18.729</td>\n",
       "      <td>8.451</td>\n",
       "    </tr>\n",
       "    <tr>\n",
       "      <th>2</th>\n",
       "      <td>KH</td>\n",
       "      <td>289.7</td>\n",
       "      <td>4.51</td>\n",
       "      <td>4.341</td>\n",
       "      <td>13.590</td>\n",
       "      <td>2.20</td>\n",
       "      <td>6.525199</td>\n",
       "      <td>3.02</td>\n",
       "      <td>17.931</td>\n",
       "      <td>9.249</td>\n",
       "    </tr>\n",
       "    <tr>\n",
       "      <th>3</th>\n",
       "      <td>RbH</td>\n",
       "      <td>319.8</td>\n",
       "      <td>4.51</td>\n",
       "      <td>4.177</td>\n",
       "      <td>13.590</td>\n",
       "      <td>2.20</td>\n",
       "      <td>6.525199</td>\n",
       "      <td>3.02</td>\n",
       "      <td>17.767</td>\n",
       "      <td>9.413</td>\n",
       "    </tr>\n",
       "    <tr>\n",
       "      <th>4</th>\n",
       "      <td>CsH</td>\n",
       "      <td>400.6</td>\n",
       "      <td>4.51</td>\n",
       "      <td>3.849</td>\n",
       "      <td>13.590</td>\n",
       "      <td>2.20</td>\n",
       "      <td>6.286472</td>\n",
       "      <td>2.99</td>\n",
       "      <td>17.439</td>\n",
       "      <td>9.741</td>\n",
       "    </tr>\n",
       "    <tr>\n",
       "      <th>5</th>\n",
       "      <td>CsCl</td>\n",
       "      <td>400.6</td>\n",
       "      <td>14.60</td>\n",
       "      <td>3.849</td>\n",
       "      <td>12.960</td>\n",
       "      <td>3.16</td>\n",
       "      <td>1.747304</td>\n",
       "      <td>3.95</td>\n",
       "      <td>16.809</td>\n",
       "      <td>9.111</td>\n",
       "    </tr>\n",
       "    <tr>\n",
       "      <th>6</th>\n",
       "      <td>LiCl</td>\n",
       "      <td>164.1</td>\n",
       "      <td>14.60</td>\n",
       "      <td>5.392</td>\n",
       "      <td>12.960</td>\n",
       "      <td>3.16</td>\n",
       "      <td>3.649433</td>\n",
       "      <td>5.36</td>\n",
       "      <td>18.352</td>\n",
       "      <td>7.568</td>\n",
       "    </tr>\n",
       "    <tr>\n",
       "      <th>7</th>\n",
       "      <td>CuI</td>\n",
       "      <td>46.5</td>\n",
       "      <td>32.90</td>\n",
       "      <td>7.726</td>\n",
       "      <td>10.451</td>\n",
       "      <td>2.66</td>\n",
       "      <td>2.484472</td>\n",
       "      <td>4.56</td>\n",
       "      <td>18.177</td>\n",
       "      <td>2.725</td>\n",
       "    </tr>\n",
       "    <tr>\n",
       "      <th>8</th>\n",
       "      <td>LiF</td>\n",
       "      <td>164.1</td>\n",
       "      <td>3.74</td>\n",
       "      <td>5.392</td>\n",
       "      <td>17.423</td>\n",
       "      <td>3.98</td>\n",
       "      <td>3.953279</td>\n",
       "      <td>6.18</td>\n",
       "      <td>22.815</td>\n",
       "      <td>12.031</td>\n",
       "    </tr>\n",
       "  </tbody>\n",
       "</table>\n",
       "</div>"
      ],
      "text/plain": [
       "    Mol  Pol_C  Pol_A  Ion_C   Ion_A  EN_A      comb  Sum_EN  Sum_ion  \\\n",
       "0   LiH  164.1   4.51  5.392  13.590  2.20  7.798408    3.18   18.982   \n",
       "1   NaH  162.7   4.51  5.139  13.590  2.20  7.400531    3.13   18.729   \n",
       "2    KH  289.7   4.51  4.341  13.590  2.20  6.525199    3.02   17.931   \n",
       "3   RbH  319.8   4.51  4.177  13.590  2.20  6.525199    3.02   17.767   \n",
       "4   CsH  400.6   4.51  3.849  13.590  2.20  6.286472    2.99   17.439   \n",
       "5  CsCl  400.6  14.60  3.849  12.960  3.16  1.747304    3.95   16.809   \n",
       "6  LiCl  164.1  14.60  5.392  12.960  3.16  3.649433    5.36   18.352   \n",
       "7   CuI   46.5  32.90  7.726  10.451  2.66  2.484472    4.56   18.177   \n",
       "8   LiF  164.1   3.74  5.392  17.423  3.98  3.953279    6.18   22.815   \n",
       "\n",
       "   Abs_diff_ion  \n",
       "0         8.198  \n",
       "1         8.451  \n",
       "2         9.249  \n",
       "3         9.413  \n",
       "4         9.741  \n",
       "5         9.111  \n",
       "6         7.568  \n",
       "7         2.725  \n",
       "8        12.031  "
      ]
     },
     "execution_count": 434,
     "metadata": {},
     "output_type": "execute_result"
    }
   ],
   "source": [
    "df = df.iloc[:9,0:]\n",
    "\n",
    "\n",
    "## always inverse of EN_A\n",
    "\n",
    "df['Sum_EN'] = df['EN_C'] + df['EN_A']\n",
    "# df['Diff_EN'] = abs(df['EN_A'] - df['EN_C'])\n",
    "# # df['Diff_rad'] = df['RadV_A'] - df['RadV_C']\n",
    "\n",
    "\n",
    "df['Sum_ion'] = df['Ion_C'] + df['Ion_A']\n",
    "df['Abs_diff_ion'] = abs(df['Ion_C'] - df['Ion_A'])\n",
    "\n",
    "\n",
    "\n",
    "\n",
    "# # Adding sqrt values for each column\n",
    "# for col in df.columns:\n",
    "#     # Make sure the column is numeric before applying sqrt\n",
    "#     if pd.api.types.is_numeric_dtype(df[col]):\n",
    "#         df[f'{col}_sqrt'] = np.sqrt(abs(df[col]))\n",
    "#         df[f'{col}_squared'] = np.square(df[col])\n",
    "\n",
    "df = df.drop(columns=['EN_C'])\n",
    "\n",
    "# df['sum_ion'] = df['Ion_C'] + df['Ion_A']\n",
    "# # df['diff_ion'] = df['Ion_C'] - df['Ion_A']\n",
    "# df['diff_pol'] = abs(df['Pol_C'] - df['Pol_A'])\n",
    "\n",
    "df"
   ]
  },
  {
   "cell_type": "markdown",
   "metadata": {},
   "source": [
    "### making the combinations"
   ]
  },
  {
   "cell_type": "code",
   "execution_count": 435,
   "metadata": {},
   "outputs": [],
   "source": [
    "import itertools\n",
    "import numpy as np\n",
    "import pandas as pd\n",
    "from multiprocessing import Pool, cpu_count"
   ]
  },
  {
   "cell_type": "code",
   "execution_count": 436,
   "metadata": {},
   "outputs": [],
   "source": [
    "import itertools\n",
    "import numpy as np\n",
    "import pandas as pd\n",
    "\n",
    "def generate_combinations_df(params_df, param_names):\n",
    "    results = []\n",
    "\n",
    "    # Convert all parameter values to numeric, coercing errors to NaN\n",
    "    params_df = params_df.apply(pd.to_numeric, errors='coerce')\n",
    "\n",
    "    # Precompute inverses of all parameters\n",
    "    params_inv_df = params_df.applymap(lambda x: np.power(float(x), -1) if pd.notnull(x) and x != 0 else np.nan)\n",
    "    params_inv_df.columns = [f\"{name}^(-1)\" for name in param_names]\n",
    "\n",
    "    # Combine original parameters and their inverses\n",
    "    combined_params_df = pd.concat([params_df, params_inv_df], axis=1)\n",
    "    combined_param_names = list(combined_params_df.columns)\n",
    "\n",
    "    # Precompute invalid pairs (parameter and its inverse)\n",
    "    invalid_pairs = {f\"{name}^(-1)\": name for name in param_names}\n",
    "    invalid_pairs.update({name: f\"{name}^(-1)\" for name in param_names})\n",
    "\n",
    "    # Generate all subsets of parameters (combinations)\n",
    "    for r in range(1, len(combined_param_names) + 1):\n",
    "        for subset_indices in itertools.combinations(range(len(combined_param_names)), r):\n",
    "\n",
    "            subset_names = [combined_param_names[i] for i in subset_indices]\n",
    "\n",
    "            # Skip invalid subsets early\n",
    "            if any(invalid_pairs.get(name) in subset_names for name in subset_names):\n",
    "                continue\n",
    "\n",
    "            # Select the subset DataFrame\n",
    "            subset = combined_params_df[subset_names]\n",
    "\n",
    "            # Replace NaN values with 0\n",
    "            subset = subset.fillna(0)\n",
    "\n",
    "            # Compute results for valid subsets\n",
    "            expr_str = \" * \".join(subset_names)\n",
    "            expr_val = subset.prod(axis=1)\n",
    "            results.append((expr_str, expr_val))\n",
    "\n",
    "    return results\n"
   ]
  },
  {
   "cell_type": "code",
   "execution_count": 437,
   "metadata": {},
   "outputs": [],
   "source": [
    "import itertools\n",
    "import numpy as np\n",
    "import pandas as pd\n",
    "from multiprocessing import Pool, cpu_count\n",
    "\n",
    "def process_combinations_chunk(args):\n",
    "    combined_params_df, combined_param_names, param_names, indices_chunk = args\n",
    "    results = []\n",
    "\n",
    "    for indices in indices_chunk:\n",
    "        subset_names = [combined_param_names[i] for i in indices]\n",
    "        subset = combined_params_df[subset_names]\n",
    "\n",
    "        # Replace NaN values with 0\n",
    "        subset = subset.fillna(0)\n",
    "\n",
    "        # Check if both a parameter and its inverse are in the subset\n",
    "        invalid = False\n",
    "        for name in subset_names:\n",
    "            if name.endswith(\"^(-1)\") and name[:-5] in subset_names:\n",
    "                invalid = True\n",
    "                break\n",
    "            elif name in param_names and f\"{name}^(-1)\" in subset_names:\n",
    "                invalid = True\n",
    "                break\n",
    "\n",
    "        if not invalid:\n",
    "            # Compute results for valid subsets\n",
    "            expr_str = \" * \".join(subset_names)\n",
    "            expr_val = subset.prod(axis=1)\n",
    "            results.append((expr_str, expr_val))\n",
    "\n",
    "    return results\n",
    "\n",
    "def generate_combinations_df_parallel(params_df, param_names):\n",
    "    # Convert all parameter values to numeric, coercing errors to NaN\n",
    "    params_df = params_df.apply(pd.to_numeric, errors='coerce')\n",
    "\n",
    "    # Precompute inverses of all parameters\n",
    "    params_inv_df = params_df.applymap(lambda x: np.power(float(x), -1) if pd.notnull(x) and x != 0 else np.nan)\n",
    "    params_inv_df.columns = [f\"{name}^(-1)\" for name in param_names]\n",
    "\n",
    "    # Combine original parameters and their inverses\n",
    "    combined_params_df = pd.concat([params_df, params_inv_df], axis=1)\n",
    "    combined_param_names = list(combined_params_df.columns)\n",
    "\n",
    "    # Generate all subsets of parameter indices\n",
    "    all_combinations = [\n",
    "        indices for r in range(1, len(combined_param_names) + 1)\n",
    "        for indices in itertools.combinations(range(len(combined_param_names)), r)\n",
    "    ]\n",
    "\n",
    "    # Divide all_combinations into chunks\n",
    "    num_workers = min(cpu_count(), len(all_combinations))\n",
    "    chunk_size = max(1, len(all_combinations) // num_workers)\n",
    "    chunks = [all_combinations[i:i + chunk_size] for i in range(0, len(all_combinations), chunk_size)]\n",
    "\n",
    "    print(f\"Using {num_workers} workers to process {len(all_combinations)} combinations in {len(chunks)} chunks\")\n",
    "\n",
    "    # Prepare arguments for parallel processing\n",
    "    args = [\n",
    "        (combined_params_df, combined_param_names, param_names, chunk)\n",
    "        for chunk in chunks\n",
    "    ]\n",
    "\n",
    "    # Use multiprocessing to process combinations in parallel\n",
    "    with Pool(processes=num_workers) as pool:\n",
    "        results = pool.map(process_combinations_chunk, args)\n",
    "\n",
    "    # Flatten results\n",
    "    flattened_results = [item for sublist in results for item in sublist]\n",
    "    return flattened_results\n"
   ]
  },
  {
   "cell_type": "code",
   "execution_count": 438,
   "metadata": {},
   "outputs": [
    {
     "name": "stdout",
     "output_type": "stream",
     "text": [
      "Calculating expressions...\n"
     ]
    },
    {
     "name": "stderr",
     "output_type": "stream",
     "text": [
      "C:\\Users\\user\\AppData\\Local\\Temp\\ipykernel_22152\\3972913922.py:12: FutureWarning: DataFrame.applymap has been deprecated. Use DataFrame.map instead.\n",
      "  params_inv_df = params_df.applymap(lambda x: np.power(float(x), -1) if pd.notnull(x) and x != 0 else np.nan)\n"
     ]
    },
    {
     "name": "stdout",
     "output_type": "stream",
     "text": [
      "Expressions cached.\n",
      "(19682, 2)\n"
     ]
    }
   ],
   "source": [
    "\n",
    "import os\n",
    "import pandas as pd\n",
    "\n",
    "takeSaved = False\n",
    "\n",
    "all_expressions = []\n",
    "expressions = []\n",
    "# Define file name to save/load the results\n",
    "cache_file = \"cached_expressions.pkl\"\n",
    "\n",
    "if os.path.exists(cache_file) and takeSaved:\n",
    "    # Load the cached results if they exist\n",
    "    expressions = pd.read_pickle(cache_file)\n",
    "    all_expressions = list(expressions.itertuples(index=False, name=None))\n",
    "    print(\"Loaded cached expressions.\")\n",
    "else:\n",
    "    # Perform the costly computation if cache does not exist\n",
    "    print(\"Calculating expressions...\")\n",
    "    param_names = list(df.iloc[:,1:].columns)\n",
    "    all_expressions = generate_combinations_df(df.iloc[:, 1:], param_names)\n",
    "    expressions = pd.DataFrame(all_expressions, columns=['Expression', 'Value'])\n",
    "\n",
    "    # Save the results to cache\n",
    "    expressions.to_pickle(cache_file)\n",
    "    print(\"Expressions cached.\")\n",
    "\n",
    "# Print the shape of the expressions DataFrame\n",
    "print(expressions.shape)\n"
   ]
  },
  {
   "cell_type": "code",
   "execution_count": 439,
   "metadata": {},
   "outputs": [
    {
     "data": {
      "text/html": [
       "<div>\n",
       "<style scoped>\n",
       "    .dataframe tbody tr th:only-of-type {\n",
       "        vertical-align: middle;\n",
       "    }\n",
       "\n",
       "    .dataframe tbody tr th {\n",
       "        vertical-align: top;\n",
       "    }\n",
       "\n",
       "    .dataframe thead th {\n",
       "        text-align: right;\n",
       "    }\n",
       "</style>\n",
       "<table border=\"1\" class=\"dataframe\">\n",
       "  <thead>\n",
       "    <tr style=\"text-align: right;\">\n",
       "      <th></th>\n",
       "      <th>Expression</th>\n",
       "      <th>Value</th>\n",
       "    </tr>\n",
       "  </thead>\n",
       "  <tbody>\n",
       "    <tr>\n",
       "      <th>0</th>\n",
       "      <td>Pol_C</td>\n",
       "      <td>0    164.1\n",
       "1    162.7\n",
       "2    289.7\n",
       "3    319.8\n",
       "4 ...</td>\n",
       "    </tr>\n",
       "    <tr>\n",
       "      <th>1</th>\n",
       "      <td>Pol_A</td>\n",
       "      <td>0     4.51\n",
       "1     4.51\n",
       "2     4.51\n",
       "3     4.51\n",
       "4 ...</td>\n",
       "    </tr>\n",
       "    <tr>\n",
       "      <th>2</th>\n",
       "      <td>Ion_C</td>\n",
       "      <td>0    5.392\n",
       "1    5.139\n",
       "2    4.341\n",
       "3    4.177\n",
       "4 ...</td>\n",
       "    </tr>\n",
       "    <tr>\n",
       "      <th>3</th>\n",
       "      <td>Ion_A</td>\n",
       "      <td>0    13.590\n",
       "1    13.590\n",
       "2    13.590\n",
       "3    13.59...</td>\n",
       "    </tr>\n",
       "    <tr>\n",
       "      <th>4</th>\n",
       "      <td>EN_A</td>\n",
       "      <td>0    2.20\n",
       "1    2.20\n",
       "2    2.20\n",
       "3    2.20\n",
       "4    2...</td>\n",
       "    </tr>\n",
       "  </tbody>\n",
       "</table>\n",
       "</div>"
      ],
      "text/plain": [
       "  Expression                                              Value\n",
       "0      Pol_C  0    164.1\n",
       "1    162.7\n",
       "2    289.7\n",
       "3    319.8\n",
       "4 ...\n",
       "1      Pol_A  0     4.51\n",
       "1     4.51\n",
       "2     4.51\n",
       "3     4.51\n",
       "4 ...\n",
       "2      Ion_C  0    5.392\n",
       "1    5.139\n",
       "2    4.341\n",
       "3    4.177\n",
       "4 ...\n",
       "3      Ion_A  0    13.590\n",
       "1    13.590\n",
       "2    13.590\n",
       "3    13.59...\n",
       "4       EN_A  0    2.20\n",
       "1    2.20\n",
       "2    2.20\n",
       "3    2.20\n",
       "4    2..."
      ]
     },
     "execution_count": 439,
     "metadata": {},
     "output_type": "execute_result"
    }
   ],
   "source": [
    "expressions['Value'] = expressions['Value'] \n",
    "expressions.head()"
   ]
  },
  {
   "cell_type": "markdown",
   "metadata": {},
   "source": [
    "### Addition results to the combinations"
   ]
  },
  {
   "cell_type": "code",
   "execution_count": 440,
   "metadata": {},
   "outputs": [],
   "source": [
    "values_dict = {expr_str: expr_val for expr_str, expr_val in all_expressions}\n",
    "values = pd.DataFrame(values_dict)\n",
    "values['res'] = res"
   ]
  },
  {
   "cell_type": "markdown",
   "metadata": {},
   "source": [
    "### Finding Corelation"
   ]
  },
  {
   "cell_type": "code",
   "execution_count": 441,
   "metadata": {},
   "outputs": [
    {
     "data": {
      "text/plain": [
       "(19683, 19683)"
      ]
     },
     "execution_count": 441,
     "metadata": {},
     "output_type": "execute_result"
    }
   ],
   "source": [
    "\n",
    "correlation = values.corr()\n",
    "\n",
    "correlation.shape"
   ]
  },
  {
   "cell_type": "code",
   "execution_count": 442,
   "metadata": {},
   "outputs": [
    {
     "name": "stdout",
     "output_type": "stream",
     "text": [
      "res                                                                                               1.000000\n",
      "Ion_A * comb * EN_A^(-1) * Sum_ion^(-1)                                                           0.995692\n",
      "comb * Sum_EN^(-1)                                                                                0.995347\n",
      "EN_A * comb * Sum_EN^(-1) * Sum_ion^(-1)                                                          0.995106\n",
      "Ion_A * comb * EN_A^(-1) * Sum_EN^(-1)                                                            0.994573\n",
      "Ion_A * comb * Sum_EN^(-1) * Sum_ion^(-1)                                                         0.994504\n",
      "Ion_C * comb * Abs_diff_ion * EN_A^(-1) * Sum_EN^(-1) * Sum_ion^(-1)                              0.994287\n",
      "Ion_C * comb * Abs_diff_ion * Ion_A^(-1) * Sum_EN^(-1) * Sum_ion^(-1)                             0.993926\n",
      "EN_A * comb * Ion_A^(-1) * Sum_EN^(-1)                                                            0.993889\n",
      "Ion_A * comb * Sum_EN^(-1)                                                                        0.993735\n",
      "Ion_C * Ion_A * comb * Abs_diff_ion * EN_A^(-1) * Sum_EN^(-1) * Sum_ion^(-1)                      0.993400\n",
      "Ion_C * comb * Abs_diff_ion * Ion_A^(-1) * EN_A^(-1) * Sum_EN^(-1) * Sum_ion^(-1)                 0.993144\n",
      "comb * Sum_ion * Abs_diff_ion * Ion_A^(-1) * EN_A^(-1) * Sum_EN^(-1)                              0.993125\n",
      "comb * Pol_A^(-1) * Ion_A^(-1) * EN_A^(-1) * Sum_EN^(-1)                                          0.992969\n",
      "Ion_A * comb * Sum_ion * EN_A^(-1) * Sum_EN^(-1)                                                  0.992485\n",
      "comb * Pol_A^(-1) * Ion_A^(-1) * EN_A^(-1) * Sum_ion^(-1)                                         0.992267\n",
      "comb * Sum_EN^(-1) * Sum_ion^(-1)                                                                 0.992235\n",
      "comb * Pol_A^(-1) * EN_A^(-1) * Sum_EN^(-1)                                                       0.992122\n",
      "Ion_C * Pol_A^(-1) * Ion_A^(-1) * EN_A^(-1) * Sum_EN^(-1) * Sum_ion^(-1)                          0.991996\n",
      "Ion_C * comb * Abs_diff_ion * Pol_A^(-1) * Ion_A^(-1) * EN_A^(-1) * Sum_EN^(-1) * Sum_ion^(-1)    0.991960\n",
      "Name: res, dtype: float64\n"
     ]
    }
   ],
   "source": [
    "results=correlation['res'].abs().sort_values(ascending=False)\n",
    "print(results.iloc[0:20])\n",
    "top_vars = results.iloc[1:20].index"
   ]
  },
  {
   "cell_type": "markdown",
   "metadata": {},
   "source": [
    "### Final Results"
   ]
  },
  {
   "cell_type": "code",
   "execution_count": 443,
   "metadata": {},
   "outputs": [
    {
     "name": "stdout",
     "output_type": "stream",
     "text": [
      "res                                                                                               1.000000\n",
      "Ion_A * comb * EN_A^(-1) * Sum_ion^(-1)                                                           0.995692\n",
      "comb * Sum_EN^(-1)                                                                                0.995347\n",
      "EN_A * comb * Sum_EN^(-1) * Sum_ion^(-1)                                                          0.995106\n",
      "Ion_A * comb * EN_A^(-1) * Sum_EN^(-1)                                                            0.994573\n",
      "Ion_A * comb * Sum_EN^(-1) * Sum_ion^(-1)                                                         0.994504\n",
      "Ion_C * comb * Abs_diff_ion * EN_A^(-1) * Sum_EN^(-1) * Sum_ion^(-1)                              0.994287\n",
      "Ion_C * comb * Abs_diff_ion * Ion_A^(-1) * Sum_EN^(-1) * Sum_ion^(-1)                             0.993926\n",
      "EN_A * comb * Ion_A^(-1) * Sum_EN^(-1)                                                            0.993889\n",
      "Ion_A * comb * Sum_EN^(-1)                                                                        0.993735\n",
      "Ion_C * Ion_A * comb * Abs_diff_ion * EN_A^(-1) * Sum_EN^(-1) * Sum_ion^(-1)                      0.993400\n",
      "Ion_C * comb * Abs_diff_ion * Ion_A^(-1) * EN_A^(-1) * Sum_EN^(-1) * Sum_ion^(-1)                 0.993144\n",
      "comb * Sum_ion * Abs_diff_ion * Ion_A^(-1) * EN_A^(-1) * Sum_EN^(-1)                              0.993125\n",
      "comb * Pol_A^(-1) * Ion_A^(-1) * EN_A^(-1) * Sum_EN^(-1)                                          0.992969\n",
      "Ion_A * comb * Sum_ion * EN_A^(-1) * Sum_EN^(-1)                                                  0.992485\n",
      "comb * Pol_A^(-1) * Ion_A^(-1) * EN_A^(-1) * Sum_ion^(-1)                                         0.992267\n",
      "comb * Sum_EN^(-1) * Sum_ion^(-1)                                                                 0.992235\n",
      "comb * Pol_A^(-1) * EN_A^(-1) * Sum_EN^(-1)                                                       0.992122\n",
      "Ion_C * Pol_A^(-1) * Ion_A^(-1) * EN_A^(-1) * Sum_EN^(-1) * Sum_ion^(-1)                          0.991996\n",
      "Ion_C * comb * Abs_diff_ion * Pol_A^(-1) * Ion_A^(-1) * EN_A^(-1) * Sum_EN^(-1) * Sum_ion^(-1)    0.991960\n",
      "Name: res, dtype: float64\n"
     ]
    }
   ],
   "source": [
    "results=correlation['res'].abs().sort_values(ascending=False)\n",
    "print(results.iloc[0:20])\n",
    "top_vars = results.iloc[1:20].index\n"
   ]
  },
  {
   "cell_type": "code",
   "execution_count": 444,
   "metadata": {},
   "outputs": [
    {
     "data": {
      "image/png": "[encoded data removed]",
      "text/plain": [
       "<Figure size 640x480 with 1 Axes>"
      ]
     },
     "metadata": {},
     "output_type": "display_data"
    },
    {
     "name": "stdout",
     "output_type": "stream",
     "text": [
      "1.0\n"
     ]
    }
   ],
   "source": [
    "import matplotlib.pyplot as plt\n",
    "\n",
    "plt.scatter(results['res'],results[top_vars[3]])\n",
    "plt.plot(results['res'],results[top_vars[0]])\n",
    "plt.show()\n",
    "\n",
    "values[top_vars[0]]\n",
    "\n",
    "\n",
    "# param = df['Cat_EN']*df['Ani_EN']*df['Rad_C']*df['CN']*df['Ion_C']*df['Ion_A']\n",
    "\n",
    "\n",
    "\n",
    "# y = list(values[top_vars[0]])[:4]+list(values[top_vars[0]])[5:]\n",
    "# x = list(values['res'])[:4]+list(values['res'])[5:]\n",
    "\n",
    "# plt.scatter(x,y)\n",
    "# x\n",
    "\n",
    "print(results['res'])"
   ]
  },
  {
   "cell_type": "code",
   "execution_count": 449,
   "metadata": {},
   "outputs": [
    {
     "data": {
      "image/png": "[encoded data removed]",
      "text/plain": [
       "<Figure size 800x600 with 1 Axes>"
      ]
     },
     "metadata": {},
     "output_type": "display_data"
    },
    {
     "data": {
      "text/plain": [
       "(0.9907147225680758, 0.006532553871026091, 'y = 0.1777x + -0.1548')"
      ]
     },
     "execution_count": 449,
     "metadata": {},
     "output_type": "execute_result"
    }
   ],
   "source": [
    "param = top_vars[1]\n",
    "\n",
    "y = values[param]\n",
    "x = values['res']\n",
    "\n",
    "import matplotlib.pyplot as plt\n",
    "from sklearn.linear_model import LinearRegression\n",
    "from sklearn.metrics import mean_squared_error, r2_score\n",
    "\n",
    "# Assuming x and y are Pandas Series\n",
    "# Reshape x to a 2D array\n",
    "x_reshaped = x.values.reshape(-1, 1)  # Convert x to a 2D array (n, 1)\n",
    "\n",
    "# Create and fit the linear regression model\n",
    "model = LinearRegression()\n",
    "model.fit(x_reshaped, y)\n",
    "\n",
    "# Get the slope (coefficient) and intercept\n",
    "slope = model.coef_[0]  # model.coef_ gives the slope of the line\n",
    "intercept = model.intercept_  # model.intercept_ gives the intercept\n",
    "\n",
    "# Predict y values using the linear model\n",
    "y_pred = model.predict(x_reshaped)\n",
    "\n",
    "# Plot the data points and the regression line\n",
    "plt.figure(figsize=(8, 6))\n",
    "plt.scatter(x, y, color='blue', label='Data points')\n",
    "plt.plot(x, y_pred, color='red', label='Regression Line')\n",
    "plt.title(f'Scatter Plot of x vs y with Linear Regression Line \\n{param}')\n",
    "plt.xlabel(' Percentage Error')\n",
    "plt.ylabel(' Function Value')\n",
    "plt.grid()\n",
    "plt.legend()\n",
    "plt.show()\n",
    "\n",
    "# Calculate R^2 and MSE\n",
    "r_squared = r2_score(y, y_pred)\n",
    "msd = mean_squared_error(y, y_pred)\n",
    "\n",
    "# Display the equation of the line\n",
    "equation = f\"y = {slope:.4f}x + {intercept:.4f}\"\n",
    "r_squared, msd, equation\n"
   ]
  },
  {
   "cell_type": "code",
   "execution_count": 446,
   "metadata": {},
   "outputs": [
    {
     "data": {
      "text/plain": [
       "1.0"
      ]
     },
     "execution_count": 446,
     "metadata": {},
     "output_type": "execute_result"
    }
   ],
   "source": [
    "### Results \n",
    "\n",
    "1. "
   ]
  }
 ],
 "metadata": {
  "kernelspec": {
   "display_name": "base",
   "language": "python",
   "name": "python3"
  },
  "language_info": {
   "codemirror_mode": {
    "name": "ipython",
    "version": 3
   },
   "file_extension": ".py",
   "mimetype": "text/x-python",
   "name": "python",
   "nbconvert_exporter": "python",
   "pygments_lexer": "ipython3",
   "version": "3.12.3"
  }
 },
 "nbformat": 4,
 "nbformat_minor": 2
}

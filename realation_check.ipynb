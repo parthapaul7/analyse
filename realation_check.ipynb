{
 "cells": [
  {
   "cell_type": "code",
   "execution_count": 118,
   "metadata": {},
   "outputs": [],
   "source": [
    "import pandas as pd\n",
    "import numpy as np"
   ]
  },
  {
   "cell_type": "markdown",
   "metadata": {},
   "source": [
    "### Loading the feature functions from CSV and trimming"
   ]
  },
  {
   "cell_type": "code",
   "execution_count": 119,
   "metadata": {},
   "outputs": [
    {
     "data": {
      "text/plain": [
       "array(['LiH', 'NaH', 'KH', 'RbH', 'CsH', 'CsCl', 'LiCl', 'CuI', 'LiF',\n",
       "       'ZnS'], dtype=object)"
      ]
     },
     "execution_count": 119,
     "metadata": {},
     "output_type": "execute_result"
    }
   ],
   "source": [
    "df = pd.read_csv(\"features/ff_pol.csv\")\n",
    "\n",
    "# Save to a CSV file\n",
    "molecules = df['Mol'].values\n",
    "\n",
    "\n",
    "molecules = molecules\n",
    "molecules"
   ]
  },
  {
   "cell_type": "markdown",
   "metadata": {},
   "source": [
    "### Size Modification and adding parameters to Data Frame"
   ]
  },
  {
   "cell_type": "code",
   "execution_count": 120,
   "metadata": {},
   "outputs": [
    {
     "data": {
      "text/html": [
       "<div>\n",
       "<style scoped>\n",
       "    .dataframe tbody tr th:only-of-type {\n",
       "        vertical-align: middle;\n",
       "    }\n",
       "\n",
       "    .dataframe tbody tr th {\n",
       "        vertical-align: top;\n",
       "    }\n",
       "\n",
       "    .dataframe thead th {\n",
       "        text-align: right;\n",
       "    }\n",
       "</style>\n",
       "<table border=\"1\" class=\"dataframe\">\n",
       "  <thead>\n",
       "    <tr style=\"text-align: right;\">\n",
       "      <th></th>\n",
       "      <th>Mol</th>\n",
       "      <th>Pol_C</th>\n",
       "      <th>Pol_A</th>\n",
       "      <th>CN_C</th>\n",
       "      <th>Ion_C</th>\n",
       "      <th>Ion_A</th>\n",
       "      <th>EA_A</th>\n",
       "      <th>EN_C</th>\n",
       "      <th>EN_A</th>\n",
       "    </tr>\n",
       "  </thead>\n",
       "  <tbody>\n",
       "    <tr>\n",
       "      <th>0</th>\n",
       "      <td>LiH</td>\n",
       "      <td>164.10</td>\n",
       "      <td>4.51</td>\n",
       "      <td>6</td>\n",
       "      <td>5.392</td>\n",
       "      <td>13.590</td>\n",
       "      <td>0.754</td>\n",
       "      <td>0.98</td>\n",
       "      <td>2.20</td>\n",
       "    </tr>\n",
       "    <tr>\n",
       "      <th>1</th>\n",
       "      <td>NaH</td>\n",
       "      <td>162.70</td>\n",
       "      <td>4.51</td>\n",
       "      <td>6</td>\n",
       "      <td>5.139</td>\n",
       "      <td>13.590</td>\n",
       "      <td>0.754</td>\n",
       "      <td>0.93</td>\n",
       "      <td>2.20</td>\n",
       "    </tr>\n",
       "    <tr>\n",
       "      <th>2</th>\n",
       "      <td>KH</td>\n",
       "      <td>289.70</td>\n",
       "      <td>4.51</td>\n",
       "      <td>6</td>\n",
       "      <td>4.341</td>\n",
       "      <td>13.590</td>\n",
       "      <td>0.754</td>\n",
       "      <td>0.82</td>\n",
       "      <td>2.20</td>\n",
       "    </tr>\n",
       "    <tr>\n",
       "      <th>3</th>\n",
       "      <td>RbH</td>\n",
       "      <td>319.80</td>\n",
       "      <td>4.51</td>\n",
       "      <td>6</td>\n",
       "      <td>4.177</td>\n",
       "      <td>13.590</td>\n",
       "      <td>0.754</td>\n",
       "      <td>0.82</td>\n",
       "      <td>2.20</td>\n",
       "    </tr>\n",
       "    <tr>\n",
       "      <th>4</th>\n",
       "      <td>CsH</td>\n",
       "      <td>400.60</td>\n",
       "      <td>4.51</td>\n",
       "      <td>6</td>\n",
       "      <td>3.849</td>\n",
       "      <td>13.590</td>\n",
       "      <td>0.754</td>\n",
       "      <td>0.79</td>\n",
       "      <td>2.20</td>\n",
       "    </tr>\n",
       "    <tr>\n",
       "      <th>5</th>\n",
       "      <td>CsCl</td>\n",
       "      <td>400.60</td>\n",
       "      <td>14.60</td>\n",
       "      <td>8</td>\n",
       "      <td>3.849</td>\n",
       "      <td>12.960</td>\n",
       "      <td>3.617</td>\n",
       "      <td>0.79</td>\n",
       "      <td>3.16</td>\n",
       "    </tr>\n",
       "    <tr>\n",
       "      <th>6</th>\n",
       "      <td>LiCl</td>\n",
       "      <td>164.10</td>\n",
       "      <td>14.60</td>\n",
       "      <td>6</td>\n",
       "      <td>5.392</td>\n",
       "      <td>12.960</td>\n",
       "      <td>3.617</td>\n",
       "      <td>2.20</td>\n",
       "      <td>3.16</td>\n",
       "    </tr>\n",
       "    <tr>\n",
       "      <th>7</th>\n",
       "      <td>CuI</td>\n",
       "      <td>46.50</td>\n",
       "      <td>32.90</td>\n",
       "      <td>4</td>\n",
       "      <td>7.726</td>\n",
       "      <td>10.451</td>\n",
       "      <td>3.059</td>\n",
       "      <td>1.90</td>\n",
       "      <td>2.66</td>\n",
       "    </tr>\n",
       "    <tr>\n",
       "      <th>8</th>\n",
       "      <td>LiF</td>\n",
       "      <td>164.10</td>\n",
       "      <td>3.74</td>\n",
       "      <td>6</td>\n",
       "      <td>5.392</td>\n",
       "      <td>17.423</td>\n",
       "      <td>3.339</td>\n",
       "      <td>2.20</td>\n",
       "      <td>3.98</td>\n",
       "    </tr>\n",
       "    <tr>\n",
       "      <th>9</th>\n",
       "      <td>ZnS</td>\n",
       "      <td>38.67</td>\n",
       "      <td>19.40</td>\n",
       "      <td>4</td>\n",
       "      <td>9.394</td>\n",
       "      <td>10.360</td>\n",
       "      <td>2.077</td>\n",
       "      <td>1.65</td>\n",
       "      <td>2.58</td>\n",
       "    </tr>\n",
       "  </tbody>\n",
       "</table>\n",
       "</div>"
      ],
      "text/plain": [
       "    Mol   Pol_C  Pol_A  CN_C  Ion_C   Ion_A   EA_A  EN_C  EN_A\n",
       "0   LiH  164.10   4.51     6  5.392  13.590  0.754  0.98  2.20\n",
       "1   NaH  162.70   4.51     6  5.139  13.590  0.754  0.93  2.20\n",
       "2    KH  289.70   4.51     6  4.341  13.590  0.754  0.82  2.20\n",
       "3   RbH  319.80   4.51     6  4.177  13.590  0.754  0.82  2.20\n",
       "4   CsH  400.60   4.51     6  3.849  13.590  0.754  0.79  2.20\n",
       "5  CsCl  400.60  14.60     8  3.849  12.960  3.617  0.79  3.16\n",
       "6  LiCl  164.10  14.60     6  5.392  12.960  3.617  2.20  3.16\n",
       "7   CuI   46.50  32.90     4  7.726  10.451  3.059  1.90  2.66\n",
       "8   LiF  164.10   3.74     6  5.392  17.423  3.339  2.20  3.98\n",
       "9   ZnS   38.67  19.40     4  9.394  10.360  2.077  1.65  2.58"
      ]
     },
     "execution_count": 120,
     "metadata": {},
     "output_type": "execute_result"
    }
   ],
   "source": [
    "df"
   ]
  },
  {
   "cell_type": "code",
   "execution_count": 121,
   "metadata": {},
   "outputs": [
    {
     "data": {
      "text/plain": [
       "[14.133308154469557,\n",
       " 14.081369567351956,\n",
       " 14.034265054162482,\n",
       " 12.926169405830962,\n",
       " 12.27212198878638,\n",
       " 3.230739472566894,\n",
       " 5.121300394981286,\n",
       " 3.5739198265668453,\n",
       " 4.715887333726234,\n",
       " 2.499975609761724]"
      ]
     },
     "execution_count": 121,
     "metadata": {},
     "output_type": "execute_result"
    }
   ],
   "source": [
    "\n",
    "%store -r res\n",
    "res"
   ]
  },
  {
   "cell_type": "code",
   "execution_count": 122,
   "metadata": {},
   "outputs": [
    {
     "data": {
      "text/html": [
       "<div>\n",
       "<style scoped>\n",
       "    .dataframe tbody tr th:only-of-type {\n",
       "        vertical-align: middle;\n",
       "    }\n",
       "\n",
       "    .dataframe tbody tr th {\n",
       "        vertical-align: top;\n",
       "    }\n",
       "\n",
       "    .dataframe thead th {\n",
       "        text-align: right;\n",
       "    }\n",
       "</style>\n",
       "<table border=\"1\" class=\"dataframe\">\n",
       "  <thead>\n",
       "    <tr style=\"text-align: right;\">\n",
       "      <th></th>\n",
       "      <th>Mol</th>\n",
       "      <th>Pol_C</th>\n",
       "      <th>Pol_A</th>\n",
       "      <th>CN_C</th>\n",
       "      <th>Ion_C</th>\n",
       "      <th>Ion_A</th>\n",
       "      <th>EA_A</th>\n",
       "      <th>EN_C</th>\n",
       "      <th>EN_A</th>\n",
       "    </tr>\n",
       "  </thead>\n",
       "  <tbody>\n",
       "    <tr>\n",
       "      <th>0</th>\n",
       "      <td>LiH</td>\n",
       "      <td>164.10</td>\n",
       "      <td>4.51</td>\n",
       "      <td>6</td>\n",
       "      <td>5.392</td>\n",
       "      <td>13.590</td>\n",
       "      <td>0.754</td>\n",
       "      <td>0.98</td>\n",
       "      <td>2.20</td>\n",
       "    </tr>\n",
       "    <tr>\n",
       "      <th>1</th>\n",
       "      <td>NaH</td>\n",
       "      <td>162.70</td>\n",
       "      <td>4.51</td>\n",
       "      <td>6</td>\n",
       "      <td>5.139</td>\n",
       "      <td>13.590</td>\n",
       "      <td>0.754</td>\n",
       "      <td>0.93</td>\n",
       "      <td>2.20</td>\n",
       "    </tr>\n",
       "    <tr>\n",
       "      <th>2</th>\n",
       "      <td>KH</td>\n",
       "      <td>289.70</td>\n",
       "      <td>4.51</td>\n",
       "      <td>6</td>\n",
       "      <td>4.341</td>\n",
       "      <td>13.590</td>\n",
       "      <td>0.754</td>\n",
       "      <td>0.82</td>\n",
       "      <td>2.20</td>\n",
       "    </tr>\n",
       "    <tr>\n",
       "      <th>3</th>\n",
       "      <td>RbH</td>\n",
       "      <td>319.80</td>\n",
       "      <td>4.51</td>\n",
       "      <td>6</td>\n",
       "      <td>4.177</td>\n",
       "      <td>13.590</td>\n",
       "      <td>0.754</td>\n",
       "      <td>0.82</td>\n",
       "      <td>2.20</td>\n",
       "    </tr>\n",
       "    <tr>\n",
       "      <th>4</th>\n",
       "      <td>CsH</td>\n",
       "      <td>400.60</td>\n",
       "      <td>4.51</td>\n",
       "      <td>6</td>\n",
       "      <td>3.849</td>\n",
       "      <td>13.590</td>\n",
       "      <td>0.754</td>\n",
       "      <td>0.79</td>\n",
       "      <td>2.20</td>\n",
       "    </tr>\n",
       "    <tr>\n",
       "      <th>5</th>\n",
       "      <td>CsCl</td>\n",
       "      <td>400.60</td>\n",
       "      <td>14.60</td>\n",
       "      <td>8</td>\n",
       "      <td>3.849</td>\n",
       "      <td>12.960</td>\n",
       "      <td>3.617</td>\n",
       "      <td>0.79</td>\n",
       "      <td>3.16</td>\n",
       "    </tr>\n",
       "    <tr>\n",
       "      <th>6</th>\n",
       "      <td>LiCl</td>\n",
       "      <td>164.10</td>\n",
       "      <td>14.60</td>\n",
       "      <td>6</td>\n",
       "      <td>5.392</td>\n",
       "      <td>12.960</td>\n",
       "      <td>3.617</td>\n",
       "      <td>2.20</td>\n",
       "      <td>3.16</td>\n",
       "    </tr>\n",
       "    <tr>\n",
       "      <th>7</th>\n",
       "      <td>CuI</td>\n",
       "      <td>46.50</td>\n",
       "      <td>32.90</td>\n",
       "      <td>4</td>\n",
       "      <td>7.726</td>\n",
       "      <td>10.451</td>\n",
       "      <td>3.059</td>\n",
       "      <td>1.90</td>\n",
       "      <td>2.66</td>\n",
       "    </tr>\n",
       "    <tr>\n",
       "      <th>8</th>\n",
       "      <td>LiF</td>\n",
       "      <td>164.10</td>\n",
       "      <td>3.74</td>\n",
       "      <td>6</td>\n",
       "      <td>5.392</td>\n",
       "      <td>17.423</td>\n",
       "      <td>3.339</td>\n",
       "      <td>2.20</td>\n",
       "      <td>3.98</td>\n",
       "    </tr>\n",
       "    <tr>\n",
       "      <th>9</th>\n",
       "      <td>ZnS</td>\n",
       "      <td>38.67</td>\n",
       "      <td>19.40</td>\n",
       "      <td>4</td>\n",
       "      <td>9.394</td>\n",
       "      <td>10.360</td>\n",
       "      <td>2.077</td>\n",
       "      <td>1.65</td>\n",
       "      <td>2.58</td>\n",
       "    </tr>\n",
       "  </tbody>\n",
       "</table>\n",
       "</div>"
      ],
      "text/plain": [
       "    Mol   Pol_C  Pol_A  CN_C  Ion_C   Ion_A   EA_A  EN_C  EN_A\n",
       "0   LiH  164.10   4.51     6  5.392  13.590  0.754  0.98  2.20\n",
       "1   NaH  162.70   4.51     6  5.139  13.590  0.754  0.93  2.20\n",
       "2    KH  289.70   4.51     6  4.341  13.590  0.754  0.82  2.20\n",
       "3   RbH  319.80   4.51     6  4.177  13.590  0.754  0.82  2.20\n",
       "4   CsH  400.60   4.51     6  3.849  13.590  0.754  0.79  2.20\n",
       "5  CsCl  400.60  14.60     8  3.849  12.960  3.617  0.79  3.16\n",
       "6  LiCl  164.10  14.60     6  5.392  12.960  3.617  2.20  3.16\n",
       "7   CuI   46.50  32.90     4  7.726  10.451  3.059  1.90  2.66\n",
       "8   LiF  164.10   3.74     6  5.392  17.423  3.339  2.20  3.98\n",
       "9   ZnS   38.67  19.40     4  9.394  10.360  2.077  1.65  2.58"
      ]
     },
     "execution_count": 122,
     "metadata": {},
     "output_type": "execute_result"
    }
   ],
   "source": [
    "# drip first and 2nd row\n",
    "# df = df.drop(index=[0,2], axis=1)\n",
    "# res = res[1:2] + res[3:]\n",
    "df"
   ]
  },
  {
   "cell_type": "code",
   "execution_count": 123,
   "metadata": {},
   "outputs": [
    {
     "data": {
      "text/plain": [
       "[14.133308154469557,\n",
       " 14.081369567351956,\n",
       " 14.034265054162482,\n",
       " 12.926169405830962,\n",
       " 12.27212198878638,\n",
       " 3.230739472566894,\n",
       " 5.121300394981286,\n",
       " 3.5739198265668453,\n",
       " 4.715887333726234,\n",
       " 2.499975609761724]"
      ]
     },
     "execution_count": 123,
     "metadata": {},
     "output_type": "execute_result"
    }
   ],
   "source": [
    "# always inverse of EN_A\n",
    "# val = df['EA_A']\n",
    "df['comb'] = 1/ df['EA_A']\n",
    "# df['comb'] = df['comb'] * df['Ion_C']\n",
    "df['comb'] = df['comb'] * df['CN_C']\n",
    "df['comb'] = df['comb'] * df['EN_C']\n",
    "# df['comb'] = df['comb'] / df['Pol_A']\n",
    "\n",
    "## always inverse of delta EN\n",
    "\n",
    "## always inverse of pol_A ( anion polarisation)\n",
    "\n",
    "## remove df['EA_A'] from the dataframe\n",
    "df = df.drop(columns=['EA_A'])\n",
    "# df = df.drop(columns=['Ion_C'])\n",
    "# df = df.drop(columns=['CN_C'])\n",
    "\n",
    "# df = df.drop(columns=['Pol_A'])\n",
    "\n",
    "res"
   ]
  },
  {
   "cell_type": "code",
   "execution_count": 124,
   "metadata": {},
   "outputs": [
    {
     "data": {
      "text/plain": [
       "Index(['Mol', 'Pol_C', 'Pol_A', 'CN_C', 'Ion_C', 'Ion_A', 'EN_C', 'EN_A',\n",
       "       'comb', 'Sum_ion', 'Abs_diff_ion', 'Sum_pol', 'Abs_diff_pol'],\n",
       "      dtype='object')"
      ]
     },
     "execution_count": 124,
     "metadata": {},
     "output_type": "execute_result"
    }
   ],
   "source": [
    "# df = df.iloc[:10,0:]\n",
    "\n",
    "\n",
    "## always inverse of EN_A\n",
    "\n",
    "# df['Sum_EN'] = df['EN_C'] + df['EN_A']\n",
    "# df['Diff_EN'] = abs(df['EN_A'] - df['EN_C'])\n",
    "# # df['Diff_rad'] = df['RadV_A'] - df['RadV_C']\n",
    "\n",
    "\n",
    "df['Sum_ion'] = df['Ion_C'] + df['Ion_A']\n",
    "df['Abs_diff_ion'] = abs(df['Ion_C'] - df['Ion_A'])\n",
    "\n",
    "df['Sum_pol'] = df['Pol_C'] + df['Pol_A']\n",
    "df['Abs_diff_pol'] = abs(df['Pol_C'] - df['Pol_A'])\n",
    "\n",
    "\n",
    "\n",
    "\n",
    "# Adding sqrt values for each column\n",
    "# for col in df.columns:\n",
    "#     # Make sure the column is numeric before applying sqrt\n",
    "#     if pd.api.types.is_numeric_dtype(df[col]):\n",
    "#         # df[f'{col}_sqrt'] = np.sqrt(abs(df[col]))\n",
    "#         # df[f'{col}_squared'] = np.square(df[col])\n",
    "#         df.drop(columns=[col], inplace=True)\n",
    "\n",
    "# df = df.drop(columns=['EN_C'])\n",
    "\n",
    "# df['sum_ion'] = df['Ion_C'] + df['Ion_A']\n",
    "# # df['diff_ion'] = df['Ion_C'] - df['Ion_A']\n",
    "# df['diff_pol'] = abs(df['Pol_C'] - df['Pol_A'])\n",
    "\n",
    "# df = df[['Ion_C','Abs_diff_ion','Sum_pol','Abs_diff_pol','CN_C']]\n",
    "\n",
    "df.columns"
   ]
  },
  {
   "cell_type": "markdown",
   "metadata": {},
   "source": [
    "### making the combinations"
   ]
  },
  {
   "cell_type": "code",
   "execution_count": 106,
   "metadata": {},
   "outputs": [],
   "source": [
    "import itertools\n",
    "import numpy as np\n",
    "import pandas as pd\n",
    "from multiprocessing import Pool, cpu_count"
   ]
  },
  {
   "cell_type": "code",
   "execution_count": 107,
   "metadata": {},
   "outputs": [],
   "source": [
    "import itertools\n",
    "import numpy as np\n",
    "import pandas as pd\n",
    "\n",
    "def generate_combinations_df(params_df, param_names):\n",
    "    results = []\n",
    "\n",
    "    # Convert all parameter values to numeric, coercing errors to NaN\n",
    "    params_df = params_df.apply(pd.to_numeric, errors='coerce')\n",
    "\n",
    "    # Precompute inverses of all parameters\n",
    "    params_inv_df = params_df.applymap(lambda x: np.power(float(x), -1) if pd.notnull(x) and x != 0 else np.nan)\n",
    "    params_inv_df.columns = [f\"{name}^(-1)\" for name in param_names]\n",
    "\n",
    "    # Combine original parameters and their inverses\n",
    "    combined_params_df = pd.concat([params_df, params_inv_df], axis=1)\n",
    "    combined_param_names = list(combined_params_df.columns)\n",
    "\n",
    "    # Precompute invalid pairs (parameter and its inverse)\n",
    "    invalid_pairs = {f\"{name}^(-1)\": name for name in param_names}\n",
    "    invalid_pairs.update({name: f\"{name}^(-1)\" for name in param_names})\n",
    "\n",
    "    # Generate all subsets of parameters (combinations)\n",
    "    for r in range(1, len(combined_param_names) + 1):\n",
    "        for subset_indices in itertools.combinations(range(len(combined_param_names)), r):\n",
    "\n",
    "            subset_names = [combined_param_names[i] for i in subset_indices]\n",
    "\n",
    "            # Skip invalid subsets early\n",
    "            if any(invalid_pairs.get(name) in subset_names for name in subset_names):\n",
    "                continue\n",
    "\n",
    "            # Select the subset DataFrame\n",
    "            subset = combined_params_df[subset_names]\n",
    "\n",
    "            # Replace NaN values with 0\n",
    "            subset = subset.fillna(0)\n",
    "\n",
    "            # Compute results for valid subsets\n",
    "            expr_str = \" * \".join(subset_names)\n",
    "            expr_val = subset.prod(axis=1)\n",
    "            results.append((expr_str, expr_val))\n",
    "\n",
    "    return results\n"
   ]
  },
  {
   "cell_type": "code",
   "execution_count": 108,
   "metadata": {},
   "outputs": [],
   "source": [
    "import itertools\n",
    "import numpy as np\n",
    "import pandas as pd\n",
    "from multiprocessing import Pool, cpu_count\n",
    "\n",
    "def process_combinations_chunk(args):\n",
    "    combined_params_df, combined_param_names, param_names, indices_chunk = args\n",
    "    results = []\n",
    "\n",
    "    for indices in indices_chunk:\n",
    "        subset_names = [combined_param_names[i] for i in indices]\n",
    "        subset = combined_params_df[subset_names]\n",
    "\n",
    "        # Replace NaN values with 0\n",
    "        subset = subset.fillna(0)\n",
    "\n",
    "        # Check if both a parameter and its inverse are in the subset\n",
    "        invalid = False\n",
    "        for name in subset_names:\n",
    "            if name.endswith(\"^(-1)\") and name[:-5] in subset_names:\n",
    "                invalid = True\n",
    "                break\n",
    "            elif name in param_names and f\"{name}^(-1)\" in subset_names:\n",
    "                invalid = True\n",
    "                break\n",
    "\n",
    "        if not invalid:\n",
    "            # Compute results for valid subsets\n",
    "            expr_str = \" * \".join(subset_names)\n",
    "            expr_val = subset.prod(axis=1)\n",
    "            results.append((expr_str, expr_val))\n",
    "\n",
    "    return results\n",
    "\n",
    "def generate_combinations_df_parallel(params_df, param_names):\n",
    "    # Convert all parameter values to numeric, coercing errors to NaN\n",
    "    params_df = params_df.apply(pd.to_numeric, errors='coerce')\n",
    "\n",
    "    # Precompute inverses of all parameters\n",
    "    params_inv_df = params_df.applymap(lambda x: np.power(float(x), -1) if pd.notnull(x) and x != 0 else np.nan)\n",
    "    params_inv_df.columns = [f\"{name}^(-1)\" for name in param_names]\n",
    "\n",
    "    # Combine original parameters and their inverses\n",
    "    combined_params_df = pd.concat([params_df, params_inv_df], axis=1)\n",
    "    combined_param_names = list(combined_params_df.columns)\n",
    "\n",
    "    # Generate all subsets of parameter indices\n",
    "    all_combinations = [\n",
    "        indices for r in range(1, len(combined_param_names) + 1)\n",
    "        for indices in itertools.combinations(range(len(combined_param_names)), r)\n",
    "    ]\n",
    "\n",
    "    # Divide all_combinations into chunks\n",
    "    num_workers = min(cpu_count(), len(all_combinations))\n",
    "    chunk_size = max(1, len(all_combinations) // num_workers)\n",
    "    chunks = [all_combinations[i:i + chunk_size] for i in range(0, len(all_combinations), chunk_size)]\n",
    "\n",
    "    print(f\"Using {num_workers} workers to process {len(all_combinations)} combinations in {len(chunks)} chunks\")\n",
    "\n",
    "    # Prepare arguments for parallel processing\n",
    "    args = [\n",
    "        (combined_params_df, combined_param_names, param_names, chunk)\n",
    "        for chunk in chunks\n",
    "    ]\n",
    "\n",
    "    # Use multiprocessing to process combinations in parallel\n",
    "    with Pool(processes=num_workers) as pool:\n",
    "        results = pool.map(process_combinations_chunk, args)\n",
    "\n",
    "    # Flatten results\n",
    "    flattened_results = [item for sublist in results for item in sublist]\n",
    "    return flattened_results\n"
   ]
  },
  {
   "cell_type": "code",
   "execution_count": 109,
   "metadata": {},
   "outputs": [
    {
     "name": "stdout",
     "output_type": "stream",
     "text": [
      "Calculating expressions...\n",
      "Expressions cached.\n",
      "(242, 2)\n"
     ]
    },
    {
     "name": "stderr",
     "output_type": "stream",
     "text": [
      "/var/folders/zp/h52np6n918qd9v9139ls4z600000gn/T/ipykernel_60434/3972913922.py:12: FutureWarning: DataFrame.applymap has been deprecated. Use DataFrame.map instead.\n",
      "  params_inv_df = params_df.applymap(lambda x: np.power(float(x), -1) if pd.notnull(x) and x != 0 else np.nan)\n"
     ]
    }
   ],
   "source": [
    "\n",
    "import os\n",
    "import pandas as pd\n",
    "\n",
    "takeSaved = False\n",
    "\n",
    "all_expressions = []\n",
    "expressions = []\n",
    "# Define file name to save/load the results\n",
    "cache_file = \"cached_expressions.pkl\"\n",
    "\n",
    "if os.path.exists(cache_file) and takeSaved:\n",
    "    # Load the cached results if they exist\n",
    "    expressions = pd.read_pickle(cache_file)\n",
    "    all_expressions = list(expressions.itertuples(index=False, name=None))\n",
    "    print(\"Loaded cached expressions.\")\n",
    "else:\n",
    "    # Perform the costly computation if cache does not exist\n",
    "    print(\"Calculating expressions...\")\n",
    "    param_names = list(df.iloc[:,].columns)\n",
    "    all_expressions = generate_combinations_df(df.iloc[:,], param_names)\n",
    "    expressions = pd.DataFrame(all_expressions, columns=['Expression', 'Value'])\n",
    "\n",
    "    # Save the results to cache\n",
    "    expressions.to_pickle(cache_file)\n",
    "    print(\"Expressions cached.\")\n",
    "\n",
    "# Print the shape of the expressions DataFrame\n",
    "print(expressions.shape)\n"
   ]
  },
  {
   "cell_type": "code",
   "execution_count": 110,
   "metadata": {},
   "outputs": [
    {
     "data": {
      "text/html": [
       "<div>\n",
       "<style scoped>\n",
       "    .dataframe tbody tr th:only-of-type {\n",
       "        vertical-align: middle;\n",
       "    }\n",
       "\n",
       "    .dataframe tbody tr th {\n",
       "        vertical-align: top;\n",
       "    }\n",
       "\n",
       "    .dataframe thead th {\n",
       "        text-align: right;\n",
       "    }\n",
       "</style>\n",
       "<table border=\"1\" class=\"dataframe\">\n",
       "  <thead>\n",
       "    <tr style=\"text-align: right;\">\n",
       "      <th></th>\n",
       "      <th>Expression</th>\n",
       "      <th>Value</th>\n",
       "    </tr>\n",
       "  </thead>\n",
       "  <tbody>\n",
       "    <tr>\n",
       "      <th>0</th>\n",
       "      <td>Sum_ion</td>\n",
       "      <td>0    18.982\n",
       "1    18.729\n",
       "2    17.931\n",
       "3    17.76...</td>\n",
       "    </tr>\n",
       "    <tr>\n",
       "      <th>1</th>\n",
       "      <td>Abs_diff_ion</td>\n",
       "      <td>0     8.198\n",
       "1     8.451\n",
       "2     9.249\n",
       "3     9.41...</td>\n",
       "    </tr>\n",
       "    <tr>\n",
       "      <th>2</th>\n",
       "      <td>Sum_pol</td>\n",
       "      <td>0    168.61\n",
       "1    167.21\n",
       "2    294.21\n",
       "3    324.3...</td>\n",
       "    </tr>\n",
       "    <tr>\n",
       "      <th>3</th>\n",
       "      <td>Abs_diff_pol</td>\n",
       "      <td>0    159.59\n",
       "1    158.19\n",
       "2    285.19\n",
       "3    315.2...</td>\n",
       "    </tr>\n",
       "    <tr>\n",
       "      <th>4</th>\n",
       "      <td>CN_C</td>\n",
       "      <td>0    6\n",
       "1    6\n",
       "2    6\n",
       "3    6\n",
       "4    6\n",
       "5    8\n",
       "6   ...</td>\n",
       "    </tr>\n",
       "  </tbody>\n",
       "</table>\n",
       "</div>"
      ],
      "text/plain": [
       "     Expression                                              Value\n",
       "0       Sum_ion  0    18.982\n",
       "1    18.729\n",
       "2    17.931\n",
       "3    17.76...\n",
       "1  Abs_diff_ion  0     8.198\n",
       "1     8.451\n",
       "2     9.249\n",
       "3     9.41...\n",
       "2       Sum_pol  0    168.61\n",
       "1    167.21\n",
       "2    294.21\n",
       "3    324.3...\n",
       "3  Abs_diff_pol  0    159.59\n",
       "1    158.19\n",
       "2    285.19\n",
       "3    315.2...\n",
       "4          CN_C  0    6\n",
       "1    6\n",
       "2    6\n",
       "3    6\n",
       "4    6\n",
       "5    8\n",
       "6   ..."
      ]
     },
     "execution_count": 110,
     "metadata": {},
     "output_type": "execute_result"
    }
   ],
   "source": [
    "expressions['Value'] = expressions['Value'] \n",
    "expressions.head()"
   ]
  },
  {
   "cell_type": "markdown",
   "metadata": {},
   "source": [
    "### Addition results to the combinations"
   ]
  },
  {
   "cell_type": "code",
   "execution_count": 111,
   "metadata": {},
   "outputs": [],
   "source": [
    "values_dict = {expr_str: expr_val for expr_str, expr_val in all_expressions}\n",
    "values = pd.DataFrame(values_dict)\n",
    "values['res'] = res"
   ]
  },
  {
   "cell_type": "markdown",
   "metadata": {},
   "source": [
    "### Finding Corelation"
   ]
  },
  {
   "cell_type": "code",
   "execution_count": 112,
   "metadata": {},
   "outputs": [
    {
     "data": {
      "text/plain": [
       "(243, 243)"
      ]
     },
     "execution_count": 112,
     "metadata": {},
     "output_type": "execute_result"
    }
   ],
   "source": [
    "\n",
    "correlation = values.corr()\n",
    "\n",
    "correlation.shape"
   ]
  },
  {
   "cell_type": "code",
   "execution_count": 113,
   "metadata": {},
   "outputs": [
    {
     "name": "stdout",
     "output_type": "stream",
     "text": [
      "res                                                                      1.000000\n",
      "Abs_diff_pol * Sum_ion^(-1) * Sum_pol^(-1) * CN_C^(-1)                   0.775046\n",
      "Abs_diff_pol * Sum_pol^(-1) * CN_C^(-1)                                  0.719763\n",
      "Abs_diff_ion * Abs_diff_pol * Sum_ion^(-1) * Sum_pol^(-1) * CN_C^(-1)    0.659784\n",
      "Abs_diff_pol * Sum_ion^(-1) * Sum_pol^(-1)                               0.637931\n",
      "Abs_diff_ion * Sum_ion^(-1) * CN_C^(-1)                                  0.634307\n",
      "Abs_diff_pol * Sum_pol^(-1)                                              0.617587\n",
      "Sum_ion * Abs_diff_pol * Sum_pol^(-1) * CN_C^(-1)                        0.584212\n",
      "Sum_ion * Sum_pol * CN_C * Abs_diff_pol^(-1)                             0.583086\n",
      "Sum_pol * CN_C * Sum_ion^(-1) * Abs_diff_ion^(-1) * Abs_diff_pol^(-1)    0.582090\n",
      "Abs_diff_ion * Abs_diff_pol * Sum_pol^(-1) * CN_C^(-1)                   0.582062\n",
      "Sum_ion * CN_C * Sum_pol^(-1) * Abs_diff_pol^(-1)                        0.580192\n",
      "Sum_pol * CN_C * Abs_diff_ion^(-1) * Abs_diff_pol^(-1)                   0.578771\n",
      "Sum_ion * Sum_pol^(-1) * Abs_diff_pol^(-1)                               0.577523\n",
      "Sum_ion * Sum_pol^(-1) * Abs_diff_pol^(-1) * CN_C^(-1)                   0.576024\n",
      "Sum_ion * Sum_pol * CN_C * Abs_diff_ion^(-1) * Abs_diff_pol^(-1)         0.575151\n",
      "CN_C * Sum_pol^(-1) * Abs_diff_pol^(-1)                                  0.575017\n",
      "Sum_ion * CN_C * Abs_diff_pol^(-1)                                       0.574616\n",
      "Sum_pol^(-1) * Abs_diff_pol^(-1)                                         0.573241\n",
      "Sum_pol * Sum_ion^(-1) * Abs_diff_ion^(-1) * Abs_diff_pol^(-1)           0.573080\n",
      "Name: res, dtype: float64\n"
     ]
    }
   ],
   "source": [
    "results=correlation['res'].abs().sort_values(ascending=False)\n",
    "print(results.iloc[0:20])\n",
    "top_vars = results.iloc[1:20].index"
   ]
  },
  {
   "cell_type": "markdown",
   "metadata": {},
   "source": [
    "### Final Results"
   ]
  },
  {
   "cell_type": "code",
   "execution_count": 114,
   "metadata": {},
   "outputs": [
    {
     "name": "stdout",
     "output_type": "stream",
     "text": [
      "res                                                                      1.000000\n",
      "Abs_diff_pol * Sum_ion^(-1) * Sum_pol^(-1) * CN_C^(-1)                   0.775046\n",
      "Abs_diff_pol * Sum_pol^(-1) * CN_C^(-1)                                  0.719763\n",
      "Abs_diff_ion * Abs_diff_pol * Sum_ion^(-1) * Sum_pol^(-1) * CN_C^(-1)    0.659784\n",
      "Abs_diff_pol * Sum_ion^(-1) * Sum_pol^(-1)                               0.637931\n",
      "Abs_diff_ion * Sum_ion^(-1) * CN_C^(-1)                                  0.634307\n",
      "Abs_diff_pol * Sum_pol^(-1)                                              0.617587\n",
      "Sum_ion * Abs_diff_pol * Sum_pol^(-1) * CN_C^(-1)                        0.584212\n",
      "Sum_ion * Sum_pol * CN_C * Abs_diff_pol^(-1)                             0.583086\n",
      "Sum_pol * CN_C * Sum_ion^(-1) * Abs_diff_ion^(-1) * Abs_diff_pol^(-1)    0.582090\n",
      "Abs_diff_ion * Abs_diff_pol * Sum_pol^(-1) * CN_C^(-1)                   0.582062\n",
      "Sum_ion * CN_C * Sum_pol^(-1) * Abs_diff_pol^(-1)                        0.580192\n",
      "Sum_pol * CN_C * Abs_diff_ion^(-1) * Abs_diff_pol^(-1)                   0.578771\n",
      "Sum_ion * Sum_pol^(-1) * Abs_diff_pol^(-1)                               0.577523\n",
      "Sum_ion * Sum_pol^(-1) * Abs_diff_pol^(-1) * CN_C^(-1)                   0.576024\n",
      "Sum_ion * Sum_pol * CN_C * Abs_diff_ion^(-1) * Abs_diff_pol^(-1)         0.575151\n",
      "CN_C * Sum_pol^(-1) * Abs_diff_pol^(-1)                                  0.575017\n",
      "Sum_ion * CN_C * Abs_diff_pol^(-1)                                       0.574616\n",
      "Sum_pol^(-1) * Abs_diff_pol^(-1)                                         0.573241\n",
      "Sum_pol * Sum_ion^(-1) * Abs_diff_ion^(-1) * Abs_diff_pol^(-1)           0.573080\n",
      "Name: res, dtype: float64\n"
     ]
    }
   ],
   "source": [
    "results=correlation['res'].abs().sort_values(ascending=False)\n",
    "print(results.iloc[0:20])\n",
    "top_vars = results.iloc[1:20].index\n"
   ]
  },
  {
   "cell_type": "code",
   "execution_count": 115,
   "metadata": {},
   "outputs": [
    {
     "data": {
      "image/png": "[encoded data removed]",
      "text/plain": [
       "<Figure size 640x480 with 1 Axes>"
      ]
     },
     "metadata": {},
     "output_type": "display_data"
    },
    {
     "name": "stdout",
     "output_type": "stream",
     "text": [
      "1.0\n"
     ]
    }
   ],
   "source": [
    "import matplotlib.pyplot as plt\n",
    "\n",
    "plt.scatter(results['res'],results[top_vars[3]])\n",
    "plt.plot(results['res'],results[top_vars[0]])\n",
    "plt.show()\n",
    "\n",
    "values[top_vars[0]]\n",
    "\n",
    "\n",
    "# param = df['Cat_EN']*df['Ani_EN']*df['Rad_C']*df['CN']*df['Ion_C']*df['Ion_A']\n",
    "\n",
    "\n",
    "\n",
    "# y = list(values[top_vars[0]])[:4]+list(values[top_vars[0]])[5:]\n",
    "# x = list(values['res'])[:4]+list(values['res'])[5:]\n",
    "\n",
    "# plt.scatter(x,y)\n",
    "# x\n",
    "\n",
    "print(results['res'])"
   ]
  },
  {
   "cell_type": "code",
   "execution_count": 116,
   "metadata": {},
   "outputs": [
    {
     "data": {
      "image/png": "[encoded data removed]",
      "text/plain": [
       "<Figure size 800x600 with 1 Axes>"
      ]
     },
     "metadata": {},
     "output_type": "display_data"
    },
    {
     "data": {
      "text/plain": [
       "(0.6006967283742326, 1.877896377202408e-06, 'y = 0.0003x + 0.0043')"
      ]
     },
     "execution_count": 116,
     "metadata": {},
     "output_type": "execute_result"
    }
   ],
   "source": [
    "param = top_vars[0]\n",
    "\n",
    "y = values[param]\n",
    "x = values['res']\n",
    "\n",
    "import matplotlib.pyplot as plt\n",
    "from sklearn.linear_model import LinearRegression\n",
    "from sklearn.metrics import mean_squared_error, r2_score\n",
    "\n",
    "# Assuming x and y are Pandas Series\n",
    "# Reshape x to a 2D array\n",
    "x_reshaped = x.values.reshape(-1, 1)  # Convert x to a 2D array (n, 1)\n",
    "\n",
    "# Create and fit the linear regression model\n",
    "model = LinearRegression()\n",
    "model.fit(x_reshaped, y)\n",
    "\n",
    "# Get the slope (coefficient) and intercept\n",
    "slope = model.coef_[0]  # model.coef_ gives the slope of the line\n",
    "intercept = model.intercept_  # model.intercept_ gives the intercept\n",
    "\n",
    "# Predict y values using the linear model\n",
    "y_pred = model.predict(x_reshaped)\n",
    "\n",
    "# Plot the data points and the regression line\n",
    "plt.figure(figsize=(8, 6))\n",
    "plt.scatter(x, y, color='blue', label='Data points')\n",
    "plt.plot(x, y_pred, color='red', label='Regression Line')\n",
    "plt.title(f'Scatter Plot of x vs y with Linear Regression Line \\n{param}')\n",
    "plt.xlabel(' Percentage Error')\n",
    "plt.ylabel(' Function Value')\n",
    "plt.grid()\n",
    "plt.legend()\n",
    "plt.show()\n",
    "\n",
    "# Calculate R^2 and MSE\n",
    "r_squared = r2_score(y, y_pred)\n",
    "msd = mean_squared_error(y, y_pred)\n",
    "\n",
    "# Display the equation of the line\n",
    "equation = f\"y = {slope:.4f}x + {intercept:.4f}\"\n",
    "r_squared, msd, equation\n"
   ]
  },
  {
   "cell_type": "code",
   "execution_count": 117,
   "metadata": {},
   "outputs": [
    {
     "data": {
      "text/plain": [
       "1.0"
      ]
     },
     "execution_count": 117,
     "metadata": {},
     "output_type": "execute_result"
    }
   ],
   "source": [
    "### Results \n",
    "\n",
    "1. "
   ]
  }
 ],
 "metadata": {
  "kernelspec": {
   "display_name": "base",
   "language": "python",
   "name": "python3"
  },
  "language_info": {
   "codemirror_mode": {
    "name": "ipython",
    "version": 3
   },
   "file_extension": ".py",
   "mimetype": "text/x-python",
   "name": "python",
   "nbconvert_exporter": "python",
   "pygments_lexer": "ipython3",
   "version": "3.12.2"
  }
 },
 "nbformat": 4,
 "nbformat_minor": 2
}

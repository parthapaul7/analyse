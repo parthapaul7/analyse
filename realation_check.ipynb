{
 "cells": [
  {
   "cell_type": "code",
   "execution_count": 2,
   "metadata": {},
   "outputs": [],
   "source": [
    "import pandas as pd\n",
    "import numpy as np"
   ]
  },
  {
   "cell_type": "markdown",
   "metadata": {},
   "source": [
    "### Loading the feature functions from CSV and trimming"
   ]
  },
  {
   "cell_type": "code",
   "execution_count": 4,
   "metadata": {},
   "outputs": [
    {
     "data": {
      "text/plain": [
       "array(['LiH', 'NaH', 'KH', 'RbH', 'CsH', 'CsCl', 'LiCl'], dtype=object)"
      ]
     },
     "execution_count": 4,
     "metadata": {},
     "output_type": "execute_result"
    }
   ],
   "source": [
    "df = pd.read_csv(\"ff_ionic.csv\")\n",
    "\n",
    "# Save to a CSV file\n",
    "molecules = df['Mol'].values\n",
    "\n",
    "\n",
    "molecules = molecules[:-5]\n",
    "molecules"
   ]
  },
  {
   "cell_type": "code",
   "execution_count": 5,
   "metadata": {},
   "outputs": [
    {
     "data": {
      "text/html": [
       "<div>\n",
       "<style scoped>\n",
       "    .dataframe tbody tr th:only-of-type {\n",
       "        vertical-align: middle;\n",
       "    }\n",
       "\n",
       "    .dataframe tbody tr th {\n",
       "        vertical-align: top;\n",
       "    }\n",
       "\n",
       "    .dataframe thead th {\n",
       "        text-align: right;\n",
       "    }\n",
       "</style>\n",
       "<table border=\"1\" class=\"dataframe\">\n",
       "  <thead>\n",
       "    <tr style=\"text-align: right;\">\n",
       "      <th></th>\n",
       "      <th>Mol</th>\n",
       "      <th>Pol_C</th>\n",
       "      <th>Pol_A</th>\n",
       "      <th>RadV_C</th>\n",
       "      <th>RadV_A</th>\n",
       "      <th>CN_C</th>\n",
       "      <th>Ion_C</th>\n",
       "      <th>Ion_A</th>\n",
       "      <th>Sum_rad</th>\n",
       "      <th>Diff_rad</th>\n",
       "    </tr>\n",
       "  </thead>\n",
       "  <tbody>\n",
       "    <tr>\n",
       "      <th>0</th>\n",
       "      <td>LiH</td>\n",
       "      <td>164.1</td>\n",
       "      <td>4.51</td>\n",
       "      <td>60</td>\n",
       "      <td>150.00</td>\n",
       "      <td>6</td>\n",
       "      <td>5.392</td>\n",
       "      <td>13.590</td>\n",
       "      <td>210.00</td>\n",
       "      <td>-90.00</td>\n",
       "    </tr>\n",
       "    <tr>\n",
       "      <th>1</th>\n",
       "      <td>NaH</td>\n",
       "      <td>162.7</td>\n",
       "      <td>4.51</td>\n",
       "      <td>95</td>\n",
       "      <td>150.00</td>\n",
       "      <td>6</td>\n",
       "      <td>5.139</td>\n",
       "      <td>13.590</td>\n",
       "      <td>245.00</td>\n",
       "      <td>-55.00</td>\n",
       "    </tr>\n",
       "    <tr>\n",
       "      <th>2</th>\n",
       "      <td>KH</td>\n",
       "      <td>289.7</td>\n",
       "      <td>4.51</td>\n",
       "      <td>133</td>\n",
       "      <td>150.00</td>\n",
       "      <td>6</td>\n",
       "      <td>4.341</td>\n",
       "      <td>13.590</td>\n",
       "      <td>283.00</td>\n",
       "      <td>-17.00</td>\n",
       "    </tr>\n",
       "    <tr>\n",
       "      <th>3</th>\n",
       "      <td>RbH</td>\n",
       "      <td>400.9</td>\n",
       "      <td>4.51</td>\n",
       "      <td>148</td>\n",
       "      <td>150.00</td>\n",
       "      <td>6</td>\n",
       "      <td>4.177</td>\n",
       "      <td>13.590</td>\n",
       "      <td>298.00</td>\n",
       "      <td>-2.00</td>\n",
       "    </tr>\n",
       "    <tr>\n",
       "      <th>4</th>\n",
       "      <td>CsH</td>\n",
       "      <td>46.5</td>\n",
       "      <td>4.51</td>\n",
       "      <td>190</td>\n",
       "      <td>150.00</td>\n",
       "      <td>6</td>\n",
       "      <td>3.849</td>\n",
       "      <td>13.590</td>\n",
       "      <td>340.00</td>\n",
       "      <td>40.00</td>\n",
       "    </tr>\n",
       "    <tr>\n",
       "      <th>5</th>\n",
       "      <td>CsCl</td>\n",
       "      <td>46.5</td>\n",
       "      <td>0.56</td>\n",
       "      <td>190</td>\n",
       "      <td>1.81</td>\n",
       "      <td>6</td>\n",
       "      <td>3.849</td>\n",
       "      <td>17.423</td>\n",
       "      <td>191.81</td>\n",
       "      <td>188.19</td>\n",
       "    </tr>\n",
       "    <tr>\n",
       "      <th>6</th>\n",
       "      <td>LiCl</td>\n",
       "      <td>164.1</td>\n",
       "      <td>0.56</td>\n",
       "      <td>145</td>\n",
       "      <td>1.81</td>\n",
       "      <td>6</td>\n",
       "      <td>5.392</td>\n",
       "      <td>17.423</td>\n",
       "      <td>146.81</td>\n",
       "      <td>143.19</td>\n",
       "    </tr>\n",
       "    <tr>\n",
       "      <th>7</th>\n",
       "      <td>CuI</td>\n",
       "      <td>46.5</td>\n",
       "      <td>6.35</td>\n",
       "      <td>91</td>\n",
       "      <td>2.16</td>\n",
       "      <td>4</td>\n",
       "      <td>7.726</td>\n",
       "      <td>10.451</td>\n",
       "      <td>93.16</td>\n",
       "      <td>88.84</td>\n",
       "    </tr>\n",
       "  </tbody>\n",
       "</table>\n",
       "</div>"
      ],
      "text/plain": [
       "    Mol  Pol_C  Pol_A  RadV_C  RadV_A  CN_C  Ion_C   Ion_A  Sum_rad  Diff_rad\n",
       "0   LiH  164.1   4.51      60  150.00     6  5.392  13.590   210.00    -90.00\n",
       "1   NaH  162.7   4.51      95  150.00     6  5.139  13.590   245.00    -55.00\n",
       "2    KH  289.7   4.51     133  150.00     6  4.341  13.590   283.00    -17.00\n",
       "3   RbH  400.9   4.51     148  150.00     6  4.177  13.590   298.00     -2.00\n",
       "4   CsH   46.5   4.51     190  150.00     6  3.849  13.590   340.00     40.00\n",
       "5  CsCl   46.5   0.56     190    1.81     6  3.849  17.423   191.81    188.19\n",
       "6  LiCl  164.1   0.56     145    1.81     6  5.392  17.423   146.81    143.19\n",
       "7   CuI   46.5   6.35      91    2.16     4  7.726  10.451    93.16     88.84"
      ]
     },
     "execution_count": 5,
     "metadata": {},
     "output_type": "execute_result"
    }
   ],
   "source": [
    "df = df.iloc[:8,0:8]\n",
    "\n",
    "df['Sum_rad'] = df['RadV_C'] + df['RadV_A']\n",
    "df['Diff_rad'] = df['RadV_C'] - df['RadV_A']\n",
    "# df['Sum_pol'] = df['Pol_C'] + df['Pol_A']\n",
    "# df['sum_ion'] = df['Ion_C'] + df['Ion_A']\n",
    "# df['diff_ion'] = df['Ion_C'] - df['Ion_A']\n",
    "df"
   ]
  },
  {
   "cell_type": "markdown",
   "metadata": {},
   "source": [
    "### making the combinations"
   ]
  },
  {
   "cell_type": "code",
   "execution_count": 6,
   "metadata": {},
   "outputs": [],
   "source": [
    "## Generating all the cominations of the parameters\n",
    "\n",
    "import itertools\n",
    "import numpy as np\n",
    "import pandas as pd\n",
    "\n",
    "def generate_combinations_df(params_df, param_names):\n",
    "    results = []\n",
    "\n",
    "    # Convert all parameter values to numeric, coercing errors to NaN\n",
    "    params_df = params_df.apply(pd.to_numeric, errors='coerce')\n",
    "\n",
    "    # Precompute inverses of all parameters\n",
    "    # Convert to float to handle integer to negative power issue\n",
    "    params_inv_df = params_df.applymap(lambda x: np.power(float(x), -1) if pd.notnull(x) and x != 0 else np.nan)\n",
    "    params_inv_df.columns = [f\"{name}^(-1)\" for name in param_names]\n",
    "\n",
    "    # Combine original parameters and their inverses\n",
    "    combined_params_df = pd.concat([params_df, params_inv_df], axis=1)\n",
    "    combined_param_names = list(combined_params_df.columns)\n",
    "\n",
    "    # Generate all subsets of parameters (combinations)\n",
    "    for r in range(1, len(combined_param_names) + 1):\n",
    "        for subset_indices in itertools.combinations(range(len(combined_param_names)), r):\n",
    "\n",
    "            subset_names = [combined_param_names[i] for i in subset_indices]\n",
    "            subset = combined_params_df[subset_names]\n",
    "\n",
    "            # Replace NaN values with 0\n",
    "            subset = subset.fillna(0)\n",
    "\n",
    "            # Check if both a parameter and its inverse are in the subset\n",
    "            invalid = False\n",
    "            for name in subset_names:\n",
    "                if name.endswith(\"^(-1)\") and name[:-5] in subset_names:\n",
    "                    invalid = True\n",
    "                    break\n",
    "                elif name in param_names and f\"{name}^(-1)\" in subset_names:\n",
    "                    invalid = True\n",
    "                    break\n",
    "\n",
    "            if invalid:\n",
    "                continue\n",
    "\n",
    "            # Compute results for valid subsets\n",
    "            expr_str = \" * \".join(subset_names)\n",
    "            expr_val = subset.prod(axis=1)\n",
    "            results.append((expr_str, expr_val))\n",
    "\n",
    "    return results"
   ]
  },
  {
   "cell_type": "code",
   "execution_count": 8,
   "metadata": {},
   "outputs": [
    {
     "name": "stdout",
     "output_type": "stream",
     "text": [
      "Calculating expressions...\n"
     ]
    },
    {
     "name": "stderr",
     "output_type": "stream",
     "text": [
      "C:\\Users\\user\\AppData\\Local\\Temp\\ipykernel_6232\\1172358489.py:15: FutureWarning: DataFrame.applymap has been deprecated. Use DataFrame.map instead.\n",
      "  params_inv_df = params_df.applymap(lambda x: np.power(float(x), -1) if pd.notnull(x) and x != 0 else np.nan)\n"
     ]
    },
    {
     "name": "stdout",
     "output_type": "stream",
     "text": [
      "Expressions cached.\n",
      "(19682, 2)\n"
     ]
    }
   ],
   "source": [
    "\n",
    "import os\n",
    "import pandas as pd\n",
    "\n",
    "takeSaved = False\n",
    "\n",
    "all_expressions = []\n",
    "expressions = []\n",
    "# Define file name to save/load the results\n",
    "cache_file = \"cached_expressions.pkl\"\n",
    "\n",
    "if os.path.exists(cache_file) and takeSaved:\n",
    "    # Load the cached results if they exist\n",
    "    expressions = pd.read_pickle(cache_file)\n",
    "    all_expressions = list(expressions.itertuples(index=False, name=None))\n",
    "    print(\"Loaded cached expressions.\")\n",
    "else:\n",
    "    # Perform the costly computation if cache does not exist\n",
    "    print(\"Calculating expressions...\")\n",
    "    param_names = list(df.iloc[:,1:].columns)\n",
    "    all_expressions = generate_combinations_df(df.iloc[:, 1:], param_names)\n",
    "    expressions = pd.DataFrame(all_expressions, columns=['Expression', 'Value'])\n",
    "\n",
    "    # Save the results to cache\n",
    "    expressions.to_pickle(cache_file)\n",
    "    print(\"Expressions cached.\")\n",
    "\n",
    "# Print the shape of the expressions DataFrame\n",
    "print(expressions.shape)\n"
   ]
  },
  {
   "cell_type": "code",
   "execution_count": 9,
   "metadata": {},
   "outputs": [
    {
     "data": {
      "text/html": [
       "<div>\n",
       "<style scoped>\n",
       "    .dataframe tbody tr th:only-of-type {\n",
       "        vertical-align: middle;\n",
       "    }\n",
       "\n",
       "    .dataframe tbody tr th {\n",
       "        vertical-align: top;\n",
       "    }\n",
       "\n",
       "    .dataframe thead th {\n",
       "        text-align: right;\n",
       "    }\n",
       "</style>\n",
       "<table border=\"1\" class=\"dataframe\">\n",
       "  <thead>\n",
       "    <tr style=\"text-align: right;\">\n",
       "      <th></th>\n",
       "      <th>Expression</th>\n",
       "      <th>Value</th>\n",
       "    </tr>\n",
       "  </thead>\n",
       "  <tbody>\n",
       "    <tr>\n",
       "      <th>0</th>\n",
       "      <td>Pol_C</td>\n",
       "      <td>0    164.1\n",
       "1    162.7\n",
       "2    289.7\n",
       "3    400.9\n",
       "4 ...</td>\n",
       "    </tr>\n",
       "    <tr>\n",
       "      <th>1</th>\n",
       "      <td>Pol_A</td>\n",
       "      <td>0    4.51\n",
       "1    4.51\n",
       "2    4.51\n",
       "3    4.51\n",
       "4    4...</td>\n",
       "    </tr>\n",
       "    <tr>\n",
       "      <th>2</th>\n",
       "      <td>RadV_C</td>\n",
       "      <td>0     60\n",
       "1     95\n",
       "2    133\n",
       "3    148\n",
       "4    190\n",
       "5...</td>\n",
       "    </tr>\n",
       "    <tr>\n",
       "      <th>3</th>\n",
       "      <td>RadV_A</td>\n",
       "      <td>0    150.00\n",
       "1    150.00\n",
       "2    150.00\n",
       "3    150.0...</td>\n",
       "    </tr>\n",
       "    <tr>\n",
       "      <th>4</th>\n",
       "      <td>CN_C</td>\n",
       "      <td>0    6\n",
       "1    6\n",
       "2    6\n",
       "3    6\n",
       "4    6\n",
       "5    6\n",
       "6   ...</td>\n",
       "    </tr>\n",
       "  </tbody>\n",
       "</table>\n",
       "</div>"
      ],
      "text/plain": [
       "  Expression                                              Value\n",
       "0      Pol_C  0    164.1\n",
       "1    162.7\n",
       "2    289.7\n",
       "3    400.9\n",
       "4 ...\n",
       "1      Pol_A  0    4.51\n",
       "1    4.51\n",
       "2    4.51\n",
       "3    4.51\n",
       "4    4...\n",
       "2     RadV_C  0     60\n",
       "1     95\n",
       "2    133\n",
       "3    148\n",
       "4    190\n",
       "5...\n",
       "3     RadV_A  0    150.00\n",
       "1    150.00\n",
       "2    150.00\n",
       "3    150.0...\n",
       "4       CN_C  0    6\n",
       "1    6\n",
       "2    6\n",
       "3    6\n",
       "4    6\n",
       "5    6\n",
       "6   ..."
      ]
     },
     "execution_count": 9,
     "metadata": {},
     "output_type": "execute_result"
    }
   ],
   "source": [
    "expressions.head()"
   ]
  },
  {
   "cell_type": "markdown",
   "metadata": {},
   "source": [
    "### Addition results to the combinations"
   ]
  },
  {
   "cell_type": "code",
   "execution_count": 10,
   "metadata": {},
   "outputs": [
    {
     "data": {
      "text/plain": [
       "[14.137466826376718,\n",
       " 14.087159279098158,\n",
       " 14.02702180402777,\n",
       " 12.930918115689444,\n",
       " 12.275605094480198,\n",
       " 3.2325958680570794,\n",
       " 5.11791434948661,\n",
       " 3.5739198265668453]"
      ]
     },
     "execution_count": 10,
     "metadata": {},
     "output_type": "execute_result"
    }
   ],
   "source": [
    "%store -r res\n",
    "res"
   ]
  },
  {
   "cell_type": "code",
   "execution_count": 11,
   "metadata": {},
   "outputs": [],
   "source": [
    "values_dict = {expr_str: expr_val for expr_str, expr_val in all_expressions}\n",
    "values = pd.DataFrame(values_dict)\n",
    "values['res'] = res"
   ]
  },
  {
   "cell_type": "markdown",
   "metadata": {},
   "source": [
    "### Finding Corelation"
   ]
  },
  {
   "cell_type": "code",
   "execution_count": 13,
   "metadata": {},
   "outputs": [
    {
     "data": {
      "text/plain": [
       "(19683, 19683)"
      ]
     },
     "execution_count": 13,
     "metadata": {},
     "output_type": "execute_result"
    }
   ],
   "source": [
    "\n",
    "correlation = values.corr()\n",
    "\n",
    "correlation.shape"
   ]
  },
  {
   "cell_type": "code",
   "execution_count": 17,
   "metadata": {},
   "outputs": [
    {
     "name": "stdout",
     "output_type": "stream",
     "text": [
      "res                                                                                     1.000000\n",
      "RadV_C * Ion_C * Sum_rad * RadV_A^(-1) * CN_C^(-1) * Ion_A^(-1)                         0.993051\n",
      "Ion_C * Sum_rad * Diff_rad * RadV_A^(-1) * CN_C^(-1) * Ion_A^(-1)                       0.992937\n",
      "Sum_rad * Diff_rad * RadV_C^(-1) * RadV_A^(-1) * CN_C^(-1) * Ion_A^(-1)                 0.992305\n",
      "RadV_C * Ion_C * Diff_rad * RadV_A^(-1) * CN_C^(-1) * Ion_A^(-1)                        0.992255\n",
      "Diff_rad * RadV_A^(-1) * CN_C^(-1) * Ion_A^(-1)                                         0.991489\n",
      "RadV_C * Diff_rad * RadV_A^(-1) * CN_C^(-1) * Ion_A^(-1) * Sum_rad^(-1)                 0.991230\n",
      "RadV_C * RadV_A^(-1) * CN_C^(-1) * Ion_A^(-1)                                           0.991166\n",
      "Sum_rad * RadV_A^(-1) * CN_C^(-1) * Ion_A^(-1)                                          0.990763\n",
      "RadV_A * CN_C * Ion_A * Ion_C^(-1) * Sum_rad^(-1)                                       0.989806\n",
      "RadV_A * Ion_A * Ion_C^(-1) * Sum_rad^(-1)                                              0.989685\n",
      "RadV_A * Pol_A^(-1) * CN_C^(-1) * Ion_C^(-1) * Ion_A^(-1) * Sum_rad^(-1)                0.989664\n",
      "RadV_A * CN_C * Ion_C^(-1) * Sum_rad^(-1)                                               0.989641\n",
      "RadV_A * Pol_A^(-1) * Ion_C^(-1) * Ion_A^(-1) * Sum_rad^(-1)                            0.989499\n",
      "RadV_A * Ion_A * CN_C^(-1) * Ion_C^(-1) * Sum_rad^(-1)                                  0.989476\n",
      "RadV_A * Ion_C^(-1) * Sum_rad^(-1)                                                      0.989454\n",
      "RadV_A * CN_C * Ion_C^(-1) * Ion_A^(-1) * Sum_rad^(-1)                                  0.989444\n",
      "RadV_A * CN_C * Pol_A^(-1) * Ion_C^(-1) * Ion_A^(-1) * Sum_rad^(-1)                     0.989361\n",
      "CN_C * Diff_rad * RadV_C^(-1) * RadV_A^(-1) * Ion_C^(-1) * Ion_A^(-1) * Sum_rad^(-1)    0.989278\n",
      "Pol_A * RadV_A * CN_C * Ion_A * Ion_C^(-1) * Sum_rad^(-1)                               0.989265\n",
      "Name: res, dtype: float64\n"
     ]
    }
   ],
   "source": [
    "results=correlation['res'].abs().sort_values(ascending=False)\n",
    "print(results.iloc[0:20])\n",
    "top_vars = results.iloc[1:20].index"
   ]
  },
  {
   "cell_type": "markdown",
   "metadata": {},
   "source": [
    "### Final Results"
   ]
  },
  {
   "cell_type": "code",
   "execution_count": 15,
   "metadata": {},
   "outputs": [
    {
     "name": "stdout",
     "output_type": "stream",
     "text": [
      "res                                                                                     1.000000\n",
      "RadV_C * Ion_C * Sum_rad * RadV_A^(-1) * CN_C^(-1) * Ion_A^(-1)                         0.993051\n",
      "Ion_C * Sum_rad * Diff_rad * RadV_A^(-1) * CN_C^(-1) * Ion_A^(-1)                       0.992937\n",
      "Sum_rad * Diff_rad * RadV_C^(-1) * RadV_A^(-1) * CN_C^(-1) * Ion_A^(-1)                 0.992305\n",
      "RadV_C * Ion_C * Diff_rad * RadV_A^(-1) * CN_C^(-1) * Ion_A^(-1)                        0.992255\n",
      "Diff_rad * RadV_A^(-1) * CN_C^(-1) * Ion_A^(-1)                                         0.991489\n",
      "RadV_C * Diff_rad * RadV_A^(-1) * CN_C^(-1) * Ion_A^(-1) * Sum_rad^(-1)                 0.991230\n",
      "RadV_C * RadV_A^(-1) * CN_C^(-1) * Ion_A^(-1)                                           0.991166\n",
      "Sum_rad * RadV_A^(-1) * CN_C^(-1) * Ion_A^(-1)                                          0.990763\n",
      "RadV_A * CN_C * Ion_A * Ion_C^(-1) * Sum_rad^(-1)                                       0.989806\n",
      "RadV_A * Ion_A * Ion_C^(-1) * Sum_rad^(-1)                                              0.989685\n",
      "RadV_A * Pol_A^(-1) * CN_C^(-1) * Ion_C^(-1) * Ion_A^(-1) * Sum_rad^(-1)                0.989664\n",
      "RadV_A * CN_C * Ion_C^(-1) * Sum_rad^(-1)                                               0.989641\n",
      "RadV_A * Pol_A^(-1) * Ion_C^(-1) * Ion_A^(-1) * Sum_rad^(-1)                            0.989499\n",
      "RadV_A * Ion_A * CN_C^(-1) * Ion_C^(-1) * Sum_rad^(-1)                                  0.989476\n",
      "RadV_A * Ion_C^(-1) * Sum_rad^(-1)                                                      0.989454\n",
      "RadV_A * CN_C * Ion_C^(-1) * Ion_A^(-1) * Sum_rad^(-1)                                  0.989444\n",
      "RadV_A * CN_C * Pol_A^(-1) * Ion_C^(-1) * Ion_A^(-1) * Sum_rad^(-1)                     0.989361\n",
      "CN_C * Diff_rad * RadV_C^(-1) * RadV_A^(-1) * Ion_C^(-1) * Ion_A^(-1) * Sum_rad^(-1)    0.989278\n",
      "Pol_A * RadV_A * CN_C * Ion_A * Ion_C^(-1) * Sum_rad^(-1)                               0.989265\n",
      "Name: res, dtype: float64\n"
     ]
    }
   ],
   "source": [
    "results=correlation['res'].abs().sort_values(ascending=False)\n",
    "print(results.iloc[0:20])\n",
    "top_vars = results.iloc[1:20].index\n"
   ]
  },
  {
   "cell_type": "code",
   "execution_count": 27,
   "metadata": {},
   "outputs": [
    {
     "data": {
      "image/png": "[encoded data removed]",
      "text/plain": [
       "<Figure size 640x480 with 1 Axes>"
      ]
     },
     "metadata": {},
     "output_type": "display_data"
    },
    {
     "name": "stdout",
     "output_type": "stream",
     "text": [
      "1.0\n"
     ]
    }
   ],
   "source": [
    "import matplotlib.pyplot as plt\n",
    "\n",
    "plt.scatter(results['res'],results[top_vars[3]])\n",
    "plt.plot(results['res'],results[top_vars[0]])\n",
    "plt.show()\n",
    "\n",
    "values[top_vars[0]]\n",
    "\n",
    "\n",
    "# param = df['Cat_EN']*df['Ani_EN']*df['Rad_C']*df['CN']*df['Ion_C']*df['Ion_A']\n",
    "\n",
    "\n",
    "\n",
    "# y = list(values[top_vars[0]])[:4]+list(values[top_vars[0]])[5:]\n",
    "# x = list(values['res'])[:4]+list(values['res'])[5:]\n",
    "\n",
    "# plt.scatter(x,y)\n",
    "# x\n",
    "\n",
    "print(results['res'])"
   ]
  },
  {
   "cell_type": "code",
   "execution_count": 32,
   "metadata": {},
   "outputs": [
    {
     "data": {
      "image/png": "[encoded data removed]",
      "text/plain": [
       "<Figure size 800x600 with 1 Axes>"
      ]
     },
     "metadata": {},
     "output_type": "display_data"
    },
    {
     "data": {
      "text/plain": [
       "(0.9830511770358115, 0.0033934143303224772, 'y = -0.0949x + 1.2827')"
      ]
     },
     "execution_count": 32,
     "metadata": {},
     "output_type": "execute_result"
    }
   ],
   "source": [
    "param = top_vars[4]\n",
    "\n",
    "y = values[param]\n",
    "x = values['res']\n",
    "\n",
    "import matplotlib.pyplot as plt\n",
    "from sklearn.linear_model import LinearRegression\n",
    "from sklearn.metrics import mean_squared_error, r2_score\n",
    "\n",
    "# Assuming x and y are Pandas Series\n",
    "# Reshape x to a 2D array\n",
    "x_reshaped = x.values.reshape(-1, 1)  # Convert x to a 2D array (n, 1)\n",
    "\n",
    "# Create and fit the linear regression model\n",
    "model = LinearRegression()\n",
    "model.fit(x_reshaped, y)\n",
    "\n",
    "# Get the slope (coefficient) and intercept\n",
    "slope = model.coef_[0]  # model.coef_ gives the slope of the line\n",
    "intercept = model.intercept_  # model.intercept_ gives the intercept\n",
    "\n",
    "# Predict y values using the linear model\n",
    "y_pred = model.predict(x_reshaped)\n",
    "\n",
    "# Plot the data points and the regression line\n",
    "plt.figure(figsize=(8, 6))\n",
    "plt.scatter(x, y, color='blue', label='Data points')\n",
    "plt.plot(x, y_pred, color='red', label='Regression Line')\n",
    "plt.title(f'Scatter Plot of x vs y with Linear Regression Line \\n{param}')\n",
    "plt.xlabel(' Percentage Error')\n",
    "plt.ylabel(' Function Value')\n",
    "plt.grid()\n",
    "plt.legend()\n",
    "plt.show()\n",
    "\n",
    "# Calculate R^2 and MSE\n",
    "r_squared = r2_score(y, y_pred)\n",
    "msd = mean_squared_error(y, y_pred)\n",
    "\n",
    "# Display the equation of the line\n",
    "equation = f\"y = {slope:.4f}x + {intercept:.4f}\"\n",
    "r_squared, msd, equation\n"
   ]
  }
 ],
 "metadata": {
  "kernelspec": {
   "display_name": "base",
   "language": "python",
   "name": "python3"
  },
  "language_info": {
   "codemirror_mode": {
    "name": "ipython",
    "version": 3
   },
   "file_extension": ".py",
   "mimetype": "text/x-python",
   "name": "python",
   "nbconvert_exporter": "python",
   "pygments_lexer": "ipython3",
   "version": "3.12.3"
  }
 },
 "nbformat": 4,
 "nbformat_minor": 2
}

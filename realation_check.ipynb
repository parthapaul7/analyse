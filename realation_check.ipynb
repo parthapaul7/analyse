{
 "cells": [
  {
   "cell_type": "code",
   "execution_count": 23,
   "metadata": {},
   "outputs": [],
   "source": [
    "import pandas as pd\n",
    "import numpy as np"
   ]
  },
  {
   "cell_type": "markdown",
   "metadata": {},
   "source": [
    "### Loading the feature functions from CSV and trimming"
   ]
  },
  {
   "cell_type": "code",
   "execution_count": 24,
   "metadata": {},
   "outputs": [
    {
     "data": {
      "text/plain": [
       "array(['LiH', 'NaH', 'KH', 'RbH', 'CsH', 'CsCl', 'LiCl', 'CuI', 'LiF'],\n",
       "      dtype=object)"
      ]
     },
     "execution_count": 24,
     "metadata": {},
     "output_type": "execute_result"
    }
   ],
   "source": [
    "df = pd.read_csv(\"features/ff_all.csv\")\n",
    "\n",
    "# Save to a CSV file\n",
    "molecules = df['Mol'].values\n",
    "\n",
    "\n",
    "molecules = molecules\n",
    "molecules"
   ]
  },
  {
   "cell_type": "markdown",
   "metadata": {},
   "source": [
    "### Size Modification and adding parameters to Data Frame"
   ]
  },
  {
   "cell_type": "code",
   "execution_count": 25,
   "metadata": {},
   "outputs": [
    {
     "data": {
      "text/html": [
       "<div>\n",
       "<style scoped>\n",
       "    .dataframe tbody tr th:only-of-type {\n",
       "        vertical-align: middle;\n",
       "    }\n",
       "\n",
       "    .dataframe tbody tr th {\n",
       "        vertical-align: top;\n",
       "    }\n",
       "\n",
       "    .dataframe thead th {\n",
       "        text-align: right;\n",
       "    }\n",
       "</style>\n",
       "<table border=\"1\" class=\"dataframe\">\n",
       "  <thead>\n",
       "    <tr style=\"text-align: right;\">\n",
       "      <th></th>\n",
       "      <th>Mol</th>\n",
       "      <th>Pol_C</th>\n",
       "      <th>Pol_A</th>\n",
       "      <th>RadV_C</th>\n",
       "      <th>RadV_A</th>\n",
       "      <th>CN_C</th>\n",
       "      <th>CN_A</th>\n",
       "      <th>Ion_C</th>\n",
       "      <th>Ion_A</th>\n",
       "      <th>EA_C</th>\n",
       "      <th>EA_A</th>\n",
       "      <th>EN_C</th>\n",
       "      <th>EN_A</th>\n",
       "      <th>RadI_A</th>\n",
       "      <th>RadI_C</th>\n",
       "    </tr>\n",
       "  </thead>\n",
       "  <tbody>\n",
       "    <tr>\n",
       "      <th>0</th>\n",
       "      <td>LiH</td>\n",
       "      <td>164.1</td>\n",
       "      <td>4.51</td>\n",
       "      <td>182</td>\n",
       "      <td>120</td>\n",
       "      <td>6</td>\n",
       "      <td>6</td>\n",
       "      <td>5.392</td>\n",
       "      <td>13.590</td>\n",
       "      <td>0.754</td>\n",
       "      <td>0.618</td>\n",
       "      <td>0.98</td>\n",
       "      <td>2.20</td>\n",
       "      <td>60</td>\n",
       "      <td>150</td>\n",
       "    </tr>\n",
       "    <tr>\n",
       "      <th>1</th>\n",
       "      <td>NaH</td>\n",
       "      <td>162.7</td>\n",
       "      <td>4.51</td>\n",
       "      <td>227</td>\n",
       "      <td>120</td>\n",
       "      <td>6</td>\n",
       "      <td>6</td>\n",
       "      <td>5.139</td>\n",
       "      <td>13.590</td>\n",
       "      <td>0.754</td>\n",
       "      <td>0.548</td>\n",
       "      <td>0.93</td>\n",
       "      <td>2.20</td>\n",
       "      <td>95</td>\n",
       "      <td>150</td>\n",
       "    </tr>\n",
       "    <tr>\n",
       "      <th>2</th>\n",
       "      <td>KH</td>\n",
       "      <td>289.7</td>\n",
       "      <td>4.51</td>\n",
       "      <td>275</td>\n",
       "      <td>120</td>\n",
       "      <td>6</td>\n",
       "      <td>6</td>\n",
       "      <td>4.341</td>\n",
       "      <td>13.590</td>\n",
       "      <td>0.754</td>\n",
       "      <td>0.501</td>\n",
       "      <td>0.82</td>\n",
       "      <td>2.20</td>\n",
       "      <td>133</td>\n",
       "      <td>150</td>\n",
       "    </tr>\n",
       "    <tr>\n",
       "      <th>3</th>\n",
       "      <td>RbH</td>\n",
       "      <td>319.8</td>\n",
       "      <td>4.51</td>\n",
       "      <td>303</td>\n",
       "      <td>120</td>\n",
       "      <td>6</td>\n",
       "      <td>6</td>\n",
       "      <td>4.177</td>\n",
       "      <td>13.590</td>\n",
       "      <td>0.754</td>\n",
       "      <td>0.468</td>\n",
       "      <td>0.82</td>\n",
       "      <td>2.20</td>\n",
       "      <td>148</td>\n",
       "      <td>150</td>\n",
       "    </tr>\n",
       "    <tr>\n",
       "      <th>4</th>\n",
       "      <td>CsH</td>\n",
       "      <td>400.6</td>\n",
       "      <td>4.51</td>\n",
       "      <td>343</td>\n",
       "      <td>120</td>\n",
       "      <td>6</td>\n",
       "      <td>6</td>\n",
       "      <td>3.849</td>\n",
       "      <td>13.590</td>\n",
       "      <td>0.754</td>\n",
       "      <td>0.472</td>\n",
       "      <td>0.79</td>\n",
       "      <td>2.20</td>\n",
       "      <td>169</td>\n",
       "      <td>150</td>\n",
       "    </tr>\n",
       "    <tr>\n",
       "      <th>5</th>\n",
       "      <td>CsCl</td>\n",
       "      <td>400.6</td>\n",
       "      <td>14.60</td>\n",
       "      <td>343</td>\n",
       "      <td>175</td>\n",
       "      <td>8</td>\n",
       "      <td>8</td>\n",
       "      <td>3.849</td>\n",
       "      <td>12.960</td>\n",
       "      <td>3.617</td>\n",
       "      <td>0.472</td>\n",
       "      <td>0.79</td>\n",
       "      <td>3.16</td>\n",
       "      <td>169</td>\n",
       "      <td>181</td>\n",
       "    </tr>\n",
       "    <tr>\n",
       "      <th>6</th>\n",
       "      <td>LiCl</td>\n",
       "      <td>164.1</td>\n",
       "      <td>14.60</td>\n",
       "      <td>120</td>\n",
       "      <td>175</td>\n",
       "      <td>6</td>\n",
       "      <td>6</td>\n",
       "      <td>5.392</td>\n",
       "      <td>12.960</td>\n",
       "      <td>3.617</td>\n",
       "      <td>0.618</td>\n",
       "      <td>2.20</td>\n",
       "      <td>3.16</td>\n",
       "      <td>60</td>\n",
       "      <td>181</td>\n",
       "    </tr>\n",
       "    <tr>\n",
       "      <th>7</th>\n",
       "      <td>CuI</td>\n",
       "      <td>46.5</td>\n",
       "      <td>32.90</td>\n",
       "      <td>140</td>\n",
       "      <td>198</td>\n",
       "      <td>4</td>\n",
       "      <td>4</td>\n",
       "      <td>7.726</td>\n",
       "      <td>10.451</td>\n",
       "      <td>3.059</td>\n",
       "      <td>1.228</td>\n",
       "      <td>1.90</td>\n",
       "      <td>2.66</td>\n",
       "      <td>74</td>\n",
       "      <td>216</td>\n",
       "    </tr>\n",
       "    <tr>\n",
       "      <th>8</th>\n",
       "      <td>LiF</td>\n",
       "      <td>164.1</td>\n",
       "      <td>3.74</td>\n",
       "      <td>120</td>\n",
       "      <td>135</td>\n",
       "      <td>6</td>\n",
       "      <td>6</td>\n",
       "      <td>5.392</td>\n",
       "      <td>17.423</td>\n",
       "      <td>3.339</td>\n",
       "      <td>0.618</td>\n",
       "      <td>2.20</td>\n",
       "      <td>3.98</td>\n",
       "      <td>60</td>\n",
       "      <td>136</td>\n",
       "    </tr>\n",
       "  </tbody>\n",
       "</table>\n",
       "</div>"
      ],
      "text/plain": [
       "    Mol  Pol_C  Pol_A  RadV_C  RadV_A  CN_C  CN_A  Ion_C   Ion_A   EA_C  \\\n",
       "0   LiH  164.1   4.51     182     120     6     6  5.392  13.590  0.754   \n",
       "1   NaH  162.7   4.51     227     120     6     6  5.139  13.590  0.754   \n",
       "2    KH  289.7   4.51     275     120     6     6  4.341  13.590  0.754   \n",
       "3   RbH  319.8   4.51     303     120     6     6  4.177  13.590  0.754   \n",
       "4   CsH  400.6   4.51     343     120     6     6  3.849  13.590  0.754   \n",
       "5  CsCl  400.6  14.60     343     175     8     8  3.849  12.960  3.617   \n",
       "6  LiCl  164.1  14.60     120     175     6     6  5.392  12.960  3.617   \n",
       "7   CuI   46.5  32.90     140     198     4     4  7.726  10.451  3.059   \n",
       "8   LiF  164.1   3.74     120     135     6     6  5.392  17.423  3.339   \n",
       "\n",
       "    EA_A  EN_C  EN_A  RadI_A  RadI_C  \n",
       "0  0.618  0.98  2.20      60     150  \n",
       "1  0.548  0.93  2.20      95     150  \n",
       "2  0.501  0.82  2.20     133     150  \n",
       "3  0.468  0.82  2.20     148     150  \n",
       "4  0.472  0.79  2.20     169     150  \n",
       "5  0.472  0.79  3.16     169     181  \n",
       "6  0.618  2.20  3.16      60     181  \n",
       "7  1.228  1.90  2.66      74     216  \n",
       "8  0.618  2.20  3.98      60     136  "
      ]
     },
     "execution_count": 25,
     "metadata": {},
     "output_type": "execute_result"
    }
   ],
   "source": [
    "df"
   ]
  },
  {
   "cell_type": "code",
   "execution_count": 26,
   "metadata": {},
   "outputs": [
    {
     "data": {
      "text/plain": [
       "Index(['Mol', 'Pol_C', 'Pol_A', 'RadV_C', 'RadV_A', 'CN_C', 'CN_A', 'Ion_C',\n",
       "       'Ion_A', 'EA_C', 'EA_A', 'EN_C', 'EN_A', 'RadI_A', 'RadI_C', 'Sum_EN',\n",
       "       'Diff_EN', 'Sum_ea', 'Diff_ea', 'Abs_diff_ea', 'Sum_ion', 'Diff_ion',\n",
       "       'Abs_diff_ion', 'Sum_rad', 'Diff_rad', 'Abs_diff_rad', 'Sum_ion_rad'],\n",
       "      dtype='object')"
      ]
     },
     "execution_count": 26,
     "metadata": {},
     "output_type": "execute_result"
    }
   ],
   "source": [
    "df = df.iloc[:9,0:]\n",
    "\n",
    "df['Sum_EN'] = df['EN_C'] + df['EN_A']\n",
    "df['Diff_EN'] = df['EN_A'] - df['EN_C']\n",
    "# # df['Diff_rad'] = df['RadV_A'] - df['RadV_C']\n",
    "df['Sum_ea'] = df['EA_C'] + df['EA_A']\n",
    "df['Diff_ea'] = df['EA_C'] - df['EA_A']\n",
    "\n",
    "df['Abs_diff_ea'] = abs(df['EA_C'] - df['EA_A'])\n",
    "\n",
    "df['Sum_ion'] = df['Ion_C'] + df['Ion_A']\n",
    "df['Diff_ion'] = df['Ion_C'] - df['Ion_A']\n",
    "df['Abs_diff_ion'] = abs(df['Ion_C'] - df['Ion_A'])\n",
    "\n",
    "df['Sum_rad'] = df['RadV_C'] + df['RadV_A']\n",
    "df['Diff_rad'] = df['RadV_C'] - df['RadV_A']\n",
    "df['Abs_diff_rad'] = abs(df['RadV_C'] - df['RadV_A'])\n",
    "\n",
    "df['Sum_ion_rad'] =df['RadI_C'] + df['RadI_A']\n",
    "\n",
    "\n",
    "\n",
    "\n",
    "# # Adding sqrt values for each column\n",
    "# for col in df.columns:\n",
    "#     # Make sure the column is numeric before applying sqrt\n",
    "#     if pd.api.types.is_numeric_dtype(df[col]):\n",
    "#         df[f'{col}_sqrt'] = np.sqrt(abs(df[col]))\n",
    "#         df[f'{col}_squared'] = np.square(df[col])\n",
    "\n",
    "\n",
    "\n",
    "# df['sum_ion'] = df['Ion_C'] + df['Ion_A']\n",
    "# # df['diff_ion'] = df['Ion_C'] - df['Ion_A']\n",
    "df.columns"
   ]
  },
  {
   "cell_type": "markdown",
   "metadata": {},
   "source": [
    "### making the combinations"
   ]
  },
  {
   "cell_type": "code",
   "execution_count": 6,
   "metadata": {},
   "outputs": [],
   "source": [
    "import itertools\n",
    "import numpy as np\n",
    "import pandas as pd\n",
    "from multiprocessing import Pool, cpu_count"
   ]
  },
  {
   "cell_type": "code",
   "execution_count": 1,
   "metadata": {},
   "outputs": [],
   "source": [
    "import itertools\n",
    "import numpy as np\n",
    "import pandas as pd\n",
    "\n",
    "def generate_combinations_df(params_df, param_names):\n",
    "    results = []\n",
    "\n",
    "    # Convert all parameter values to numeric, coercing errors to NaN\n",
    "    params_df = params_df.apply(pd.to_numeric, errors='coerce')\n",
    "\n",
    "    # Precompute inverses of all parameters\n",
    "    params_inv_df = params_df.applymap(lambda x: np.power(float(x), -1) if pd.notnull(x) and x != 0 else np.nan)\n",
    "    params_inv_df.columns = [f\"{name}^(-1)\" for name in param_names]\n",
    "\n",
    "    # Combine original parameters and their inverses\n",
    "    combined_params_df = pd.concat([params_df, params_inv_df], axis=1)\n",
    "    combined_param_names = list(combined_params_df.columns)\n",
    "\n",
    "    # Precompute invalid pairs (parameter and its inverse)\n",
    "    invalid_pairs = {f\"{name}^(-1)\": name for name in param_names}\n",
    "    invalid_pairs.update({name: f\"{name}^(-1)\" for name in param_names})\n",
    "\n",
    "    # Generate all subsets of parameters (combinations)\n",
    "    for r in range(1, len(combined_param_names) + 1):\n",
    "        for subset_indices in itertools.combinations(range(len(combined_param_names)), r):\n",
    "\n",
    "            subset_names = [combined_param_names[i] for i in subset_indices]\n",
    "\n",
    "            # Skip invalid subsets early\n",
    "            if any(invalid_pairs.get(name) in subset_names for name in subset_names):\n",
    "                continue\n",
    "\n",
    "            # Select the subset DataFrame\n",
    "            subset = combined_params_df[subset_names]\n",
    "\n",
    "            # Replace NaN values with 0\n",
    "            subset = subset.fillna(0)\n",
    "\n",
    "            # Compute results for valid subsets\n",
    "            expr_str = \" * \".join(subset_names)\n",
    "            expr_val = subset.prod(axis=1)\n",
    "            results.append((expr_str, expr_val))\n",
    "\n",
    "    return results\n"
   ]
  },
  {
   "cell_type": "code",
   "execution_count": 7,
   "metadata": {},
   "outputs": [],
   "source": [
    "import itertools\n",
    "import numpy as np\n",
    "import pandas as pd\n",
    "from multiprocessing import Pool, cpu_count\n",
    "\n",
    "def process_combinations_chunk(args):\n",
    "    combined_params_df, combined_param_names, param_names, indices_chunk = args\n",
    "    results = []\n",
    "\n",
    "    for indices in indices_chunk:\n",
    "        subset_names = [combined_param_names[i] for i in indices]\n",
    "        subset = combined_params_df[subset_names]\n",
    "\n",
    "        # Replace NaN values with 0\n",
    "        subset = subset.fillna(0)\n",
    "\n",
    "        # Check if both a parameter and its inverse are in the subset\n",
    "        invalid = False\n",
    "        for name in subset_names:\n",
    "            if name.endswith(\"^(-1)\") and name[:-5] in subset_names:\n",
    "                invalid = True\n",
    "                break\n",
    "            elif name in param_names and f\"{name}^(-1)\" in subset_names:\n",
    "                invalid = True\n",
    "                break\n",
    "\n",
    "        if not invalid:\n",
    "            # Compute results for valid subsets\n",
    "            expr_str = \" * \".join(subset_names)\n",
    "            expr_val = subset.prod(axis=1)\n",
    "            results.append((expr_str, expr_val))\n",
    "\n",
    "    return results\n",
    "\n",
    "def generate_combinations_df_parallel(params_df, param_names):\n",
    "    # Convert all parameter values to numeric, coercing errors to NaN\n",
    "    params_df = params_df.apply(pd.to_numeric, errors='coerce')\n",
    "\n",
    "    # Precompute inverses of all parameters\n",
    "    params_inv_df = params_df.applymap(lambda x: np.power(float(x), -1) if pd.notnull(x) and x != 0 else np.nan)\n",
    "    params_inv_df.columns = [f\"{name}^(-1)\" for name in param_names]\n",
    "\n",
    "    # Combine original parameters and their inverses\n",
    "    combined_params_df = pd.concat([params_df, params_inv_df], axis=1)\n",
    "    combined_param_names = list(combined_params_df.columns)\n",
    "\n",
    "    # Generate all subsets of parameter indices\n",
    "    all_combinations = [\n",
    "        indices for r in range(1, len(combined_param_names) + 1)\n",
    "        for indices in itertools.combinations(range(len(combined_param_names)), r)\n",
    "    ]\n",
    "\n",
    "    # Divide all_combinations into chunks\n",
    "    num_workers = min(cpu_count(), len(all_combinations))\n",
    "    chunk_size = max(1, len(all_combinations) // num_workers)\n",
    "    chunks = [all_combinations[i:i + chunk_size] for i in range(0, len(all_combinations), chunk_size)]\n",
    "\n",
    "    print(f\"Using {num_workers} workers to process {len(all_combinations)} combinations in {len(chunks)} chunks\")\n",
    "\n",
    "    # Prepare arguments for parallel processing\n",
    "    args = [\n",
    "        (combined_params_df, combined_param_names, param_names, chunk)\n",
    "        for chunk in chunks\n",
    "    ]\n",
    "\n",
    "    # Use multiprocessing to process combinations in parallel\n",
    "    with Pool(processes=num_workers) as pool:\n",
    "        results = pool.map(process_combinations_chunk, args)\n",
    "\n",
    "    # Flatten results\n",
    "    flattened_results = [item for sublist in results for item in sublist]\n",
    "    return flattened_results\n"
   ]
  },
  {
   "cell_type": "code",
   "execution_count": 17,
   "metadata": {},
   "outputs": [
    {
     "name": "stdout",
     "output_type": "stream",
     "text": [
      "Calculating expressions...\n"
     ]
    },
    {
     "name": "stderr",
     "output_type": "stream",
     "text": [
      "C:\\Users\\user\\AppData\\Local\\Temp\\ipykernel_23756\\3972913922.py:12: FutureWarning: DataFrame.applymap has been deprecated. Use DataFrame.map instead.\n",
      "  params_inv_df = params_df.applymap(lambda x: np.power(float(x), -1) if pd.notnull(x) and x != 0 else np.nan)\n"
     ]
    },
    {
     "name": "stdout",
     "output_type": "stream",
     "text": [
      "Expressions cached.\n",
      "(177146, 2)\n"
     ]
    }
   ],
   "source": [
    "\n",
    "import os\n",
    "import pandas as pd\n",
    "\n",
    "takeSaved = False\n",
    "\n",
    "all_expressions = []\n",
    "expressions = []\n",
    "# Define file name to save/load the results\n",
    "cache_file = \"cached_expressions.pkl\"\n",
    "\n",
    "if os.path.exists(cache_file) and takeSaved:\n",
    "    # Load the cached results if they exist\n",
    "    expressions = pd.read_pickle(cache_file)\n",
    "    all_expressions = list(expressions.itertuples(index=False, name=None))\n",
    "    print(\"Loaded cached expressions.\")\n",
    "else:\n",
    "    # Perform the costly computation if cache does not exist\n",
    "    print(\"Calculating expressions...\")\n",
    "    param_names = list(df.iloc[:,1:12].columns)\n",
    "    all_expressions = generate_combinations_df(df.iloc[:, 1:12], param_names)\n",
    "    expressions = pd.DataFrame(all_expressions, columns=['Expression', 'Value'])\n",
    "\n",
    "    # Save the results to cache\n",
    "    expressions.to_pickle(cache_file)\n",
    "    print(\"Expressions cached.\")\n",
    "\n",
    "# Print the shape of the expressions DataFrame\n",
    "print(expressions.shape)\n"
   ]
  },
  {
   "cell_type": "code",
   "execution_count": 18,
   "metadata": {},
   "outputs": [
    {
     "data": {
      "text/html": [
       "<div>\n",
       "<style scoped>\n",
       "    .dataframe tbody tr th:only-of-type {\n",
       "        vertical-align: middle;\n",
       "    }\n",
       "\n",
       "    .dataframe tbody tr th {\n",
       "        vertical-align: top;\n",
       "    }\n",
       "\n",
       "    .dataframe thead th {\n",
       "        text-align: right;\n",
       "    }\n",
       "</style>\n",
       "<table border=\"1\" class=\"dataframe\">\n",
       "  <thead>\n",
       "    <tr style=\"text-align: right;\">\n",
       "      <th></th>\n",
       "      <th>Expression</th>\n",
       "      <th>Value</th>\n",
       "    </tr>\n",
       "  </thead>\n",
       "  <tbody>\n",
       "    <tr>\n",
       "      <th>0</th>\n",
       "      <td>Pol_C</td>\n",
       "      <td>0    164.1\n",
       "1    162.7\n",
       "2    289.7\n",
       "3    319.8\n",
       "4 ...</td>\n",
       "    </tr>\n",
       "    <tr>\n",
       "      <th>1</th>\n",
       "      <td>Pol_A</td>\n",
       "      <td>0     4.51\n",
       "1     4.51\n",
       "2     4.51\n",
       "3     4.51\n",
       "4 ...</td>\n",
       "    </tr>\n",
       "    <tr>\n",
       "      <th>2</th>\n",
       "      <td>RadV_C</td>\n",
       "      <td>0    182\n",
       "1    227\n",
       "2    275\n",
       "3    303\n",
       "4    343\n",
       "5...</td>\n",
       "    </tr>\n",
       "    <tr>\n",
       "      <th>3</th>\n",
       "      <td>RadV_A</td>\n",
       "      <td>0    120\n",
       "1    120\n",
       "2    120\n",
       "3    120\n",
       "4    120\n",
       "5...</td>\n",
       "    </tr>\n",
       "    <tr>\n",
       "      <th>4</th>\n",
       "      <td>CN_C</td>\n",
       "      <td>0    6\n",
       "1    6\n",
       "2    6\n",
       "3    6\n",
       "4    6\n",
       "5    8\n",
       "6   ...</td>\n",
       "    </tr>\n",
       "  </tbody>\n",
       "</table>\n",
       "</div>"
      ],
      "text/plain": [
       "  Expression                                              Value\n",
       "0      Pol_C  0    164.1\n",
       "1    162.7\n",
       "2    289.7\n",
       "3    319.8\n",
       "4 ...\n",
       "1      Pol_A  0     4.51\n",
       "1     4.51\n",
       "2     4.51\n",
       "3     4.51\n",
       "4 ...\n",
       "2     RadV_C  0    182\n",
       "1    227\n",
       "2    275\n",
       "3    303\n",
       "4    343\n",
       "5...\n",
       "3     RadV_A  0    120\n",
       "1    120\n",
       "2    120\n",
       "3    120\n",
       "4    120\n",
       "5...\n",
       "4       CN_C  0    6\n",
       "1    6\n",
       "2    6\n",
       "3    6\n",
       "4    6\n",
       "5    8\n",
       "6   ..."
      ]
     },
     "execution_count": 18,
     "metadata": {},
     "output_type": "execute_result"
    }
   ],
   "source": [
    "expressions.head()"
   ]
  },
  {
   "cell_type": "markdown",
   "metadata": {},
   "source": [
    "### Addition results to the combinations"
   ]
  },
  {
   "cell_type": "code",
   "execution_count": 19,
   "metadata": {},
   "outputs": [
    {
     "data": {
      "text/plain": [
       "[14.137466826376718,\n",
       " 14.087159279098158,\n",
       " 14.02702180402777,\n",
       " 12.930918115689444,\n",
       " 12.275605094480198,\n",
       " 3.2325958680570794,\n",
       " 5.11791434948661,\n",
       " 3.5739198265668453,\n",
       " 4.719651538728355]"
      ]
     },
     "execution_count": 19,
     "metadata": {},
     "output_type": "execute_result"
    }
   ],
   "source": [
    "%store -r res\n",
    "res"
   ]
  },
  {
   "cell_type": "code",
   "execution_count": 20,
   "metadata": {},
   "outputs": [],
   "source": [
    "values_dict = {expr_str: expr_val for expr_str, expr_val in all_expressions}\n",
    "values = pd.DataFrame(values_dict)\n",
    "values['res'] = res"
   ]
  },
  {
   "cell_type": "markdown",
   "metadata": {},
   "source": [
    "### Finding Corelation"
   ]
  },
  {
   "cell_type": "code",
   "execution_count": 21,
   "metadata": {},
   "outputs": [
    {
     "ename": "MemoryError",
     "evalue": "Unable to allocate 234. GiB for an array with shape (177147, 177147) and data type float64",
     "output_type": "error",
     "traceback": [
      "\u001b[1;31m---------------------------------------------------------------------------\u001b[0m",
      "\u001b[1;31mMemoryError\u001b[0m                               Traceback (most recent call last)",
      "Cell \u001b[1;32mIn[21], line 1\u001b[0m\n\u001b[1;32m----> 1\u001b[0m correlation \u001b[38;5;241m=\u001b[39m \u001b[43mvalues\u001b[49m\u001b[38;5;241;43m.\u001b[39;49m\u001b[43mcorr\u001b[49m\u001b[43m(\u001b[49m\u001b[43m)\u001b[49m\n\u001b[0;32m      3\u001b[0m correlation\u001b[38;5;241m.\u001b[39mshape\n",
      "File \u001b[1;32mc:\\Users\\user\\miniconda3\\Lib\\site-packages\\pandas\\core\\frame.py:11052\u001b[0m, in \u001b[0;36mDataFrame.corr\u001b[1;34m(self, method, min_periods, numeric_only)\u001b[0m\n\u001b[0;32m  11049\u001b[0m mat \u001b[38;5;241m=\u001b[39m data\u001b[38;5;241m.\u001b[39mto_numpy(dtype\u001b[38;5;241m=\u001b[39m\u001b[38;5;28mfloat\u001b[39m, na_value\u001b[38;5;241m=\u001b[39mnp\u001b[38;5;241m.\u001b[39mnan, copy\u001b[38;5;241m=\u001b[39m\u001b[38;5;28;01mFalse\u001b[39;00m)\n\u001b[0;32m  11051\u001b[0m \u001b[38;5;28;01mif\u001b[39;00m method \u001b[38;5;241m==\u001b[39m \u001b[38;5;124m\"\u001b[39m\u001b[38;5;124mpearson\u001b[39m\u001b[38;5;124m\"\u001b[39m:\n\u001b[1;32m> 11052\u001b[0m     correl \u001b[38;5;241m=\u001b[39m \u001b[43mlibalgos\u001b[49m\u001b[38;5;241;43m.\u001b[39;49m\u001b[43mnancorr\u001b[49m\u001b[43m(\u001b[49m\u001b[43mmat\u001b[49m\u001b[43m,\u001b[49m\u001b[43m \u001b[49m\u001b[43mminp\u001b[49m\u001b[38;5;241;43m=\u001b[39;49m\u001b[43mmin_periods\u001b[49m\u001b[43m)\u001b[49m\n\u001b[0;32m  11053\u001b[0m \u001b[38;5;28;01melif\u001b[39;00m method \u001b[38;5;241m==\u001b[39m \u001b[38;5;124m\"\u001b[39m\u001b[38;5;124mspearman\u001b[39m\u001b[38;5;124m\"\u001b[39m:\n\u001b[0;32m  11054\u001b[0m     correl \u001b[38;5;241m=\u001b[39m libalgos\u001b[38;5;241m.\u001b[39mnancorr_spearman(mat, minp\u001b[38;5;241m=\u001b[39mmin_periods)\n",
      "File \u001b[1;32malgos.pyx:363\u001b[0m, in \u001b[0;36mpandas._libs.algos.nancorr\u001b[1;34m()\u001b[0m\n",
      "\u001b[1;31mMemoryError\u001b[0m: Unable to allocate 234. GiB for an array with shape (177147, 177147) and data type float64"
     ]
    }
   ],
   "source": [
    "\n",
    "correlation = values.corr()\n",
    "\n",
    "correlation.shape"
   ]
  },
  {
   "cell_type": "code",
   "execution_count": 14,
   "metadata": {},
   "outputs": [
    {
     "name": "stdout",
     "output_type": "stream",
     "text": [
      "res                                                                                            1.000000\n",
      "RadV_A^(-1) * Ion_A^(-1)                                                                       0.962337\n",
      "CN_A * RadV_A^(-1) * CN_C^(-1) * Ion_A^(-1)                                                    0.962337\n",
      "CN_C * RadV_A^(-1) * CN_A^(-1) * Ion_A^(-1)                                                    0.962337\n",
      "RadV_A * CN_A * Ion_A * CN_C^(-1)                                                              0.949182\n",
      "RadV_A * CN_C * Ion_A * CN_A^(-1)                                                              0.949182\n",
      "RadV_A * Ion_A                                                                                 0.949182\n",
      "RadV_C * CN_A * Pol_C^(-1) * Pol_A^(-1) * RadV_A^(-1) * CN_C^(-1) * Ion_C^(-1) * Ion_A^(-1)    0.948614\n",
      "RadV_C * CN_C * Pol_C^(-1) * Pol_A^(-1) * RadV_A^(-1) * CN_A^(-1) * Ion_C^(-1) * Ion_A^(-1)    0.948614\n",
      "RadV_C * Pol_C^(-1) * Pol_A^(-1) * RadV_A^(-1) * Ion_C^(-1) * Ion_A^(-1)                       0.948614\n",
      "RadV_C * Pol_C^(-1) * Pol_A^(-1) * RadV_A^(-1) * CN_A^(-1) * Ion_C^(-1) * Ion_A^(-1)           0.946615\n",
      "RadV_C * Pol_C^(-1) * Pol_A^(-1) * RadV_A^(-1) * CN_C^(-1) * Ion_C^(-1) * Ion_A^(-1)           0.946615\n",
      "RadV_C * CN_C * Pol_C^(-1) * Pol_A^(-1) * RadV_A^(-1) * Ion_C^(-1) * Ion_A^(-1)                0.942278\n",
      "RadV_C * CN_A * Pol_C^(-1) * Pol_A^(-1) * RadV_A^(-1) * Ion_C^(-1) * Ion_A^(-1)                0.942278\n",
      "RadV_C * CN_A * Pol_C^(-1) * Pol_A^(-1) * CN_C^(-1) * Ion_C^(-1) * Ion_A^(-1)                  0.936705\n",
      "RadV_C * CN_C * Pol_C^(-1) * Pol_A^(-1) * CN_A^(-1) * Ion_C^(-1) * Ion_A^(-1)                  0.936705\n",
      "RadV_C * Pol_C^(-1) * Pol_A^(-1) * Ion_C^(-1) * Ion_A^(-1)                                     0.936705\n",
      "RadV_C * Ion_C * Pol_A^(-1) * RadV_A^(-1) * CN_C^(-1) * Ion_A^(-1)                             0.934335\n",
      "RadV_C * Ion_C * Pol_A^(-1) * RadV_A^(-1) * CN_A^(-1) * Ion_A^(-1)                             0.934335\n",
      "RadV_C * Ion_C * Pol_A^(-1) * RadV_A^(-1) * CN_C^(-1) * CN_A^(-1) * Ion_A^(-1)                 0.933676\n",
      "Name: res, dtype: float64\n"
     ]
    }
   ],
   "source": [
    "results=correlation['res'].abs().sort_values(ascending=False)\n",
    "print(results.iloc[0:20])\n",
    "top_vars = results.iloc[1:20].index"
   ]
  },
  {
   "cell_type": "markdown",
   "metadata": {},
   "source": [
    "### Final Results"
   ]
  },
  {
   "cell_type": "code",
   "execution_count": 93,
   "metadata": {},
   "outputs": [
    {
     "name": "stdout",
     "output_type": "stream",
     "text": [
      "res                                                                                          1.000000\n",
      "Pol_C * EN_C * EN_A * CN_C^(-1) * Ion_C^(-1) * Sum_ea^(-1)                                   0.993684\n",
      "Ion_C * Ion_A * EN_C * EN_A * Sum_ea * CN_C^(-1)                                             0.993595\n",
      "CN_C * Ion_C * Ion_A * Sum_ea * Pol_C^(-1) * EN_C^(-1) * EN_A^(-1)                           0.992235\n",
      "CN_C * Ion_C * Sum_ea * Pol_C^(-1) * EN_C^(-1) * EN_A^(-1)                                   0.991912\n",
      "CN_C * Ion_C * EN_C^(-1) * EN_A^(-1)                                                         0.991572\n",
      "Ion_C * EN_C^(-1) * EN_A^(-1)                                                                0.991381\n",
      "Ion_C * Ion_A * Sum_ea * Pol_C^(-1) * EN_C^(-1) * EN_A^(-1)                                  0.991109\n",
      "Ion_C * Ion_A * EN_C^(-1) * EN_A^(-1)                                                        0.991103\n",
      "Ion_C * Ion_A * CN_C^(-1) * EN_C^(-1) * EN_A^(-1)                                            0.990583\n",
      "Pol_C * Ion_C * CN_C^(-1) * EN_C^(-1) * EN_A^(-1) * Sum_ea^(-1)                              0.990534\n",
      "Pol_C * Ion_C * EN_C^(-1) * EN_A^(-1) * Sum_ea^(-1)                                          0.990475\n",
      "CN_C * Ion_C * Sum_ea * Pol_C^(-1) * Pol_A^(-1) * Ion_A^(-1) * EN_C^(-1) * EN_A^(-1)         0.990454\n",
      "Ion_C * Sum_ea * Pol_C^(-1) * Pol_A^(-1) * Ion_A^(-1) * EN_C^(-1) * EN_A^(-1)                0.990403\n",
      "Ion_A * EN_C * Sum_ea * Pol_C^(-1) * CN_C^(-1) * Ion_C^(-1)                                  0.990221\n",
      "CN_C * Ion_C * Ion_A^(-1) * EN_C^(-1) * EN_A^(-1)                                            0.990203\n",
      "CN_C * Ion_C * Ion_A * EN_C^(-1) * EN_A^(-1)                                                 0.990192\n",
      "Ion_C * Sum_ea * Pol_C^(-1) * Pol_A^(-1) * CN_C^(-1) * Ion_A^(-1) * EN_C^(-1) * EN_A^(-1)    0.990096\n",
      "Pol_C * Ion_C * Ion_A * CN_C^(-1) * EN_C^(-1) * EN_A^(-1) * Sum_ea^(-1)                      0.989791\n",
      "Ion_C * Pol_A^(-1) * Ion_A^(-1) * EN_C^(-1) * EN_A^(-1)                                      0.989785\n",
      "Name: res, dtype: float64\n"
     ]
    }
   ],
   "source": [
    "results=correlation['res'].abs().sort_values(ascending=False)\n",
    "print(results.iloc[0:20])\n",
    "top_vars = results.iloc[1:20].index\n"
   ]
  },
  {
   "cell_type": "code",
   "execution_count": 94,
   "metadata": {},
   "outputs": [
    {
     "data": {
      "image/png": "[encoded data removed]",
      "text/plain": [
       "<Figure size 640x480 with 1 Axes>"
      ]
     },
     "metadata": {},
     "output_type": "display_data"
    },
    {
     "name": "stdout",
     "output_type": "stream",
     "text": [
      "1.0\n"
     ]
    }
   ],
   "source": [
    "import matplotlib.pyplot as plt\n",
    "\n",
    "plt.scatter(results['res'],results[top_vars[3]])\n",
    "plt.plot(results['res'],results[top_vars[0]])\n",
    "plt.show()\n",
    "\n",
    "values[top_vars[0]]\n",
    "\n",
    "\n",
    "# param = df['Cat_EN']*df['Ani_EN']*df['Rad_C']*df['CN']*df['Ion_C']*df['Ion_A']\n",
    "\n",
    "\n",
    "\n",
    "# y = list(values[top_vars[0]])[:4]+list(values[top_vars[0]])[5:]\n",
    "# x = list(values['res'])[:4]+list(values['res'])[5:]\n",
    "\n",
    "# plt.scatter(x,y)\n",
    "# x\n",
    "\n",
    "print(results['res'])"
   ]
  },
  {
   "cell_type": "code",
   "execution_count": 98,
   "metadata": {},
   "outputs": [
    {
     "data": {
      "image/png": "[encoded data removed]",
      "text/plain": [
       "<Figure size 800x600 with 1 Axes>"
      ]
     },
     "metadata": {},
     "output_type": "display_data"
    },
    {
     "data": {
      "text/plain": [
       "(0.9845309753043855, 2264.3182086700476, 'y = 80.7823x + -127.5399')"
      ]
     },
     "execution_count": 98,
     "metadata": {},
     "output_type": "execute_result"
    }
   ],
   "source": [
    "param = top_vars[2]\n",
    "\n",
    "y = values[param]\n",
    "x = values['res']\n",
    "\n",
    "import matplotlib.pyplot as plt\n",
    "from sklearn.linear_model import LinearRegression\n",
    "from sklearn.metrics import mean_squared_error, r2_score\n",
    "\n",
    "# Assuming x and y are Pandas Series\n",
    "# Reshape x to a 2D array\n",
    "x_reshaped = x.values.reshape(-1, 1)  # Convert x to a 2D array (n, 1)\n",
    "\n",
    "# Create and fit the linear regression model\n",
    "model = LinearRegression()\n",
    "model.fit(x_reshaped, y)\n",
    "\n",
    "# Get the slope (coefficient) and intercept\n",
    "slope = model.coef_[0]  # model.coef_ gives the slope of the line\n",
    "intercept = model.intercept_  # model.intercept_ gives the intercept\n",
    "\n",
    "# Predict y values using the linear model\n",
    "y_pred = model.predict(x_reshaped)\n",
    "\n",
    "# Plot the data points and the regression line\n",
    "plt.figure(figsize=(8, 6))\n",
    "plt.scatter(x, y, color='blue', label='Data points')\n",
    "plt.plot(x, y_pred, color='red', label='Regression Line')\n",
    "plt.title(f'Scatter Plot of x vs y with Linear Regression Line \\n{param}')\n",
    "plt.xlabel(' Percentage Error')\n",
    "plt.ylabel(' Function Value')\n",
    "plt.grid()\n",
    "plt.legend()\n",
    "plt.show()\n",
    "\n",
    "# Calculate R^2 and MSE\n",
    "r_squared = r2_score(y, y_pred)\n",
    "msd = mean_squared_error(y, y_pred)\n",
    "\n",
    "# Display the equation of the line\n",
    "equation = f\"y = {slope:.4f}x + {intercept:.4f}\"\n",
    "r_squared, msd, equation\n"
   ]
  },
  {
   "cell_type": "code",
   "execution_count": null,
   "metadata": {},
   "outputs": [],
   "source": [
    "### Results \n",
    "\n",
    "1. "
   ]
  }
 ],
 "metadata": {
  "kernelspec": {
   "display_name": "base",
   "language": "python",
   "name": "python3"
  },
  "language_info": {
   "codemirror_mode": {
    "name": "ipython",
    "version": 3
   },
   "file_extension": ".py",
   "mimetype": "text/x-python",
   "name": "python",
   "nbconvert_exporter": "python",
   "pygments_lexer": "ipython3",
   "version": "3.12.3"
  }
 },
 "nbformat": 4,
 "nbformat_minor": 2
}

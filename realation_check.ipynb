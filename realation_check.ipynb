{
 "cells": [
  {
   "cell_type": "code",
<<<<<<< HEAD
   "execution_count": 369,
=======
   "execution_count": 429,
>>>>>>> 2850c510b0caa04e125d9bf035a50854632aec0c
   "metadata": {},
   "outputs": [],
   "source": [
    "import pandas as pd\n",
    "import numpy as np"
   ]
  },
  {
   "cell_type": "markdown",
   "metadata": {},
   "source": [
    "### Loading the feature functions from CSV and trimming"
   ]
  },
  {
   "cell_type": "code",
<<<<<<< HEAD
   "execution_count": 370,
=======
   "execution_count": 430,
>>>>>>> 2850c510b0caa04e125d9bf035a50854632aec0c
   "metadata": {},
   "outputs": [
    {
     "data": {
      "text/plain": [
       "array(['LiH', 'NaH', 'KH', 'RbH', 'CsH', 'CsCl', 'LiCl', 'CuI', 'LiF'],\n",
       "      dtype=object)"
      ]
     },
<<<<<<< HEAD
     "execution_count": 370,
=======
     "execution_count": 430,
>>>>>>> 2850c510b0caa04e125d9bf035a50854632aec0c
     "metadata": {},
     "output_type": "execute_result"
    }
   ],
   "source": [
    "df = pd.read_csv(\"features/ff_pol.csv\")\n",
    "\n",
    "# Save to a CSV file\n",
    "molecules = df['Mol'].values\n",
    "\n",
    "\n",
    "molecules = molecules\n",
    "molecules"
   ]
  },
  {
   "cell_type": "markdown",
   "metadata": {},
   "source": [
    "### Size Modification and adding parameters to Data Frame"
   ]
  },
  {
   "cell_type": "code",
<<<<<<< HEAD
   "execution_count": 371,
=======
   "execution_count": 431,
>>>>>>> 2850c510b0caa04e125d9bf035a50854632aec0c
   "metadata": {},
   "outputs": [
    {
     "data": {
      "text/html": [
       "<div>\n",
       "<style scoped>\n",
       "    .dataframe tbody tr th:only-of-type {\n",
       "        vertical-align: middle;\n",
       "    }\n",
       "\n",
       "    .dataframe tbody tr th {\n",
       "        vertical-align: top;\n",
       "    }\n",
       "\n",
       "    .dataframe thead th {\n",
       "        text-align: right;\n",
       "    }\n",
       "</style>\n",
       "<table border=\"1\" class=\"dataframe\">\n",
       "  <thead>\n",
       "    <tr style=\"text-align: right;\">\n",
       "      <th></th>\n",
       "      <th>Mol</th>\n",
       "      <th>Pol_C</th>\n",
       "      <th>Pol_A</th>\n",
       "      <th>CN_C</th>\n",
       "      <th>Ion_C</th>\n",
       "      <th>Ion_A</th>\n",
       "      <th>EA_A</th>\n",
       "      <th>EN_C</th>\n",
       "      <th>EN_A</th>\n",
       "      <th>EA_C</th>\n",
       "    </tr>\n",
       "  </thead>\n",
       "  <tbody>\n",
       "    <tr>\n",
       "      <th>0</th>\n",
       "      <td>LiH</td>\n",
       "      <td>164.1</td>\n",
       "      <td>4.51</td>\n",
       "      <td>6</td>\n",
       "      <td>5.392</td>\n",
       "      <td>13.590</td>\n",
       "      <td>0.754</td>\n",
       "      <td>0.98</td>\n",
       "      <td>2.20</td>\n",
       "      <td>0.618</td>\n",
       "    </tr>\n",
       "    <tr>\n",
       "      <th>1</th>\n",
       "      <td>NaH</td>\n",
       "      <td>162.7</td>\n",
       "      <td>4.51</td>\n",
       "      <td>6</td>\n",
       "      <td>5.139</td>\n",
       "      <td>13.590</td>\n",
       "      <td>0.754</td>\n",
       "      <td>0.93</td>\n",
       "      <td>2.20</td>\n",
       "      <td>0.548</td>\n",
       "    </tr>\n",
       "    <tr>\n",
       "      <th>2</th>\n",
       "      <td>KH</td>\n",
       "      <td>289.7</td>\n",
       "      <td>4.51</td>\n",
       "      <td>6</td>\n",
       "      <td>4.341</td>\n",
       "      <td>13.590</td>\n",
       "      <td>0.754</td>\n",
       "      <td>0.82</td>\n",
       "      <td>2.20</td>\n",
       "      <td>0.501</td>\n",
       "    </tr>\n",
       "    <tr>\n",
       "      <th>3</th>\n",
       "      <td>RbH</td>\n",
       "      <td>319.8</td>\n",
       "      <td>4.51</td>\n",
       "      <td>6</td>\n",
       "      <td>4.177</td>\n",
       "      <td>13.590</td>\n",
       "      <td>0.754</td>\n",
       "      <td>0.82</td>\n",
       "      <td>2.20</td>\n",
       "      <td>0.468</td>\n",
       "    </tr>\n",
       "    <tr>\n",
       "      <th>4</th>\n",
       "      <td>CsH</td>\n",
       "      <td>400.6</td>\n",
       "      <td>4.51</td>\n",
       "      <td>6</td>\n",
       "      <td>3.849</td>\n",
       "      <td>13.590</td>\n",
       "      <td>0.754</td>\n",
       "      <td>0.79</td>\n",
       "      <td>2.20</td>\n",
       "      <td>0.472</td>\n",
       "    </tr>\n",
       "    <tr>\n",
       "      <th>5</th>\n",
       "      <td>CsCl</td>\n",
       "      <td>400.6</td>\n",
       "      <td>14.60</td>\n",
       "      <td>8</td>\n",
       "      <td>3.849</td>\n",
       "      <td>12.960</td>\n",
       "      <td>3.617</td>\n",
       "      <td>0.79</td>\n",
       "      <td>3.16</td>\n",
       "      <td>0.472</td>\n",
       "    </tr>\n",
       "    <tr>\n",
       "      <th>6</th>\n",
       "      <td>LiCl</td>\n",
       "      <td>164.1</td>\n",
       "      <td>14.60</td>\n",
       "      <td>6</td>\n",
       "      <td>5.392</td>\n",
       "      <td>12.960</td>\n",
       "      <td>3.617</td>\n",
       "      <td>2.20</td>\n",
       "      <td>3.16</td>\n",
       "      <td>0.618</td>\n",
       "    </tr>\n",
       "    <tr>\n",
       "      <th>7</th>\n",
       "      <td>CuI</td>\n",
       "      <td>46.5</td>\n",
       "      <td>32.90</td>\n",
       "      <td>4</td>\n",
       "      <td>7.726</td>\n",
       "      <td>10.451</td>\n",
       "      <td>3.059</td>\n",
       "      <td>1.90</td>\n",
       "      <td>2.66</td>\n",
       "      <td>1.228</td>\n",
       "    </tr>\n",
       "    <tr>\n",
       "      <th>8</th>\n",
       "      <td>LiF</td>\n",
       "      <td>164.1</td>\n",
       "      <td>3.74</td>\n",
       "      <td>6</td>\n",
       "      <td>5.392</td>\n",
       "      <td>17.423</td>\n",
       "      <td>3.339</td>\n",
       "      <td>2.20</td>\n",
       "      <td>3.98</td>\n",
       "      <td>0.618</td>\n",
       "    </tr>\n",
       "  </tbody>\n",
       "</table>\n",
       "</div>"
      ],
      "text/plain": [
       "    Mol  Pol_C  Pol_A  CN_C  Ion_C   Ion_A   EA_A  EN_C  EN_A   EA_C\n",
       "0   LiH  164.1   4.51     6  5.392  13.590  0.754  0.98  2.20  0.618\n",
       "1   NaH  162.7   4.51     6  5.139  13.590  0.754  0.93  2.20  0.548\n",
       "2    KH  289.7   4.51     6  4.341  13.590  0.754  0.82  2.20  0.501\n",
       "3   RbH  319.8   4.51     6  4.177  13.590  0.754  0.82  2.20  0.468\n",
       "4   CsH  400.6   4.51     6  3.849  13.590  0.754  0.79  2.20  0.472\n",
       "5  CsCl  400.6  14.60     8  3.849  12.960  3.617  0.79  3.16  0.472\n",
       "6  LiCl  164.1  14.60     6  5.392  12.960  3.617  2.20  3.16  0.618\n",
       "7   CuI   46.5  32.90     4  7.726  10.451  3.059  1.90  2.66  1.228\n",
       "8   LiF  164.1   3.74     6  5.392  17.423  3.339  2.20  3.98  0.618"
      ]
     },
<<<<<<< HEAD
     "execution_count": 371,
=======
     "execution_count": 431,
>>>>>>> 2850c510b0caa04e125d9bf035a50854632aec0c
     "metadata": {},
     "output_type": "execute_result"
    }
   ],
   "source": [
    "df"
   ]
  },
  {
   "cell_type": "code",
<<<<<<< HEAD
   "execution_count": 372,
=======
   "execution_count": 432,
>>>>>>> 2850c510b0caa04e125d9bf035a50854632aec0c
   "metadata": {},
   "outputs": [
    {
     "data": {
      "text/plain": [
       "[14.137466826376716,\n",
       " 14.087159279098158,\n",
       " 14.027021804027779,\n",
       " 12.930918115689444,\n",
       " 12.275605094480198,\n",
       " 3.2325958680570794,\n",
       " 5.11791434948661,\n",
       " 3.5739198265668453,\n",
       " 4.719651538728355]"
      ]
     },
<<<<<<< HEAD
     "execution_count": 372,
=======
     "execution_count": 432,
>>>>>>> 2850c510b0caa04e125d9bf035a50854632aec0c
     "metadata": {},
     "output_type": "execute_result"
    }
   ],
   "source": [
    "\n",
    "%store -r res\n",
    "res"
   ]
  },
  {
   "cell_type": "code",
<<<<<<< HEAD
   "execution_count": 373,
=======
   "execution_count": 433,
>>>>>>> 2850c510b0caa04e125d9bf035a50854632aec0c
   "metadata": {},
   "outputs": [
    {
     "data": {
      "text/html": [
       "<div>\n",
       "<style scoped>\n",
       "    .dataframe tbody tr th:only-of-type {\n",
       "        vertical-align: middle;\n",
       "    }\n",
       "\n",
       "    .dataframe tbody tr th {\n",
       "        vertical-align: top;\n",
       "    }\n",
       "\n",
       "    .dataframe thead th {\n",
       "        text-align: right;\n",
       "    }\n",
       "</style>\n",
       "<table border=\"1\" class=\"dataframe\">\n",
       "  <thead>\n",
       "    <tr style=\"text-align: right;\">\n",
       "      <th></th>\n",
       "      <th>Mol</th>\n",
       "      <th>Pol_C</th>\n",
       "      <th>Pol_A</th>\n",
       "      <th>CN_C</th>\n",
       "      <th>Ion_C</th>\n",
       "      <th>Ion_A</th>\n",
       "      <th>EN_A</th>\n",
       "      <th>EA_C</th>\n",
       "      <th>comp</th>\n",
       "    </tr>\n",
       "  </thead>\n",
       "  <tbody>\n",
       "    <tr>\n",
       "      <th>0</th>\n",
       "      <td>LiH</td>\n",
       "      <td>164.1</td>\n",
       "      <td>4.51</td>\n",
       "      <td>6</td>\n",
       "      <td>5.392</td>\n",
       "      <td>13.590</td>\n",
       "      <td>2.20</td>\n",
       "      <td>0.618</td>\n",
       "      <td>1.299735</td>\n",
       "    </tr>\n",
       "    <tr>\n",
       "      <th>3</th>\n",
       "      <td>RbH</td>\n",
       "      <td>319.8</td>\n",
       "      <td>4.51</td>\n",
       "      <td>6</td>\n",
       "      <td>4.177</td>\n",
       "      <td>13.590</td>\n",
       "      <td>2.20</td>\n",
       "      <td>0.468</td>\n",
       "      <td>1.087533</td>\n",
       "    </tr>\n",
       "    <tr>\n",
       "      <th>4</th>\n",
       "      <td>CsH</td>\n",
       "      <td>400.6</td>\n",
       "      <td>4.51</td>\n",
       "      <td>6</td>\n",
       "      <td>3.849</td>\n",
       "      <td>13.590</td>\n",
       "      <td>2.20</td>\n",
       "      <td>0.472</td>\n",
       "      <td>1.047745</td>\n",
       "    </tr>\n",
       "    <tr>\n",
       "      <th>5</th>\n",
       "      <td>CsCl</td>\n",
       "      <td>400.6</td>\n",
       "      <td>14.60</td>\n",
       "      <td>8</td>\n",
       "      <td>3.849</td>\n",
       "      <td>12.960</td>\n",
       "      <td>3.16</td>\n",
       "      <td>0.472</td>\n",
       "      <td>0.218413</td>\n",
       "    </tr>\n",
       "    <tr>\n",
       "      <th>6</th>\n",
       "      <td>LiCl</td>\n",
       "      <td>164.1</td>\n",
       "      <td>14.60</td>\n",
       "      <td>6</td>\n",
       "      <td>5.392</td>\n",
       "      <td>12.960</td>\n",
       "      <td>3.16</td>\n",
       "      <td>0.618</td>\n",
       "      <td>0.608239</td>\n",
       "    </tr>\n",
       "    <tr>\n",
       "      <th>7</th>\n",
       "      <td>CuI</td>\n",
       "      <td>46.5</td>\n",
       "      <td>32.90</td>\n",
       "      <td>4</td>\n",
       "      <td>7.726</td>\n",
       "      <td>10.451</td>\n",
       "      <td>2.66</td>\n",
       "      <td>1.228</td>\n",
       "      <td>0.621118</td>\n",
       "    </tr>\n",
       "    <tr>\n",
       "      <th>8</th>\n",
       "      <td>LiF</td>\n",
       "      <td>164.1</td>\n",
       "      <td>3.74</td>\n",
       "      <td>6</td>\n",
       "      <td>5.392</td>\n",
       "      <td>17.423</td>\n",
       "      <td>3.98</td>\n",
       "      <td>0.618</td>\n",
       "      <td>0.658880</td>\n",
       "    </tr>\n",
       "  </tbody>\n",
       "</table>\n",
       "</div>"
      ],
      "text/plain": [
<<<<<<< HEAD
       "    Mol  Pol_C  Pol_A  CN_C  Ion_C   Ion_A  EN_A   EA_C      comp\n",
       "0   LiH  164.1   4.51     6  5.392  13.590  2.20  0.618  1.299735\n",
       "3   RbH  319.8   4.51     6  4.177  13.590  2.20  0.468  1.087533\n",
       "4   CsH  400.6   4.51     6  3.849  13.590  2.20  0.472  1.047745\n",
       "5  CsCl  400.6  14.60     8  3.849  12.960  3.16  0.472  0.218413\n",
       "6  LiCl  164.1  14.60     6  5.392  12.960  3.16  0.618  0.608239\n",
       "7   CuI   46.5  32.90     4  7.726  10.451  2.66  1.228  0.621118\n",
       "8   LiF  164.1   3.74     6  5.392  17.423  3.98  0.618  0.658880"
      ]
     },
     "execution_count": 373,
=======
       "[14.137466826376718,\n",
       " 14.087159279098158,\n",
       " 14.02702180402777,\n",
       " 12.930918115689444,\n",
       " 12.275605094480198,\n",
       " 3.2325958680570794,\n",
       " 5.11791434948661,\n",
       " 3.5739198265668453,\n",
       " 4.719651538728355]"
      ]
     },
     "execution_count": 433,
>>>>>>> 2850c510b0caa04e125d9bf035a50854632aec0c
     "metadata": {},
     "output_type": "execute_result"
    }
   ],
   "source": [
<<<<<<< HEAD
    "## always inverse of EN_A\n",
    "# res = np.array(res)/df['EA_A']\n",
    "\n",
    "## always propotional to Ion_C\n",
    "# res = res / df['Ion_C']\n",
    "\n",
    "df['comp'] = 1/df['EA_A']\n",
    "df['comp'] = df['comp'] * df['EN_C']\n",
    "## always inverse of Pol_A ( anion polarisation)\n",
    "\n",
    "# res = res * df['Pol_A']\n",
    "## always inverse of EN_C (cation electronegativity)\n",
    "\n",
    "# res = res * df['EN_C']\n",
    "\n",
    "## always inverse of EN_A (anion electronegativity)\n",
    "\n",
    "## always inverse of sum_EN (sum of electronegativity)\n",
=======
    "# always inverse of EN_A\n",
    "# val = df['EA_A']\n",
    "df['comb'] = 1/ df['EA_A']\n",
    "# df['comb'] = df['comb'] * df['Ion_C']\n",
    "df['comb'] = df['comb'] * df['CN_C']\n",
    "df['comb'] = df['comb'] * df['EN_C']\n",
    "# df['comb'] = df['comb'] / df['Pol_A']\n",
>>>>>>> 2850c510b0caa04e125d9bf035a50854632aec0c
    "\n",
    "\n",
    "\n",
    "## remove df['EA_A'] from the dataframe\n",
    "df = df.drop(columns=['EA_A'])\n",
    "# df = df.drop(columns=['Ion_C'])\n",
<<<<<<< HEAD
    "# df = df.drop(columns=['Pol_A'])\n",
    "df = df.drop(columns=['EN_C'])\n",
=======
    "df = df.drop(columns=['CN_C'])\n",
    "\n",
    "# df = df.drop(columns=['Pol_A'])\n",
>>>>>>> 2850c510b0caa04e125d9bf035a50854632aec0c
    "\n",
    "df = df.drop(range(1,3))\n",
    "res = res[0:1]+ res[3:]\n",
    "\n",
    "df"
   ]
  },
  {
   "cell_type": "code",
<<<<<<< HEAD
   "execution_count": 374,
   "metadata": {},
   "outputs": [],
=======
   "execution_count": 434,
   "metadata": {},
   "outputs": [
    {
     "data": {
      "text/html": [
       "<div>\n",
       "<style scoped>\n",
       "    .dataframe tbody tr th:only-of-type {\n",
       "        vertical-align: middle;\n",
       "    }\n",
       "\n",
       "    .dataframe tbody tr th {\n",
       "        vertical-align: top;\n",
       "    }\n",
       "\n",
       "    .dataframe thead th {\n",
       "        text-align: right;\n",
       "    }\n",
       "</style>\n",
       "<table border=\"1\" class=\"dataframe\">\n",
       "  <thead>\n",
       "    <tr style=\"text-align: right;\">\n",
       "      <th></th>\n",
       "      <th>Mol</th>\n",
       "      <th>Pol_C</th>\n",
       "      <th>Pol_A</th>\n",
       "      <th>Ion_C</th>\n",
       "      <th>Ion_A</th>\n",
       "      <th>EN_A</th>\n",
       "      <th>comb</th>\n",
       "      <th>Sum_EN</th>\n",
       "      <th>Sum_ion</th>\n",
       "      <th>Abs_diff_ion</th>\n",
       "    </tr>\n",
       "  </thead>\n",
       "  <tbody>\n",
       "    <tr>\n",
       "      <th>0</th>\n",
       "      <td>LiH</td>\n",
       "      <td>164.1</td>\n",
       "      <td>4.51</td>\n",
       "      <td>5.392</td>\n",
       "      <td>13.590</td>\n",
       "      <td>2.20</td>\n",
       "      <td>7.798408</td>\n",
       "      <td>3.18</td>\n",
       "      <td>18.982</td>\n",
       "      <td>8.198</td>\n",
       "    </tr>\n",
       "    <tr>\n",
       "      <th>1</th>\n",
       "      <td>NaH</td>\n",
       "      <td>162.7</td>\n",
       "      <td>4.51</td>\n",
       "      <td>5.139</td>\n",
       "      <td>13.590</td>\n",
       "      <td>2.20</td>\n",
       "      <td>7.400531</td>\n",
       "      <td>3.13</td>\n",
       "      <td>18.729</td>\n",
       "      <td>8.451</td>\n",
       "    </tr>\n",
       "    <tr>\n",
       "      <th>2</th>\n",
       "      <td>KH</td>\n",
       "      <td>289.7</td>\n",
       "      <td>4.51</td>\n",
       "      <td>4.341</td>\n",
       "      <td>13.590</td>\n",
       "      <td>2.20</td>\n",
       "      <td>6.525199</td>\n",
       "      <td>3.02</td>\n",
       "      <td>17.931</td>\n",
       "      <td>9.249</td>\n",
       "    </tr>\n",
       "    <tr>\n",
       "      <th>3</th>\n",
       "      <td>RbH</td>\n",
       "      <td>319.8</td>\n",
       "      <td>4.51</td>\n",
       "      <td>4.177</td>\n",
       "      <td>13.590</td>\n",
       "      <td>2.20</td>\n",
       "      <td>6.525199</td>\n",
       "      <td>3.02</td>\n",
       "      <td>17.767</td>\n",
       "      <td>9.413</td>\n",
       "    </tr>\n",
       "    <tr>\n",
       "      <th>4</th>\n",
       "      <td>CsH</td>\n",
       "      <td>400.6</td>\n",
       "      <td>4.51</td>\n",
       "      <td>3.849</td>\n",
       "      <td>13.590</td>\n",
       "      <td>2.20</td>\n",
       "      <td>6.286472</td>\n",
       "      <td>2.99</td>\n",
       "      <td>17.439</td>\n",
       "      <td>9.741</td>\n",
       "    </tr>\n",
       "    <tr>\n",
       "      <th>5</th>\n",
       "      <td>CsCl</td>\n",
       "      <td>400.6</td>\n",
       "      <td>14.60</td>\n",
       "      <td>3.849</td>\n",
       "      <td>12.960</td>\n",
       "      <td>3.16</td>\n",
       "      <td>1.747304</td>\n",
       "      <td>3.95</td>\n",
       "      <td>16.809</td>\n",
       "      <td>9.111</td>\n",
       "    </tr>\n",
       "    <tr>\n",
       "      <th>6</th>\n",
       "      <td>LiCl</td>\n",
       "      <td>164.1</td>\n",
       "      <td>14.60</td>\n",
       "      <td>5.392</td>\n",
       "      <td>12.960</td>\n",
       "      <td>3.16</td>\n",
       "      <td>3.649433</td>\n",
       "      <td>5.36</td>\n",
       "      <td>18.352</td>\n",
       "      <td>7.568</td>\n",
       "    </tr>\n",
       "    <tr>\n",
       "      <th>7</th>\n",
       "      <td>CuI</td>\n",
       "      <td>46.5</td>\n",
       "      <td>32.90</td>\n",
       "      <td>7.726</td>\n",
       "      <td>10.451</td>\n",
       "      <td>2.66</td>\n",
       "      <td>2.484472</td>\n",
       "      <td>4.56</td>\n",
       "      <td>18.177</td>\n",
       "      <td>2.725</td>\n",
       "    </tr>\n",
       "    <tr>\n",
       "      <th>8</th>\n",
       "      <td>LiF</td>\n",
       "      <td>164.1</td>\n",
       "      <td>3.74</td>\n",
       "      <td>5.392</td>\n",
       "      <td>17.423</td>\n",
       "      <td>3.98</td>\n",
       "      <td>3.953279</td>\n",
       "      <td>6.18</td>\n",
       "      <td>22.815</td>\n",
       "      <td>12.031</td>\n",
       "    </tr>\n",
       "  </tbody>\n",
       "</table>\n",
       "</div>"
      ],
      "text/plain": [
       "    Mol  Pol_C  Pol_A  Ion_C   Ion_A  EN_A      comb  Sum_EN  Sum_ion  \\\n",
       "0   LiH  164.1   4.51  5.392  13.590  2.20  7.798408    3.18   18.982   \n",
       "1   NaH  162.7   4.51  5.139  13.590  2.20  7.400531    3.13   18.729   \n",
       "2    KH  289.7   4.51  4.341  13.590  2.20  6.525199    3.02   17.931   \n",
       "3   RbH  319.8   4.51  4.177  13.590  2.20  6.525199    3.02   17.767   \n",
       "4   CsH  400.6   4.51  3.849  13.590  2.20  6.286472    2.99   17.439   \n",
       "5  CsCl  400.6  14.60  3.849  12.960  3.16  1.747304    3.95   16.809   \n",
       "6  LiCl  164.1  14.60  5.392  12.960  3.16  3.649433    5.36   18.352   \n",
       "7   CuI   46.5  32.90  7.726  10.451  2.66  2.484472    4.56   18.177   \n",
       "8   LiF  164.1   3.74  5.392  17.423  3.98  3.953279    6.18   22.815   \n",
       "\n",
       "   Abs_diff_ion  \n",
       "0         8.198  \n",
       "1         8.451  \n",
       "2         9.249  \n",
       "3         9.413  \n",
       "4         9.741  \n",
       "5         9.111  \n",
       "6         7.568  \n",
       "7         2.725  \n",
       "8        12.031  "
      ]
     },
     "execution_count": 434,
     "metadata": {},
     "output_type": "execute_result"
    }
   ],
>>>>>>> 2850c510b0caa04e125d9bf035a50854632aec0c
   "source": [
    "# df = df.iloc[:,0:]\n",
    "\n",
    "\n",
    "# ## always inverse of EN_A\n",
    "\n",
<<<<<<< HEAD
    "# df['Sum_EN'] = df['EN_C'] + df['EN_A']\n",
    "# # df['Diff_EN'] = abs(df['EN_A'] - df['EN_C'])\n",
    "# # # df['Diff_rad'] = df['RadV_A'] - df['RadV_C']\n",
    "\n",
    "\n",
    "df['Sum_ion'] = df['Ion_C'] + df['Ion_A']\n",
    "# df['Abs_diff_ion'] = abs(df['Ion_C'] - df['Ion_A'])\n",
=======
    "df['Sum_EN'] = df['EN_C'] + df['EN_A']\n",
    "# df['Diff_EN'] = abs(df['EN_A'] - df['EN_C'])\n",
    "# # df['Diff_rad'] = df['RadV_A'] - df['RadV_C']\n",
    "\n",
    "\n",
    "df['Sum_ion'] = df['Ion_C'] + df['Ion_A']\n",
    "df['Abs_diff_ion'] = abs(df['Ion_C'] - df['Ion_A'])\n",
>>>>>>> 2850c510b0caa04e125d9bf035a50854632aec0c
    "\n",
    "\n",
    "\n",
    "\n",
    "# # # Adding sqrt values for each column\n",
    "# # for col in df.columns:\n",
    "# #     # Make sure the column is numeric before applying sqrt\n",
    "# #     if pd.api.types.is_numeric_dtype(df[col]):\n",
    "# #         df[f'{col}_sqrt'] = np.sqrt(abs(df[col]))\n",
    "# #         df[f'{col}_squared'] = np.square(df[col])\n",
    "\n",
    "df = df.drop(columns=['EN_C'])\n",
    "\n",
<<<<<<< HEAD
    "# # df['sum_ion'] = df['Ion_C'] + df['Ion_A']\n",
    "# # # df['diff_ion'] = df['Ion_C'] - df['Ion_A']\n",
    "\n",
    "# df.shape"
=======
    "# df['sum_ion'] = df['Ion_C'] + df['Ion_A']\n",
    "# # df['diff_ion'] = df['Ion_C'] - df['Ion_A']\n",
    "# df['diff_pol'] = abs(df['Pol_C'] - df['Pol_A'])\n",
    "\n",
    "df"
>>>>>>> 2850c510b0caa04e125d9bf035a50854632aec0c
   ]
  },
  {
   "cell_type": "markdown",
   "metadata": {},
   "source": [
    "### making the combinations"
   ]
  },
  {
   "cell_type": "code",
<<<<<<< HEAD
   "execution_count": 375,
=======
   "execution_count": 435,
>>>>>>> 2850c510b0caa04e125d9bf035a50854632aec0c
   "metadata": {},
   "outputs": [],
   "source": [
    "import itertools\n",
    "import numpy as np\n",
    "import pandas as pd\n",
    "from multiprocessing import Pool, cpu_count"
   ]
  },
  {
   "cell_type": "code",
<<<<<<< HEAD
   "execution_count": 376,
=======
   "execution_count": 436,
>>>>>>> 2850c510b0caa04e125d9bf035a50854632aec0c
   "metadata": {},
   "outputs": [],
   "source": [
    "import itertools\n",
    "import numpy as np\n",
    "import pandas as pd\n",
    "\n",
    "def generate_combinations_df(params_df, param_names):\n",
    "    results = []\n",
    "\n",
    "    # Convert all parameter values to numeric, coercing errors to NaN\n",
    "    params_df = params_df.apply(pd.to_numeric, errors='coerce')\n",
    "\n",
    "    # Precompute inverses of all parameters\n",
    "    params_inv_df = params_df.applymap(lambda x: np.power(float(x), -1) if pd.notnull(x) and x != 0 else np.nan)\n",
    "    params_inv_df.columns = [f\"{name}^(-1)\" for name in param_names]\n",
    "\n",
    "    # Combine original parameters and their inverses\n",
    "    combined_params_df = pd.concat([params_df, params_inv_df], axis=1)\n",
    "    combined_param_names = list(combined_params_df.columns)\n",
    "\n",
    "    # Precompute invalid pairs (parameter and its inverse)\n",
    "    invalid_pairs = {f\"{name}^(-1)\": name for name in param_names}\n",
    "    invalid_pairs.update({name: f\"{name}^(-1)\" for name in param_names})\n",
    "\n",
    "    # Generate all subsets of parameters (combinations)\n",
    "    for r in range(1, len(combined_param_names) + 1):\n",
    "        for subset_indices in itertools.combinations(range(len(combined_param_names)), r):\n",
    "\n",
    "            subset_names = [combined_param_names[i] for i in subset_indices]\n",
    "\n",
    "            # Skip invalid subsets early\n",
    "            if any(invalid_pairs.get(name) in subset_names for name in subset_names):\n",
    "                continue\n",
    "\n",
    "            # Select the subset DataFrame\n",
    "            subset = combined_params_df[subset_names]\n",
    "\n",
    "            # Replace NaN values with 0\n",
    "            subset = subset.fillna(0)\n",
    "\n",
    "            # Compute results for valid subsets\n",
    "            expr_str = \" * \".join(subset_names)\n",
    "            expr_val = subset.prod(axis=1)\n",
    "            results.append((expr_str, expr_val))\n",
    "\n",
    "    return results\n"
   ]
  },
  {
   "cell_type": "code",
<<<<<<< HEAD
   "execution_count": 377,
=======
   "execution_count": 437,
>>>>>>> 2850c510b0caa04e125d9bf035a50854632aec0c
   "metadata": {},
   "outputs": [],
   "source": [
    "import itertools\n",
    "import numpy as np\n",
    "import pandas as pd\n",
    "from multiprocessing import Pool, cpu_count\n",
    "\n",
    "def process_combinations_chunk(args):\n",
    "    combined_params_df, combined_param_names, param_names, indices_chunk = args\n",
    "    results = []\n",
    "\n",
    "    for indices in indices_chunk:\n",
    "        subset_names = [combined_param_names[i] for i in indices]\n",
    "        subset = combined_params_df[subset_names]\n",
    "\n",
    "        # Replace NaN values with 0\n",
    "        subset = subset.fillna(0)\n",
    "\n",
    "        # Check if both a parameter and its inverse are in the subset\n",
    "        invalid = False\n",
    "        for name in subset_names:\n",
    "            if name.endswith(\"^(-1)\") and name[:-5] in subset_names:\n",
    "                invalid = True\n",
    "                break\n",
    "            elif name in param_names and f\"{name}^(-1)\" in subset_names:\n",
    "                invalid = True\n",
    "                break\n",
    "\n",
    "        if not invalid:\n",
    "            # Compute results for valid subsets\n",
    "            expr_str = \" * \".join(subset_names)\n",
    "            expr_val = subset.prod(axis=1)\n",
    "            results.append((expr_str, expr_val))\n",
    "\n",
    "    return results\n",
    "\n",
    "def generate_combinations_df_parallel(params_df, param_names):\n",
    "    # Convert all parameter values to numeric, coercing errors to NaN\n",
    "    params_df = params_df.apply(pd.to_numeric, errors='coerce')\n",
    "\n",
    "    # Precompute inverses of all parameters\n",
    "    params_inv_df = params_df.applymap(lambda x: np.power(float(x), -1) if pd.notnull(x) and x != 0 else np.nan)\n",
    "    params_inv_df.columns = [f\"{name}^(-1)\" for name in param_names]\n",
    "\n",
    "    # Combine original parameters and their inverses\n",
    "    combined_params_df = pd.concat([params_df, params_inv_df], axis=1)\n",
    "    combined_param_names = list(combined_params_df.columns)\n",
    "\n",
    "    # Generate all subsets of parameter indices\n",
    "    all_combinations = [\n",
    "        indices for r in range(1, len(combined_param_names) + 1)\n",
    "        for indices in itertools.combinations(range(len(combined_param_names)), r)\n",
    "    ]\n",
    "\n",
    "    # Divide all_combinations into chunks\n",
    "    num_workers = min(cpu_count(), len(all_combinations))\n",
    "    chunk_size = max(1, len(all_combinations) // num_workers)\n",
    "    chunks = [all_combinations[i:i + chunk_size] for i in range(0, len(all_combinations), chunk_size)]\n",
    "\n",
    "    print(f\"Using {num_workers} workers to process {len(all_combinations)} combinations in {len(chunks)} chunks\")\n",
    "\n",
    "    # Prepare arguments for parallel processing\n",
    "    args = [\n",
    "        (combined_params_df, combined_param_names, param_names, chunk)\n",
    "        for chunk in chunks\n",
    "    ]\n",
    "\n",
    "    # Use multiprocessing to process combinations in parallel\n",
    "    with Pool(processes=num_workers) as pool:\n",
    "        results = pool.map(process_combinations_chunk, args)\n",
    "\n",
    "    # Flatten results\n",
    "    flattened_results = [item for sublist in results for item in sublist]\n",
    "    return flattened_results\n"
   ]
  },
  {
   "cell_type": "code",
<<<<<<< HEAD
   "execution_count": 378,
=======
   "execution_count": 438,
>>>>>>> 2850c510b0caa04e125d9bf035a50854632aec0c
   "metadata": {},
   "outputs": [
    {
     "name": "stdout",
     "output_type": "stream",
     "text": [
      "Calculating expressions...\n"
     ]
    },
    {
     "name": "stderr",
     "output_type": "stream",
     "text": [
<<<<<<< HEAD
      "/var/folders/zp/h52np6n918qd9v9139ls4z600000gn/T/ipykernel_79545/3972913922.py:12: FutureWarning: DataFrame.applymap has been deprecated. Use DataFrame.map instead.\n",
=======
      "C:\\Users\\user\\AppData\\Local\\Temp\\ipykernel_22152\\3972913922.py:12: FutureWarning: DataFrame.applymap has been deprecated. Use DataFrame.map instead.\n",
>>>>>>> 2850c510b0caa04e125d9bf035a50854632aec0c
      "  params_inv_df = params_df.applymap(lambda x: np.power(float(x), -1) if pd.notnull(x) and x != 0 else np.nan)\n"
     ]
    },
    {
     "name": "stdout",
     "output_type": "stream",
     "text": [
      "Expressions cached.\n",
      "(19682, 2)\n"
     ]
    }
   ],
   "source": [
    "\n",
    "import os\n",
    "import pandas as pd\n",
    "\n",
    "takeSaved = False\n",
    "\n",
    "all_expressions = []\n",
    "expressions = []\n",
    "# Define file name to save/load the results\n",
    "cache_file = \"cached_expressions.pkl\"\n",
    "\n",
    "if os.path.exists(cache_file) and takeSaved:\n",
    "    # Load the cached results if they exist\n",
    "    expressions = pd.read_pickle(cache_file)\n",
    "    all_expressions = list(expressions.itertuples(index=False, name=None))\n",
    "    print(\"Loaded cached expressions.\")\n",
    "else:\n",
    "    # Perform the costly computation if cache does not exist\n",
    "    print(\"Calculating expressions...\")\n",
    "    param_names = list(df.iloc[:,1:].columns)\n",
    "    all_expressions = generate_combinations_df(df.iloc[:, 1:], param_names)\n",
    "    expressions = pd.DataFrame(all_expressions, columns=['Expression', 'Value'])\n",
    "\n",
    "    # Save the results to cache\n",
    "    expressions.to_pickle(cache_file)\n",
    "    print(\"Expressions cached.\")\n",
    "\n",
    "# Print the shape of the expressions DataFrame\n",
    "print(expressions.shape)\n"
   ]
  },
  {
   "cell_type": "code",
<<<<<<< HEAD
   "execution_count": 379,
=======
   "execution_count": 439,
>>>>>>> 2850c510b0caa04e125d9bf035a50854632aec0c
   "metadata": {},
   "outputs": [
    {
     "data": {
      "text/html": [
       "<div>\n",
       "<style scoped>\n",
       "    .dataframe tbody tr th:only-of-type {\n",
       "        vertical-align: middle;\n",
       "    }\n",
       "\n",
       "    .dataframe tbody tr th {\n",
       "        vertical-align: top;\n",
       "    }\n",
       "\n",
       "    .dataframe thead th {\n",
       "        text-align: right;\n",
       "    }\n",
       "</style>\n",
       "<table border=\"1\" class=\"dataframe\">\n",
       "  <thead>\n",
       "    <tr style=\"text-align: right;\">\n",
       "      <th></th>\n",
       "      <th>Expression</th>\n",
       "      <th>Value</th>\n",
       "    </tr>\n",
       "  </thead>\n",
       "  <tbody>\n",
       "    <tr>\n",
       "      <th>0</th>\n",
       "      <td>Pol_C</td>\n",
       "      <td>0    164.1\n",
       "3    319.8\n",
       "4    400.6\n",
       "5    400.6\n",
       "6 ...</td>\n",
       "    </tr>\n",
       "    <tr>\n",
       "      <th>1</th>\n",
       "      <td>Pol_A</td>\n",
       "      <td>0     4.51\n",
       "3     4.51\n",
       "4     4.51\n",
       "5    14.60\n",
       "6 ...</td>\n",
       "    </tr>\n",
       "    <tr>\n",
       "      <th>2</th>\n",
<<<<<<< HEAD
       "      <td>CN_C</td>\n",
       "      <td>0    6\n",
       "3    6\n",
       "4    6\n",
       "5    8\n",
       "6    6\n",
       "7    4\n",
       "8   ...</td>\n",
       "    </tr>\n",
       "    <tr>\n",
       "      <th>3</th>\n",
=======
>>>>>>> 2850c510b0caa04e125d9bf035a50854632aec0c
       "      <td>Ion_C</td>\n",
       "      <td>0    5.392\n",
       "3    4.177\n",
       "4    3.849\n",
       "5    3.849\n",
       "6 ...</td>\n",
       "    </tr>\n",
       "    <tr>\n",
       "      <th>3</th>\n",
       "      <td>Ion_A</td>\n",
       "      <td>0    13.590\n",
       "3    13.590\n",
       "4    13.590\n",
       "5    12.96...</td>\n",
       "    </tr>\n",
       "    <tr>\n",
       "      <th>4</th>\n",
       "      <td>EN_A</td>\n",
       "      <td>0    2.20\n",
       "1    2.20\n",
       "2    2.20\n",
       "3    2.20\n",
       "4    2...</td>\n",
       "    </tr>\n",
       "  </tbody>\n",
       "</table>\n",
       "</div>"
      ],
      "text/plain": [
       "  Expression                                              Value\n",
       "0      Pol_C  0    164.1\n",
       "3    319.8\n",
       "4    400.6\n",
       "5    400.6\n",
       "6 ...\n",
       "1      Pol_A  0     4.51\n",
       "3     4.51\n",
<<<<<<< HEAD
       "4     4.51\n",
       "5    14.60\n",
       "6 ...\n",
       "2       CN_C  0    6\n",
       "3    6\n",
       "4    6\n",
       "5    8\n",
       "6    6\n",
       "7    4\n",
       "8   ...\n",
       "3      Ion_C  0    5.392\n",
       "3    4.177\n",
       "4    3.849\n",
       "5    3.849\n",
       "6 ...\n",
       "4      Ion_A  0    13.590\n",
       "3    13.590\n",
       "4    13.590\n",
       "5    12.96..."
      ]
     },
     "execution_count": 379,
=======
       "4 ...\n",
       "2      Ion_C  0    5.392\n",
       "1    5.139\n",
       "2    4.341\n",
       "3    4.177\n",
       "4 ...\n",
       "3      Ion_A  0    13.590\n",
       "1    13.590\n",
       "2    13.590\n",
       "3    13.59...\n",
       "4       EN_A  0    2.20\n",
       "1    2.20\n",
       "2    2.20\n",
       "3    2.20\n",
       "4    2..."
      ]
     },
     "execution_count": 439,
>>>>>>> 2850c510b0caa04e125d9bf035a50854632aec0c
     "metadata": {},
     "output_type": "execute_result"
    }
   ],
   "source": [
<<<<<<< HEAD
    "\n",
=======
    "expressions['Value'] = expressions['Value'] \n",
>>>>>>> 2850c510b0caa04e125d9bf035a50854632aec0c
    "expressions.head()"
   ]
  },
  {
   "cell_type": "markdown",
   "metadata": {},
   "source": [
    "### Addition results to the combinations"
   ]
  },
  {
   "cell_type": "code",
<<<<<<< HEAD
   "execution_count": 380,
=======
   "execution_count": 440,
>>>>>>> 2850c510b0caa04e125d9bf035a50854632aec0c
   "metadata": {},
   "outputs": [],
   "source": [
    "values_dict = {expr_str: expr_val for expr_str, expr_val in all_expressions}\n",
    "values = pd.DataFrame(values_dict)\n",
    "values['res'] = res"
   ]
  },
  {
   "cell_type": "markdown",
   "metadata": {},
   "source": [
    "### Finding Corelation"
   ]
  },
  {
   "cell_type": "code",
<<<<<<< HEAD
   "execution_count": 381,
=======
   "execution_count": 441,
>>>>>>> 2850c510b0caa04e125d9bf035a50854632aec0c
   "metadata": {},
   "outputs": [
    {
     "data": {
      "text/plain": [
       "(19683, 19683)"
      ]
     },
<<<<<<< HEAD
     "execution_count": 381,
=======
     "execution_count": 441,
>>>>>>> 2850c510b0caa04e125d9bf035a50854632aec0c
     "metadata": {},
     "output_type": "execute_result"
    }
   ],
   "source": [
    "\n",
    "correlation = values.corr()\n",
    "\n",
    "correlation.shape"
   ]
  },
  {
   "cell_type": "code",
<<<<<<< HEAD
   "execution_count": 382,
=======
   "execution_count": 442,
>>>>>>> 2850c510b0caa04e125d9bf035a50854632aec0c
   "metadata": {},
   "outputs": [
    {
     "name": "stdout",
     "output_type": "stream",
     "text": [
<<<<<<< HEAD
      "res                                                                                          1.000000\n",
      "CN_C * Ion_A * comp * EN_A^(-1) * Sum_ion^(-1)                                               0.999522\n",
      "CN_C * Ion_C * Ion_A * comp * EN_A^(-1) * EA_C^(-1) * Sum_ion^(-1)                           0.998046\n",
      "CN_C * Ion_C * comp * EN_A^(-1) * EA_C^(-1) * Sum_ion^(-1)                                   0.997533\n",
      "Ion_C * Ion_A * comp * EN_A^(-1) * EA_C^(-1) * Sum_ion^(-1)                                  0.996641\n",
      "CN_C * Ion_C * comp * EN_A^(-1) * EA_C^(-1)                                                  0.994909\n",
      "Ion_C * comp * Pol_A^(-1) * Ion_A^(-1) * EN_A^(-1) * EA_C^(-1) * Sum_ion^(-1)                0.994862\n",
      "CN_C * comp * EN_A^(-1)                                                                      0.994809\n",
      "Ion_C * comp * Pol_A^(-1) * CN_C^(-1) * Ion_A^(-1) * EN_A^(-1) * EA_C^(-1) * Sum_ion^(-1)    0.994657\n",
      "CN_C * Ion_C * comp * Pol_A^(-1) * Ion_A^(-1) * EN_A^(-1) * EA_C^(-1) * Sum_ion^(-1)         0.994459\n",
      "comp * Pol_A^(-1) * Ion_A^(-1) * EN_A^(-1) * Sum_ion^(-1)                                    0.994403\n",
      "CN_C * comp * EN_A^(-1) * Sum_ion^(-1)                                                       0.994384\n",
      "CN_C * comp * Pol_A^(-1) * Ion_A^(-1) * EN_A^(-1) * Sum_ion^(-1)                             0.994213\n",
      "comp * Pol_A^(-1) * CN_C^(-1) * Ion_A^(-1) * EN_A^(-1) * Sum_ion^(-1)                        0.993471\n",
      "CN_C * comp * Sum_ion^(-1)                                                                   0.993440\n",
      "CN_C * Ion_A * comp * EN_A^(-1)                                                              0.993323\n",
      "CN_C * comp * Sum_ion * Ion_A^(-1) * EN_A^(-1) * EA_C^(-1)                                   0.993234\n",
      "comp * Sum_ion * EN_A^(-1) * EA_C^(-1)                                                       0.992752\n",
      "CN_C * Ion_A * EA_C * comp * Ion_C^(-1) * EN_A^(-1) * Sum_ion^(-1)                           0.992187\n",
      "comp * Sum_ion * Ion_A^(-1) * EN_A^(-1) * EA_C^(-1)                                          0.992161\n",
=======
      "res                                                                                               1.000000\n",
      "Ion_A * comb * EN_A^(-1) * Sum_ion^(-1)                                                           0.995692\n",
      "comb * Sum_EN^(-1)                                                                                0.995347\n",
      "EN_A * comb * Sum_EN^(-1) * Sum_ion^(-1)                                                          0.995106\n",
      "Ion_A * comb * EN_A^(-1) * Sum_EN^(-1)                                                            0.994573\n",
      "Ion_A * comb * Sum_EN^(-1) * Sum_ion^(-1)                                                         0.994504\n",
      "Ion_C * comb * Abs_diff_ion * EN_A^(-1) * Sum_EN^(-1) * Sum_ion^(-1)                              0.994287\n",
      "Ion_C * comb * Abs_diff_ion * Ion_A^(-1) * Sum_EN^(-1) * Sum_ion^(-1)                             0.993926\n",
      "EN_A * comb * Ion_A^(-1) * Sum_EN^(-1)                                                            0.993889\n",
      "Ion_A * comb * Sum_EN^(-1)                                                                        0.993735\n",
      "Ion_C * Ion_A * comb * Abs_diff_ion * EN_A^(-1) * Sum_EN^(-1) * Sum_ion^(-1)                      0.993400\n",
      "Ion_C * comb * Abs_diff_ion * Ion_A^(-1) * EN_A^(-1) * Sum_EN^(-1) * Sum_ion^(-1)                 0.993144\n",
      "comb * Sum_ion * Abs_diff_ion * Ion_A^(-1) * EN_A^(-1) * Sum_EN^(-1)                              0.993125\n",
      "comb * Pol_A^(-1) * Ion_A^(-1) * EN_A^(-1) * Sum_EN^(-1)                                          0.992969\n",
      "Ion_A * comb * Sum_ion * EN_A^(-1) * Sum_EN^(-1)                                                  0.992485\n",
      "comb * Pol_A^(-1) * Ion_A^(-1) * EN_A^(-1) * Sum_ion^(-1)                                         0.992267\n",
      "comb * Sum_EN^(-1) * Sum_ion^(-1)                                                                 0.992235\n",
      "comb * Pol_A^(-1) * EN_A^(-1) * Sum_EN^(-1)                                                       0.992122\n",
      "Ion_C * Pol_A^(-1) * Ion_A^(-1) * EN_A^(-1) * Sum_EN^(-1) * Sum_ion^(-1)                          0.991996\n",
      "Ion_C * comb * Abs_diff_ion * Pol_A^(-1) * Ion_A^(-1) * EN_A^(-1) * Sum_EN^(-1) * Sum_ion^(-1)    0.991960\n",
>>>>>>> 2850c510b0caa04e125d9bf035a50854632aec0c
      "Name: res, dtype: float64\n"
     ]
    }
   ],
   "source": [
    "results=correlation['res'].abs().sort_values(ascending=False)\n",
    "print(results.iloc[0:20])\n",
    "top_vars = results.iloc[1:20].index"
   ]
  },
  {
   "cell_type": "markdown",
   "metadata": {},
   "source": [
    "### Final Results"
   ]
  },
  {
   "cell_type": "code",
<<<<<<< HEAD
   "execution_count": 383,
=======
   "execution_count": 443,
>>>>>>> 2850c510b0caa04e125d9bf035a50854632aec0c
   "metadata": {},
   "outputs": [
    {
     "name": "stdout",
     "output_type": "stream",
     "text": [
<<<<<<< HEAD
      "res                                                                                          1.000000\n",
      "CN_C * Ion_A * comp * EN_A^(-1) * Sum_ion^(-1)                                               0.999522\n",
      "CN_C * Ion_C * Ion_A * comp * EN_A^(-1) * EA_C^(-1) * Sum_ion^(-1)                           0.998046\n",
      "CN_C * Ion_C * comp * EN_A^(-1) * EA_C^(-1) * Sum_ion^(-1)                                   0.997533\n",
      "Ion_C * Ion_A * comp * EN_A^(-1) * EA_C^(-1) * Sum_ion^(-1)                                  0.996641\n",
      "CN_C * Ion_C * comp * EN_A^(-1) * EA_C^(-1)                                                  0.994909\n",
      "Ion_C * comp * Pol_A^(-1) * Ion_A^(-1) * EN_A^(-1) * EA_C^(-1) * Sum_ion^(-1)                0.994862\n",
      "CN_C * comp * EN_A^(-1)                                                                      0.994809\n",
      "Ion_C * comp * Pol_A^(-1) * CN_C^(-1) * Ion_A^(-1) * EN_A^(-1) * EA_C^(-1) * Sum_ion^(-1)    0.994657\n",
      "CN_C * Ion_C * comp * Pol_A^(-1) * Ion_A^(-1) * EN_A^(-1) * EA_C^(-1) * Sum_ion^(-1)         0.994459\n",
      "comp * Pol_A^(-1) * Ion_A^(-1) * EN_A^(-1) * Sum_ion^(-1)                                    0.994403\n",
      "CN_C * comp * EN_A^(-1) * Sum_ion^(-1)                                                       0.994384\n",
      "CN_C * comp * Pol_A^(-1) * Ion_A^(-1) * EN_A^(-1) * Sum_ion^(-1)                             0.994213\n",
      "comp * Pol_A^(-1) * CN_C^(-1) * Ion_A^(-1) * EN_A^(-1) * Sum_ion^(-1)                        0.993471\n",
      "CN_C * comp * Sum_ion^(-1)                                                                   0.993440\n",
      "CN_C * Ion_A * comp * EN_A^(-1)                                                              0.993323\n",
      "CN_C * comp * Sum_ion * Ion_A^(-1) * EN_A^(-1) * EA_C^(-1)                                   0.993234\n",
      "comp * Sum_ion * EN_A^(-1) * EA_C^(-1)                                                       0.992752\n",
      "CN_C * Ion_A * EA_C * comp * Ion_C^(-1) * EN_A^(-1) * Sum_ion^(-1)                           0.992187\n",
      "comp * Sum_ion * Ion_A^(-1) * EN_A^(-1) * EA_C^(-1)                                          0.992161\n",
=======
      "res                                                                                               1.000000\n",
      "Ion_A * comb * EN_A^(-1) * Sum_ion^(-1)                                                           0.995692\n",
      "comb * Sum_EN^(-1)                                                                                0.995347\n",
      "EN_A * comb * Sum_EN^(-1) * Sum_ion^(-1)                                                          0.995106\n",
      "Ion_A * comb * EN_A^(-1) * Sum_EN^(-1)                                                            0.994573\n",
      "Ion_A * comb * Sum_EN^(-1) * Sum_ion^(-1)                                                         0.994504\n",
      "Ion_C * comb * Abs_diff_ion * EN_A^(-1) * Sum_EN^(-1) * Sum_ion^(-1)                              0.994287\n",
      "Ion_C * comb * Abs_diff_ion * Ion_A^(-1) * Sum_EN^(-1) * Sum_ion^(-1)                             0.993926\n",
      "EN_A * comb * Ion_A^(-1) * Sum_EN^(-1)                                                            0.993889\n",
      "Ion_A * comb * Sum_EN^(-1)                                                                        0.993735\n",
      "Ion_C * Ion_A * comb * Abs_diff_ion * EN_A^(-1) * Sum_EN^(-1) * Sum_ion^(-1)                      0.993400\n",
      "Ion_C * comb * Abs_diff_ion * Ion_A^(-1) * EN_A^(-1) * Sum_EN^(-1) * Sum_ion^(-1)                 0.993144\n",
      "comb * Sum_ion * Abs_diff_ion * Ion_A^(-1) * EN_A^(-1) * Sum_EN^(-1)                              0.993125\n",
      "comb * Pol_A^(-1) * Ion_A^(-1) * EN_A^(-1) * Sum_EN^(-1)                                          0.992969\n",
      "Ion_A * comb * Sum_ion * EN_A^(-1) * Sum_EN^(-1)                                                  0.992485\n",
      "comb * Pol_A^(-1) * Ion_A^(-1) * EN_A^(-1) * Sum_ion^(-1)                                         0.992267\n",
      "comb * Sum_EN^(-1) * Sum_ion^(-1)                                                                 0.992235\n",
      "comb * Pol_A^(-1) * EN_A^(-1) * Sum_EN^(-1)                                                       0.992122\n",
      "Ion_C * Pol_A^(-1) * Ion_A^(-1) * EN_A^(-1) * Sum_EN^(-1) * Sum_ion^(-1)                          0.991996\n",
      "Ion_C * comb * Abs_diff_ion * Pol_A^(-1) * Ion_A^(-1) * EN_A^(-1) * Sum_EN^(-1) * Sum_ion^(-1)    0.991960\n",
>>>>>>> 2850c510b0caa04e125d9bf035a50854632aec0c
      "Name: res, dtype: float64\n"
     ]
    }
   ],
   "source": [
    "results=correlation['res'].abs().sort_values(ascending=False)\n",
    "print(results.iloc[0:20])\n",
    "top_vars = results.iloc[1:20].index\n"
   ]
  },
  {
   "cell_type": "code",
<<<<<<< HEAD
   "execution_count": 384,
=======
   "execution_count": 444,
>>>>>>> 2850c510b0caa04e125d9bf035a50854632aec0c
   "metadata": {},
   "outputs": [
    {
     "data": {
<<<<<<< HEAD
      "image/png": "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",
=======
      "image/png": "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",
>>>>>>> 2850c510b0caa04e125d9bf035a50854632aec0c
      "text/plain": [
       "<Figure size 640x480 with 1 Axes>"
      ]
     },
     "metadata": {},
     "output_type": "display_data"
    },
    {
     "name": "stdout",
     "output_type": "stream",
     "text": [
      "1.0\n"
     ]
    }
   ],
   "source": [
    "import matplotlib.pyplot as plt\n",
    "\n",
    "plt.scatter(results['res'],results[top_vars[3]])\n",
    "plt.plot(results['res'],results[top_vars[0]])\n",
    "plt.show()\n",
    "\n",
    "values[top_vars[0]]\n",
    "\n",
    "\n",
    "# param = df['Cat_EN']*df['Ani_EN']*df['Rad_C']*df['CN']*df['Ion_C']*df['Ion_A']\n",
    "\n",
    "\n",
    "\n",
    "# y = list(values[top_vars[0]])[:4]+list(values[top_vars[0]])[5:]\n",
    "# x = list(values['res'])[:4]+list(values['res'])[5:]\n",
    "\n",
    "# plt.scatter(x,y)\n",
    "# x\n",
    "\n",
    "print(results['res'])"
   ]
  },
  {
   "cell_type": "code",
<<<<<<< HEAD
   "execution_count": 385,
=======
   "execution_count": 447,
>>>>>>> 2850c510b0caa04e125d9bf035a50854632aec0c
   "metadata": {},
   "outputs": [
    {
     "data": {
<<<<<<< HEAD
      "image/png": "iVBORw0KGgoAAAANSUhEUgAAArMAAAIzCAYAAAATV5HDAAAAOXRFWHRTb2Z0d2FyZQBNYXRwbG90bGliIHZlcnNpb24zLjkuMiwgaHR0cHM6Ly9tYXRwbG90bGliLm9yZy8hTgPZAAAACXBIWXMAAA9hAAAPYQGoP6dpAACT8ElEQVR4nOzdeZyN5f/H8deZfWHsywzDoBDZqZAtkTW+VETWFiRrCm22StZUylKW7Aop+74lFVlaSMnO2GMwZr9+f9y/OTlmhhlm5pyZeT8fj3lwX+dePudc54yP61z357IZYwwiIiIiIhmQm7MDEBERERG5W0pmRURERCTDUjIrIiIiIhmWklkRERERybCUzIqIiIhIhqVkVkREREQyLCWzIiIiIpJhKZkVERERkQxLyayIiIiIZFhKZsVl/fTTT/zvf/+jSJEieHt7U6BAAapXr86rr76aZtf84YcfGDp0KJcvX07w2GeffcbMmTPT7NqJqVu3Ljabzf7j6+tLhQoVmDBhAnFxcfb9OnfuTEhIyF1dI62eV1RUFN27dycwMBB3d3cqVqyY6tfIrEJCQujcubN9+/Tp0wwdOpS9e/cm2Ldz585ky5btrq9Vt25dHnzwwdvuM3ToUGw2211fw9k6d+7s8Dny8vKiRIkSDBgwgLCwMGeHl27q1q1L3bp10/26R48exWazMXbs2Nvud+v7XiS5PJwdgEhiVqxYwZNPPkndunUZPXo0gYGBhIaGsmvXLhYsWMC4cePS5Lo//PADw4YNo3PnzuTMmdPhsc8++4y8efOm+y/b4sWLM3fuXADOnTvH5MmT6devH6GhoYwaNeqez59Wz2vSpElMmTKFTz75hCpVqtxTwpXVfPPNNwQEBNi3T58+zbBhwwgJCXHKfwpeeOEFGjVqlO7XTU2+vr5s3LgRgMuXL7No0SLGjRvHr7/+ytq1a50cXfr47LPPnB3Cbd36vhdJLiWz4pJGjx5NsWLFWLNmDR4e/71N27Zty+jRo50YWeoyxhAREYGvr2+S+/j6+vLII4/Ytxs3bkzp0qWZOHEi7777Lp6enukRaor9/vvv+Pr68sorrzg7lAynUqVKzg7BQeHChSlcuLCzw7itGzdu3PZz5Obm5vA5atSoEYcPH2bdunUcOXKEYsWKpUeYAMTGxhITE4O3t3e6XROgTJky6Xq9lHK1971kHJpmIC7p4sWL5M2b1yGRjefmlvBtO2/ePKpXr062bNnIli0bFStWZNq0afbH161bR4sWLShcuDA+Pj7cd999dOvWjQsXLtj3GTp0KK+99hoAxYoVs38luXnzZkJCQvjjjz/YsmWLvf3mr/XDwsIYMGAAxYoVw8vLi0KFCtG3b1+uX7/uEKfNZuOVV15h8uTJPPDAA3h7e/Pll1+m6LXx9PSkSpUqhIeHc/78+ST3i4iIYPDgwQ4x9ezZ02EKxZ2e192e12az8cUXX3Djxg37eZOayvD3338TEBDA008/7dC+ceNG3N3defvtt5OMZcKECdhsNg4dOpTgsYEDB+Ll5WXv4z179tCsWTPy58+Pt7c3QUFBNG3alJMnTyZ5/hEjRuDh4cGJEycSPNa1a1fy5MlDREREoseuWLECm83Gzp077W2LFy/GZrPRtGlTh33Lly9P69at7ds3f926efNmqlWrBkCXLl3sr+fQoUMdznHo0CGaNGlCtmzZCA4O5tVXXyUyMjLJ55YSiU0zCAkJoVmzZqxevZrKlSvj6+tL6dKlmT59eoLjz5w5Q7du3ShcuDBeXl4UK1aMYcOGERMT47DfsGHDePjhh8mdOzcBAQFUrlyZadOmYYxJ9NpLliyhUqVK+Pj4MGzYsBQ/r6pVqwJw9uxZh/aFCxdSvXp1/P39yZYtG0888QR79uxJcPznn39OyZIl8fb2pkyZMsybNy/BlJ/4r9hHjx7Nu+++S7FixfD29mbTpk0A7Nq1iyeffJLcuXPj4+NDpUqV+OqrrxyuEx4ebv/94uPjQ+7cualatSrz58+373P48GHatm1LUFCQfVpW/fr1HaamJDbN4NKlS7z88ssUKlQILy8vihcvzptvvpngvRP/u2v27Nk88MAD+Pn5UaFCBZYvX57s1/tObp1msHnzZmw2G/Pnz+fNN98kKCiIgIAAHn/8cQ4ePJjg+PXr11O/fn0CAgLw8/OjZs2abNiwIdXiExdmRFzQCy+8YADTq1cv8+OPP5qoqKgk93377bcNYFq1amW+/vprs3btWjN+/Hjz9ttv2/eZNGmSGTlypPnuu+/Mli1bzJdffmkqVKhgSpUqZT/3iRMnTK9evQxglixZYnbs2GF27Nhhrly5Ynbv3m2KFy9uKlWqZG/fvXu3McaY69evm4oVK5q8efOa8ePHm/Xr15uPPvrI5MiRwzz22GMmLi7OHgdgChUqZMqXL2/mzZtnNm7caH7//fckn1udOnVM2bJlE7RXrlzZeHh4mPDwcGOMMZ06dTJFixa1Px4XF2eeeOIJ4+HhYd5++22zdu1aM3bsWOPv728qVapkIiIijDHmts8rMck9744dO0yTJk2Mr6+v/bznzp1L8rwLFiwwgPnoo4+MMcaEhoaaAgUKmDp16piYmJgkjzt//rzx8vIyb775pkN7TEyMCQoKMq1atTLGGHPt2jWTJ08eU7VqVfPVV1+ZLVu2mIULF5ru3bub/fv3J3n+s2fPGm9v7wTnv3jxovH19TWvvfZaksdevXrVeHp6mvfff9/e1r17d+Pr62v8/f3t77uzZ88am81mPvvsM/t+RYsWNZ06dTLGGHPlyhUzY8YMA5i33nrL/nqeOHHCGGP1vZeXl3nggQfM2LFjzfr1680777xjbDabGTZsWJLxxUvqPXazIUOGmFv/uShatKgpXLiwKVOmjJk1a5ZZs2aNefrppw1gtmzZYt8vNDTUBAcHm6JFi5opU6aY9evXmxEjRhhvb2/TuXNnh3N27tzZTJs2zaxbt86sW7fOjBgxwvj6+iZ4HkWLFjWBgYGmePHiZvr06WbTpk3m559/TjL+Tp06GX9//wTtTz31lPHw8DBnz561t7333nvGZrOZrl27muXLl5slS5aY6tWrG39/f/PHH3/Y95syZYoBTOvWrc3y5cvN3LlzTcmSJU3RokUdPotHjhyxf+7r1atnFi1aZNauXWuOHDliNm7caLy8vEytWrXMwoULzerVq03nzp0NYGbMmGE/R7du3Yyfn58ZP3682bRpk1m+fLn54IMPzCeffGLfp1SpUua+++4zs2fPNlu2bDGLFy82r776qtm0aZN9nzp16pg6derYt2/cuGHKly9v/P39zdixY83atWvN22+/bTw8PEyTJk0cXivAhISEmIceesh89dVXZuXKlaZu3brGw8PD/PPPP0m+9je/BmPGjLntfje/740xZtOmTfbrtm/f3qxYscLMnz/fFClSxNx///0Ovxtmz55tbDabadmypVmyZIlZtmyZadasmXF3dzfr16+/7XUl41MyKy7pwoUL5tFHHzWAAYynp6epUaOGGTlypLl69ap9v8OHDxt3d3fTvn37ZJ87Li7OREdHm2PHjhnAfPvtt/bHxowZYwBz5MiRBMeVLVvW4R+CeCNHjjRubm5m586dDu2LFi0ygFm5cqW9DTA5cuQwly5dSlas8YlGdHS0iY6ONqdPnzaDBg0ygHn66aft+92azK5evdoAZvTo0Q7nW7hwoQHM1KlT7/i8EpOS8yaVQCSlR48exsvLy+zYscM89thjJn/+/Ob06dN3PK5Vq1amcOHCJjY21t62cuVKA5hly5YZY4zZtWuXAczSpUuTHc/NzyN//vwmMjLS3jZq1Cjj5uaW6PvkZo8++qh57LHH7Nv33Xefee2114ybm5s94Zs7d64BzF9//WXf79Z/1Hfu3Jkgwbk5PsB89dVXDu1NmjQxpUqVuuPzu5dk1sfHxxw7dszeduPGDZM7d27TrVs3e1u3bt1MtmzZHPYzxpixY8cawCFBvFlsbKyJjo42w4cPN3ny5HH4T2HRokWNu7u7OXjw4B2fnzH/vRfjP0cXLlwwkyZNMm5ubuaNN96w73f8+HHj4eFhevXq5XD81atXTcGCBc0zzzxjj61gwYLm4Ycfdtjv2LFjxtPTM9FktkSJEgn+U166dGlTqVIlEx0d7dDerFkzExgYaH9PP/jgg6Zly5ZJPr8LFy4YwEyYMOG2r8OtyezkyZMTfe+MGjXKAGbt2rX2NsAUKFDAhIWF2dvOnDlj3NzczMiRI2973XtNZm9NrL/66isDmB07dhhjrAGF3Llzm+bNmzvsFxsbaypUqGAeeuih215XMj5NMxCXlCdPHrZt28bOnTv54IMPaNGiBX/99ReDBw+mXLly9q+O161bR2xsLD179rzt+c6dO0f37t0JDg7Gw8MDT09PihYtCsCBAwfuKdbly5fz4IMPUrFiRWJiYuw/TzzxhH2aws0ee+wxcuXKlezz//HHH3h6euLp6UlQUBDjxo2jffv2fP7550keE3+jy603dT399NP4+/vf9VdvaXVegA8//JCyZctSr149Nm/ezJw5cwgMDLzjcV26dOHkyZOsX7/e3jZjxgwKFixI48aNAbjvvvvIlSsXAwcOZPLkyezfvz/ZcfXp04dz587x9ddfAxAXF8ekSZNo2rTpHadk1K9fn+3bt3Pjxg2OHTvGoUOHaNu2LRUrVmTdunWA9dVokSJFuP/++5Md061sNhvNmzd3aCtfvjzHjh2763MmR8WKFSlSpIh928fHh5IlSzpcd/ny5dSrV4+goCCHz0d832zZssW+78aNG3n88cfJkSMH7u7ueHp68s4773Dx4kXOnTuX4PmVLFky2bFev37d/jnKmzcvPXr0oE2bNrz33nv2fdasWUNMTAwdO3Z0iNXHx4c6derYP8sHDx7kzJkzPPPMMw7XKFKkCDVr1kz0+k8++aTD/PZDhw7x559/0r59ewCH6zVp0oTQ0FD7V+kPPfQQq1atYtCgQWzevJkbN244nDt37tyUKFGCMWPGMH78ePbs2eNQ7SQpGzduxN/fn6eeesqhPf7zfevnuV69emTPnt2+XaBAAfLnz5/m77Mnn3zSYbt8+fIA9uv+8MMPXLp0iU6dOjm8jnFxcTRq1IidO3cmmPIlmYuSWXFpVatWZeDAgXz99decPn2afv36cfToUftNYPFzRm93c0pcXBwNGzZkyZIlvP7662zYsIGff/6ZH3/8ESDBPwwpdfbsWX799Vf7P5TxP9mzZ8cY4zAvF0hWgnazEiVKsHPnTnbt2sXvv//O5cuXmTNnDjly5EjymIsXL+Lh4UG+fPkc2m02GwULFuTixYspiiGtzwvg7e1Nu3btiIiIoGLFijRo0CBZxzVu3JjAwEBmzJgBwL///st3331Hx44dcXd3ByBHjhxs2bKFihUr8sYbb1C2bFmCgoIYMmQI0dHRtz1/pUqVqFWrFp9++ilgJWdHjx5N1o1tjz/+OJGRkXz//fesW7eOvHnzUqlSJR5//HF78r1hwwYef/zxZD3XpPj5+eHj4+PQ5u3tneR83tSSJ0+eBG3e3t4On6mzZ8+ybNmyBJ+PsmXLAtg/Hz///DMNGzYErLmo27dvZ+fOnbz55ptAws9pSj9Hvr6+7Ny5k507d7Js2TLq1q3L/Pnz+eCDDxxiBahWrVqCeBcuXGiPNf59XqBAgQTXSawtsXjjrzVgwIAE13r55ZeB/16bjz/+mIEDB7J06VLq1atH7ty5admyJX///Tdgff42bNjAE088wejRo6lcuTL58uWjd+/eXL16NcnX5OLFixQsWDDBfOj8+fPj4eGR4POcnP5OC7deN/7Gufjrxr+WTz31VILXctSoURhjuHTpUprGKM6lagaSYXh6ejJkyBA+/PBDfv/9dwB7UnXy5EmCg4MTPe73339n3759zJw5k06dOtnbE7tp6G7kzZsXX1/fRG98iX/8Zimt1+nj42O/USW58uTJQ0xMDOfPn3dIPI0xnDlzxn5DUUql1XnB6qd33nmHatWqsXPnTsaPH0///v3veJy7uzsdOnTg448/5vLly8ybN4/IyEi6dOnisF+5cuVYsGABxhh+/fVXZs6cyfDhw/H19WXQoEG3vUbv3r15+umn2b17NxMnTqRkyZLJSrYffvhhsmXLxvr16zl69Cj169fHZrNRv359xo0bx86dOzl+/Pg9J7OuLG/evJQvX95hBPRmQUFBACxYsABPT0+WL1/ukJgvXbo00eNS+jlyc3Nz+Bw1aNCAKlWqMGzYMNq3b09wcLD9s7po0SL7NzeJiU+ubr1xDKyb3ZITb/y1Bg8eTKtWrRI9plSpUgD4+/szbNgwhg0bxtmzZ+2jtM2bN+fPP/8EoGjRovabXv/66y+++uorhg4dSlRUFJMnT07yefz0008YYxziO3fuHDExMQl+d7mq+Dg/+eQTh4oVN0vqPxmSOWhkVlxSaGhoou3xUwLi/wFs2LAh7u7uTJo0Kclzxf+SvrUMzpQpUxLse+v/+G99LLH2Zs2a8c8//5AnTx6qVq2a4OduFzO4F/Xr1wdgzpw5Du2LFy/m+vXr9schZSMrKTlvSly/fp2nn36akJAQNm3axCuvvMKgQYP46aefknV8ly5diIiIYP78+cycOZPq1atTunTpRPe12WxUqFCBDz/8kJw5c7J79+47nj9+8Y5XX32V9evX8/LLLycrmfL09KR27dqsW7eOjRs32hPgWrVq4eHhwVtvvWVPbm/ndu9LV9esWTN+//13SpQokejnI/6zbLPZ8PDwsI+mg/V8Z8+enSZxeXt78+mnnxIREcG7774LwBNPPIGHhwf//PNPorHGJ8OlSpWiYMGCCaoOHD9+nB9++CFZ1y9VqhT3338/+/btS/JaN3+lH69AgQJ07tyZZ599loMHDxIeHp5gn5IlS/LWW29Rrly5276/69evz7Vr1xL8h2HWrFn2xzOCmjVrkjNnTvbv35/ka+nl5eXsMCUNaWRWXNITTzxB4cKFad68OaVLlyYuLo69e/cybtw4smXLRp8+fQCrlMsbb7zBiBEjuHHjBs8++yw5cuRg//79XLhwgWHDhlG6dGlKlCjBoEGDMMaQO3duli1bZp+zeLNy5coB8NFHH9GpUyc8PT0pVaoU2bNnt4/sLVy4kOLFi+Pj40O5cuXo27cvixcvpnbt2vTr14/y5csTFxfH8ePHWbt2La+++ioPP/xwur5+DRo04IknnmDgwIGEhYVRs2ZNfv31V4YMGUKlSpXo0KGDw3NO7Hnd63lTonv37hw/fpyff/4Zf39/xo0bx44dO2jbti179uxJsIDFrUqXLk316tUZOXIkJ06cYOrUqQ6PL1++nM8++4yWLVtSvHhxjDEsWbKEy5cvJ2uE1d3dnZ49ezJw4ED8/f1TtMBE/fr17avWxY/A+vr6UqNGDdauXUv58uXJnz//bc9RokQJfH19mTt3Lg888ADZsmUjKCjIngjeq7CwMBYtWpSgPV++fNSpU+eezj18+HDWrVtHjRo16N27N6VKlSIiIoKjR4+ycuVKJk+eTOHChWnatCnjx4+nXbt2vPTSS1y8eJGxY8emaS3WOnXq0KRJE2bMmMGgQYMoVqwYw4cP58033+Tw4cM0atSIXLlycfbsWft7c9iwYbi5uTFs2DC6devGU089RdeuXbl8+TLDhg0jMDAw0fKBiZkyZQqNGzfmiSeeoHPnzhQqVIhLly5x4MABdu/ebZ+n/fDDD9OsWTPKly9Prly5OHDgALNnz6Z69er4+fnx66+/8sorr/D0009z//334+XlxcaNG/n1119v+61Dx44d+fTTT+nUqRNHjx6lXLlyfP/997z//vs0adIk1b8x+O233xJ9n1WrVu22I+F3ki1bNj755BM6derEpUuXeOqpp8ifPz/nz59n3759nD9//rYDHpIJOO/eM5GkLVy40LRr187cf//9Jlu2bMbT09MUKVLEdOjQIdFSSrNmzTLVqlUzPj4+Jlu2bKZSpUoOd37v37/fNGjQwGTPnt3kypXLPP300+b48eMGMEOGDHE41+DBg01QUJBxc3MzgL20zdGjR03Dhg1N9uzZDeBwx/K1a9fMW2+9ZUqVKmW8vLxMjhw5TLly5Uy/fv3MmTNn7PsBpmfPnsl+HZJzp7kxCasZGGPdWT5w4EBTtGhR4+npaQIDA02PHj3Mv//+67Df7Z5XYpJ73uRWM/j8888TvVP/0KFDJiAg4LZ3cd9s6tSpBjC+vr7mypUrDo/9+eef5tlnnzUlSpQwvr6+JkeOHOahhx4yM2fOTNa5jbFeJ8B079492ccYY8y+ffsMYO6//36H9vfee88Apn///gmOufWubmOMmT9/vildurTx9PR0eN8m9TonVoEgMXXq1LFXDbn1J/7O96SqGTRt2jTR891aHeP8+fOmd+/eplixYsbT09Pkzp3bVKlSxbz55pvm2rVr9v2mT59uSpUqZby9vU3x4sXNyJEjzbRp0xJUGEnq2km53Xvxt99+M25ubqZLly72tqVLl5p69eqZgIAA4+3tbYoWLWqeeuqpBCWepk6dau677z7j5eVlSpYsaaZPn25atGhhKlWqZN/nTnfy79u3zzzzzDMmf/78xtPT0xQsWNA89thjZvLkyfZ9Bg0aZKpWrWpy5cplf2369etnLly4YIyxyrt17tzZlC5d2vj7+5ts2bKZ8uXLmw8//NChfFVifXPx4kXTvXt3ExgYaDw8PEzRokXN4MGD7WX24iX1uyux9+qt4l+DpH7iP/tJVTP4+uuvEz3frb8ztmzZYpo2bWpy585tPD09TaFChUzTpk0THC+Zj82YW6pRi4hIAp988gm9e/fm999/t9+8JHKzy5cvU7JkSVq2bJng2wERSTuaZiAicht79uzhyJEjDB8+nBYtWiiRFcC60eu9996jXr165MmTh2PHjvHhhx9y9epV+zQoEUkfSmZFRG7jf//7H2fOnKFWrVpJ3hUuWY+3tzdHjx7l5Zdf5tKlS/j5+fHII48wefJk/YdHJJ1pmoGIiIiIZFgqzSUiIiIiGZaSWRERERHJsJTMikv79ddf6dKlC8WKFcPHx4ds2bJRuXJlRo8e7bA8Yd26dbHZbDRq1CjBOY4ePYrNZmPs2LEpvn5kZCQTJ07k0UcfJVeuXHh5eVGoUCGeeeYZhzXl7yQlCyfMnDkTm83Grl27UhxvWunfvz82m41mzZrd1fF169bl6NGjqRtUBpOS12Dz5s3YbLYkf2bOnOlw3rR47wNER0fblztNrD5oYs6ePcuwYcOYMGECcXFxd9y/a9euicaemFmzZtG2bVtKlSqFm5tbkp+radOmUahQIa5fv56s88YbOnSow2t7JxcvXmTw4MGUKVMGf39/cuTIQenSpenQoQO//vpriq6dXuLfW5s3b07X665Zs4ahQ4eyYcOGO+57+fJl8ubNy4IFC+6479WrV3n99ddp2LAh+fLlw2azMXTo0ET3rV27Nn379k1h5JIRKJkVl/X5559TpUoVdu7cyWuvvcbq1av55ptvePrpp5k8eTLPP/98gmPWrFnDxo0bU+X6Fy5coGbNmvTv358HH3yQmTNnsmHDBsaNG4e7uzv169dn3759SR4fX8D/ZhcvXmT48OFERUWlSozpITo62r7i1+rVqzl16lSyjvvkk0/Yv3+/Q9v169d5//33s8w66ff6Grz//vvs2LEjwU/Tpk0T7Jua7/14y5cvty/ZGr9U6u2cO3eOxx57jFGjRtGvXz+6du1624R2z549fPnll/YVuO5k9uzZ/PHHHzz00EOUKFEiyf06deqEv78/o0ePvuM5ly1bxsqVKx3ajDHMmTPntqt5Xbt2jUceeYSZM2fywgsv8N133zF37lxeeukljhw5wt69e5P1nNJb5cqV2bFjB5UrV063ay5dupTmzZszZswYmjRpwqpVq267/7BhwwgKCqJNmzZ3PPfFixeZOnUqkZGRtGzZ8rb7jhgxgs8++4yDBw+mJHzJCJxa5VYkCT/88INxd3c3jRo1SlC82xhjIiMjzbfffmvfrlOnjilZsqQpXry4qVKliomLi7M/dqei5Ulp3Lix8fDwMBs2bEj08Z9//tkcO3Ys0cfi4uLMwoULTbVq1cwbb7xhAgMDzdixY03lypXNF198YaKjo5O87owZMwxgdu7cmaJ408rXX39tANO0aVMDmPfeey9Zx61du9bUrl3bdO/e3VSsWNEMHz7cVKpUyYwdO9aEh4encdSu4W5fg6SKxScmLd778Zo2bWq8vLxMgwYNjJubmzlx4kSS+54/f96UK1fOBAYGmr1795ovvvjCeHh4mK5duzrEdLNnnnnGPPLII8mOJzY21iG22y3wMXbsWJMjRw5z/fr1257zzz//NO3atTNPPPGEadu2renevbt59NFHzSuvvGJOnTqV5HHTp083gNm4ceMdY83Kli1bZjw9PU2rVq3MhQsXTNOmTY23t7dZs2ZNovtfvHjR+Pr6OiwacTtxcXH299f58+cTXQjnZg8++KB58cUXU/w8xLUpmRWX1KxZM+Ph4WGOHz+erP3jV8qaP3++Acz8+fPtj93NP+i7du0ygOnWrVuKY79ZTEyMad++vQHMY489lqwkLqlk9ttvvzWPPPKI8fX1NdmyZTOPP/64+eGHHxz2iV+p6ffffzdt27Y1AQEBJn/+/KZLly7m8uXLd/UcGjVqZLy8vMy5c+dMcHCwue+++5JMThIzaNAgA5hy5cqZ8+fPJ+uYkydPmhdffNEULlzYvspY69atHVZTO3bsmGnfvr3Jly+f8fLyMqVLlzZjx451SCLi+3706NHmgw8+MEWLFjU+Pj6mTp065uDBgyYqKsoMHDjQBAYG2lcbO3v2rEMs8atNLVmyxJQrV854e3ubYsWKmY8++ijNXoOUJrOp+d6Pd+rUKePu7m5at25t1q5dawAzYsSIRPe9ePGiqVChgildurQ5evSovX3FihXG39/fdOvWLcF75syZM8bT09N8+umnKY7NmDsns6GhocZms5lp06Yl63zffvutffW+n3766Y77jxkzxgDmwIEDd9w3sRX6jEl8ZTX+f6Wt6dOnm5IlSxofHx9TpUoVs2PHDhMXF2dGjx5tQkJCjL+/v6lXr575+++/k/X84sW/t+JXNoyXFr9fVq5caby9vU3Pnj3tn8uYmBjzwgsvGF9f3wQrqhljzLhx44ynp2eCFQWTIznJ7KhRo4y/v78JCwtL8fnFdWmagbic2NhYNm7cSJUqVQgODk7RsW3atKFKlSq89dZbREdH33UMa9euBbjj11a3s2TJEmrWrEmRIkUIDAykcePGPProo0yfPp2YmJgUnWvevHm0aNGCgIAA5s+fz7Rp0/j333+pW7cu33//fYL9W7duTcmSJVm8eDGDBg1i3rx59OvXL8XP4eTJk6xdu5YWLVqQL18+OnXqxKFDh9i6desdj920aRP16tXj33//pWLFijz99NM0bNiQ8ePHc+PGjSSPO3XqFNWqVeObb76hf//+rFq1igkTJpAjRw7+/fdfAM6fP0+NGjVYu3YtI0aM4LvvvuPxxx9nwIABvPLKKwnO+emnn7J9+3Y+/fRTvvjiC/7880+aN2/O888/z/nz55k+fTqjR49m/fr1vPDCCwmO37t3L3379qVfv35888031KhRgz59+txxLurdvgbx4uLiiImJSfCTmNR678ebOXMmsbGxdO3alccff5yiRYsyffp0zC3VHC9fvkyDBg3w9/dn+/btFC1a1P5YkyZN2LRpE0uWLEnQL2vXriU6Opp69erdc6yJKViwIKVLl2bFihW33e/vv/+mY8eOfPbZZ/zvf//j2WefpX///vTu3ZvQ0NAkj6tevToAHTt2ZOnSpVy8eDHVYl++fDlffPEFH3zwAfPnz+fq1as0bdqUV199le3btzNx4kSmTp3K/v37ad26dYI+Sam0+P2ydu1aWrVqxZAhQ5g4cSJubla64e7uzueff87rr7/Ok08+mWDu7ooVK6hUqRI5c+a8p+eUlLp163L9+vV0nzMsaczZ2bTIrc6cOWMA07Zt22QfEz86ZYwx69evN4D55JNPjDF3NzrVvXt3A5g///wzZcHf5N1337WPLMePyly4cMEMHTrUREZGJnncrSOzsbGxJigoyJQrV85h1PHq1asmf/78pkaNGva2+JGT0aNHO5zz5ZdfNj4+PikaUTXGmOHDhxvArF692hhjzOHDh43NZjMdOnS447EfffSR+eOPP4wxVv8cOXLEXLt2zbz77rvm4sWLSR7XtWtX4+npafbv35/kPvEjnbeOoPXo0cPYbDZz8OBBY8x/fV+hQgWH127ChAkGME8++aTD8X379jWAuXLlir2taNGixmazmb179zrs26BBAxMQEHDbr7Hv9jWIHz1L6ufmr/tT+71vjPXV7X333WcKFSpkYmJijDH/vbeSmnaTUj169DC+vr4pfk/Gu9PIrDHGtG/f3hQoUOC2+3z77bdm+fLlxhjrOc6YMcPExcWZWbNmme3bt9/22OHDhxsvLy97vxQrVsx0797d7Nu3z2G/lI7MFixY0Fy7ds3etnTpUgOYihUrOrxe8e/jX3/99bZx3uzWkVln/n5JjJ+fn+nevftdHZuckdmoqChjs9nMwIED7zJCcUUamZVMp379+jRs2JDhw4dz9epVp8Xx5ptvJhhZzpMnD0OGDMHLyyvZ5zl48CCnT5+mQ4cO9tENgGzZstG6dWt+/PFHwsPDHY558sknHbbLly9PREQE586dS/Z1jTHMmDGD4OBgGjRoAECxYsWoW7cuixcvJiws7LbH9+7dmzJlyji0+fv78+abb5I7d+4kj1u1ahX16tXjgQceSHKfjRs3UqZMGR566CGH9s6dO2OMSXAjVJMmTRxeu/hz33ojVXz78ePHHdrLli1LhQoVHNratWtHWFgYu3fvTjLOu30N4o0aNYqdO3cm+ClQoECi+6fWe3/Lli0cOnSITp064e7uDkCXLl2w2WxMnz79rs97s9OnT9vvPr9ZbGyswyh0cioiJCV//vycO3futt+EPPnkkwneBzabjQ4dOlCjRo3bnv/tt9/m+PHjTJ8+nW7dupEtWzYmT55MlSpVmD9//l3HXa9ePfz9/e3b8e/Lxo0bO7xe8e3Hjh2762s56/dLYi5fvkx4eDj58+d3aDfGJOvbieTw9PQkZ86cyb6RVTIGJbPicvLmzYufnx9Hjhy563OMGjWKCxcu3HVJoiJFigDcUww3u5eyVPFfXwYGBiZ4LCgoiLi4OPvX7/Hy5MnjsO3t7Q2QrK+2423cuJEjR47w9NNPExYWxuXLl7l8+TLPPPMM4eHhKfrHevPmzckuT3b+/HkKFy58230uXryY5OsR//jNbk0c4/8zkVR7RESEQ3vBggUTXCu+LblfL6fkNYhXvHhxqlatmuDH09MzyWPu9b0P/1Uu+N///mfv9xw5cvDoo4+yePFiLl++fNfnjnfjxg18fHwStJcoUQJPT0/7z/Dhw+/6Gj4+PhhjEvRnUoYOHUrnzp1TdI0CBQrQpUsXJk+ezK+//sqWLVvw8vKiT58+dxGx5V7frynhrN8viYk//tb3xZYtWxzeE56envf0O9XHx+eeYxXXomRWXE582atffvmFkydP3tU5KlasyLPPPsv48ePtpYVS4oknngCskjLOFv8PR2Lz906fPo2bmxu5cuVK9evGJzTjx48nV65c9p8ePXo4PJ7a8uXLd8d+z5MnT5KvB1j/IUpNZ86cSbLt1n/Yne1e3/tXrlxh8eLFAFSrVs2h77dt20ZERATz5s275zjz5s2baHmyZcuWOYxCv/TSS3d9jUuXLuHt7U22bNnuJdQUqV27Ng0bNuT8+fP2kUofHx8iIyMT7HvhwoV0iyspzvr9crtYbn1fxJdovPkn/j+ud+Pff/9N9d8R4lxKZsUlDR48GGMML774YqI1WaOjo1m2bNltz/Huu+8SFRXFsGHDUnz9ypUr07hxY6ZNm5Zk7c5du3Yl+Do6LZQqVYpChQoxb948hxs9rl+/zuLFi6levTp+fn6pes1///2Xb775hpo1a7Jp06YEP+3bt2fnzp38/vvvqXpdsL5K3bRp021rQdavX5/9+/cn+Ip/1qxZ2Gy2VL+p6I8//khQU3jevHlkz549Xet1Jte9vPfnzZvHjRs3GDFiRKJ9nzdv3lSZalC6dGkuXrzIlStXHNrLlSvnMAp9L0nL4cOHE0zzSC1nz55NdApEbGwsf//9N35+fvabmEJCQjh37pzDfy6ioqJYs2ZNmsSWEs74/ZIULy8vihcvzj///OPQnj179gTfTqRkqtbNTp8+TURERJq9L8Q5PJwdgEhiqlevzqRJk3j55ZepUqUKPXr0oGzZskRHR7Nnzx6mTp3Kgw8+SPPmzZM8R7FixejRowcfffTRXcUwa9YsGjVqROPGjenatSuNGzcmV65chIaGsmzZMubPn88vv/xin5KQVtzc3Bg9ejTt27enWbNmdOvWjcjISMaMGcPly5f54IMPUv2ac+fOJSIigt69e1O3bt0Ej+fJk4e5c+cybdo0Pvzww1S99vDhw1m1ahW1a9fmjTfeoFy5cly+fJnVq1fTv39/SpcuTb9+/Zg1axZNmzZl+PDhFC1alBUrVvDZZ5/Ro0cPSpYsmaoxBQUF8eSTTzJ06FACAwOZM2cO69atY9SoUWn6D/3ff//Njz/+mKC9cOHCt52KcS/v/WnTppErVy4GDBiQ6DSAjh07Mn78ePbt25dgHnFK1K1bF2MMP/30Ew0bNkzWMfv377cvQnHmzBnCw8PtK5OVKVPGIUGJi4vj559/TnRxldQwe/ZspkyZQrt27ahWrRo5cuTg5MmTfPHFF/zxxx+888479oSrTZs2vPPOO7Rt25bXXnuNiIgIPv74Y2JjY9MktpRwxu+X26lbt+4dF1W41apVq7h+/bp9nvj+/fvt74smTZo4fEbjP09pVUVDnMR5956J3NnevXtNp06dTJEiRYyXl5fx9/c3lSpVMu+88445d+6cfb+b7+i+2fnz501AQMBd19q8ceOG+fjjj0316tVNQECA8fDwMEFBQaZVq1ZmxYoV9/TckpJUndmlS5eahx9+2Pj4+Bh/f39Tv379BHdbx99tfGst0/hzHjlyJFkxVKxY0eTPn/+2VRceeeQRkzdv3tvuc7dOnDhhunbtagoWLGg8PT1NUFCQeeaZZxxqwB47dsy0a9fO5MmTx3h6eppSpUqZMWPGJFpn9ta+T6qOa2KvfXyd2UWLFpmyZcsaLy8vExISYsaPH5/qz/vW+JL6efPNN+37puZ7f9++fQYwffv2TXKfP//80wCmV69eKX9iN4mNjTUhISHm5ZdfTvYx8e/vxH5uvYN9w4YNBjC//PLLPcWZlP3795tXX33VVK1a1eTLl894eHiYXLlymTp16pjZs2cn2H/lypWmYsWKxtfX1xQvXtxMnDjxtnVmb5bS9/HtJFVnNj1/v9xOfL/9/PPPyT6maNGiSb4vbo2pQ4cOply5cvccp7gWmzH3WKBORCQTCwkJ4cEHH2T58uXODiXTGTduHO+99x6nTp3C19c3Vc/doUMHDh8+zPbt21P1vJL2ypcvT82aNZk0aVKqnjcsLIygoCA+/PBDXnzxxVQ9tziX5syKiIhT9OzZkxw5cvDpp5+m6nn/+ecfFi5cyKhRo1L1vJI+Ro8ezcyZM+/6BuCkfPjhhxQpUoQuXbqk6nnF+TRnVrKcO9UodHNzc6i3mNnExcXdsXanh4d+NWRGrvbe9/HxYfbs2ezZsydVz3v8+HEmTpzIo48+mqrndWXGmDvOwXV3d09Q19cVNWrUiDFjxnDkyJE7lulLiYCAAGbOnKnfb5mQphlIlnOnX+adOnVi5syZ6ROME3Tu3Jkvv/zytvvo10LmlNXf+5nZzJkz7zjiuGnTpkRv6BTJ6JTMSpaza9eu2z6eN2/eFBe3z0iOHj16x/qWVatWTadoJD1l9fd+Znbx4sU7LvJSqlQpsmfPnk4RiaQfJbMiIiIikmFl3omBIiIiIpLpZblZ0HFxcZw+fZrs2bNniInwIiIiIlmNMYarV68SFBR0xxtTs1wye/r0aYKDg50dhoiIiIjcwYkTJ+5Y1SLLJbPxk99PnDhBQECAk6NxvujoaNauXUvDhg3x9PR0djhyC/WP61LfuC71jWtT/7guV+qbsLAwgoODk3XTYpZLZuOnFgQEBCiZxXrj+vn5ERAQ4PQ3riSk/nFd6hvXpb5xbeof1+WKfZOcKaG6AUxEREREMiwlsyIiIiKSYSmZFREREZEMK8vNmU0OYwwxMTF3XOc6M4iOjsbDw4OIiIgs8XxdlaenJ+7u7s4OQ0REJMNRMnuLqKgoQkNDCQ8Pd3Yo6cIYQ8GCBTlx4oTq7jqRzWajcOHCZMuWzdmhiIiIZChKZm8SFxfHkSNHcHd3JygoCC8vr0yf4MXFxXHt2jWyZct2x6LEkjaMMZw/f56TJ09y//33a4RWREQkBZTM3iQqKoq4uDiCg4Px8/NzdjjpIi4ujqioKHx8fJTMOlG+fPk4evQo0dHRSmZFRERSQNlLIpTUSXrL7N8AiIiIpBVlbSIiIiKSYSmZFZc3dOhQKlas6OwwRERExAUpmc0kOnfujM1mw2az4enpSYECBWjQoAHTp08nLi4uReeaOXMmOXPmTJtA78KAAQPYsGFDio4JCQlhwoQJaROQiIiIuAwls5lIo0aNCA0N5ejRo6xatYp69erRp08fmjVrRkxMjLPDu2vZsmUjT548zg5DREREXJCS2TQSGwubN8P8+daf6bEegbe3NwULFqRQoUJUrlyZN954g2+//ZZVq1Yxc+ZM+37jx4+nXLly+Pv7U7RoUV599VWuXbsGwObNm+nSpQtXrlyxj/QOHToUgDlz5lC1alWyZ89OwYIFadeuHefOnbttTCEhIYwYMYJ27dqRLVs2goKC+OSTTxz2OX78OC1atCBbtmwEBATwzDPPcPbsWfvjt04z6Ny5My1btmTs2LEEBgaSJ08eevbsSXR0NAB169bl2LFj9OvXz/4cAI4dO0bz5s3JlSsX/v7+lC1blpUrV97tyy0iIiIuQMlsGliyBEJCoF49aNfO+jMkxGpPb4899hgVKlRgyU0Xd3Nz4+OPP+b3339nxowZbNu2jYEDBwJQo0YNJkyYQEBAAKGhoYSGhjJgwADAKl02YsQI9u3bx9KlSzly5AidO3e+YwxjxoyhfPny7N69m8GDB9OvXz/WrVsHWDVWW7ZsyaVLl9iyZQvr1q3jn3/+oU2bNrc956ZNm/jnn3/YtGkTX375JTNnzrQn7EuWLKFw4cIMHz7c/hwAevbsSWRkJFu3buW3335j1KhRWqRARETkDpwxQJcSqjObypYsgaeeAmMc20+dstoXLYJWrdI3ptKlS/Prr7/at/v27Wv/e9GiRXnjjTcYMGAAkyZNwsvLixw5cmCz2ShYsKDDebp27Wr/e/Hixfn444956KGH7IsuJKVmzZoMGjQIgJIlS7J9+3Y+/PBDGjRowPr16/n11185cuQIwcHBAMyePZuyZcuyc+dOqlWrlug5c+XKxcSJE3F3d6d06dI0bdqUDRs28OKLL5I7d27c3d3tI8jxjh8/TuvWrSlXrpz9OYiIiEjSliyBPn3g5Mn/2goXho8+Sv98JikamU1FsbFWh9+ayMJ/bX37pv//aIwxDnVMN23aRIMGDShUqBA5cuSgR48eXLx4kevXr9/2PHv27KFFixYULVqU7NmzU7duXcBKEm+nevXqCbYPHDgAwIEDBwgODrYnsgBlypQhZ86c9n0SU7ZsWYfFBQIDA+845aF37968++671KxZkyFDhjgk+CIiIuIofoDu5kQW/hugc8Y3zolRMpuKtm1L2OE3MwZOnLD2S08HDhygWLFigDVvtEmTJjz44IMsXryYnTt3MmbMGAD7nNPEXL9+nYYNG5ItWzbmzJnDzp07+eabbwBr+kFKxSfXtyba8ZJqj+fp6ZngfHeq2vDCCy9w+PBhOnTowG+//UbVqlUTzN8VERGRhAN0wRznVcYCzh2gS4yS2VT0/1MzU22/1LBx40Z+++03WrduDcCuXbuIiYlh3LhxPPLII5QsWZIzZ844HOPl5UXsLe/OP//8kwsXLvDBBx9Qq1YtSpcufceR0Hg//vhjgu3SpUsD1ijs8ePHOXHihP3x/fv3c+XKFR544IEUP9/bPQeA4OBgunfvzpIlS3j11Vf5/PPP7/oaIiIimdXNA3QtWMpeKjKW12jLfMB5A3SJUTKbigIDU3e/lIqMjOTMmTOcOnWK3bt38/7779OiRQuaNWtGx44dAShRogQxMTF88sknHD58mNmzZzNjxgyH84SEhHDt2jU2bNjAhQsXCA8Pp0iRInh5edmP++677xgxYkSy4tq+fTujR4/mr7/+4tNPP+Xrr7+mT58+ADz++OOUL1+e9u3bs3v3bn7++Wc6duxInTp1qFq16l2/FiEhIWzdupVTp05x4cIFwJorvGbNGo4cOcLu3bvZuHHjPSXMIiIimVVoKHgTwcf0Yin/Izf/8jPV+ImHE+znbEpmU1GtWtak6KS+HbfZIDjY2i8trF69msDAQEJCQmjUqBGbNm3i448/5ttvv7XPL61YsSLjx49n1KhRPPjgg8ybN4+3337b4Tw1atSge/futGnThnz58jF69Gjy5cvHzJkz+frrrylTpgwffPABY8eOTVZcr776Kr/88guVKlVixIgRjBs3jieeeAKwpgcsXbqUXLlyUbt2bR5//HGKFy/OwoUL7+m1GD58OEePHqVEiRLky5cPgNjYWHr27MkDDzxAo0aNKFWqFJ999tk9XUdERCQzKh59kB95hF5MBGA0r/Eo33MEx5un02qALiVsxiR2u1LmFRYWRo4cObhy5QoBAQEOj0VERHDkyBGKFSuGj4/PXZ0/frI0ON4IFp/gOqOawe3ExcURFhZGQEAAbm6p/3+bkJAQ+vbt61BBQRJK6r0XHR3NypUradKkSYJ5wuJc6hvXpb5xbeof1xUdHc3KFStoevEi7n36YLt+nXPkoyOzWEMjh31tNmsA78gRuOl+7FRzu3ztVk4dmR05ciTVqlUje/bs5M+fn5YtW3Lw4MHbHrN582Z7Ifybf/788890ivr2WrWyEtZChRzbCxd2vURWRERExO7qVSpPmIDHCy9YiWy5x6jIPtbaEiayABMmpE0im1JOTWa3bNlCz549+fHHH1m3bh0xMTE0bNjwjiWiAA4ePGgviB8aGsr999+fDhEnT6tWcPQobNoE8+ZZfx45okRWREREXNTu3Xg8/DDBW7Zg3N3hvffIv2ctExcHuvwAnVMXTVi9erXD9owZM8ifPz+//PILtWvXvu2x+fPnJ2fOnGkY3b1xd4f/L8OapR09etTZIYiIiEhSjIGPP4bXXsMWHU143rx4LVqER506gJWwtmhhVS0IDbXmyNaq5RojsvFcagWwK1euAJA7d+477lupUiUiIiIoU6YMb731FvXq1Uvr8EREREQyjwsXoEsXWL4cgLgWLdj81FM0qFHDYTdXH6BzmWTWGEP//v159NFHefDBB5PcLzAwkKlTp1KlShUiIyOZPXs29evXZ/PmzYmO5kZGRhIZGWnfDgsLA6xJzrcuEhAdHY0xhri4uDsW4M8s4u//i3/e4hxxcXEYY4iOjnZY2Sz+PXq7BS3EOdQ3rkt949rUP67BtnUr7p06YTt1CuPtTdyYMUR27Ur0+vUu0TcpicFlqhn07NmTFStW8P3331O4cOEUHdu8eXNsNhvfffddgseGDh3KsGHDErTPmzcPPz8/hzYPDw8KFixIcHAwXl5eKXsCIvcgKiqKEydOcObMGWJiYpwdjoiIZFaxsZT66itKff01trg4rhYqxK4BAwj7/5VCXUV4eDjt2rVLVjUDl0hme/XqxdKlS9m6dat92dWUeO+995gzZw4HDhxI8FhiI7PBwcFcuHAh0dJcJ06cICQk5K5Lc2U0xhiuXr1K9uzZb7t8rKStiIgIjh49SnBwcILSXOvWraNBgwYqYeNi1DeuS33j2tQ/TnTyJO6dOuH2/8t2xXXqROyECeDvD7hW34SFhZE3b95kJbNOnWZgjKFXr1588803bN68+a4SWYA9e/YQmETVXm9vb7y9vRO0e3p6Juio2NhYbDYbbm5uaVJz1RXFTy2If97iHG5ubthstkTfl5D4+1Vcg/rGdalvXJv6J50tXw6dO8PFi5AtG0yejFv79omWtXKFvknJ9Z2azPbs2ZN58+bx7bffkj17ds6cOQNAjhw58PX1BWDw4MGcOnWKWbNmATBhwgRCQkIoW7YsUVFRzJkzh8WLF7N48WKnPQ8RERERlxQZCQMHwkcfWduVK8OCBeBCJU3vlVOH4iZNmsSVK1eoW7cugYGB9p+blzINDQ3l+PHj9u2oqCgGDBhA+fLlqVWrFt9//z0rVqyglasUO5NUF7/krTPVrVtXq5iJiEjG8vffUKPGf4lsv37www+ZKpEFF5hmcCczZ8502H799dd5/fXX0yiijKtz5858+eWXALi7uxMUFETTpk15//33yZUrl5OjuzehoaFp/hxmzpxJ3759uXz5cqKPL1myxOlfuYiIiCTbnDnQowdcuwZ58sDMmdCsmbOjShMuU5pL7l2jRo2YMWMGMTEx7N+/n65du3L58mXmz5+fZtc0xhAbG4uHR9q9lQoWLJhm506u5NQ+FhERcbpr1+CVV+D/B7ioUwfmziXBMl6ZiO74yUS8vb0pWLAghQsXpmHDhrRp04a1a9c67DNjxgweeOABfHx8KF26NJMmTXJ4/IcffqBixYr4+PhQtWpVli5dis1mY+/evQBs3rwZm83GmjVrqFq1Kt7e3mzbtg1jDKNHj6Z48eL4+vpSoUIFFi1aZD/vv//+S/v27cmXLx++vr7cf//9zJgxA7CmjrzyyisEBgbi4+NDSEgII0eOtB976zSD3377jcceewxfX1/y5MnDSy+9xLVr1+yPd+7cmZYtWzJ27FgCAwPJkycPPXv2vKe6ebdOMwgJCeH999+na9euZM+enSJFijB16lSHY06dOkWbNm3IlSsXefLkoUWLFloRTURE0s7evVC1qpXIurnBsGGwYUOmTmRBI7N3ZgyEhzvn2n5+cJflsg4fPszq1asdvhr//PPPGTJkCBMnTqRSpUrs2bOHF198ETc3N7p168bVq1dp3rw5TZo0Yd68eRw7dizJeaKvv/46Y8eOpXjx4uTMmZO33nqLJUuWMGnSJO6//362bt3Kc889R758+ahTpw5vv/02+/fvZ9WqVeTNm5dDhw5x48YNAD7++GO+++47vvrqK4oUKcKJEyc4ceJEotcNDw+nUaNGPPLII+zcuZNz587xwgsv8MorrzhMSdm0aROBgYFs2rSJQ4cO0aZNGypWrMiLL754V69nYsaNG8eIESN44403WLRoET169KB27dqULl2a8PBw6tWrR61atdi6dSseHh68++67NGrUiF9//VV1jEVEJPUYA59+CgMGWDd8FSoE8+ZBIotJZUZKZu8kPNwqYeEM167Za78lx/Lly8mWLRuxsbFEREQAMH78ePvjI0aMYNy4cfab5YoVK8Yff/zBjBkz6NatG3PnzsVms/H555/j4+NDmTJlOHXqVKIJ4PDhw2nQoAEA169fZ/z48WzcuJHq1asDULx4cb7//numTJlCnTp1OH78OJUqVaJq1aqANbIZ7/jx49x///08+uij2Gw2ihYtmuRznDt3Ljdu3GDWrFn4//9rM3HiRJo3b86oUaMoUKAAALly5WLixIm4u7tTunRpmjZtyoYNG1I1mW3SpAkvv/wyAAMHDuTDDz9k8+bNlC5dmgULFuDm5sYXX3xhr987Y8YMcubMyebNm2nYsGGqxSEiIlnYpUvw/PMQ/w1m8+YwY4Y1TzaLUDKbidSrV49JkyYRHh7OF198wV9//UWvXr0AOH/+PCdOnOD55593SOhiYmLsxYgPHjxI+fLlHYr2P/TQQ4leKz4pBdi/fz8RERH25DZeVFQUlSpVAqBHjx60bt2a3bt307BhQ1q2bEmN/1/7uXPnzjRo0IBSpUrRqFEjmjVrlmSyd+DAASpUqGBPZAFq1qxJXFwcBw8etCezZcuWdVgWNjAwkN9+++0Or2DKlC9f3v53m81GwYIFOXfuHAC//PILhw4dInv27A7HRERE8M8//6RqHCIikkV9/z20awcnToCXF4wZA7163fW3uhmVktk78fOzRkidde0U8Pf357777gOsr+7r1avHsGHDGDFihH1xhM8//5yHH37YfkxcXJz9635jTIJVwJKqOHFzMhl/7hUrVlDolnk58QtWNG7cmGPHjrFixQrWr19P/fr16dmzJ2PHjqVy5cocOXKEVatWsX79ep555hkef/xxhzm3N8eT1EplN7ffWnnAZrPZ40wtt7tGXFwcVapUYe7cuQmOy5cvX6rGISIiWUxsLIwcCUOGQFycVWprwQKrhmwWpGT2Tmy2FH3V70qGDBlC48aN6dGjB0FBQRQqVIjDhw/Tvn17+z5xcXGEhYUBULp0aebOnUtkZKQ9Cd21a9cdr1OmTBm8vb05fvw4derUSXK/fPny0blzZzp37kytWrV47bXXGDt2LAABAQG0adOGNm3a8NRTT9GoUSMuXbqUoIpAmTJl+PLLL7l+/bo9od6+fTtubm6ULFkyZS9QGqpcuTILFy4kf/78d1yGT0REJNlOn4bnnoNNm6zt556Dzz6DW74JzEpUzSATq1u3LmXLluX9998HYOjQoYwcOZKPPvqIv/76i99++40ZM2bw6aefAtCuXTvi4uJ46aWXOHDgAGvWrLEnm0mNhgJkz56dAQMG0K9fP7788kv++ecf9uzZw6effmqvffvOO+/w7bffcujQIf744w+WL1/OAw88AMCHH37IggUL+PPPP/nrr7/4+uuvKViwIDlz5kxwrfbt2+Pj40OnTp34/fff2bRpE7169aJDhw72KQZ3KzY2lr179zr87N+//67O1b59e/LmzUuLFi3Ytm0bR44cYcuWLfTp04eTJ0/eU5wiIpJFrVoFFSpYiay/v1W1YPbsLJ3IgkZmM73+/fvTpUsXBg4cyAsvvICfnx9jxozh9ddfx9/fn3Llytnn0AYEBLBs2TJ69OhBxYoVKVeuHO+88w7t2rVzmEebmBEjRpA/f35GjhzJ4cOHyZkzJ5UrV+aNN94AwMvLi8GDB3P06FF8fX2pVasWCxYsACBbtmyMGjWKv//+G3d3d6pVq8bKlStxc0v4fy0/Pz/WrFlDnz59qFatGn5+frRu3drhRre7de3aNfsc33hFixa9q3Jafn5+bN26lYEDB9KqVSuuXr1KoUKFqF+/vkZqRUQkZaKi4I03YNw4a7tiRWtaQalSTg3LVdhMcpbhykTCwsLIkSMHV65cSZBUREREcOTIEYoVK3bH5C2ziJ9mEBAQkGjyOHfuXLp06cKVK1fw9fV1QoRZQ1LvvejoaFauXEmTJk20ApmLUd+4LvWNa1P/pNDhw9C2LezcaW336gWjR0Ma5Cmu1De3y9dupZFZcTBr1iyKFy9OoUKF2LdvHwMHDuSZZ55RIisiIpLeFiyAl16Cq1chVy6r5FaLFs6OyuUomRUHZ86c4Z133uHMmTMEBgby9NNP89577zk7LBERkazj+nXo0wemTbO2H33UWgQhONi5cbkoJbPi4PXXX+f11193dhgiIiJZ02+/QZs2cOCAVVHprbfgnXfAQylbUvTKiIiIiDibMTBlCvTrBxEREBgIc+dCvXrOjszlKZkVERERcabLl+GFF2DxYmu7cWOr7JYW2UkW1ZlNRBYr8CAuQO85EZEsascOq9TW4sXg6WmV31q+XIlsCiiZvUl8GYrw8HAnRyJZTVRUFADu7u5OjkRERNJFXBx88AHUqgXHjkHx4rB9O/TvD4mUypSkaZrBTdzd3cmZMyfnzp0DrML3t1v5KjOIi4sjKiqKiIiIROvMStqLi4vj/Pnz+Pn54aEJ/iIimd+ZM9CxI6xbZ223bWvNl9WiOndF/3LeomDBggD2hDazM8Zw48YNfH19M33i7src3NwoUqSI+kBEJLNbuxY6dIBz58DXFyZOhC5drMoFcleUzN7CZrMRGBhI/vz5iY6OdnY4aS46OpqtW7dSu3Ztp6/2kZV5eXlpZFxEJDOLjoa334ZRo6ztcuVg4UJ44AHnxpUJKJlNgru7e5aYv+ju7k5MTAw+Pj5KZkVERNLCkSPQrh38+KO13aOHdaOXVtdMFUpmRURERNLK11/Diy/ClSuQMyd88QW0bu3sqDIVfa8pIiIiktpu3IDu3eGZZ6xEtnp12LNHiWwaUDIrIiIikpr++AMeesiqUGCzweDBsGULhIQ4O7JMSdMMRERERFKDMTBtGvTubY3MFigAs2dDgwbOjixTUzIrIiIicq+uXIFu3awKBQANG8KsWVZCK2lK0wxERERE7sXPP0OlSlYi6+Fhld9atUqJbDrRyKyIiIjI3YiLg/HjrTmxMTHWnNj58+GRR5wdWZaiZFZEREQkpc6dg06dYPVqa/vpp2HqVKv8lqQrTTMQERERSYkNG6BCBSuR9fGxqhYsXKhE1kmUzIqIiIgkR0wMvPWWVZ3gzBkoUwZ27oSXXrJKcIlTaJqBiIiIyJ0cP24tSbt9u7X94oswYQL4+Tk1LFEyKyIiInJ7S5dCly5w+TIEBFhzY9u0cXZU8v80zUBEREQkMRER8Mor8L//WYnsQw9ZS9IqkXUpSmZFREREbvXnn/Dww/Dpp9b2a6/Btm1QvLhz45IENM1AREREJJ4x8OWX0LMnhIdDvnzWSl6NGhEbC9s2Q2goBAZCrVrg7u7sgEXJrIiIiAjA1avQowfMnWtt168Ps2dDYCBLlkCfPnDy5H+7Fy4MH30ErVo5J1yxaJqBiIiIyC+/QOXKViLr7g7vvQdr1tgT2aeeckxkAU6dstqXLHFOyGJRMisiIiJZlzFWia3q1eHQIShSBLZsgTfeAHd3YmOtEVljEj8UoG9fiI1Nz6DlZkpmRUREJGu6cAGefBL69YPoaKtqwd69ULOmfZdt2xKOyN7MGDhxwtpPnEPJrIiIiGQ9mzdbS9IuXw7e3lbVgsWLIVcuh91CQ5N3uuTuJ6lPyayIiIhkHTExMGQIPPYYnD4NpUrBTz/Byy8nuiRtYGDyTpvc/ST1KZkVERGRrOHkSatCwfDh1vyArl2tG78qVEjykFq1rKoFieS5gNUeHGztJ86hZFZERERcWmysNStg/nzrz7u62eq776ykdetWyJbNqlowbRr4+9/2MHd3q/wWJExo47cnTFC9WWdSMisiIiIua8kSCAmBevWgXTvrz5CQFJTDioy0yhG0aAGXLkGVKtaStO3aJTuGVq1g0SIoVMixvXBhq111Zp1LiyaIiIiIS4qv73prWaz4+q53TCT/+gvatrWSV4D+/WHkSPDySnEsrVpZ+fC2bVoBzNUomRURERGXc6f6rjabVd+1RYskEsrZs63VvK5fhzx5rCVqmza9p5jc3aFu3Xs6haQBTTMQERERl3PX9V2vXYNOnaBjRyuRrVsX9u2750RWXJeSWREREXE5d1Xfdc8ea07srFng5mZVLVi/PuFkV8lUNM1AREREXE6K6rsaAxMnwoABEBVl3Zk1dy7Urp2mMYpr0MisiIiIuJxk13ctc9FahrZ3byuRffJJa0laJbJZhpJZERERcTnJqe86+6VtuFepCN9+a1Uo+PhjWLrUuuFLsgwlsyIiIuKSkqrvWqRQLL+3GUGdIXWtu8Tuvx9+/BF69Up6KFcyLc2ZFREREZd1a33Xop6nqT6xPbYFm60dOna05stmz+7UOMV5lMyKiIiIS7PXd12xAjp3hgsXrGVoP/vMSmYlS9M0AxEREXFtUVHw6qvQrJmVyFasCLt3K5EVQCOzIiIi4soOHYJnn4Vdu6zt3r1h9Gjw9nZuXOIylMyKiIiIa5o/H7p1g6tXIXdumDHDKr0lchNNMxARERHXcv06PP88tGtnJbK1alm1Y5XISiKUzIqIiIjr+PVXqFoVpk+3ymy98w5s3GitkCCSCE0zEBEREeczBiZNgv79ITISgoJgzhyoV8/ZkYmLUzIrIiIizvXvv/DCC7BkibXdpAnMnAn58jk1LMkYNM1AREREnOeHH6xSW0uWgKcnjB8Py5crkZVkUzIrIiIi6S8uDkaOhNq14fhxKFHCSmz79dOStJIimmYgIiIi6cr7339xb9oUNmywGtq1s+bLBgQ4NzDJkJTMioiISLqxrV1L3b59cbtyBfz8YOJEa4lajcbKXdI0AxEREUl70dEwcCAezZrhc+UKplw5a1WvLl2UyMo90cisiIiIpK0jR6wlaX/6ydps3JjCCxbgqWkFkgqUzIqIiEja+eorePFFCAuDnDmJmTKFX729Kezr6+zIJJPQNAMRERFJfeHh8NJL0KaNlcjWqAF792L+9z9nRyaZjJJZERERSV1//AEPPQSff27Nh33jDdiyBYoWdXZkkglpmoGIiIikDmOsBLZPH4iIgIIFYfZsePxxZ0cmmZiSWREREbl3ly9b0wq+/trafuIJmDUL8ud3aliS+WmagYiIiNybn36CSpWsRNbDA0aPhpUrlchKutDIrIiIiNyduDgYOxbefBNiYiAkBBYsgIcfdnZkkoUomRUREZGUO3sWOnaEtWut7WeegalTIUcO58YlWY6mGYiIiEjKrF8PFSpYiayvr3XT14IFSmTFKZTMioiISPJER1tltho2tEZmy5aFnTvhhRe0JK04jaYZiIiIyJ0dO2YtSbtjh7X90kvw4Yfg5+fcuCTLUzIrIiIit7d4sTX6evkyBATAF1/A0087OyoRQNMMREREJCk3bsDLL8NTT1mJ7MMPw969SmTFpSiZFRERkYQOHLCS10mTrO2BA2HbNihWzLlxidxC0wxERETkP8bAjBnQqxeEh1sLH8yaZa3oJeKClMyKiIiIJSwMuneH+fOt7ccfh9mzoWBB58YlchuaZiAiIiKwaxdUrmwlsu7uMHIkrFmjRFZcnkZmRUREsrK4OJgwAQYNsurIFi0K8+ZBjRrOjkwkWZTMioiIZFXnz0PnzrBypbXdqpVVditXLqeGJZISmmYgIiKSFW3aZC1Ju3IleHvDZ5/BokVKZCXDcWoyO3LkSKpVq0b27NnJnz8/LVu25ODBg3c8bsuWLVSpUgUfHx+KFy/O5MmT0yFaERGRTCAmBt55B+rXh9BQeOAB+Pln6NFDS9JKhuTUZHbLli307NmTH3/8kXXr1hETE0PDhg25fv16ksccOXKEJk2aUKtWLfbs2cMbb7xB7969Wbx4cTpGLiIikgGdOAH16sGIEVYJruefh507oXx5Z0cmctecOmd29erVDtszZswgf/78/PLLL9SuXTvRYyZPnkyRIkWYMGECAA888AC7du1i7NixtG7dOq1DFhERyZi+/Ra6dIF//4Xs2WHKFHj2WWdHJXLPXGrO7JUrVwDInTt3kvvs2LGDhg0bOrQ98cQT7Nq1i+jo6DSNT0REJMOJiIDevaFlSyuRrVoV9uxRIiuZhstUMzDG0L9/fx599FEefPDBJPc7c+YMBQoUcGgrUKAAMTExXLhwgcDAQIfHIiMjiYyMtG+HhYUBEB0dreQX7K+BXgvXpP5xXeob16W+ucnBg3g89xy2ffsAiO3Xj7gRI8DLyyrD5QTqH9flSn2TkhhcJpl95ZVX+PXXX/n+++/vuK/tlgnqxphE28G6yWzYsGEJ2teuXYufn99dRpv5rFu3ztkhyG2of1yX+sZ1ZfW+Cd60ifJTpmCLiCAyIIDdvXtzrmpVWL/e2aEB6h9X5gp9Ex4enux9XSKZ7dWrF9999x1bt26lcOHCt923YMGCnDlzxqHt3LlzeHh4kCdPngT7Dx48mP79+9u3w8LCCA4OpmHDhgQEBKTOE8jAoqOjWbduHQ0aNMDT09PZ4cgt1D+uS33jurJ831y9invv3rjNnQtAXN26uM2cSdWgICcHZsny/ePCXKlv4r9JTw6nJrPGGHr16sU333zD5s2bKVas2B2PqV69OsuWLXNoW7t2LVWrVk30hff29sbb2ztBu6enp9M7ypXo9XBt6h/Xpb5xXVmyb3bvhrZt4e+/wc0Nhg3DbfBg3NzdnR1ZAlmyfzIIV+iblFzfqTeA9ezZkzlz5jBv3jyyZ8/OmTNnOHPmDDdu3LDvM3jwYDp27Gjf7t69O8eOHaN///4cOHCA6dOnM23aNAYMGOCMpyAiIuJ8xsDHH0P16lYiW7gwbN4Mb70FLpjIiqQmpyazkyZN4sqVK9StW5fAwED7z8KFC+37hIaGcvz4cft2sWLFWLlyJZs3b6ZixYqMGDGCjz/+WGW5REQka7p4EVq0gD59ICrK+vu+fVCrlrMjE0kXTp9mcCczZ85M0FanTh12796dBhGJiIhkIFu3Qrt2cOqUVaFg3Djo2VMreUmW4lJ1ZkVERCQZYmNh+HBrNa9Tp6BkSfjpJ3jlFSWykuW4RDUDERERSaZTp6B9e9iyxdru1AkmToRs2Zwbl4iTaGRWREQko1ixAipUsBJZf3+YNQtmzlQiK1maklkRERFXFxkJ/ftDs2bWDV+VKllluDp0cHZkIk6naQYiIiKu7NAhq3bsL79Y2336wKhRkEgNdZGsSMmsiIiIq5o3D7p1g2vXIHdumDEDnnzS2VGJuBQlsyIiIq7m+nXo1ctKXsGqGTtvnrUYgog40JxZERERV7JvH1SpYiWybm4wZAhs3KhEViQJGpkVERFxBcbAZ5/Bq69aN3wFBcHcuVC3rrMjE3FpSmZFRESc7dIleOEF+OYba7tpU6vkVt68Tg1LJCPQNAMRERFn2r7dKrX1zTfg6QkffgjLlimRFUkmJbMiIiLOEBsL778PderA8eNw332wYwf07aslaUVSQNMMRERE0ltoKDz3nHVjF1jL006aBNmzOzcukQxII7MiIiLpafVqa0najRvBz8+qWjB7thJZkbukZFZERCQ9REXBa69B48Zw/jyUL2+t6tW5s6YViNwDTTMQERFJa4cPW0vS7txpbffsCWPHgo+Pc+MSyQSUzIqIiKSlhQvhpZcgLAxy5YJp0+B//3N2VCKZhpJZERGRtBAeDn36wBdfWNs1a1pL0hYp4ty4RDIZzZkVERFJbb//DtWqWYmszQZvvgmbNyuRFUkDGpkVERFJLcbA1KlWrdiICChY0FqS9rHHnB2ZSKalZFZERCQ1XL4ML74IixZZ240awZdfQv78Tg1LJLPTNAMREZF79eOPULGilch6eMCYMbBihRJZkXSgkVkREZG7FRdnJa5vvQUxMVCsGCxYAA895OzIRLIMJbMiIiJ34+xZ6NAB1q2zttu0gSlTIEcO58YlksVomoGIiEhKrVtnLUm7bh34+lpVC+bPVyIr4gRKZkVERJIrOhoGD4YnnrBGZh98EHbtguef15K0Ik6iaQYiIiLJcfQoPPusdbMXQPfuMH68NTIrIk6jZFZEROROFi+2Rl+vXLGmEnzxBTz1lLOjEhE0zUBERCRpN25Ajx5W4nrlCjzyCOzdq0RWxIUomRUREUnM/v1Wia3Jk63tQYNg61YICXFqWCLiSNMMREREbmYMTJ8OvXpZI7P588Ps2dCwobMjE5FEKJkVERGJd+WKdWPXggXWdoMGMGsWFCzo3LhEJEmaZiAiIgKwcydUrmwlsu7u8MEHsHq1ElkRF6eRWRERydri4uDDD605sTExULSotQBC9erOjkxEkkHJrIiIZF3nz0OnTrBqlbXdurVVditnTqeGJSLJp2kGIiKSNW3caC1Ju2oV+PhYVQu+/lqJrEgGo2RWRESylpgYePttePxxCA2FBx6An3+Gbt20JK1IBqRpBiIiknUcPw7t2sH27db2Cy/AhAng7+/UsETk7imZFRGRrGHpUujaFf79F7Jnh6lToW1bZ0clIvdI0wxERCRzi4iwFkD43/+sRLZaNWtJWiWyIpmCklkREcm8Dh6ERx6BiROt7QED4PvvoXhx58YlIqlG0wxERCTzMQbbrFnQpw9cvw5581oreTVu7OzIRCSVKZkVEZHM5epVKk+YgMeWLdb2Y4/B7NkQFOTcuEQkTWiagYiIZB67d+Px8MMEb9mCcXeHd9+FtWuVyIpkYhqZFRGRjM8Y+PhjeO01bNHRhOfNi9fXX+NRt66zIxORNHbXI7NRUVEcPHiQmJiY1IxHREQkZS5cgCefhL59ITqauCefZPOHH2Jq1nR2ZCKSDlKczIaHh/P888/j5+dH2bJlOX78OAC9e/fmgw8+SPUARUREkrRlC1SsCMuXg7c3TJxI7NdfE509u7MjE5F0kuJkdvDgwezbt4/Nmzfj4+Njb3/88cdZuHBhqgYnIiKSqNhYGDrUurnr1CkoVQp+/BF69tSStCJZTIrnzC5dupSFCxfyyCOPYLvpF0aZMmX4559/UjU4ERGRBE6ehPbtYetWa7tzZ/jkE8iWzalhiYhzpHhk9vz58+TPnz9B+/Xr1x2SWxERkVS3fLk1rWDrVit5nT0bZsxQIiuShaU4ma1WrRorVqywb8cnsJ9//jnVq1dPvchERETiRUZCv37QvDlcvAiVK8Pu3fDcc86OTEScLMXTDEaOHEmjRo3Yv38/MTExfPTRR/zxxx/s2LGDLfEFqkVERFLL339D27ZW8gpW1YIPPrBu+BKRLC/FI7M1atRg+/bthIeHU6JECdauXUuBAgXYsWMHVapUSYsYRUQkq5oz579R2Dx5YNky+PBDJbIiYndXiyaUK1eOL7/8MrVjERERsVy7Bq+8AvH/1tSuDXPnQuHCzo1LRFxOipPZ+LqySSlSpMhdByMiIsLevda0goMHwc0N3nkH3noL3N2dHZmIuKAUJ7MhISG3rVoQGxt7TwGJiEgWZQx8+ikMGGDd8FWokDUaW6eOsyMTEReW4mR2z549DtvR0dHs2bOH8ePH895776VaYCIikoVcugTPPw9Ll1rbzZpZJbfy5nVqWCLi+lKczFaoUCFBW9WqVQkKCmLMmDG0atUqVQITEZEs4vvvoV07OHECPD1hzBjo3VsreYlIsqS4mkFSSpYsyc6dO1PrdCIiktnFxsK771rTCE6cgPvugx07oE8fJbIikmwpHpkNCwtz2DbGEBoaytChQ7n//vtTLTAREcnETp+GDh1g40Zr+7nn4LPPIHt258YlIhlOipPZnDlzJrgBzBhDcHAwCxYsSLXAREQkk1q1Cjp2hAsXwM/PSmI7dXJ2VCKSQaU4md20aZPDtpubG/ny5eO+++7Dw+OuytaKiEhWEBUFb7wB48ZZ2xUqwMKFUKqUc+MSkQwtxdlnHZVIERGRlDp82KodG39vRa9eMHo0+Pg4Ny4RyfCSlcx+9913yT7hk08+edfBiIhIJrRgAbz0Ely9CrlyWSW3WrRwdlQikkkkK5lt2bJlsk5ms9m0aIKIiFiuX7cqE0ybZm0/+qi1CIJWihSRVJSsZDYuLi6t4xARkczkt9+gTRs4cMAqs/XmmzBkCOjeChFJZfqtIiIiqccYmDIF+vWDiAgIDIQ5c+Cxx5wdmYhkUneVzF6/fp0tW7Zw/PhxoqKiHB7r3bt3qgQmIiIZzOXL8MILsHixtd24MXz5JeTL59SwRCRzS3Eyu2fPHpo0aUJ4eDjXr18nd+7cXLhwAT8/P/Lnz69kVkQkK9qxA559Fo4ds5ak/eAD6NsX3FJtoUkRkUSl+LdMv379aN68OZcuXcLX15cff/yRY8eOUaVKFcaOHZsWMYqIiKuKi7MS11q1rES2eHHYvh3691ciKyLpIsW/afbu3curr76Ku7s77u7uREZGEhwczOjRo3njjTfSIkYREXFFZ85Ao0YweDDExlp1ZPfsgWrVnB2ZiGQhKU5mPT097cvZFihQgOPHjwOQI0cO+99FRCSTW7vWWsFr3Trw9bXKb82bBwEBzo5MRLKYFM+ZrVSpErt27aJkyZLUq1ePd955hwsXLjB79mzKlSuXFjGKiIiriI6Gt9+GUaOs7XLlrEURypRxblwikmUle2Q2JiYGgPfff5/AwEAARowYQZ48eejRowfnzp1j6tSpaROliIg435EjULv2f4lsjx7w009KZEXEqZI9MhsYGEinTp3o2rUrVatWBSBfvnysXLkyzYITEREXsWiRVXbryhXIkcOaVtC6tbOjEhFJ/shs//79WbZsGeXKlaN69epMmzaNa9eupWVsIiLibDduQPfu8PTTViJbvTrs3atEVkRcRrKT2cGDB3Pw4EE2b95M6dKl6du3L4GBgXTp0oXt27enZYwiIuIMf/wBDz1krehls1lVC7ZsgZAQZ0cmImKX4moGtWrVYsaMGZw5c4YJEyZw6NAhatWqRalSpRg9enRaxCgiIunJGPjiC6vE1u+/Q4ECsGYNvP++tSCCiIgLueuK1v7+/jz//PNs27aNZcuWceHCBQYPHpyasYmISHq7csVayevFF60pBg0bwr590KCBsyMTEUnUXSez4eHhzJgxg9q1a/Pkk0+SJ08e3nvvvdSMTURE0tPPP0OlSrBwIXh4WFULVq2yRmZFRFxUiuvMbtu2jRkzZrBo0SJiY2N56qmnePfdd6ldu3ZaxCciImktLg7Gj7fmxMbEWHNi58+HRx5xdmQiIneU7GT2/fffZ+bMmfzzzz9UrVqVMWPG8OyzzxKg1V5ERDKuc+egUydYvdrafvppmDoVcuZ0algiIsmV7GT2ww8/5LnnnuP555/nwQcfTMuYREQkPWzYAM89B2fOgI8PfPSRNVf2/5csFxHJCJKdzJ4+fRpP3cUqIpLxxcTA0KFWdQJjrBW8Fi4EDVSISAaU7GRWiayISCZw/Di0awfx9cFffBEmTAA/P6eGJSJyt1J8A5iIiGRQ33wDXbvC5csQEGDNjW3TxtlRiYjck7suzSUiIhlERAS88gq0amUlsg89BHv2KJEVkUxByayISGb255/w8MPw6afW9muvwbZtULy4c+MSEUkldzXNIC4ujkOHDnHu3Dni4uIcHlO9WRERF2AMfPkl9OwJ4eGQLx/MmgWNGjk7MhGRVJXiZPbHH3+kXbt2HDt2DGOMw2M2m43Y2Nhkn2vr1q2MGTOGX375hdDQUL755htatmyZ5P6bN2+mXr16CdoPHDhA6dKlk31dEZFM7epV6NED5s61tuvXh9mzITDQuXGJiKSBFCez3bt3p2rVqqxYsYLAwEBs91CP8Pr161SoUIEuXbrQunXrZB938OBBh8Ua8uXLd9cxiIhkKr/8Am3bwqFD4O4Ow4fDwIHW30VEMqEUJ7N///03ixYt4r777rvnizdu3JjGjRun+Lj8+fOTU6vTiIj8xxhr0YPXX4foaChSBObNg5o1nR2ZiEiaSnEy+/DDD3Po0KFUSWbvVqVKlYiIiKBMmTK89dZbiU49iBcZGUlkZKR9OywsDIDo6Giio6PTPFZXF/8a6LVwTeof1+VSfXPhAu4vvIDbypUAxLVoQeyUKZA7t5XYZjEu1TeSgPrHdblS36QkBpu5deLrHXzzzTe89dZbvPbaa5QrVy7BYgrly5dPyen+C8Rmu+Oc2YMHD7J161aqVKlCZGQks2fPZvLkyWzevDnJG8+GDh3KsGHDErTPmzcPPxUJF5EMLs/vv1Nl/Hh8L10i1tOT37t04WjjxlqSVkQytPDwcNq1a8eVK1ccppYmJsXJrJtbwmpeNpsNY0yKbwC79Rx3SmYT07x5c2w2G999912ijyc2MhscHMyFCxfu+OJkBdHR0axbt44GDRpolTcXpP5xXU7vm5gY3N5/H7f338cWF4cpWZKYuXOhQoX0j8XFOL1v5LbUP67LlfomLCyMvHnzJiuZTfE0gyNHjtx1YGnhkUceYc6cOUk+7u3tjbe3d4J2T09Pp3eUK9Hr4drUP67LKX1z8iS0bw9bt1rbXbpg++QTPP390zcOF6fPjWtT/7guV+iblFw/xcls0aJFU3pImtqzZw+BKjcjIlnFsmXQuTNcugTZssHkyVZiKyKSRd3Vogn//PMPEyZM4MCBA9hsNh544AH69OlDiRIlUnSea9eucejQIfv2kSNH2Lt3L7lz56ZIkSIMHjyYU6dOMWvWLAAmTJhASEgIZcuWJSoqijlz5rB48WIWL158N09DRCTjiIy0Smx99JG1XaUKLFgATrwZV0TEFaQ4mV2zZg1PPvkkFStWpGbNmhhj+OGHHyhbtizLli2jQYMGyT7Xrl27HCoR9O/fH4BOnToxc+ZMQkNDOX78uP3xqKgoBgwYwKlTp/D19aVs2bKsWLGCJk2apPRpiIhkHH//DW3awJ491na/fvDBB+Dl5dy4RERcQIqT2UGDBtGvXz8++OCDBO0DBw5MUTJbt27dBKuI3WzmzJkO26+//jqvv/56iuIVEcnQ5syxVvO6dg3y5LGWqG3a1NlRiYi4jISlCe7gwIEDPP/88wnau3btyv79+1MlKBGRLO/aNejUCTp0sP5epw7s26dEVkTkFilOZvPly8fevXsTtO/du5f8+fOnRkwiIlnb3r3WnNhZs8DNDYYNgw0boFAhZ0cmIuJyUjzN4MUXX+Sll17i8OHD1KhRA5vNxvfff8+oUaN49dVX0yJGEZGswRj49FN49VWIioLChWHuXEhiURgREbmLZPbtt98me/bsjBs3jsGDBwMQFBTE0KFD6d27d6oHKCKSJVy8CM8/D99+a20/+SRMn27NkxURkSSlOJm12Wz069ePfv36cfXqVQCyZ8+e6oGJiGQZ27ZBu3bWYgheXjBmDPTqpSVpRUSS4a7qzMZTEisicg9iY+H992HoUIiLg/vvh4ULoVIlZ0cmIpJhJCuZrVy5Mhs2bCBXrlxUqlQJ221GC3bv3p1qwYmIZFqnT8Nzz8GmTdZ2hw7WfFkNEoiIpEiyktkWLVrg7e1t//vtklkREbmDlSutslsXLoC/P3z2GXTs6OyoREQypGQls0OGDLH/fejQoWkVi4hI5hYVBYMHw/jx1nbFita0gpIlnRqWiEhGluI6s8WLF+fixYsJ2i9fvkzx4sVTJSgRkUznn3+gZs3/EtneveHHH5XIiojcoxTfAHb06FFiY2MTtEdGRnLy5MlUCUpEJFOZPx+6dYOrVyF3bqvkVosWzo5KRCRTSHYy+91339n/vmbNGnLkyGHfjo2NZcOGDRQrVix1oxMRyciuX7dGYKdPt7YffRTmzYPgYOfGJSKSiSQ7mW3ZsiVg1Znt1KmTw2Oenp6EhIQwbty4VA1ORCTD+vVXaNMG/vzTqhf79tvWj8c9VUQUEZFbJPu3alxcHADFihVj586d5M2bN82CEhHJsIyByZOhXz+IjISgIJgzB+rVc3ZkIiKZUoqHCI4cOZIWcYiIZHz//gsvvgiLF1vbTZrAzJmQL59TwxIRycxSXM2gd+/efPzxxwnaJ06cSN++fVMjJhGRjGfHDmvlrsWLwdPTqlqwbJkSWRGRNJbiZHbx4sXUrFkzQXuNGjVYtGhRqgQlIpJhxMXByJFQqxYcOwYlSsAPP1jTDNxS/CtWRERSKMXTDC5evOhQySBeQEAAFy5cSJWgREQyAu9//8W9aVPYsMFqePZZa75sQIBzAxMRyUJSPGxw3333sXr16gTtq1at0qIJIpJl2NaupW7fvrht2AB+flb5rblzlciKiKSzFI/M9u/fn1deeYXz58/z2GOPAbBhwwbGjRvHhAkTUjs+ERHXEh0Nb72Fx+jReADmwQexffUVPPCAsyMTEcmSUpzMdu3alcjISN577z1GjBgBQEhICJMmTaJjx46pHqCIiMs4csSaSvDTT9Zm48YUXrAAT43Giog4zV1V7+7Rowc9evTg/Pnz+Pr6ki1bttSOS0TEtXz9NbzwAoSFQc6cxEyZwq/e3hT29XV2ZCIiWdo93WqbL18+JbIikrmFh0O3bvDMM1YiW7067N2L+d//nB2ZiIhwF8ns2bNn6dChA0FBQXh4eODu7u7wIyKSafzxBzz0EEydai1J+8YbsGULFC3q7MhEROT/pXiaQefOnTl+/Dhvv/02gYGB2Gy2tIhLRMR5jIEvvoA+feDGDShYEGbPhscfd3ZkIiJyixQns99//z3btm2jYsWKaRCOiIiTXbkCL70EX31lbT/xBHz5JRQo4Ny4REQkUSmeZhAcHIwxJi1iERFxrp9+spak/eor8PCA0aNh5UolsiIiLizFyeyECRMYNGgQR48eTYNwREScIC4OxoyBRx+1ym+FhMD338Nrr2lJWhERF5fiaQZt2rQhPDycEiVK4Ofnh6enp8Pjly5dSrXgRETS3Llz0LEjrFljbT/9tHXDV86cTg1LRESSJ8XJrFb5EpFMY/166NABzpwBHx/4+GOrlqxubBURyTBSnMx26tQpLeIQEUk/MTEwZAiMHGlVLihbFhYutP4UEZEMJcXJ7PHjx2/7eJEiRe46GBGRNHfsGLRrBz/8YG2/9BJ8+CH4+Tk3LhERuSspTmZDQkJuW1s2Njb2ngISEUkzS5bA88/D5csQEGDVkn36aWdHJSIi9yDFyeyePXsctqOjo9mzZw/jx4/nvffeS7XARERSTUQEvPoqfPaZtf3QQ7BgARQr5ty4RETknqU4ma1QoUKCtqpVqxIUFMSYMWNo1apVqgQmIpIqDhyAtm3h11+t7ddfh3ffhVsqsYiISMaU4mQ2KSVLlmTnzp2pdToRkXtjDMycCa+8AuHhkD8/zJplreglIiKZRoqT2bCwMIdtYwyhoaEMHTqU+++/P9UCExG5a2Fh0KMHzJtnbT/+OMyeDQULOjcuERFJdSlOZnPmzJngBjBjDMHBwSxYsCDVAhMRuSu7dlnTCv75B9zdYcQIGDhQK3mJiGRSKU5mN23a5LDt5uZGvnz5uO+++/DwSLVZCyIiKRMXBxMmwKBBEB0NRYrA/PlQo4azIxMRkTSU7OzznXfeYdCgQdSpUweAf//9l1y5cqVZYCIiyXb+PHTuDCtXWtutWlllt/Q7SkQk00v2927vvfce165ds28XLVqUw4cPp0lQIiLJtnkzVKxoJbLe3lb5rUWLlMiKiGQRyU5mjTG33RYRSVfxS9I+9hicPg2lS8PPP1s3ft1mYRcREclcNMlVRDKeEyegfXvYts3a7toVPv4Y/P2dG5eIiKS7ZCezNpuNq1ev4uPjgzEGm83GtWvXEpTqCggISPUgRUTsvvsOunSBS5cge3aYMgWefdbZUYmIiJMkO5k1xlCyZEmH7UqVKjls22w2YmNjUzdCERGAyEh47TX45BNru2pVa0naEiWcG5eIiDhVspPZW0tyiYikm7/+smrH7tljbb/6Krz/Pnh5OTcuERFxumQns/EluURE0tWsWfDyy3D9OuTNC19+CU2aODsqERFxEboBTERc07VrVhI7e7a1XbcuzJkDhQo5NSwREXEtWt9RRFzPnj1QubKVyLq5WUvSrl+vRFZERBLQyKyIuA5jrBu8XnsNoqKgcGGYNw9q1XJ2ZCIi4qKUzIqIa7h40aoX+9131naLFjBtGuTJ49y4RETEpWmagYg439at1pK0331nVSj45BP45hslsiIickdKZkXEeWJjYfhwqFcPTp6EkiXhp5/glVe0JK2IiCSLphmIiHOcOgXPPQebN1vbnTrBxImQLZtTwxIRkYxFyayIpL8VK6zk9eJF8PeHSZOgQwdnRyUiIhmQphmISPqJioL+/aFZMyuRrVQJdu9WIisiIndNI7Mikj4OHbKWpP3lF2u7Tx8YNQq8vZ0bl4iIZGhKZkUk7c2bB926Wat65c4NM2bAk086OyoREckElMyKSNq5fh169bKSV7AWP5g3z1oMQUREJBVozqyIpI19+6BqVSuRdXODIUNg40YlsiIikqo0MisiqcsYqzpB//4QGQlBQTB3LtSt6+zIREQkE1IyKyKp599/4fnnrdW7AJo2hZkzIW9ep4YlIiKZl6YZiEjq2L7dWpL2m2/A0xM+/BCWLVMiKyIiaUrJrIjcm9hYeP99qFMHjh+HEiVgxw7o21dL0oqISJrTNAMRuXuhodaCBxs2WNvt2lnzZQMCnBuXiIhkGRqZFZG7s3o1VKhgJbJ+flbVgjlzlMiKiEi6UjIrIikTFQWvvw6NG8P581C+vLWqV+fOmlYgIiLpTtMMRCT5Dh+GZ5+Fn3+2tnv2hLFjwcfHuXGJiEiWpWRWRJLnq6/gxRchLAxy5oTp0+F//3N2VCIiksVpmoGI3F54OLz0ErRpYyWyNWrA3r1KZEVExCUomRWRpP3+O1SrBp9/bs2HffNN2LIFihZ1dmQiIiKAphmISGKMsRLYPn0gIgIKFrQqFdSv7+zIREREHCiZFRFHly9b0wq+/trabtQIvvwS8ud3algiIiKJ0TQDEfnPTz9BpUpWIuvhAWPGwIoVSmRFRMRlaWRWRCAuziqx9eabEBMDxYrBggXw0EPOjkxEROS2lMyKZHVnz0LHjrB2rbXdpg1MmQI5cjg3LhERkWTQNAORrGz9emtJ2rVrwdfXuulr/nwlsiIikmEomRXJiqKj4Y03oGFDa2S2bFnYuRNeeEFL0oqISIaiaQYiWc3Ro9CuHezYYW137w7jx1sjsyIiIhmMklmRrGTxYmv09fJlayrB55/D0087OyoREZG7pmkGIlnBjRvw8svw1FNWIvvww7BnjxJZERHJ8JTMimR2Bw5YyeukSdb2wIGwbZtVfktERCSD0zQDkczKGJgxA3r1gvBwa+GD2bOtm75EREQyCSWzIplRWJh1Y9f8+dZ2gwYwaxYULOjcuERERFKZphmIZDa7dllL0s6fD+7uMHIkrF6tRFZERDIljcyKZBZxcTBhAgwaZNWRLVrUSmirV3d2ZCIiImlGyaxIZnD+PHTqBKtWWdutW8MXX0DOnE4NS0REJK1pmoFIRrdpk7Uk7apV4OMDkyfD118rkRURkSzBqcns1q1bad68OUFBQdhsNpYuXXrHY7Zs2UKVKlXw8fGhePHiTJ48Oe0DFXFFMTHwzjtQvz6EhsIDD8DPP0O3blqSVkREsgynJrPXr1+nQoUKTJw4MVn7HzlyhCZNmlCrVi327NnDG2+8Qe/evVm8eHEaRyriYk6cgHr1YMQIqwTX88/Dzp1QrpyzIxMREUlXTp0z27hxYxo3bpzs/SdPnkyRIkWYMGECAA888AC7du1i7NixtG7dOo2iFHEx334LXbrAv/9C9uwwdSq0bevsqERERJwiQ82Z3bFjBw1vKfj+xBNPsGvXLqKjo50UlUg6iYiwFkBo2dJKZKtVs5akVSIrIiJZWIaqZnDmzBkKFCjg0FagQAFiYmK4cOECgYGBCY6JjIwkMjLSvh0WFgZAdHS0EmCwvwZ6LVxTfL/E/PEHHp07Y9u3D4DY/v2JGz4cvLysMlyS7vTZcV3qG9em/nFdrtQ3KYkhQyWzALZbbmwxxiTaHm/kyJEMGzYsQfvatWvx8/NL/QAzqHXr1jk7BElC8KZNeE6Zgi0igsiAAHb36cO5KlVg/Xpnhybos+PK1DeuTf3julyhb8LDw5O9b4ZKZgsWLMiZM2cc2s6dO4eHhwd58uRJ9JjBgwfTv39/+3ZYWBjBwcE0bNiQgICANI03I4iOjmbdunU0aNAAT09PZ4cjN7t6FVvPnngsWABAXL16uM2YQdWgICcHJqDPjitT37g29Y/rcqW+if8mPTkyVDJbvXp1li1b5tC2du1aqlatmuSL7u3tjbe3d4J2T09Pp3eUK9Hr4WJ274Y2beDQIYybG3FDhuD+5pu4ubs7OzK5hT47rkt949rUP67LFfomJdd36g1g165dY+/evezduxewSm/t3buX48ePA9aoaseOHe37d+/enWPHjtG/f38OHDjA9OnTmTZtGgMGDHBG+CKpzxj46CNrCdpDhzDBwXz/7rvEDR4MSmRFREQScGoyu2vXLipVqkSlSpUA6N+/P5UqVeKdd94BIDQ01J7YAhQrVoyVK1eyefNmKlasyIgRI/j4449Vlksyh4sXoUUL6NsXoqKgZUtidu7kUpkyzo5MRETEZTl1mkHdunXtN3AlZubMmQna6tSpw+7du9MwKhEn2LoV2rWDU6esCgXjx8PLL1urfImIiEiSMlSdWZFMJzYWhg2zVvM6dQpKlYKffoKePbUkrYiISDJkqBvARDKVU6egfXvYssXa7twZPvkEsmVzalgiIiIZiUZmRZxh+XKoUMFKZLNlg9mzYcYMJbIiIiIppGRWJD1FRkK/ftC8uXXDV+XKVhmu555zdmQiIiIZkpJZkfTy999QowZMmGBt9+0LP/wA99/vzKhEREQyNM2ZFUkPc+dC9+5w7RrkyWNNKWje3NlRiYiIZHhKZkXS0vXr8MorEF9mrnZtK7EtXNipYYmIiGQWmmYgklb27YMqVaxE1s0Nhg6FjRuVyIqIiKQijcyKpDZj4LPP4NVXrRu+ChWyRmPr1HF2ZCIiIpmOklmR1HTpEjz/PCxdam03a2bNj82b16lhiYiIZFaaZiCSWrZvh4oVrUTW09OqWvDdd0pkRURE0pCSWZF7FRsL771nTSM4cQLuuw927IA+fbQkrYiISBrTNAORexEaai14sHGjtd2+PUyaBNmzOzcuERGRLEIjsyJ3a9Uqa0najRvBz8+qWjB7thJZERGRdKRkViSloqLgtdegSRM4f95KaHfvhk6dNK1AREQknWmagUhKHD4MbdvCzp3W9iuvwJgx4OPj3LhERESyKCWzIsm1cCG89BKEhUGuXDB9OrRs6eyoREREsjRNMxC5k/BwePFFa0Q2LAxq1oS9e5XIioiIuAAlsyK389tvUK0afPGFNR/2rbdg82YoUsTZkYmIiAiaZiCSOGNg6lTo2xciIiAwEObMgccec3ZkIiIichMlsyK3unzZmlawaJG13bixVXYrf35nRiUiIiKJ0DQDkZv9+KO1JO2iReDhAWPHwvLlSmRFRERclEZmRQDi4qwSW2++aS1PW7w4LFhgzZcVERERl6VkVuTsWejQAdats7bbtoUpUyAgwLlxiYiIyB1pmoFkbevWWSt4rVsHvr5W1YJ585TIioiIZBAamZVMLzYWtm2D0FCrKEGtWuAeFw3vvAMffGDt9OCD1qIIZco4N1gRERFJESWzkqktWQJ9+sDJk/+1PVLwKMsDniXPXz9aDd27w/jx1sisiIiIZChKZiXTWrIEnnrKKhkbrzWL+OLMC+Q8c4Uovxx4zZoGrVs7L0gRERG5J5ozK5lSbKw1IhufyPpwg8/owSKeJidX2MEj1M2xl9iWSmRFREQyMiWzkilt2/bf1IK3GMEN/OjBZABGMojabGVHaAjbtjkxSBEREblnmmYgmVJoKIDB3PL/tSdYzVqeuGU/ERERyag0MiuZUomIPxIkso+zziGRBau6gYiIiGRcGpmVzKdLFx6aOdOhyZMoYvC0b9tsULiwVaZLREREMi4ls5J5xMSAp6dD03za0t4236Gigc1m/TlhAri7p194IiIikvo0zUAyh82bEySy7N2L9+L5FCrk2Fy4MCxaBK1apVt0IiIikkY0MisZX82a8MMPjm1xcWCz0aoCtGiRyApgGpEVERHJFJTMSsZ1/Tpky+bY9uab8O67Dk3u7lC3bvqFJSIiIulHyay4lNjYZI6iLlgAzz7r2Hb8OAQHp0ucIiIi4hqUzIrLWLLEWrUrfrEDsOa3fvTRLfNbc+WCy5cdD775Di8RERHJMnQDmLiEJUvgqaccE1mAU6es9iVLgLNnrVIENyeyU6cqkRUREcnCNDIrThcba43IJpaTGmPlr392HQ1XBjo++O+/kDNnusQoIiIirknJrDjdtm0JR2T/Y4gzbnDlpqZSpeDPP9MhMhEREXF1mmYgThcamnh7SQ4mWJKWFSuUyIqIiIidkllxusDAhG2LacVBSju0bVkTAU2apFNUIiIikhEomRWnq1XLqlpgs4E7MRhstOIb++NLaUGRYMOj9b2dGKWIiIi4IiWz4nTu7lb5rSfNt8TguCRtNXbSyraUCRO0apeIiIgkpBvAxCW0esaDVsQ6tLkRS+FgNxZNuKXOrIiIiMj/UzIrznX1KgQEODRdqtqANf3XsvF2K4CJiIiIoGRWnOmjj6BvX8e2334j94MP8myiB4iIiIg4UjIrzmGzJWzTSl4iIiKSQroBTNLXqVMJE9m+fZXIioiIyF3RyKykn1degU8/dWw7fTrxQrMiIiIiyaBkVtKHphWIiIhIGtA0A0lb+/YlTGQnTlQiKyIiIqlCI7OSdurVg82bHduuXQN/f6eEIyIiIpmPkllJfXFxCYvD+vnB9evOiUdEREQyLU0zkNS1enXCRHb5ciWyIiIikiY0MiupJ1cuuHzZsS0mRkt4iYiISJrRyKzcu/Bw6yavmxPZGjWsm7yUyIqIiEgaUjIr92bKlIQ3dP3yC2zf7px4REREJEvRNAO5e6odKyIiIk6mkVlJubNnEyayL72kRFZERETSnZJZSZnXXoOCBR3bjh+3phuIiIiIpDNNM5Dk07QCERERcTEamZU7O3AgYSI7bpwSWREREXE6jczK7TVrBitWOLZduQIBAc6JR0REROQmSmYlcYktSQsajRURERGXomkGktCmTQkT2UWLlMiKiIiIy9HIrDgKDoaTJx3boqLA09M58YiIiIjchkZmxRIRYd3kdXMiW7GiNRqrRFZERERclJJZIXjjRjxvvaHrxx9hzx7nBCQiIiKSTJpmkMV5enlR+dbGuLjEa8qKiIiIuBiNzGZVFy4kTFg7dLCmFSiRFRERkQxCyWxW9M47kC+fQ1P0wYMwa5aTAhIRERG5O5pmkNUkMur67dKlNClWzAnBiIiIiNwbjcxmFX//nTCRffddoqOinBOPiIiISCrQyGxW8Mwz8PXXjm2XLkGuXBAd7ZyYRERERFKBktnMzBhwS2TwXSt5iYiISCahaQaZ1fbtCRPZefOUyIqIiEimopHZzKh0aTh40LEtMhK8vJwTj4iIiEgaUTKbmURFgbe3Y9t991k3f4mIiIhkQppmkAHExsLmzTB/vvVnbGwiOy1cmDCR3bpViayIiIhkahqZdXFLlkCfPnDy5H9thQvDRx9Bq1b/35DYil1aklZERESyAI3MurAlS+CppxwTWYBTp6z2ZbMvJ0xYW7XSkrQiIiKSZSiZdVGxsdaIbGLFB4yBQWYkzTvmcnzg4EFYvDh9AhQRERFxAZpm4KK2bUs4IhvPkMioq0puiYiISBakkVkXFRqasK0oRxMksr+3fFOJrIiIiGRZSmZdVGCg4/ZH9OYoxRza8nKeC33eTceoRERERFyLphm4qFq1rKoFp04aNlGXOmx1eNzNZihc2NpPREREJKty+sjsZ599RrFixfDx8aFKlSps27YtyX03b96MzWZL8PPnn3+mY8Tpw90dpgw5TRxuDolsF6bjZrOmFUyYYO0nIiIiklU5dWR24cKF9O3bl88++4yaNWsyZcoUGjduzP79+ylSpEiSxx08eJCAgAD7dr58+dIj3PQ1dSpNunWzb4aRndxcIhYPggtbiay9zqyIiIhIFuXUZHb8+PE8//zzvPDCCwBMmDCBNWvWMGnSJEaOHJnkcfnz5ydnzpzpFGU6i4uDkBA4ceK/plFj2P3QAGaHWnNpa9XSiKyIiIgIODGZjYqK4pdffmHQoEEO7Q0bNuSHH3647bGVKlUiIiKCMmXK8NZbb1GvXr0k942MjCQyMtK+HRYWBkB0dDTR0dH38AzSwJ9/4lm+vENT9J9/QvHi1OS/WOPirJ/UEP8auNxrIYD6x5Wpb1yX+sa1qX9clyv1TUpicFoye+HCBWJjYylQoIBDe4ECBThz5kyixwQGBjJ16lSqVKlCZGQks2fPpn79+mzevJnatWsneszIkSMZNmxYgva1a9fi5+d3708klZSaP5/SCxfat68ULcrmCRPgzz+tnzS2bt26NL+G3D31j+tS37gu9Y1rU/+4Llfom/Dw8GTvazPGOUVKT58+TaFChfjhhx+oXr26vf29995j9uzZyb6pq3nz5thsNr777rtEH09sZDY4OJgLFy44zLt1mshIPLNnd2iKmTED0759ulw+OjqadevW0aBBAzw9PdPlmpJ86h/Xpb5xXeob16b+cV2u1DdhYWHkzZuXK1eu3DFfc9rIbN68eXF3d08wCnvu3LkEo7W388gjjzBnzpwkH/f29sbb2ztBu6enp9M7ih9/hJsSeQDOnsUjf/50D8UlXg9JkvrHdalvXJf6xrWpf1yXK/RNSq7vtNJcXl5eVKlSJcFQ9rp166hRo0ayz7Nnzx4Cb11hICN48UXHRLZZM2slLycksiIiIiIZlVOrGfTv358OHTpQtWpVqlevztSpUzl+/Djdu3cHYPDgwZw6dYpZs2YBVrWDkJAQypYtS1RUFHPmzGHx4sUsXrzYmU8jZcLCIEcOx7bVq+GJJ5wTj4iIiEgG5tRktk2bNly8eJHhw4cTGhrKgw8+yMqVKylatCgAoaGhHD9+3L5/VFQUAwYM4NSpU/j6+lK2bFlWrFhBkyZNnPUUUmbFCmsE9mZXr0K2bM6JR0RERCSDc/pyti+//DIvv/xyoo/NnDnTYfv111/n9ddfT4eo0kDDhnDzlIqXX4ZPP3VePCIiIiKZgNOT2Uzv6lW49S68n3+GatWcE4+IiIhIJqJkNq3dXGLLywuuXQPdvSkiIiKSKpxWzSDL+OAD68/RoyEyUomsiIiISCrSyGwaiy1Vhm2bDKGhELgZatUCd3dnRyUiIiKSOSiZTUNLlkCfPnDy5H9thQvDRx9Bq1bOi0tEREQks9A0gzSyZAk89ZRjIgtw6pTVvmSJc+ISERERyUyUzKaB2FhrRNaYhI/Ft/Xta+0nIiIiIndPyWwa2LYt4YjszYyBEyes/URERETk7imZTQOhoam7n4iIiIgkTslsGggMTN39RERERCRxSmbTQK1aVtUCmy3xx202CA629hMRERGRu6dkNg24u1vltyBhQhu/PWGC6s2KiIiI3Csls2mkVStYtAgKFXJsL1zYaledWREREZF7p0UT0lCrVtCihVW1IDTUmiOrFcBEREREUo+S2TTm7g516zo7ChEREZHMSdMMRERERCTDUjIrIiIiIhmWklkRERERybCUzIqIiIhIhqVkVkREREQyLCWzIiIiIpJhKZkVERERkQxLyayIiIiIZFhKZkVEREQkw1IyKyIiIiIZlpJZEREREcmwlMyKiIiISIalZFZEREREMiwPZweQ3owxAISFhTk5EtcQHR1NeHg4YWFheHp6OjscuYX6x3Wpb1yX+sa1qX9clyv1TXyeFp+33U6WS2avXr0KQHBwsJMjEREREZHbuXr1Kjly5LjtPjaTnJQ3E4mLi+P06dNkz54dm83m7HCcLiwsjODgYE6cOEFAQICzw5FbqH9cl/rGdalvXJv6x3W5Ut8YY7h69SpBQUG4ud1+VmyWG5l1c3OjcOHCzg7D5QQEBDj9jStJU/+4LvWN61LfuDb1j+tylb6504hsPN0AJiIiIiIZlpJZEREREcmwlMxmcd7e3gwZMgRvb29nhyKJUP+4LvWN61LfuDb1j+vKqH2T5W4AExEREZHMQyOzIiIiIpJhKZkVERERkQxLyayIiIiIZFhKZoWRI0dis9no27evs0OR/3fq1Cmee+458uTJg5+fHxUrVuSXX35xdlgCxMTE8NZbb1GsWDF8fX0pXrw4w4cPJy4uztmhZTlbt26lefPmBAUFYbPZWLp0qcPjxhiGDh1KUFAQvr6+1K1blz/++MM5wWYxt+ub6OhoBg4cSLly5fD39ycoKIiOHTty+vRp5wWcxdzps3Ozbt26YbPZmDBhQrrFl1JKZrO4nTt3MnXqVMr/X3t3H1NV/ccB/A1ceboBKoIXEBCKREEQJVJBWTNCRTQtfAp8gFFMEyQzLFNkKgTGbalT1DZwZaW1HhSzJEXGg4lCFxEIdDGsTWI2JgKRwP3+/lDuj8ODmj9/Hm/3/drOxvme7/ec9zl3d/vw5ZyDj4/cUeiO5uZmBAYGYsiQIThx4gSqq6uRmZmJoUOHyh2NAKSnpyMrKwu7d+9GTU0NMjIysGPHDuzatUvuaAanra0Nvr6+2L1794DbMzIyoFarsXv3bpw/fx4qlQohISG6f2tO/z93+2za29tRXl6OTZs2oby8HF999RXq6uowd+5cGZIapnt9d3p88803OHfuHBwdHR9RsgckyGDdvHlTeHh4iLy8PBEcHCwSEhLkjkRCiKSkJBEUFCR3DBpEWFiYiI6OlrQtWLBAREZGypSIhBACgPj6669161qtVqhUKvHee+/p2jo6OoSNjY3IysqSIaHh6vvZDKS0tFQAEA0NDY8mFOkM9vn8/vvvwsnJSVy6dEm4urqKDz744JFnu1+cmTVgq1evRlhYGJ5//nm5o1AvR48ehb+/PyIiImBvbw8/Pz8cOHBA7lh0R1BQEE6dOoW6ujoAQEVFBYqKijB79myZk1Fv9fX1aGxsxAsvvKBrMzMzQ3BwMEpKSmRMRgO5ceMGjIyM+Beox4RWq0VUVBTWr18PLy8vuePck0LuACSPzz//HOXl5Th//rzcUaiPX3/9FXv37sUbb7yBd955B6WlpYiPj4eZmRmWLVsmdzyDl5SUhBs3bsDT0xMmJibo7u7G9u3bsWTJErmjUS+NjY0AgJEjR0raR44ciYaGBjki0SA6OjqwYcMGLF26FNbW1nLHIdy+nUqhUCA+Pl7uKPeFxawB+u2335CQkICTJ0/C3Nxc7jjUh1arhb+/P1JTUwEAfn5+qKqqwt69e1nMPgYOHz6MTz75BJ9++im8vLyg0Wiwdu1aODo6Yvny5XLHoz6MjIwk60KIfm0kn87OTixevBharRZ79uyROw4BKCsrw4cffojy8nK9+a7wNgMDVFZWhqamJkyaNAkKhQIKhQIFBQXYuXMnFAoFuru75Y5o0BwcHDBu3DhJ29ixY3H16lWZElFv69evx4YNG7B48WKMHz8eUVFRSExMRFpamtzRqBeVSgXgvzO0PZqamvrN1pI8Ojs7sXDhQtTX1yMvL4+zso+JwsJCNDU1wcXFRVcjNDQ0YN26dRg9erTc8QbEmVkDNGPGDFRWVkraVq5cCU9PTyQlJcHExESmZAQAgYGBqK2tlbTV1dXB1dVVpkTUW3t7O4yNpfMAJiYmfDXXY8bNzQ0qlQp5eXnw8/MDANy6dQsFBQVIT0+XOR31FLKXL19Gfn4+bG1t5Y5Ed0RFRfV7liY0NBRRUVFYuXKlTKnujsWsAbKysoK3t7ekTalUwtbWtl87PXqJiYmYOnUqUlNTsXDhQpSWlmL//v3Yv3+/3NEIQHh4OLZv3w4XFxd4eXnh559/hlqtRnR0tNzRDE5rayuuXLmiW6+vr4dGo8Hw4cPh4uKCtWvXIjU1FR4eHvDw8EBqaiosLS2xdOlSGVMbhrt9No6Ojnj55ZdRXl6O3NxcdHd362bQhw8fDlNTU7liG4x7fXf6/nIxZMgQqFQqjBkz5lFHvT9yv06BHg98Ndfj5dixY8Lb21uYmZkJT09PsX//frkj0R0tLS0iISFBuLi4CHNzc+Hu7i42btwo/v77b7mjGZz8/HwBoN+yfPlyIcTt13MlJycLlUolzMzMxPTp00VlZaW8oQ3E3T6b+vr6AbcBEPn5+XJHNwj3+u709bi/mstICCEeafVMRERERPSQ8AEwIiIiItJbLGaJiIiISG+xmCUiIiIivcViloiIiIj0FotZIiIiItJbLGaJiIiISG+xmCUiIiIivcViloiIiIj0FotZIiIiItJbLGaJyGCcOXMGRkZGusXOzg6zZs1CRUWF3NHuacuWLZgwYYLcMXS2bNkiuZY9i6enp9zRiMjAsJglIoNTW1uLa9eu4fjx42hubsbMmTNx48aNB9rXrVu3HnI6/eHl5YVr165JlqKiokH7D3Sturu7odVq//GxH3QcEf37sJglIoNjb28PlUqFgIAAZGZmorGxET/99BMAoKSkBNOnT4eFhQWcnZ0RHx+PtrY23djRo0dj27ZtWLFiBWxsbBAbGwsAKC4uRnBwMCwtLTFs2DCEhoaiubkZACCEQEZGBtzd3WFhYQFfX198+eWXun32zBifOnUK/v7+sLS0xNSpU1FbWwsAyMnJQUpKCioqKnQzoDk5OQAAtVqN8ePHQ6lUwtnZGatWrUJra6vkfA8cOABnZ2dYWlpi/vz5UKvVGDp0qKTPsWPHMGnSJJibm8Pd3R0pKSno6uq663VUKBRQqVSSZcSIEXe9Vjk5ORg6dChyc3Mxbtw4mJmZoaGhAc3NzVi2bBmGDRsGS0tLzJo1C5cvX9bta7BxREQsZonIoFlYWAAAOjs7UVlZidDQUCxYsAAXL17E4cOHUVRUhNdff10yZseOHfD29kZZWRk2bdoEjUaDGTNmwMvLC2fPnkVRURHCw8PR3d0NAHj33XeRnZ2NvXv3oqqqComJiYiMjERBQYFkvxs3bkRmZiYuXLgAhUKB6OhoAMCiRYuwbt06yUzookWLAADGxsbYuXMnLl26hIMHD+L06dN46623dPssLi5GXFwcEhISoNFoEBISgu3bt0uO+8MPPyAyMhLx8fGorq7Gvn37kJOT06/fg+h7rQCgvb0daWlp+Oijj1BVVQV7e3usWLECFy5cwNGjR3H27FkIITB79mx0dnbq9jXQOCIiCCIiA5Gfny8AiObmZiGEENevXxdz584VVlZW4o8//hBRUVHi1VdflYwpLCwUxsbG4q+//hJCCOHq6ipefPFFSZ8lS5aIwMDAAY/Z2toqzM3NRUlJiaQ9JiZGLFmyRJLrxx9/1G0/fvy4AKA7bnJysvD19b3nOR45ckTY2trq1hctWiTCwsIkfV555RVhY2OjW582bZpITU2V9Pn444+Fg4PDoMdJTk4WxsbGQqlUSpaYmBhdn4GuVXZ2tgAgNBqNrq2urk4AEMXFxbq269evCwsLC3HkyJFBxxERCSGEQs5CmohIDqNGjQIAtLW1wcPDA1988QXs7e1RVlaGK1eu4NChQ7q+QghotVrU19dj7NixAAB/f3/J/jQaDSIiIgY8VnV1NTo6OhASEiJpv3XrFvz8/CRtPj4+up8dHBwAAE1NTXBxcRn0XPLz85Gamorq6mq0tLSgq6sLHR0daGtrg1KpRG1tLebPny8ZExAQgNzcXN16WVkZzp8/L5mJ7e7uRkdHB9rb22FpaTngsceMGYOjR49K2qysrCTrfa8VAJiamkrOtaamBgqFAs8++6yuzdbWFmPGjEFNTc2g44iIAIDFLBEZnMLCQlhbW8POzg7W1ta6dq1Wi9deew3x8fH9xvQuKJVKpWRbz60KA+l5SOn48eNwcnKSbDMzM5OsDxkyRPezkZGRZPxAGhoaMHv2bMTFxWHr1q0YPnw4ioqKEBMTo/vzvBBCt68eQoh+GVNSUrBgwYJ+xzA3Nx/0+KampnjqqacG3Q70v1bA7evVO1PfPL3be/frO46ICGAxS0QGyM3Nrd8DUAAwceJEVFVV3bNA68vHxwenTp1CSkpKv209DytdvXoVwcHBDxoZpqamuntwe1y4cAFdXV3IzMyEsfHtRyCOHDki6ePp6YnS0tJ+43qbOHEiamtr//F5Pyzjxo1DV1cXzp07h6lTpwIA/vzzT9TV1elmw4mIBsNilojojqSkJEyePBmrV69GbGwslEolampqkJeXh127dg067u2338b48eOxatUqxMXFwdTUFPn5+YiIiMCIESPw5ptvIjExEVqtFkFBQWhpaUFJSQmeeOIJLF++/L6yjR49GvX19dBoNBg1ahSsrKzw5JNPoqurC7t27UJ4eDiKi4uRlZUlGbdmzRpMnz4darUa4eHhOH36NE6cOCGZ4dy8eTPmzJkDZ2dnREREwNjYGBcvXkRlZSW2bds2aKauri40NjZK2oyMjDBy5Mj7OqceHh4emDdvHmJjY7Fv3z5YWVlhw4YNcHJywrx58/7RvojI8PBtBkREd/j4+KCgoACXL1/GtGnT4Ofnh02bNunuXx3M008/jZMnT6KiogIBAQGYMmUKvv32WygUt+cLtm7dis2bNyMtLQ1jx45FaGgojh07Bjc3t/vO9tJLL2HmzJl47rnnYGdnh88++wwTJkyAWq1Geno6vL29cejQIaSlpUnGBQYGIisrC2q1Gr6+vvj++++RmJgouX0gNDQUubm5yMvLwzPPPIPJkydDrVbD1dX1rpmqqqrg4OAgWe41ZjDZ2dmYNGkS5syZgylTpkAIge+++05y6wUR0UCMxGA3KxER0b9SbGwsfvnlFxQWFsodhYjof8bbDIiI/uXef/99hISEQKlU4sSJEzh48CD27NkjdywiooeCM7NERP9yCxcuxJkzZ3Dz5k24u7tjzZo1iIuLkzsWEdFDwWKWiIiIiPQWHwAjIiIiIr3FYpaIiIiI9BaLWSIiIiLSWyxmiYiIiEhvsZglIiIiIr3FYpaIiIiI9BaLWSIiIiLSWyxmiYiIiEhvsZglIiIiIr31Hx4p3H6IdAQzAAAAAElFTkSuQmCC",
=======
      "image/png": "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",
>>>>>>> 2850c510b0caa04e125d9bf035a50854632aec0c
      "text/plain": [
       "<Figure size 800x600 with 1 Axes>"
      ]
     },
     "metadata": {},
     "output_type": "display_data"
    },
    {
     "data": {
      "text/plain": [
<<<<<<< HEAD
       "(0.9990442408785376, 0.0007060573408820493, 'y = 0.1910x + -0.1602')"
      ]
     },
     "execution_count": 385,
=======
       "(0.9907147225680758, 0.006532553871026091, 'y = 0.1777x + -0.1548')"
      ]
     },
     "execution_count": 447,
>>>>>>> 2850c510b0caa04e125d9bf035a50854632aec0c
     "metadata": {},
     "output_type": "execute_result"
    }
   ],
   "source": [
<<<<<<< HEAD
    "param = top_vars[0]\n",
=======
    "param = top_vars[1]\n",
>>>>>>> 2850c510b0caa04e125d9bf035a50854632aec0c
    "\n",
    "y = values[param]\n",
    "x = values['res']\n",
    "\n",
    "import matplotlib.pyplot as plt\n",
    "from sklearn.linear_model import LinearRegression\n",
    "from sklearn.metrics import mean_squared_error, r2_score\n",
    "\n",
    "# Assuming x and y are Pandas Series\n",
    "# Reshape x to a 2D array\n",
    "x_reshaped = x.values.reshape(-1, 1)  # Convert x to a 2D array (n, 1)\n",
    "\n",
    "# Create and fit the linear regression model\n",
    "model = LinearRegression()\n",
    "model.fit(x_reshaped, y)\n",
    "\n",
    "# Get the slope (coefficient) and intercept\n",
    "slope = model.coef_[0]  # model.coef_ gives the slope of the line\n",
    "intercept = model.intercept_  # model.intercept_ gives the intercept\n",
    "\n",
    "# Predict y values using the linear model\n",
    "y_pred = model.predict(x_reshaped)\n",
    "\n",
    "# Plot the data points and the regression line\n",
    "plt.figure(figsize=(8, 6))\n",
    "plt.scatter(x, y, color='blue', label='Data points')\n",
    "plt.plot(x, y_pred, color='red', label='Regression Line')\n",
    "plt.title(f'Scatter Plot of x vs y with Linear Regression Line \\n{param}')\n",
    "plt.xlabel(' Percentage Error')\n",
    "plt.ylabel(' Function Value')\n",
    "plt.grid()\n",
    "plt.legend()\n",
    "plt.show()\n",
    "\n",
    "# Calculate R^2 and MSE\n",
    "r_squared = r2_score(y, y_pred)\n",
    "msd = mean_squared_error(y, y_pred)\n",
    "\n",
    "# Display the equation of the line\n",
    "equation = f\"y = {slope:.4f}x + {intercept:.4f}\"\n",
    "r_squared, msd, equation\n"
   ]
  },
  {
   "cell_type": "code",
<<<<<<< HEAD
   "execution_count": 386,
=======
   "execution_count": 446,
>>>>>>> 2850c510b0caa04e125d9bf035a50854632aec0c
   "metadata": {},
   "outputs": [
    {
     "data": {
      "text/plain": [
       "1.0"
      ]
     },
<<<<<<< HEAD
     "execution_count": 386,
=======
     "execution_count": 446,
>>>>>>> 2850c510b0caa04e125d9bf035a50854632aec0c
     "metadata": {},
     "output_type": "execute_result"
    }
   ],
   "source": [
    "### Results \n",
    "\n",
    "1. "
   ]
  }
 ],
 "metadata": {
  "kernelspec": {
   "display_name": "base",
   "language": "python",
   "name": "python3"
  },
  "language_info": {
   "codemirror_mode": {
    "name": "ipython",
    "version": 3
   },
   "file_extension": ".py",
   "mimetype": "text/x-python",
   "name": "python",
   "nbconvert_exporter": "python",
   "pygments_lexer": "ipython3",
   "version": "3.12.2"
  }
 },
 "nbformat": 4,
 "nbformat_minor": 2
}

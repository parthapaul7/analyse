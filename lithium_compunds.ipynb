{
 "cells": [
  {
   "cell_type": "code",
   "execution_count": 50,
   "metadata": {},
   "outputs": [],
   "source": [
    "import pandas as pd\n",
    "import numpy as np\n",
    "\n",
    "import matplotlib.pyplot as plt\n",
    "import os"
   ]
  },
  {
   "cell_type": "code",
   "execution_count": 51,
   "metadata": {},
   "outputs": [
    {
     "data": {
      "text/plain": [
       "Index(['Unnamed: 0', 'Synthesizable', 'Material ID', 'Formula',\n",
       "       'Crystal System', 'Space Group Symbol', 'Space Group Number', 'Sites',\n",
       "       'Energy Above Hull', 'Formation Energy', 'Predicted Stable', 'Volume',\n",
       "       'Density', 'Band Gap', 'Is Gap Direct', 'Is Metal', 'Magnetic Ordering',\n",
       "       'Total Magnetization', 'Bulk Modulus, Voigt', 'Bulk Modulus, Reuss',\n",
       "       'Bulk Modulus, VRH', 'Shear Modulus, Voigt', 'Shear Modulus, Reuss',\n",
       "       'Shear Modulus, VRH', 'Elastic Anisotropy', 'Weighted Surface Energy',\n",
       "       'Surface Anisotropy', 'Shape Factor', 'Work Function',\n",
       "       'Piezoelectric Modulus', 'Total Dielectric Constant',\n",
       "       'Ionic Dielectric Constant', 'Static Dielectric Constant', 'Structure'],\n",
       "      dtype='object')"
      ]
     },
     "execution_count": 51,
     "metadata": {},
     "output_type": "execute_result"
    }
   ],
   "source": [
    "df = pd.read_csv('table_export.csv')\n",
    "\n",
    "df.columns"
   ]
  },
  {
   "cell_type": "code",
   "execution_count": 52,
   "metadata": {},
   "outputs": [
    {
     "data": {
      "text/html": [
       "<div>\n",
       "<style scoped>\n",
       "    .dataframe tbody tr th:only-of-type {\n",
       "        vertical-align: middle;\n",
       "    }\n",
       "\n",
       "    .dataframe tbody tr th {\n",
       "        vertical-align: top;\n",
       "    }\n",
       "\n",
       "    .dataframe thead th {\n",
       "        text-align: right;\n",
       "    }\n",
       "</style>\n",
       "<table border=\"1\" class=\"dataframe\">\n",
       "  <thead>\n",
       "    <tr style=\"text-align: right;\">\n",
       "      <th></th>\n",
       "      <th>Formula</th>\n",
       "      <th>Crystal System</th>\n",
       "      <th>Space Group Number</th>\n",
       "      <th>Space Group Symbol</th>\n",
       "      <th>Structure</th>\n",
       "    </tr>\n",
       "  </thead>\n",
       "  <tbody>\n",
       "    <tr>\n",
       "      <th>1</th>\n",
       "      <td>LiBe</td>\n",
       "      <td>Monoclinic</td>\n",
       "      <td>11</td>\n",
       "      <td>P2_1/m</td>\n",
       "      <td># generated using pymatgen\\ndata_LiBe\\n_symmet...</td>\n",
       "    </tr>\n",
       "    <tr>\n",
       "      <th>2</th>\n",
       "      <td>LiBe</td>\n",
       "      <td>Monoclinic</td>\n",
       "      <td>11</td>\n",
       "      <td>P2_1/m</td>\n",
       "      <td># generated using pymatgen\\ndata_LiBe\\n_symmet...</td>\n",
       "    </tr>\n",
       "    <tr>\n",
       "      <th>3</th>\n",
       "      <td>LiS</td>\n",
       "      <td>Tetragonal</td>\n",
       "      <td>119</td>\n",
       "      <td>I-4m2</td>\n",
       "      <td># generated using pymatgen\\ndata_LiS\\n_symmetr...</td>\n",
       "    </tr>\n",
       "  </tbody>\n",
       "</table>\n",
       "</div>"
      ],
      "text/plain": [
       "  Formula Crystal System  Space Group Number Space Group Symbol  \\\n",
       "1    LiBe     Monoclinic                  11             P2_1/m   \n",
       "2    LiBe     Monoclinic                  11             P2_1/m   \n",
       "3     LiS     Tetragonal                 119              I-4m2   \n",
       "\n",
       "                                           Structure  \n",
       "1  # generated using pymatgen\\ndata_LiBe\\n_symmet...  \n",
       "2  # generated using pymatgen\\ndata_LiBe\\n_symmet...  \n",
       "3  # generated using pymatgen\\ndata_LiS\\n_symmetr...  "
      ]
     },
     "execution_count": 52,
     "metadata": {},
     "output_type": "execute_result"
    }
   ],
   "source": [
    "df= df[['Formula','Crystal System','Space Group Number','Space Group Symbol', 'Structure']]\n",
    "\n",
    "df.iloc[1:4,]"
   ]
  },
  {
   "cell_type": "code",
   "execution_count": null,
   "metadata": {},
   "outputs": [],
   "source": []
  },
  {
   "cell_type": "code",
   "execution_count": 53,
   "metadata": {},
   "outputs": [],
   "source": [
    "import shutil"
   ]
  },
  {
   "cell_type": "code",
   "execution_count": null,
   "metadata": {},
   "outputs": [
    {
     "name": "stdout",
     "output_type": "stream",
     "text": [
      "li_d3s/LiSn_10\n",
      "li_d3s/LiBe_11\n",
      "li_d3s/LiBe_11\n",
      "li_d3s/LiMg_12\n",
      "li_d3s/LiMg_187\n",
      "li_d3s/LiMg_38\n",
      "li_d3s/LiMg_38\n",
      "li_d3s/LiMg_38\n",
      "li_d3s/LiMg_51\n",
      "li_d3s/LiTl_64\n",
      "li_d3s/LiMg_65\n",
      "li_d3s/LiMg_8\n",
      "li_d3s/LiSi_88\n"
     ]
    }
   ],
   "source": [
    "output_dir = \"li_d3s\"\n",
    "\n",
    "os.makedirs(output_dir,exist_ok = True)\n",
    "\n",
    "for index,row in df.iterrows():\n",
    "    format = row['Formula']\n",
    "    space_group_number = row['Space Group Number']\n",
    "\n",
    "    # folder_name = os.makedirs(os.path.join(output_dir,f'{format}_{space_group_number}'),exist_ok=True)\n",
    "\n",
    "    src = f'poscar_files/{format}_{space_group_number}_POSCAR'\n",
    "    dest = f'li_d3s/{format}_{space_group_number}'\n",
    "\n",
    "    # print(src, dest)\n",
    "    # shutdil.copy(src,dest)\n",
    "    try:\n",
    "        # os.rename(f'{dest}/{format}_{space_group_number}_POSCAR',f'{dest}/POSCAR')\n",
    "        shutil.copy('struct.sh',dest)\n",
    "    except:\n",
    "        print(f'{dest}')"
   ]
  }
 ],
 "metadata": {
  "kernelspec": {
   "display_name": "base",
   "language": "python",
   "name": "python3"
  },
  "language_info": {
   "codemirror_mode": {
    "name": "ipython",
    "version": 3
   },
   "file_extension": ".py",
   "mimetype": "text/x-python",
   "name": "python",
   "nbconvert_exporter": "python",
   "pygments_lexer": "ipython3",
   "version": "3.12.3"
  }
 },
 "nbformat": 4,
 "nbformat_minor": 2
}

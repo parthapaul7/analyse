{
 "cells": [
  {
   "cell_type": "code",
   "execution_count": 1,
   "metadata": {},
   "outputs": [],
   "source": [
    "import pandas as pd\n",
    "import numpy as np\n",
    "\n",
    "import matplotlib.pyplot as plt\n"
   ]
  },
  {
   "cell_type": "code",
   "execution_count": 7,
   "metadata": {},
   "outputs": [
    {
     "data": {
      "text/plain": [
       "Index(['Unnamed: 0', 'Synthesizable', 'Material ID', 'Formula',\n",
       "       'Crystal System', 'Space Group Symbol', 'Space Group Number', 'Sites',\n",
       "       'Energy Above Hull', 'Formation Energy', 'Predicted Stable', 'Volume',\n",
       "       'Density', 'Band Gap', 'Is Gap Direct', 'Is Metal', 'Magnetic Ordering',\n",
       "       'Total Magnetization', 'Bulk Modulus, Voigt', 'Bulk Modulus, Reuss',\n",
       "       'Bulk Modulus, VRH', 'Shear Modulus, Voigt', 'Shear Modulus, Reuss',\n",
       "       'Shear Modulus, VRH', 'Elastic Anisotropy', 'Weighted Surface Energy',\n",
       "       'Surface Anisotropy', 'Shape Factor', 'Work Function',\n",
       "       'Piezoelectric Modulus', 'Total Dielectric Constant',\n",
       "       'Ionic Dielectric Constant', 'Static Dielectric Constant', 'Structure'],\n",
       "      dtype='object')"
      ]
     },
     "execution_count": 7,
     "metadata": {},
     "output_type": "execute_result"
    }
   ],
   "source": [
    "df = pd.read_csv('table_export.csv')\n",
    "\n",
    "df.columns"
   ]
  },
  {
   "cell_type": "code",
   "execution_count": null,
   "metadata": {},
   "outputs": [
    {
     "data": {
      "text/plain": [
       "\"# generated using pymatgen\\r\\ndata_LiSn\\r\\n_symmetry_space_group_name_H-M   'P 1'\\r\\n_cell_length_a   3.13853384\\r\\n_cell_length_b   5.18086578\\r\\n_cell_length_c   7.84491741\\r\\n_cell_angle_alpha   105.52934702\\r\\n_cell_angle_beta   90.00000000\\r\\n_cell_angle_gamma   90.00000000\\r\\n_symmetry_Int_Tables_number   1\\r\\n_chemical_formula_structural   LiSn\\r\\n_chemical_formula_sum   'Li3 Sn3'\\r\\n_cell_volume   122.90407936\\r\\n_cell_formula_units_Z   3\\r\\nloop_\\r\\n _symmetry_equiv_pos_site_id\\r\\n _symmetry_equiv_pos_as_xyz\\r\\n  1  'x, y, z'\\r\\nloop_\\r\\n _atom_site_type_symbol\\r\\n _atom_site_label\\r\\n _atom_site_symmetry_multiplicity\\r\\n _atom_site_fract_x\\r\\n _atom_site_fract_y\\r\\n _atom_site_fract_z\\r\\n _atom_site_occupancy\\r\\n  Li  Li0  1  0.50000000  0.72932002  0.67416604  1\\r\\n  Li  Li1  1  0.50000000  0.50000000  0.00000000  1\\r\\n  Li  Li2  1  0.50000000  0.27067998  0.32583396  1\\r\\n  Sn  Sn3  1  0.00000000  0.76494313  0.33907696  1\\r\\n  Sn  Sn4  1  0.00000000  0.23505687  0.66092304  1\\r\\n  Sn  Sn5  1  0.00000000  0.00000000  0.00000000  1\\r\\n\""
      ]
     },
     "execution_count": 10,
     "metadata": {},
     "output_type": "execute_result"
    }
   ],
   "source": [
    "df= df[['Formula','Crystal System','Space Group Symbol', 'Structure']]\n"
   ]
  }
 ],
 "metadata": {
  "kernelspec": {
   "display_name": "base",
   "language": "python",
   "name": "python3"
  },
  "language_info": {
   "codemirror_mode": {
    "name": "ipython",
    "version": 3
   },
   "file_extension": ".py",
   "mimetype": "text/x-python",
   "name": "python",
   "nbconvert_exporter": "python",
   "pygments_lexer": "ipython3",
   "version": "3.12.3"
  }
 },
 "nbformat": 4,
 "nbformat_minor": 2
}

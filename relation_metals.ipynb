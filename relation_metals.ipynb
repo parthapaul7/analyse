{
 "cells": [
  {
   "cell_type": "code",
   "execution_count": 113,
   "metadata": {},
   "outputs": [],
   "source": [
    "import pandas as pd\n",
    "import numpy as np"
   ]
  },
  {
   "cell_type": "markdown",
   "metadata": {},
   "source": [
    "### Loading the feature functions from CSV and trimming"
   ]
  },
  {
   "cell_type": "code",
   "execution_count": 114,
   "metadata": {},
   "outputs": [
    {
     "data": {
      "text/plain": [
       "array(['Mg', 'Na', 'Cu', 'Ca', 'Li', 'Al', 'Ni', 'Mn'], dtype=object)"
      ]
     },
     "execution_count": 114,
     "metadata": {},
     "output_type": "execute_result"
    }
   ],
   "source": [
    "df = pd.read_csv(\"feature_backup/mm_all.csv\")\n",
    "\n",
    "# Save to a CSV file\n",
    "molecules = df['Mol'].values\n",
    "\n",
    "\n",
    "molecules = molecules\n",
    "molecules"
   ]
  },
  {
   "cell_type": "markdown",
   "metadata": {},
   "source": [
    "### Size Modification and adding parameters to Data Frame"
   ]
  },
  {
   "cell_type": "code",
   "execution_count": 115,
   "metadata": {},
   "outputs": [
    {
     "data": {
      "text/html": [
       "<div>\n",
       "<style scoped>\n",
       "    .dataframe tbody tr th:only-of-type {\n",
       "        vertical-align: middle;\n",
       "    }\n",
       "\n",
       "    .dataframe tbody tr th {\n",
       "        vertical-align: top;\n",
       "    }\n",
       "\n",
       "    .dataframe thead th {\n",
       "        text-align: right;\n",
       "    }\n",
       "</style>\n",
       "<table border=\"1\" class=\"dataframe\">\n",
       "  <thead>\n",
       "    <tr style=\"text-align: right;\">\n",
       "      <th></th>\n",
       "      <th>Mol</th>\n",
       "      <th>Pol</th>\n",
       "      <th>Rad</th>\n",
       "      <th>CN</th>\n",
       "      <th>Ion</th>\n",
       "      <th>EN</th>\n",
       "    </tr>\n",
       "  </thead>\n",
       "  <tbody>\n",
       "    <tr>\n",
       "      <th>0</th>\n",
       "      <td>Mg</td>\n",
       "      <td>71.20</td>\n",
       "      <td>160</td>\n",
       "      <td>8</td>\n",
       "      <td>7.646</td>\n",
       "      <td>1.31</td>\n",
       "    </tr>\n",
       "    <tr>\n",
       "      <th>1</th>\n",
       "      <td>Na</td>\n",
       "      <td>162.70</td>\n",
       "      <td>157</td>\n",
       "      <td>8</td>\n",
       "      <td>5.139</td>\n",
       "      <td>0.93</td>\n",
       "    </tr>\n",
       "    <tr>\n",
       "      <th>2</th>\n",
       "      <td>Cu</td>\n",
       "      <td>46.50</td>\n",
       "      <td>128</td>\n",
       "      <td>12</td>\n",
       "      <td>7.726</td>\n",
       "      <td>1.91</td>\n",
       "    </tr>\n",
       "    <tr>\n",
       "      <th>3</th>\n",
       "      <td>Ca</td>\n",
       "      <td>160.80</td>\n",
       "      <td>200</td>\n",
       "      <td>8</td>\n",
       "      <td>6.113</td>\n",
       "      <td>1.00</td>\n",
       "    </tr>\n",
       "    <tr>\n",
       "      <th>4</th>\n",
       "      <td>Li</td>\n",
       "      <td>164.11</td>\n",
       "      <td>182</td>\n",
       "      <td>8</td>\n",
       "      <td>5.392</td>\n",
       "      <td>0.98</td>\n",
       "    </tr>\n",
       "    <tr>\n",
       "      <th>5</th>\n",
       "      <td>Al</td>\n",
       "      <td>57.80</td>\n",
       "      <td>184</td>\n",
       "      <td>12</td>\n",
       "      <td>5.986</td>\n",
       "      <td>1.61</td>\n",
       "    </tr>\n",
       "    <tr>\n",
       "      <th>6</th>\n",
       "      <td>Ni</td>\n",
       "      <td>49.00</td>\n",
       "      <td>163</td>\n",
       "      <td>12</td>\n",
       "      <td>7.640</td>\n",
       "      <td>1.91</td>\n",
       "    </tr>\n",
       "    <tr>\n",
       "      <th>7</th>\n",
       "      <td>Mn</td>\n",
       "      <td>68.00</td>\n",
       "      <td>197</td>\n",
       "      <td>8</td>\n",
       "      <td>7.434</td>\n",
       "      <td>1.55</td>\n",
       "    </tr>\n",
       "  </tbody>\n",
       "</table>\n",
       "</div>"
      ],
      "text/plain": [
       "  Mol     Pol  Rad  CN    Ion    EN\n",
       "0  Mg   71.20  160   8  7.646  1.31\n",
       "1  Na  162.70  157   8  5.139  0.93\n",
       "2  Cu   46.50  128  12  7.726  1.91\n",
       "3  Ca  160.80  200   8  6.113  1.00\n",
       "4  Li  164.11  182   8  5.392  0.98\n",
       "5  Al   57.80  184  12  5.986  1.61\n",
       "6  Ni   49.00  163  12  7.640  1.91\n",
       "7  Mn   68.00  197   8  7.434  1.55"
      ]
     },
     "execution_count": 115,
     "metadata": {},
     "output_type": "execute_result"
    }
   ],
   "source": [
    "# df = df.iloc[:-1, :]\n",
    "df"
   ]
  },
  {
   "cell_type": "code",
   "execution_count": 116,
   "metadata": {},
   "outputs": [
    {
     "data": {
      "text/plain": [
       "[17.144355598718082,\n",
       " 25.02717771580682,\n",
       " 5.118879491233692,\n",
       " 22.792844836933817,\n",
       " 25.719392847659723,\n",
       " 2.9222363463284893,\n",
       " 10.553895436793855,\n",
       " 15.857470042410599]"
      ]
     },
     "execution_count": 116,
     "metadata": {},
     "output_type": "execute_result"
    }
   ],
   "source": [
    "\n",
    "%store -r res\n",
    "res \n",
    "\n",
    "# res = res[:-1]"
   ]
  },
  {
   "cell_type": "code",
   "execution_count": 117,
   "metadata": {},
   "outputs": [
    {
     "data": {
      "text/plain": [
       "[17.144355598718082,\n",
       " 25.02717771580682,\n",
       " 5.118879491233692,\n",
       " 22.792844836933817,\n",
       " 25.719392847659723,\n",
       " 2.9222363463284893,\n",
       " 10.553895436793855,\n",
       " 15.857470042410599]"
      ]
     },
     "execution_count": 117,
     "metadata": {},
     "output_type": "execute_result"
    }
   ],
   "source": [
    "## always inverse of EN_A\n",
    "# res = df['EA_A']/np.array(res)\n",
    "\n",
    "## always inverse of delta EN\n",
    "\n",
    "## always inverse of pol_A ( anion polarisation)\n",
    "\n",
    "## remove df['EA_A'] from the dataframe\n",
    "# df = df.drop(columns=['EA_A'])\n",
    "\n",
    "res"
   ]
  },
  {
   "cell_type": "code",
   "execution_count": 118,
   "metadata": {},
   "outputs": [
    {
     "data": {
      "text/plain": [
       "(8, 7)"
      ]
     },
     "execution_count": 118,
     "metadata": {},
     "output_type": "execute_result"
    }
   ],
   "source": [
    "df = df.iloc[:,1:]\n",
    "\n",
    "\n",
    "## always inverse of EN_A\n",
    "\n",
    "# # df['Diff_rad'] = df['RadV_A'] - df['RadV_C']\n",
    "\n",
    "\n",
    "# df['Sum_ion'] = df['Ion_C'] + df['Ion_A']\n",
    "# df['Abs_diff_ion'] = abs(df['Ion_C'] - df['Ion_A'])\n",
    "\n",
    "# df.drop(columns=['Rad','EN'], inplace=True)\n",
    "\n",
    "\n",
    "# # Adding sqrt values for each column\n",
    "for col in df.columns:\n",
    "    # Make sure the column is numeric before applying sqrt\n",
    "    if pd.api.types.is_numeric_dtype(df[col]):\n",
    "        df[f'{col}_sqrt'] = np.sqrt(abs(df[col]))\n",
    "        df[f'{col}_squared'] = np.square(df[col])\n",
    "\n",
    "\n",
    "# df['cal'] = 1/df['Pol_squared']\n",
    "# df['cal'] = df['cal']/df['Ion_squared']\n",
    "# df['cal'] = df['cal']*df['Pol_sqrt']\n",
    "# df['cal'] = df['cal']/df['EN']\n",
    "\n",
    "\n",
    "# df.drop(columns=['Pol_squared', 'Ion_squared', 'Rad_squared','EN_squared','Rad_sqrt','Pol_sqrt'], inplace=True)\n",
    "# df.drop(columns=['Pol_squared', 'Ion_squared', 'Rad_squared','Rad_sqrt','Pol_sqrt','EN_sqrt'], inplace=True)\n",
    "# df.drop(columns=['Pol_sqrt', 'Rad_squared','EN_squared','Rad_sqrt','Pol_sqrt','CN_squared','Rad'], inplace=True)\n",
    "# df.drop(columns=['Rad','Rad_squared','Pol','CN_squared','EN','EN_squared','EN_sqrt'], inplace=True)   # good results\n",
    "# df.drop(columns=['Pol_squared','Ion_squared','Rad','Rad_sqrt','Rad_squared','EN'], inplace=True)   # good results\n",
    "\n",
    "# df.drop(columns=['Rad','Pol_squared','Ion','Ion_sqrt','Pol_sqrt'], inplace=True)   # good results\n",
    "\n",
    "# df['sum_ion'] = df['Ion_C'] + df['Ion_A']\n",
    "# # df['diff_ion'] = df['Ion_C'] - df['Ion_A']\n",
    "\n",
    "# drop all cols except calc\n",
    "df['Pol_squared'] = df['Pol_squared'] * df['Pol']*df['Pol']\n",
    "df['Ion_squared'] = df['Ion_squared'] * df['Ion']*df['Ion']\n",
    "# df['CN_squared'] = df['CN_squared'] * df['CN']*df['CN']\n",
    "df = df[['Pol_squared','Ion_squared','Pol_sqrt','Pol','Ion_sqrt','Ion','CN']]\n",
    "df.shape"
   ]
  },
  {
   "cell_type": "markdown",
   "metadata": {},
   "source": [
    "### making the combinations"
   ]
  },
  {
   "cell_type": "code",
   "execution_count": 119,
   "metadata": {},
   "outputs": [],
   "source": [
    "import itertools\n",
    "import numpy as np\n",
    "import pandas as pd\n",
    "from multiprocessing import Pool, cpu_count"
   ]
  },
  {
   "cell_type": "code",
   "execution_count": 120,
   "metadata": {},
   "outputs": [],
   "source": [
    "import itertools\n",
    "import numpy as np\n",
    "import pandas as pd\n",
    "\n",
    "def generate_combinations_df(params_df, param_names):\n",
    "    results = []\n",
    "\n",
    "    # Convert all parameter values to numeric, coercing errors to NaN\n",
    "    params_df = params_df.apply(pd.to_numeric, errors='coerce')\n",
    "\n",
    "    # Precompute inverses of all parameters\n",
    "    params_inv_df = params_df.applymap(lambda x: np.power(float(x), -1) if pd.notnull(x) and x != 0 else np.nan)\n",
    "    params_inv_df.columns = [f\"{name}^(-1)\" for name in param_names]\n",
    "\n",
    "    # Combine original parameters and their inverses\n",
    "    combined_params_df = pd.concat([params_df, params_inv_df], axis=1)\n",
    "    combined_param_names = list(combined_params_df.columns)\n",
    "\n",
    "    # Precompute invalid pairs (parameter and its inverse)\n",
    "    invalid_pairs = {f\"{name}^(-1)\": name for name in param_names}\n",
    "    invalid_pairs.update({name: f\"{name}^(-1)\" for name in param_names})\n",
    "\n",
    "    # Generate all subsets of parameters (combinations)\n",
    "    for r in range(1, len(combined_param_names) + 1):\n",
    "        for subset_indices in itertools.combinations(range(len(combined_param_names)), r):\n",
    "\n",
    "            subset_names = [combined_param_names[i] for i in subset_indices]\n",
    "\n",
    "            # Skip invalid subsets early\n",
    "            if any(invalid_pairs.get(name) in subset_names for name in subset_names):\n",
    "                continue\n",
    "\n",
    "            # Select the subset DataFrame\n",
    "            subset = combined_params_df[subset_names]\n",
    "\n",
    "            # Replace NaN values with 0\n",
    "            subset = subset.fillna(0)\n",
    "\n",
    "            # Compute results for valid subsets\n",
    "            expr_str = \" * \".join(subset_names)\n",
    "            expr_val = subset.prod(axis=1)\n",
    "            results.append((expr_str, expr_val))\n",
    "\n",
    "    return results\n"
   ]
  },
  {
   "cell_type": "code",
   "execution_count": 121,
   "metadata": {},
   "outputs": [],
   "source": [
    "import itertools\n",
    "import numpy as np\n",
    "import pandas as pd\n",
    "from multiprocessing import Pool, cpu_count\n",
    "\n",
    "def process_combinations_chunk(args):\n",
    "    combined_params_df, combined_param_names, param_names, indices_chunk = args\n",
    "    results = []\n",
    "\n",
    "    for indices in indices_chunk:\n",
    "        subset_names = [combined_param_names[i] for i in indices]\n",
    "        subset = combined_params_df[subset_names]\n",
    "\n",
    "        # Replace NaN values with 0\n",
    "        subset = subset.fillna(0)\n",
    "\n",
    "        # Check if both a parameter and its inverse are in the subset\n",
    "        invalid = False\n",
    "        for name in subset_names:\n",
    "            if name.endswith(\"^(-1)\") and name[:-5] in subset_names:\n",
    "                invalid = True\n",
    "                break\n",
    "            elif name in param_names and f\"{name}^(-1)\" in subset_names:\n",
    "                invalid = True\n",
    "                break\n",
    "\n",
    "        if not invalid:\n",
    "            # Compute results for valid subsets\n",
    "            expr_str = \" * \".join(subset_names)\n",
    "            expr_val = subset.prod(axis=1)\n",
    "            results.append((expr_str, expr_val))\n",
    "\n",
    "    return results\n",
    "\n",
    "def generate_combinations_df_parallel(params_df, param_names):\n",
    "    # Convert all parameter values to numeric, coercing errors to NaN\n",
    "    params_df = params_df.apply(pd.to_numeric, errors='coerce')\n",
    "\n",
    "    # Precompute inverses of all parameters\n",
    "    params_inv_df = params_df.applymap(lambda x: np.power(float(x), -1) if pd.notnull(x) and x != 0 else np.nan)\n",
    "    params_inv_df.columns = [f\"{name}^(-1)\" for name in param_names]\n",
    "\n",
    "    # Combine original parameters and their inverses\n",
    "    combined_params_df = pd.concat([params_df, params_inv_df], axis=1)\n",
    "    combined_param_names = list(combined_params_df.columns)\n",
    "\n",
    "    # Generate all subsets of parameter indices\n",
    "    all_combinations = [\n",
    "        indices for r in range(1, len(combined_param_names) + 1)\n",
    "        for indices in itertools.combinations(range(len(combined_param_names)), r)\n",
    "    ]\n",
    "\n",
    "    # Divide all_combinations into chunks\n",
    "    num_workers = min(cpu_count(), len(all_combinations))\n",
    "    chunk_size = max(1, len(all_combinations) // num_workers)\n",
    "    chunks = [all_combinations[i:i + chunk_size] for i in range(0, len(all_combinations), chunk_size)]\n",
    "\n",
    "    print(f\"Using {num_workers} workers to process {len(all_combinations)} combinations in {len(chunks)} chunks\")\n",
    "\n",
    "    # Prepare arguments for parallel processing\n",
    "    args = [\n",
    "        (combined_params_df, combined_param_names, param_names, chunk)\n",
    "        for chunk in chunks\n",
    "    ]\n",
    "\n",
    "    # Use multiprocessing to process combinations in parallel\n",
    "    with Pool(processes=num_workers) as pool:\n",
    "        results = pool.map(process_combinations_chunk, args)\n",
    "\n",
    "    # Flatten results\n",
    "    flattened_results = [item for sublist in results for item in sublist]\n",
    "    return flattened_results\n"
   ]
  },
  {
   "cell_type": "code",
   "execution_count": 122,
   "metadata": {},
   "outputs": [
    {
     "name": "stdout",
     "output_type": "stream",
     "text": [
      "Calculating expressions...\n",
      "Expressions cached.\n",
      "(2186, 2)\n"
     ]
    },
    {
     "name": "stderr",
     "output_type": "stream",
     "text": [
      "/var/folders/zp/h52np6n918qd9v9139ls4z600000gn/T/ipykernel_56446/3972913922.py:12: FutureWarning: DataFrame.applymap has been deprecated. Use DataFrame.map instead.\n",
      "  params_inv_df = params_df.applymap(lambda x: np.power(float(x), -1) if pd.notnull(x) and x != 0 else np.nan)\n"
     ]
    }
   ],
   "source": [
    "\n",
    "import os\n",
    "import pandas as pd\n",
    "\n",
    "takeSaved = False\n",
    "\n",
    "all_expressions = []\n",
    "expressions = []\n",
    "# Define file name to save/load the results\n",
    "cache_file = \"cached_expressions.pkl\"\n",
    "\n",
    "if os.path.exists(cache_file) and takeSaved:\n",
    "    # Load the cached results if they exist\n",
    "    expressions = pd.read_pickle(cache_file)\n",
    "    all_expressions = list(expressions.itertuples(index=False, name=None))\n",
    "    print(\"Loaded cached expressions.\")\n",
    "else:\n",
    "    # Perform the costly computation if cache does not exist\n",
    "    print(\"Calculating expressions...\")\n",
    "    param_names = list(df.iloc[:,].columns)\n",
    "    all_expressions = generate_combinations_df(df.iloc[:, ], param_names)\n",
    "    expressions = pd.DataFrame(all_expressions, columns=['Expression', 'Value'])\n",
    "\n",
    "    # Save the results to cache\n",
    "    expressions.to_pickle(cache_file)\n",
    "    print(\"Expressions cached.\")\n",
    "\n",
    "# Print the shape of the expressions DataFrame\n",
    "print(expressions.shape)\n"
   ]
  },
  {
   "cell_type": "code",
   "execution_count": 123,
   "metadata": {},
   "outputs": [
    {
     "data": {
      "text/html": [
       "<div>\n",
       "<style scoped>\n",
       "    .dataframe tbody tr th:only-of-type {\n",
       "        vertical-align: middle;\n",
       "    }\n",
       "\n",
       "    .dataframe tbody tr th {\n",
       "        vertical-align: top;\n",
       "    }\n",
       "\n",
       "    .dataframe thead th {\n",
       "        text-align: right;\n",
       "    }\n",
       "</style>\n",
       "<table border=\"1\" class=\"dataframe\">\n",
       "  <thead>\n",
       "    <tr style=\"text-align: right;\">\n",
       "      <th></th>\n",
       "      <th>Expression</th>\n",
       "      <th>Value</th>\n",
       "    </tr>\n",
       "  </thead>\n",
       "  <tbody>\n",
       "    <tr>\n",
       "      <th>0</th>\n",
       "      <td>Pol_squared</td>\n",
       "      <td>0    2.569922e+07\n",
       "1    7.007292e+08\n",
       "2    4.675...</td>\n",
       "    </tr>\n",
       "    <tr>\n",
       "      <th>1</th>\n",
       "      <td>Ion_squared</td>\n",
       "      <td>0    3417.725468\n",
       "1     697.452236\n",
       "2    3563.02...</td>\n",
       "    </tr>\n",
       "    <tr>\n",
       "      <th>2</th>\n",
       "      <td>Pol_sqrt</td>\n",
       "      <td>0     8.438009\n",
       "1    12.755391\n",
       "2     6.819091\n",
       "3...</td>\n",
       "    </tr>\n",
       "    <tr>\n",
       "      <th>3</th>\n",
       "      <td>Pol</td>\n",
       "      <td>0     71.20\n",
       "1    162.70\n",
       "2     46.50\n",
       "3    160.8...</td>\n",
       "    </tr>\n",
       "    <tr>\n",
       "      <th>4</th>\n",
       "      <td>Ion_sqrt</td>\n",
       "      <td>0    2.765140\n",
       "1    2.266936\n",
       "2    2.779568\n",
       "3   ...</td>\n",
       "    </tr>\n",
       "  </tbody>\n",
       "</table>\n",
       "</div>"
      ],
      "text/plain": [
       "    Expression                                              Value\n",
       "0  Pol_squared  0    2.569922e+07\n",
       "1    7.007292e+08\n",
       "2    4.675...\n",
       "1  Ion_squared  0    3417.725468\n",
       "1     697.452236\n",
       "2    3563.02...\n",
       "2     Pol_sqrt  0     8.438009\n",
       "1    12.755391\n",
       "2     6.819091\n",
       "3...\n",
       "3          Pol  0     71.20\n",
       "1    162.70\n",
       "2     46.50\n",
       "3    160.8...\n",
       "4     Ion_sqrt  0    2.765140\n",
       "1    2.266936\n",
       "2    2.779568\n",
       "3   ..."
      ]
     },
     "execution_count": 123,
     "metadata": {},
     "output_type": "execute_result"
    }
   ],
   "source": [
    "expressions.head()"
   ]
  },
  {
   "cell_type": "markdown",
   "metadata": {},
   "source": [
    "### Addition results to the combinations"
   ]
  },
  {
   "cell_type": "code",
   "execution_count": 124,
   "metadata": {},
   "outputs": [],
   "source": [
    "values_dict = {expr_str: expr_val for expr_str, expr_val in all_expressions}\n",
    "values = pd.DataFrame(values_dict)\n",
    "values['res'] = res"
   ]
  },
  {
   "cell_type": "markdown",
   "metadata": {},
   "source": [
    "### Finding Corelation"
   ]
  },
  {
   "cell_type": "code",
   "execution_count": 125,
   "metadata": {},
   "outputs": [
    {
     "data": {
      "text/plain": [
       "(2187, 2187)"
      ]
     },
     "execution_count": 125,
     "metadata": {},
     "output_type": "execute_result"
    }
   ],
   "source": [
    "\n",
    "correlation = values.corr()\n",
    "\n",
    "correlation.shape"
   ]
  },
  {
   "cell_type": "code",
   "execution_count": 126,
   "metadata": {},
   "outputs": [
    {
     "name": "stdout",
     "output_type": "stream",
     "text": [
      "res                                                                                          1.000000\n",
      "Pol * Ion * Pol_squared^(-1) * Ion_squared^(-1) * CN^(-1)                                    0.987274\n",
      "Pol * Ion * Pol_squared^(-1) * Ion_squared^(-1) * Pol_sqrt^(-1) * Ion_sqrt^(-1) * CN^(-1)    0.986863\n",
      "Pol_sqrt * Ion_sqrt * Pol_squared^(-1) * Ion_squared^(-1) * CN^(-1)                          0.986863\n",
      "Pol_sqrt * Ion * Pol_squared^(-1) * Ion_squared^(-1) * Ion_sqrt^(-1) * CN^(-1)               0.986863\n",
      "Pol * Ion_sqrt * Pol_squared^(-1) * Ion_squared^(-1) * Pol_sqrt^(-1) * CN^(-1)               0.986863\n",
      "Pol * Ion_sqrt * Pol_squared^(-1) * Ion_squared^(-1) * CN^(-1)                               0.984775\n",
      "Pol * Ion * Pol_squared^(-1) * Ion_squared^(-1) * Ion_sqrt^(-1) * CN^(-1)                    0.984775\n",
      "Pol_squared^(-1) * Ion_squared^(-1) * CN^(-1)                                                0.983155\n",
      "Pol * Pol_squared^(-1) * Ion_squared^(-1) * Pol_sqrt^(-1) * CN^(-1)                          0.982648\n",
      "Pol_sqrt * Pol_squared^(-1) * Ion_squared^(-1) * CN^(-1)                                     0.982648\n",
      "Pol_sqrt * Ion * Pol_squared^(-1) * Ion_squared^(-1) * CN^(-1)                               0.982307\n",
      "Pol * Ion * Pol_squared^(-1) * Ion_squared^(-1) * Pol_sqrt^(-1) * CN^(-1)                    0.982307\n",
      "Pol_sqrt * Pol * Ion * Pol_squared^(-1) * Ion_squared^(-1) * CN^(-1)                         0.982049\n",
      "Pol_sqrt * Pol * Ion_sqrt * Ion * Pol_squared^(-1) * Ion_squared^(-1) * CN^(-1)              0.981924\n",
      "Ion_sqrt * Pol_squared^(-1) * Ion_squared^(-1) * CN^(-1)                                     0.980549\n",
      "Ion * Pol_squared^(-1) * Ion_squared^(-1) * Ion_sqrt^(-1) * CN^(-1)                          0.980549\n",
      "Pol * Ion_sqrt * Ion * Pol_squared^(-1) * Ion_squared^(-1) * CN^(-1)                         0.979909\n",
      "Pol_sqrt * Pol * Ion_sqrt * Ion * Pol_squared^(-1) * Ion_squared^(-1)                        0.979201\n",
      "Pol_sqrt^(-1) * Pol^(-1) * Ion_sqrt^(-1) * Ion^(-1)                                          0.978870\n",
      "Name: res, dtype: float64\n"
     ]
    }
   ],
   "source": [
    "results=correlation['res'].abs().sort_values(ascending=False)\n",
    "print(results.iloc[0:20])\n",
    "top_vars = results.iloc[1:20].index"
   ]
  },
  {
   "cell_type": "markdown",
   "metadata": {},
   "source": [
    "### Final Results"
   ]
  },
  {
   "cell_type": "code",
   "execution_count": 127,
   "metadata": {},
   "outputs": [
    {
     "name": "stdout",
     "output_type": "stream",
     "text": [
      "res                                                                                          1.000000\n",
      "Pol * Ion * Pol_squared^(-1) * Ion_squared^(-1) * CN^(-1)                                    0.987274\n",
      "Pol * Ion * Pol_squared^(-1) * Ion_squared^(-1) * Pol_sqrt^(-1) * Ion_sqrt^(-1) * CN^(-1)    0.986863\n",
      "Pol_sqrt * Ion_sqrt * Pol_squared^(-1) * Ion_squared^(-1) * CN^(-1)                          0.986863\n",
      "Pol_sqrt * Ion * Pol_squared^(-1) * Ion_squared^(-1) * Ion_sqrt^(-1) * CN^(-1)               0.986863\n",
      "Pol * Ion_sqrt * Pol_squared^(-1) * Ion_squared^(-1) * Pol_sqrt^(-1) * CN^(-1)               0.986863\n",
      "Pol * Ion_sqrt * Pol_squared^(-1) * Ion_squared^(-1) * CN^(-1)                               0.984775\n",
      "Pol * Ion * Pol_squared^(-1) * Ion_squared^(-1) * Ion_sqrt^(-1) * CN^(-1)                    0.984775\n",
      "Pol_squared^(-1) * Ion_squared^(-1) * CN^(-1)                                                0.983155\n",
      "Pol * Pol_squared^(-1) * Ion_squared^(-1) * Pol_sqrt^(-1) * CN^(-1)                          0.982648\n",
      "Pol_sqrt * Pol_squared^(-1) * Ion_squared^(-1) * CN^(-1)                                     0.982648\n",
      "Pol_sqrt * Ion * Pol_squared^(-1) * Ion_squared^(-1) * CN^(-1)                               0.982307\n",
      "Pol * Ion * Pol_squared^(-1) * Ion_squared^(-1) * Pol_sqrt^(-1) * CN^(-1)                    0.982307\n",
      "Pol_sqrt * Pol * Ion * Pol_squared^(-1) * Ion_squared^(-1) * CN^(-1)                         0.982049\n",
      "Pol_sqrt * Pol * Ion_sqrt * Ion * Pol_squared^(-1) * Ion_squared^(-1) * CN^(-1)              0.981924\n",
      "Ion_sqrt * Pol_squared^(-1) * Ion_squared^(-1) * CN^(-1)                                     0.980549\n",
      "Ion * Pol_squared^(-1) * Ion_squared^(-1) * Ion_sqrt^(-1) * CN^(-1)                          0.980549\n",
      "Pol * Ion_sqrt * Ion * Pol_squared^(-1) * Ion_squared^(-1) * CN^(-1)                         0.979909\n",
      "Pol_sqrt * Pol * Ion_sqrt * Ion * Pol_squared^(-1) * Ion_squared^(-1)                        0.979201\n",
      "Pol_sqrt^(-1) * Pol^(-1) * Ion_sqrt^(-1) * Ion^(-1)                                          0.978870\n",
      "Name: res, dtype: float64\n"
     ]
    }
   ],
   "source": [
    "results=correlation['res'].abs().sort_values(ascending=False)\n",
    "print(results.iloc[0:20])\n",
    "top_vars = results.iloc[1:20].index\n"
   ]
  },
  {
   "cell_type": "code",
   "execution_count": 128,
   "metadata": {},
   "outputs": [
    {
     "data": {
      "image/png": "[encoded data removed]",
      "text/plain": [
       "<Figure size 800x600 with 1 Axes>"
      ]
     },
     "metadata": {},
     "output_type": "display_data"
    },
    {
     "data": {
      "text/plain": [
       "(0.9747104323862069,\n",
       " 129.21382599767512,\n",
       " 33.23818050390271,\n",
       " 'y = -8.5777x + 229.9955')"
      ]
     },
     "execution_count": 128,
     "metadata": {},
     "output_type": "execute_result"
    }
   ],
   "source": [
    "param = top_vars[0]\n",
    "\n",
    "y = values[param]*100000000000\n",
    "x = values['res']\n",
    "\n",
    "import matplotlib.pyplot as plt\n",
    "from sklearn.linear_model import LinearRegression\n",
    "from sklearn.metrics import mean_absolute_percentage_error,mean_squared_error, r2_score\n",
    "\n",
    "# Assuming x and y are Pandas Series\n",
    "# Reshape x to a 2D array\n",
    "x_reshaped = x.values.reshape(-1, 1)  # Convert x to a 2D array (n, 1)\n",
    "\n",
    "# Create and fit the linear regression model\n",
    "model = LinearRegression()\n",
    "model.fit(x_reshaped, y)\n",
    "\n",
    "# Get the slope (coefficient) and intercept\n",
    "slope = model.coef_[0]  # model.coef_ gives the slope of the line\n",
    "intercept = model.intercept_  # model.intercept_ gives the intercept\n",
    "\n",
    "# Predict y values using the linear model\n",
    "y_pred = model.predict(x_reshaped)\n",
    "\n",
    "# Plot the data points and the regression line\n",
    "plt.figure(figsize=(8, 6))\n",
    "plt.scatter(x, y, color='blue', label='Data points')\n",
    "plt.plot(x, y_pred, color='red', label='Regression Line')\n",
    "plt.title(f'Scatter Plot of x vs y with Linear Regression Line \\n{param}')\n",
    "plt.xlabel(' Percentage Error')\n",
    "plt.ylabel(' Function Value')\n",
    "plt.grid()\n",
    "plt.legend()\n",
    "plt.show()\n",
    "\n",
    "# Calculate R^2 and MSE\n",
    "r_squared = r2_score(y, y_pred)\n",
    "mse = mean_squared_error(y, y_pred)\n",
    "mpe = mean_absolute_percentage_error(y, y_pred)\n",
    "\n",
    "# Display the equation of the line\n",
    "equation = f\"y = {slope:.4f}x + {intercept:.4f}\"\n",
    "r_squared, mse, mpe*100,equation\n"
   ]
  },
  {
   "cell_type": "markdown",
   "metadata": {},
   "source": [
    "### Results \n",
    "1. CN_sqrt * Ion_sqrt * Pol_sqrt^(-1) * Rad_sqrt^(-1) \n",
    "\n",
    "2. Rad_sqrt * CN_sqrt * Ion_sqrt * Rad^(-1) * Pol_sqrt^(-1)\n",
    "\n",
    "\n",
    "After adding alumninum relations changed \n",
    "\n",
    "1. Ion * Pol_sqrt * EN_sqrt * EN^(-1) * CN_sqrt^(-1)\n",
    "\n",
    "After adding Mn\n",
    "\n",
    "2. EN^(-1) * Pol_sqrt^(-1) * Pol_squared^(-1) * Ion_squared^(-1)  ( 97.1)\n",
    "\n",
    "Removing Ca \n",
    "\n",
    "3. EN * Pol_sqrt^(-1) * Pol_squared^(-1) * CN_sqrt^(-1) * Ion_squared^(-1) * EN_squared^(-1) (98.7)\n",
    "\n",
    "4. Pol_sqrt * Pol_squared^(-1) * Rad_sqrt^(-1) * CN_sqrt^(-1) * Ion_squared^(-1)  (98.7 less mse)\n",
    "\n",
    "\n",
    "\n",
    "Final Considered Result \n",
    "\n",
    "y = 1/ Pol^3 * 1/ Ion^3 * 1/CN"
   ]
  }
 ],
 "metadata": {
  "kernelspec": {
   "display_name": "base",
   "language": "python",
   "name": "python3"
  },
  "language_info": {
   "codemirror_mode": {
    "name": "ipython",
    "version": 3
   },
   "file_extension": ".py",
   "mimetype": "text/x-python",
   "name": "python",
   "nbconvert_exporter": "python",
   "pygments_lexer": "ipython3",
   "version": "3.12.2"
  }
 },
 "nbformat": 4,
 "nbformat_minor": 2
}

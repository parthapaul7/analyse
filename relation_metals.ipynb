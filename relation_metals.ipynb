{
 "cells": [
  {
   "cell_type": "code",
   "execution_count": 36,
   "metadata": {},
   "outputs": [],
   "source": [
    "import pandas as pd\n",
    "import numpy as np"
   ]
  },
  {
   "cell_type": "markdown",
   "metadata": {},
   "source": [
    "### Loading the feature functions from CSV and trimming"
   ]
  },
  {
   "cell_type": "code",
   "execution_count": 37,
   "metadata": {},
   "outputs": [
    {
     "data": {
      "text/plain": [
       "array(['Mg', 'Na', 'Cu', 'Ca', 'Li'], dtype=object)"
      ]
     },
     "execution_count": 37,
     "metadata": {},
     "output_type": "execute_result"
    }
   ],
   "source": [
    "df = pd.read_csv(\"features/mm_all.csv\")\n",
    "\n",
    "# Save to a CSV file\n",
    "molecules = df['Mol'].values\n",
    "\n",
    "\n",
    "molecules = molecules\n",
    "molecules"
   ]
  },
  {
   "cell_type": "markdown",
   "metadata": {},
   "source": [
    "### Size Modification and adding parameters to Data Frame"
   ]
  },
  {
   "cell_type": "code",
   "execution_count": 38,
   "metadata": {},
   "outputs": [
    {
     "data": {
      "text/html": [
       "<div>\n",
       "<style scoped>\n",
       "    .dataframe tbody tr th:only-of-type {\n",
       "        vertical-align: middle;\n",
       "    }\n",
       "\n",
       "    .dataframe tbody tr th {\n",
       "        vertical-align: top;\n",
       "    }\n",
       "\n",
       "    .dataframe thead th {\n",
       "        text-align: right;\n",
       "    }\n",
       "</style>\n",
       "<table border=\"1\" class=\"dataframe\">\n",
       "  <thead>\n",
       "    <tr style=\"text-align: right;\">\n",
       "      <th></th>\n",
       "      <th>Mol</th>\n",
       "      <th>Pol</th>\n",
       "      <th>Rad</th>\n",
       "      <th>CN</th>\n",
       "      <th>Ion</th>\n",
       "      <th>EN</th>\n",
       "    </tr>\n",
       "  </thead>\n",
       "  <tbody>\n",
       "    <tr>\n",
       "      <th>0</th>\n",
       "      <td>Mg</td>\n",
       "      <td>71.20</td>\n",
       "      <td>160</td>\n",
       "      <td>8</td>\n",
       "      <td>7.646</td>\n",
       "      <td>1.31</td>\n",
       "    </tr>\n",
       "    <tr>\n",
       "      <th>1</th>\n",
       "      <td>Na</td>\n",
       "      <td>162.70</td>\n",
       "      <td>157</td>\n",
       "      <td>8</td>\n",
       "      <td>5.139</td>\n",
       "      <td>0.93</td>\n",
       "    </tr>\n",
       "    <tr>\n",
       "      <th>2</th>\n",
       "      <td>Cu</td>\n",
       "      <td>46.50</td>\n",
       "      <td>128</td>\n",
       "      <td>12</td>\n",
       "      <td>7.726</td>\n",
       "      <td>1.91</td>\n",
       "    </tr>\n",
       "    <tr>\n",
       "      <th>3</th>\n",
       "      <td>Ca</td>\n",
       "      <td>160.80</td>\n",
       "      <td>200</td>\n",
       "      <td>12</td>\n",
       "      <td>6.113</td>\n",
       "      <td>1.00</td>\n",
       "    </tr>\n",
       "    <tr>\n",
       "      <th>4</th>\n",
       "      <td>Li</td>\n",
       "      <td>164.11</td>\n",
       "      <td>182</td>\n",
       "      <td>8</td>\n",
       "      <td>5.392</td>\n",
       "      <td>0.98</td>\n",
       "    </tr>\n",
       "  </tbody>\n",
       "</table>\n",
       "</div>"
      ],
      "text/plain": [
       "  Mol     Pol  Rad  CN    Ion    EN\n",
       "0  Mg   71.20  160   8  7.646  1.31\n",
       "1  Na  162.70  157   8  5.139  0.93\n",
       "2  Cu   46.50  128  12  7.726  1.91\n",
       "3  Ca  160.80  200  12  6.113  1.00\n",
       "4  Li  164.11  182   8  5.392  0.98"
      ]
     },
     "execution_count": 38,
     "metadata": {},
     "output_type": "execute_result"
    }
   ],
   "source": [
    "# df = df.iloc[:-1, :]\n",
    "df"
   ]
  },
  {
   "cell_type": "code",
   "execution_count": 39,
   "metadata": {},
   "outputs": [
    {
     "data": {
      "text/plain": [
       "[17.157433990966602,\n",
       " 25.107089123714033,\n",
       " 5.118879491233692,\n",
       " 22.948520572249624,\n",
       " 25.703986908185595]"
      ]
     },
     "execution_count": 39,
     "metadata": {},
     "output_type": "execute_result"
    }
   ],
   "source": [
    "\n",
    "%store -r res\n",
    "res \n",
    "\n",
    "# res = res[:-1]"
   ]
  },
  {
   "cell_type": "code",
   "execution_count": 40,
   "metadata": {},
   "outputs": [
    {
     "data": {
      "text/plain": [
       "[17.157433990966602,\n",
       " 25.107089123714033,\n",
       " 5.118879491233692,\n",
       " 22.948520572249624,\n",
       " 25.703986908185595]"
      ]
     },
     "execution_count": 40,
     "metadata": {},
     "output_type": "execute_result"
    }
   ],
   "source": [
    "## always inverse of EN_A\n",
    "# res = df['EA_A']/np.array(res)\n",
    "\n",
    "## always inverse of delta EN\n",
    "\n",
    "## always inverse of pol_A ( anion polarisation)\n",
    "\n",
    "## remove df['EA_A'] from the dataframe\n",
    "# df = df.drop(columns=['EA_A'])\n",
    "\n",
    "res"
   ]
  },
  {
   "cell_type": "code",
   "execution_count": 41,
   "metadata": {},
   "outputs": [
    {
     "data": {
      "text/plain": [
       "(5, 10)"
      ]
     },
     "execution_count": 41,
     "metadata": {},
     "output_type": "execute_result"
    }
   ],
   "source": [
    "df = df.iloc[:,1:]\n",
    "\n",
    "\n",
    "## always inverse of EN_A\n",
    "\n",
    "# # df['Diff_rad'] = df['RadV_A'] - df['RadV_C']\n",
    "\n",
    "\n",
    "# df['Sum_ion'] = df['Ion_C'] + df['Ion_A']\n",
    "# df['Abs_diff_ion'] = abs(df['Ion_C'] - df['Ion_A'])\n",
    "\n",
    "\n",
    "\n",
    "\n",
    "# # Adding sqrt values for each column\n",
    "for col in df.columns:\n",
    "    # Make sure the column is numeric before applying sqrt\n",
    "    if pd.api.types.is_numeric_dtype(df[col]):\n",
    "        df[f'{col}_sqrt'] = np.sqrt(abs(df[col]))\n",
    "        # df[f'{col}_squared'] = np.square(df[col])\n",
    "\n",
    "\n",
    "\n",
    "# df['sum_ion'] = df['Ion_C'] + df['Ion_A']\n",
    "# # df['diff_ion'] = df['Ion_C'] - df['Ion_A']\n",
    "df.shape"
   ]
  },
  {
   "cell_type": "markdown",
   "metadata": {},
   "source": [
    "### making the combinations"
   ]
  },
  {
   "cell_type": "code",
   "execution_count": 42,
   "metadata": {},
   "outputs": [],
   "source": [
    "import itertools\n",
    "import numpy as np\n",
    "import pandas as pd\n",
    "from multiprocessing import Pool, cpu_count"
   ]
  },
  {
   "cell_type": "code",
   "execution_count": 43,
   "metadata": {},
   "outputs": [],
   "source": [
    "import itertools\n",
    "import numpy as np\n",
    "import pandas as pd\n",
    "\n",
    "def generate_combinations_df(params_df, param_names):\n",
    "    results = []\n",
    "\n",
    "    # Convert all parameter values to numeric, coercing errors to NaN\n",
    "    params_df = params_df.apply(pd.to_numeric, errors='coerce')\n",
    "\n",
    "    # Precompute inverses of all parameters\n",
    "    params_inv_df = params_df.applymap(lambda x: np.power(float(x), -1) if pd.notnull(x) and x != 0 else np.nan)\n",
    "    params_inv_df.columns = [f\"{name}^(-1)\" for name in param_names]\n",
    "\n",
    "    # Combine original parameters and their inverses\n",
    "    combined_params_df = pd.concat([params_df, params_inv_df], axis=1)\n",
    "    combined_param_names = list(combined_params_df.columns)\n",
    "\n",
    "    # Precompute invalid pairs (parameter and its inverse)\n",
    "    invalid_pairs = {f\"{name}^(-1)\": name for name in param_names}\n",
    "    invalid_pairs.update({name: f\"{name}^(-1)\" for name in param_names})\n",
    "\n",
    "    # Generate all subsets of parameters (combinations)\n",
    "    for r in range(1, len(combined_param_names) + 1):\n",
    "        for subset_indices in itertools.combinations(range(len(combined_param_names)), r):\n",
    "\n",
    "            subset_names = [combined_param_names[i] for i in subset_indices]\n",
    "\n",
    "            # Skip invalid subsets early\n",
    "            if any(invalid_pairs.get(name) in subset_names for name in subset_names):\n",
    "                continue\n",
    "\n",
    "            # Select the subset DataFrame\n",
    "            subset = combined_params_df[subset_names]\n",
    "\n",
    "            # Replace NaN values with 0\n",
    "            subset = subset.fillna(0)\n",
    "\n",
    "            # Compute results for valid subsets\n",
    "            expr_str = \" * \".join(subset_names)\n",
    "            expr_val = subset.prod(axis=1)\n",
    "            results.append((expr_str, expr_val))\n",
    "\n",
    "    return results\n"
   ]
  },
  {
   "cell_type": "code",
   "execution_count": 44,
   "metadata": {},
   "outputs": [],
   "source": [
    "import itertools\n",
    "import numpy as np\n",
    "import pandas as pd\n",
    "from multiprocessing import Pool, cpu_count\n",
    "\n",
    "def process_combinations_chunk(args):\n",
    "    combined_params_df, combined_param_names, param_names, indices_chunk = args\n",
    "    results = []\n",
    "\n",
    "    for indices in indices_chunk:\n",
    "        subset_names = [combined_param_names[i] for i in indices]\n",
    "        subset = combined_params_df[subset_names]\n",
    "\n",
    "        # Replace NaN values with 0\n",
    "        subset = subset.fillna(0)\n",
    "\n",
    "        # Check if both a parameter and its inverse are in the subset\n",
    "        invalid = False\n",
    "        for name in subset_names:\n",
    "            if name.endswith(\"^(-1)\") and name[:-5] in subset_names:\n",
    "                invalid = True\n",
    "                break\n",
    "            elif name in param_names and f\"{name}^(-1)\" in subset_names:\n",
    "                invalid = True\n",
    "                break\n",
    "\n",
    "        if not invalid:\n",
    "            # Compute results for valid subsets\n",
    "            expr_str = \" * \".join(subset_names)\n",
    "            expr_val = subset.prod(axis=1)\n",
    "            results.append((expr_str, expr_val))\n",
    "\n",
    "    return results\n",
    "\n",
    "def generate_combinations_df_parallel(params_df, param_names):\n",
    "    # Convert all parameter values to numeric, coercing errors to NaN\n",
    "    params_df = params_df.apply(pd.to_numeric, errors='coerce')\n",
    "\n",
    "    # Precompute inverses of all parameters\n",
    "    params_inv_df = params_df.applymap(lambda x: np.power(float(x), -1) if pd.notnull(x) and x != 0 else np.nan)\n",
    "    params_inv_df.columns = [f\"{name}^(-1)\" for name in param_names]\n",
    "\n",
    "    # Combine original parameters and their inverses\n",
    "    combined_params_df = pd.concat([params_df, params_inv_df], axis=1)\n",
    "    combined_param_names = list(combined_params_df.columns)\n",
    "\n",
    "    # Generate all subsets of parameter indices\n",
    "    all_combinations = [\n",
    "        indices for r in range(1, len(combined_param_names) + 1)\n",
    "        for indices in itertools.combinations(range(len(combined_param_names)), r)\n",
    "    ]\n",
    "\n",
    "    # Divide all_combinations into chunks\n",
    "    num_workers = min(cpu_count(), len(all_combinations))\n",
    "    chunk_size = max(1, len(all_combinations) // num_workers)\n",
    "    chunks = [all_combinations[i:i + chunk_size] for i in range(0, len(all_combinations), chunk_size)]\n",
    "\n",
    "    print(f\"Using {num_workers} workers to process {len(all_combinations)} combinations in {len(chunks)} chunks\")\n",
    "\n",
    "    # Prepare arguments for parallel processing\n",
    "    args = [\n",
    "        (combined_params_df, combined_param_names, param_names, chunk)\n",
    "        for chunk in chunks\n",
    "    ]\n",
    "\n",
    "    # Use multiprocessing to process combinations in parallel\n",
    "    with Pool(processes=num_workers) as pool:\n",
    "        results = pool.map(process_combinations_chunk, args)\n",
    "\n",
    "    # Flatten results\n",
    "    flattened_results = [item for sublist in results for item in sublist]\n",
    "    return flattened_results\n"
   ]
  },
  {
   "cell_type": "code",
   "execution_count": 45,
   "metadata": {},
   "outputs": [
    {
     "name": "stdout",
     "output_type": "stream",
     "text": [
      "Calculating expressions...\n"
     ]
    },
    {
     "name": "stderr",
     "output_type": "stream",
     "text": [
      "/var/folders/zp/h52np6n918qd9v9139ls4z600000gn/T/ipykernel_73153/3972913922.py:12: FutureWarning: DataFrame.applymap has been deprecated. Use DataFrame.map instead.\n",
      "  params_inv_df = params_df.applymap(lambda x: np.power(float(x), -1) if pd.notnull(x) and x != 0 else np.nan)\n"
     ]
    },
    {
     "name": "stdout",
     "output_type": "stream",
     "text": [
      "Expressions cached.\n",
      "(19682, 2)\n"
     ]
    }
   ],
   "source": [
    "\n",
    "import os\n",
    "import pandas as pd\n",
    "\n",
    "takeSaved = False\n",
    "\n",
    "all_expressions = []\n",
    "expressions = []\n",
    "# Define file name to save/load the results\n",
    "cache_file = \"cached_expressions.pkl\"\n",
    "\n",
    "if os.path.exists(cache_file) and takeSaved:\n",
    "    # Load the cached results if they exist\n",
    "    expressions = pd.read_pickle(cache_file)\n",
    "    all_expressions = list(expressions.itertuples(index=False, name=None))\n",
    "    print(\"Loaded cached expressions.\")\n",
    "else:\n",
    "    # Perform the costly computation if cache does not exist\n",
    "    print(\"Calculating expressions...\")\n",
    "    param_names = list(df.iloc[:,1:].columns)\n",
    "    all_expressions = generate_combinations_df(df.iloc[:, 1:], param_names)\n",
    "    expressions = pd.DataFrame(all_expressions, columns=['Expression', 'Value'])\n",
    "\n",
    "    # Save the results to cache\n",
    "    expressions.to_pickle(cache_file)\n",
    "    print(\"Expressions cached.\")\n",
    "\n",
    "# Print the shape of the expressions DataFrame\n",
    "print(expressions.shape)\n"
   ]
  },
  {
   "cell_type": "code",
   "execution_count": 46,
   "metadata": {},
   "outputs": [
    {
     "data": {
      "text/html": [
       "<div>\n",
       "<style scoped>\n",
       "    .dataframe tbody tr th:only-of-type {\n",
       "        vertical-align: middle;\n",
       "    }\n",
       "\n",
       "    .dataframe tbody tr th {\n",
       "        vertical-align: top;\n",
       "    }\n",
       "\n",
       "    .dataframe thead th {\n",
       "        text-align: right;\n",
       "    }\n",
       "</style>\n",
       "<table border=\"1\" class=\"dataframe\">\n",
       "  <thead>\n",
       "    <tr style=\"text-align: right;\">\n",
       "      <th></th>\n",
       "      <th>Expression</th>\n",
       "      <th>Value</th>\n",
       "    </tr>\n",
       "  </thead>\n",
       "  <tbody>\n",
       "    <tr>\n",
       "      <th>0</th>\n",
       "      <td>Rad</td>\n",
       "      <td>0    160\n",
       "1    157\n",
       "2    128\n",
       "3    200\n",
       "4    182\n",
       "d...</td>\n",
       "    </tr>\n",
       "    <tr>\n",
       "      <th>1</th>\n",
       "      <td>CN</td>\n",
       "      <td>0     8\n",
       "1     8\n",
       "2    12\n",
       "3    12\n",
       "4     8\n",
       "dtype:...</td>\n",
       "    </tr>\n",
       "    <tr>\n",
       "      <th>2</th>\n",
       "      <td>Ion</td>\n",
       "      <td>0    7.646\n",
       "1    5.139\n",
       "2    7.726\n",
       "3    6.113\n",
       "4 ...</td>\n",
       "    </tr>\n",
       "    <tr>\n",
       "      <th>3</th>\n",
       "      <td>EN</td>\n",
       "      <td>0    1.31\n",
       "1    0.93\n",
       "2    1.91\n",
       "3    1.00\n",
       "4    0...</td>\n",
       "    </tr>\n",
       "    <tr>\n",
       "      <th>4</th>\n",
       "      <td>Pol_sqrt</td>\n",
       "      <td>0     8.438009\n",
       "1    12.755391\n",
       "2     6.819091\n",
       "3...</td>\n",
       "    </tr>\n",
       "  </tbody>\n",
       "</table>\n",
       "</div>"
      ],
      "text/plain": [
       "  Expression                                              Value\n",
       "0        Rad  0    160\n",
       "1    157\n",
       "2    128\n",
       "3    200\n",
       "4    182\n",
       "d...\n",
       "1         CN  0     8\n",
       "1     8\n",
       "2    12\n",
       "3    12\n",
       "4     8\n",
       "dtype:...\n",
       "2        Ion  0    7.646\n",
       "1    5.139\n",
       "2    7.726\n",
       "3    6.113\n",
       "4 ...\n",
       "3         EN  0    1.31\n",
       "1    0.93\n",
       "2    1.91\n",
       "3    1.00\n",
       "4    0...\n",
       "4   Pol_sqrt  0     8.438009\n",
       "1    12.755391\n",
       "2     6.819091\n",
       "3..."
      ]
     },
     "execution_count": 46,
     "metadata": {},
     "output_type": "execute_result"
    }
   ],
   "source": [
    "expressions.head()"
   ]
  },
  {
   "cell_type": "markdown",
   "metadata": {},
   "source": [
    "### Addition results to the combinations"
   ]
  },
  {
   "cell_type": "code",
   "execution_count": 142,
   "metadata": {},
   "outputs": [],
   "source": []
  },
  {
   "cell_type": "code",
   "execution_count": 47,
   "metadata": {},
   "outputs": [],
   "source": [
    "values_dict = {expr_str: expr_val for expr_str, expr_val in all_expressions}\n",
    "values = pd.DataFrame(values_dict)\n",
    "values['res'] = res"
   ]
  },
  {
   "cell_type": "markdown",
   "metadata": {},
   "source": [
    "### Finding Corelation"
   ]
  },
  {
   "cell_type": "code",
   "execution_count": 48,
   "metadata": {},
   "outputs": [
    {
     "data": {
      "text/plain": [
       "(19683, 19683)"
      ]
     },
     "execution_count": 48,
     "metadata": {},
     "output_type": "execute_result"
    }
   ],
   "source": [
    "\n",
    "correlation = values.corr()\n",
    "\n",
    "correlation.shape"
   ]
  },
  {
   "cell_type": "code",
   "execution_count": 49,
   "metadata": {},
   "outputs": [
    {
     "name": "stdout",
     "output_type": "stream",
     "text": [
      "res                                                                              1.000000\n",
      "Rad_sqrt * CN_sqrt * Ion_sqrt * Rad^(-1) * Pol_sqrt^(-1)                         0.999794\n",
      "Ion * Rad_sqrt * CN_sqrt * Rad^(-1) * Pol_sqrt^(-1) * Ion_sqrt^(-1)              0.999794\n",
      "CN * Ion * Rad_sqrt * Rad^(-1) * Pol_sqrt^(-1) * CN_sqrt^(-1) * Ion_sqrt^(-1)    0.999794\n",
      "Ion * CN_sqrt * Pol_sqrt^(-1) * Rad_sqrt^(-1) * Ion_sqrt^(-1)                    0.999794\n",
      "CN * Ion_sqrt * Pol_sqrt^(-1) * Rad_sqrt^(-1) * CN_sqrt^(-1)                     0.999794\n",
      "CN_sqrt * Ion_sqrt * Pol_sqrt^(-1) * Rad_sqrt^(-1)                               0.999794\n",
      "CN * Rad_sqrt * Ion_sqrt * Rad^(-1) * Pol_sqrt^(-1) * CN_sqrt^(-1)               0.999794\n",
      "CN * Ion * Pol_sqrt^(-1) * Rad_sqrt^(-1) * CN_sqrt^(-1) * Ion_sqrt^(-1)          0.999794\n",
      "Ion * CN_sqrt * Ion_sqrt * EN_sqrt * Rad^(-1)                                    0.999532\n",
      "Ion * EN * CN_sqrt * Ion_sqrt * Rad^(-1) * EN_sqrt^(-1)                          0.999532\n",
      "CN * Ion * EN * Ion_sqrt * Rad^(-1) * CN_sqrt^(-1) * EN_sqrt^(-1)                0.999532\n",
      "CN * Ion * Ion_sqrt * EN_sqrt * Rad^(-1) * CN_sqrt^(-1)                          0.999532\n",
      "Ion * CN_sqrt * Pol_sqrt^(-1) * Rad_sqrt^(-1)                                    0.999157\n",
      "Ion * Rad_sqrt * CN_sqrt * Rad^(-1) * Pol_sqrt^(-1)                              0.999157\n",
      "CN * Ion * Pol_sqrt^(-1) * Rad_sqrt^(-1) * CN_sqrt^(-1)                          0.999157\n",
      "CN * Ion * Rad_sqrt * Rad^(-1) * Pol_sqrt^(-1) * CN_sqrt^(-1)                    0.999157\n",
      "CN * Ion * EN * Pol_sqrt^(-1) * CN_sqrt^(-1) * EN_sqrt^(-1)                      0.999116\n",
      "Ion * CN_sqrt * EN_sqrt * Pol_sqrt^(-1)                                          0.999116\n",
      "Ion * EN * CN_sqrt * Pol_sqrt^(-1) * EN_sqrt^(-1)                                0.999116\n",
      "Name: res, dtype: float64\n"
     ]
    }
   ],
   "source": [
    "results=correlation['res'].abs().sort_values(ascending=False)\n",
    "print(results.iloc[0:20])\n",
    "top_vars = results.iloc[1:20].index"
   ]
  },
  {
   "cell_type": "markdown",
   "metadata": {},
   "source": [
    "### Final Results"
   ]
  },
  {
   "cell_type": "code",
   "execution_count": 50,
   "metadata": {},
   "outputs": [
    {
     "name": "stdout",
     "output_type": "stream",
     "text": [
      "res                                                                              1.000000\n",
      "Rad_sqrt * CN_sqrt * Ion_sqrt * Rad^(-1) * Pol_sqrt^(-1)                         0.999794\n",
      "Ion * Rad_sqrt * CN_sqrt * Rad^(-1) * Pol_sqrt^(-1) * Ion_sqrt^(-1)              0.999794\n",
      "CN * Ion * Rad_sqrt * Rad^(-1) * Pol_sqrt^(-1) * CN_sqrt^(-1) * Ion_sqrt^(-1)    0.999794\n",
      "Ion * CN_sqrt * Pol_sqrt^(-1) * Rad_sqrt^(-1) * Ion_sqrt^(-1)                    0.999794\n",
      "CN * Ion_sqrt * Pol_sqrt^(-1) * Rad_sqrt^(-1) * CN_sqrt^(-1)                     0.999794\n",
      "CN_sqrt * Ion_sqrt * Pol_sqrt^(-1) * Rad_sqrt^(-1)                               0.999794\n",
      "CN * Rad_sqrt * Ion_sqrt * Rad^(-1) * Pol_sqrt^(-1) * CN_sqrt^(-1)               0.999794\n",
      "CN * Ion * Pol_sqrt^(-1) * Rad_sqrt^(-1) * CN_sqrt^(-1) * Ion_sqrt^(-1)          0.999794\n",
      "Ion * CN_sqrt * Ion_sqrt * EN_sqrt * Rad^(-1)                                    0.999532\n",
      "Ion * EN * CN_sqrt * Ion_sqrt * Rad^(-1) * EN_sqrt^(-1)                          0.999532\n",
      "CN * Ion * EN * Ion_sqrt * Rad^(-1) * CN_sqrt^(-1) * EN_sqrt^(-1)                0.999532\n",
      "CN * Ion * Ion_sqrt * EN_sqrt * Rad^(-1) * CN_sqrt^(-1)                          0.999532\n",
      "Ion * CN_sqrt * Pol_sqrt^(-1) * Rad_sqrt^(-1)                                    0.999157\n",
      "Ion * Rad_sqrt * CN_sqrt * Rad^(-1) * Pol_sqrt^(-1)                              0.999157\n",
      "CN * Ion * Pol_sqrt^(-1) * Rad_sqrt^(-1) * CN_sqrt^(-1)                          0.999157\n",
      "CN * Ion * Rad_sqrt * Rad^(-1) * Pol_sqrt^(-1) * CN_sqrt^(-1)                    0.999157\n",
      "CN * Ion * EN * Pol_sqrt^(-1) * CN_sqrt^(-1) * EN_sqrt^(-1)                      0.999116\n",
      "Ion * CN_sqrt * EN_sqrt * Pol_sqrt^(-1)                                          0.999116\n",
      "Ion * EN * CN_sqrt * Pol_sqrt^(-1) * EN_sqrt^(-1)                                0.999116\n",
      "Name: res, dtype: float64\n"
     ]
    }
   ],
   "source": [
    "results=correlation['res'].abs().sort_values(ascending=False)\n",
    "print(results.iloc[0:20])\n",
    "top_vars = results.iloc[1:20].index\n"
   ]
  },
  {
   "cell_type": "code",
   "execution_count": 51,
   "metadata": {},
   "outputs": [
    {
     "data": {
      "image/png": "[encoded data removed]",
      "text/plain": [
       "<Figure size 640x480 with 1 Axes>"
      ]
     },
     "metadata": {},
     "output_type": "display_data"
    },
    {
     "name": "stdout",
     "output_type": "stream",
     "text": [
      "1.0\n"
     ]
    }
   ],
   "source": [
    "import matplotlib.pyplot as plt\n",
    "\n",
    "plt.scatter(results['res'],results[top_vars[3]])\n",
    "plt.plot(results['res'],results[top_vars[0]])\n",
    "plt.show()\n",
    "\n",
    "values[top_vars[0]]\n",
    "\n",
    "\n",
    "# param = df['Cat_EN']*df['Ani_EN']*df['Rad_C']*df['CN']*df['Ion_C']*df['Ion_A']\n",
    "\n",
    "\n",
    "\n",
    "# y = list(values[top_vars[0]])[:4]+list(values[top_vars[0]])[5:]\n",
    "# x = list(values['res'])[:4]+list(values['res'])[5:]\n",
    "\n",
    "# plt.scatter(x,y)\n",
    "# x\n",
    "\n",
    "print(results['res'])"
   ]
  },
  {
   "cell_type": "code",
   "execution_count": 52,
   "metadata": {},
   "outputs": [
    {
     "data": {
      "image/png": "[encoded data removed]",
      "text/plain": [
       "<Figure size 800x600 with 1 Axes>"
      ]
     },
     "metadata": {},
     "output_type": "display_data"
    },
    {
     "data": {
      "text/plain": [
       "(0.9995887801502389, 4.35091777288583e-07, 'y = -0.0042x + 0.1463')"
      ]
     },
     "execution_count": 52,
     "metadata": {},
     "output_type": "execute_result"
    }
   ],
   "source": [
    "param = top_vars[0]\n",
    "\n",
    "y = values[param]\n",
    "x = values['res']\n",
    "\n",
    "import matplotlib.pyplot as plt\n",
    "from sklearn.linear_model import LinearRegression\n",
    "from sklearn.metrics import mean_squared_error, r2_score\n",
    "\n",
    "# Assuming x and y are Pandas Series\n",
    "# Reshape x to a 2D array\n",
    "x_reshaped = x.values.reshape(-1, 1)  # Convert x to a 2D array (n, 1)\n",
    "\n",
    "# Create and fit the linear regression model\n",
    "model = LinearRegression()\n",
    "model.fit(x_reshaped, y)\n",
    "\n",
    "# Get the slope (coefficient) and intercept\n",
    "slope = model.coef_[0]  # model.coef_ gives the slope of the line\n",
    "intercept = model.intercept_  # model.intercept_ gives the intercept\n",
    "\n",
    "# Predict y values using the linear model\n",
    "y_pred = model.predict(x_reshaped)\n",
    "\n",
    "# Plot the data points and the regression line\n",
    "plt.figure(figsize=(8, 6))\n",
    "plt.scatter(x, y, color='blue', label='Data points')\n",
    "plt.plot(x, y_pred, color='red', label='Regression Line')\n",
    "plt.title(f'Scatter Plot of x vs y with Linear Regression Line \\n{param}')\n",
    "plt.xlabel(' Percentage Error')\n",
    "plt.ylabel(' Function Value')\n",
    "plt.grid()\n",
    "plt.legend()\n",
    "plt.show()\n",
    "\n",
    "# Calculate R^2 and MSE\n",
    "r_squared = r2_score(y, y_pred)\n",
    "msd = mean_squared_error(y, y_pred)\n",
    "\n",
    "# Display the equation of the line\n",
    "equation = f\"y = {slope:.4f}x + {intercept:.4f}\"\n",
    "r_squared, msd, equation\n"
   ]
  },
  {
   "cell_type": "code",
   "execution_count": 53,
   "metadata": {},
   "outputs": [
    {
     "data": {
      "text/plain": [
       "1.0"
      ]
     },
     "execution_count": 53,
     "metadata": {},
     "output_type": "execute_result"
    }
   ],
   "source": [
    "### Results \n",
    "\n",
    "1. "
   ]
  }
 ],
 "metadata": {
  "kernelspec": {
   "display_name": "base",
   "language": "python",
   "name": "python3"
  },
  "language_info": {
   "codemirror_mode": {
    "name": "ipython",
    "version": 3
   },
   "file_extension": ".py",
   "mimetype": "text/x-python",
   "name": "python",
   "nbconvert_exporter": "python",
   "pygments_lexer": "ipython3",
   "version": "3.12.2"
  }
 },
 "nbformat": 4,
 "nbformat_minor": 2
}

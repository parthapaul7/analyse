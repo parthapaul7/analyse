{
 "cells": [
  {
   "cell_type": "markdown",
   "metadata": {},
   "source": [
    "###### TODO:\n",
    "\n",
    "1.  Take MBDNL as the reference to quantify the error ( user relative error )\n",
    "\n",
    "2.  Check for Cu and Alkaline Earth metals\n",
    "\n",
    "3.  Find formal charges by beggar's analysis in MBDNL optimised geometry\n",
    "\n",
    "4.  Consider absolute electronegetiy of each elements present also as a fetaure function ( for the mettalic things )\n",
    "\n",
    "5.  Polarisibility \n",
    "\n"
   ]
  }
 ],
 "metadata": {
  "language_info": {
   "name": "python"
  }
 },
 "nbformat": 4,
 "nbformat_minor": 2
}

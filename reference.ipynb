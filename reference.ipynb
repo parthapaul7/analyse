{
 "cells": [
  {
   "cell_type": "markdown",
   "metadata": {},
   "source": [
    "###### TODO:\n",
    "\n",
    "1.  Take MBDNL as the reference to quantify the error ( user relative error )\n",
    "\n",
    "2.  Check for Cu and Alkaline Earth metals\n",
    "\n",
    "3.  Find formal charges by beggar's analysis in MBDNL optimised geometry\n",
    "\n",
    "4.  Consider absolute electronegetiy of each elements present also as a fetaure function ( for the mettalic things )\n",
    "\n",
    "5.  Polarisibility \n",
    "\n"
   ]
  },
  {
   "cell_type": "code",
   "execution_count": 35,
   "metadata": {},
   "outputs": [],
   "source": [
    "import pandas as pd\n",
    "import numpy as np\n",
    "import matplotlib.pyplot as plt"
   ]
  },
  {
   "cell_type": "markdown",
   "metadata": {},
   "source": [
    "### Checking Elements"
   ]
  },
  {
   "cell_type": "code",
   "execution_count": 36,
   "metadata": {},
   "outputs": [],
   "source": [
    "comp = \"NaH\"\n",
    "d3 = pd.read_csv(f'd3/{comp}.csv')\n",
    "mbd = pd.read_csv(f'mbd/{comp}.csv')\n"
   ]
  },
  {
   "cell_type": "code",
   "execution_count": 37,
   "metadata": {},
   "outputs": [
    {
     "data": {
      "text/html": [
       "<div>\n",
       "<style scoped>\n",
       "    .dataframe tbody tr th:only-of-type {\n",
       "        vertical-align: middle;\n",
       "    }\n",
       "\n",
       "    .dataframe tbody tr th {\n",
       "        vertical-align: top;\n",
       "    }\n",
       "\n",
       "    .dataframe thead th {\n",
       "        text-align: right;\n",
       "    }\n",
       "</style>\n",
       "<table border=\"1\" class=\"dataframe\">\n",
       "  <thead>\n",
       "    <tr style=\"text-align: right;\">\n",
       "      <th></th>\n",
       "      <th>cell_length</th>\n",
       "      <th>energy</th>\n",
       "      <th>E-dispersion</th>\n",
       "    </tr>\n",
       "  </thead>\n",
       "  <tbody>\n",
       "    <tr>\n",
       "      <th>0</th>\n",
       "      <td>4.723223</td>\n",
       "      <td>-21.036822</td>\n",
       "      <td>-0.76891</td>\n",
       "    </tr>\n",
       "    <tr>\n",
       "      <th>1</th>\n",
       "      <td>NaN</td>\n",
       "      <td>NaN</td>\n",
       "      <td>NaN</td>\n",
       "    </tr>\n",
       "    <tr>\n",
       "      <th>2</th>\n",
       "      <td>NaN</td>\n",
       "      <td>NaN</td>\n",
       "      <td>NaN</td>\n",
       "    </tr>\n",
       "    <tr>\n",
       "      <th>3</th>\n",
       "      <td>NaN</td>\n",
       "      <td>NaN</td>\n",
       "      <td>NaN</td>\n",
       "    </tr>\n",
       "    <tr>\n",
       "      <th>4</th>\n",
       "      <td>NaN</td>\n",
       "      <td>NaN</td>\n",
       "      <td>NaN</td>\n",
       "    </tr>\n",
       "  </tbody>\n",
       "</table>\n",
       "</div>"
      ],
      "text/plain": [
       "   cell_length     energy  E-dispersion\n",
       "0     4.723223 -21.036822      -0.76891\n",
       "1          NaN        NaN           NaN\n",
       "2          NaN        NaN           NaN\n",
       "3          NaN        NaN           NaN\n",
       "4          NaN        NaN           NaN"
      ]
     },
     "execution_count": 37,
     "metadata": {},
     "output_type": "execute_result"
    }
   ],
   "source": [
    "mbd.head()"
   ]
  },
  {
   "cell_type": "code",
   "execution_count": 38,
   "metadata": {},
   "outputs": [
    {
     "data": {
      "image/png": "[encoded data removed]",
      "text/plain": [
       "<Figure size 640x480 with 1 Axes>"
      ]
     },
     "metadata": {},
     "output_type": "display_data"
    }
   ],
   "source": [
    "# plt.plot(cuppor['cell_length'], cuppor['energy'], 'o')\n",
    "plt.scatter(d3['cell_length'], d3['energy'])\n",
    "\n",
    "# plt.plot(copper_mbd['cell_length'], copper_mbd['energy'], 'o')\n",
    "plt.scatter(mbd['cell_length'], mbd['energy'])\n",
    "\n",
    "plt.show()"
   ]
  },
  {
   "cell_type": "markdown",
   "metadata": {},
   "source": [
    "### Loading the feature functions from CSV"
   ]
  },
  {
   "cell_type": "code",
   "execution_count": 39,
   "metadata": {},
   "outputs": [
    {
     "data": {
      "text/plain": [
       "array(['LiH', 'NaH', 'KH', 'RbH', 'CsH', 'LiCl'], dtype=object)"
      ]
     },
     "execution_count": 39,
     "metadata": {},
     "output_type": "execute_result"
    }
   ],
   "source": [
    "\n",
    "\"\"\" List of molecules strcutrue \n",
    "data = {\n",
    "    \"Mol\": molecules,  # Molecule\n",
    "    \"Cat_EN\": [0.98, 0.93, 0.82, 0.79, 1.90, 1.90, 0.98, 1.90, 1.31, 0.98, 0.93],  # Cation electronegativity\n",
    "    \"Ani_EN\": [2.20, 2.20, 2.20, 2.20, 2.20, 1.90, 3.98, 2.66, np.nan, np.nan, np.nan],  # Anion electronegativity\n",
    "    \"Pol_C\": [164.1, 162.7, 289.7, 400.9, 46.5, 46.5, 164.1, 46.5, 71.2, 164.1, 162.7],  # Cation polarizability\n",
    "    \"Pol_A\": [4.51, 4.51, 4.51, 4.51, 4.51, 46.5, 0.56, 6.35, np.nan, np.nan, np.nan],  # Anion polarizability\n",
    "    \"Rad_C\": [152.0, 186.0, 227.0, 343.0, 260.0, 128.0, 152.0, 128.0, 160.0, 152.0, 186.0],  # Cation radius (pm)\n",
    "    \"Rad_A\": [53.0, 53.0, 53.0, 53.0, 53.0, np.nan, 147.0, 206.0, np.nan, np.nan, np.nan],  # Anion radius (pm)\n",
    "    \"CN\": [6.0, 6.0, 6.0, 6.0, 6.0, np.nan, 6.0, 6.0, 6.0, np.nan, np.nan],  # Coordination number\n",
    "    \"Ion_C\": [520.2, 495.8, 418.8, 376.6, 745.5, 745.5, 520.2, 745.5, 737.7, 520.2, 495.8],  # Cation ionization energy (kJ/mol)\n",
    "    \"Ion_A\": [1312.0, 1312.0, 1312.0, 1312.0, 1312.0, np.nan, 1681.0, 1007.0, np.nan, np.nan, np.nan],  # Anion ionization energy (kJ/mol)\n",
    "    \"EA_A\": [72.8, 72.8, 72.8, 72.8, 72.8, np.nan, 328.0, 295.0, np.nan, np.nan, np.nan],  # Anion electron affinity (kJ/mol)\n",
    "    \"EA_C\": [59.6, 52.8, 48.4, 45.5, 119.2, 119.2, 59.6, 119.2, 0.0, 59.6, 52.8],  # Cation electron affinity (kJ/mol)\n",
    "}\n",
    "\n",
    "\"\"\"\n",
    "\n",
    "# Create a DataFrame\n",
    "df = pd.read_csv(\"ff.csv\")\n",
    "\n",
    "# Save to a CSV file\n",
    "molecules = df['Mol'].values\n",
    "\n",
    "\n",
    "molecules = molecules[:-5]\n",
    "molecules\n"
   ]
  },
  {
   "cell_type": "markdown",
   "metadata": {},
   "source": [
    "### Trimming the feature data frame"
   ]
  },
  {
   "cell_type": "code",
   "execution_count": 40,
   "metadata": {},
   "outputs": [
    {
     "data": {
      "text/html": [
       "<div>\n",
       "<style scoped>\n",
       "    .dataframe tbody tr th:only-of-type {\n",
       "        vertical-align: middle;\n",
       "    }\n",
       "\n",
       "    .dataframe tbody tr th {\n",
       "        vertical-align: top;\n",
       "    }\n",
       "\n",
       "    .dataframe thead th {\n",
       "        text-align: right;\n",
       "    }\n",
       "</style>\n",
       "<table border=\"1\" class=\"dataframe\">\n",
       "  <thead>\n",
       "    <tr style=\"text-align: right;\">\n",
       "      <th></th>\n",
       "      <th>Mol</th>\n",
       "      <th>Pol_C</th>\n",
       "      <th>Pol_A</th>\n",
       "      <th>Rad_C</th>\n",
       "      <th>Rad_A</th>\n",
       "      <th>CN_C</th>\n",
       "      <th>Ion_C</th>\n",
       "      <th>Ion_A</th>\n",
       "    </tr>\n",
       "  </thead>\n",
       "  <tbody>\n",
       "    <tr>\n",
       "      <th>0</th>\n",
       "      <td>LiH</td>\n",
       "      <td>164.1</td>\n",
       "      <td>4.51</td>\n",
       "      <td>152</td>\n",
       "      <td>53</td>\n",
       "      <td>6</td>\n",
       "      <td>5.392</td>\n",
       "      <td>13.590</td>\n",
       "    </tr>\n",
       "    <tr>\n",
       "      <th>1</th>\n",
       "      <td>NaH</td>\n",
       "      <td>162.7</td>\n",
       "      <td>4.51</td>\n",
       "      <td>186</td>\n",
       "      <td>53</td>\n",
       "      <td>6</td>\n",
       "      <td>5.139</td>\n",
       "      <td>13.590</td>\n",
       "    </tr>\n",
       "    <tr>\n",
       "      <th>2</th>\n",
       "      <td>KH</td>\n",
       "      <td>289.7</td>\n",
       "      <td>4.51</td>\n",
       "      <td>227</td>\n",
       "      <td>53</td>\n",
       "      <td>6</td>\n",
       "      <td>4.341</td>\n",
       "      <td>13.590</td>\n",
       "    </tr>\n",
       "    <tr>\n",
       "      <th>3</th>\n",
       "      <td>RbH</td>\n",
       "      <td>400.9</td>\n",
       "      <td>4.51</td>\n",
       "      <td>343</td>\n",
       "      <td>53</td>\n",
       "      <td>6</td>\n",
       "      <td>4.177</td>\n",
       "      <td>13.590</td>\n",
       "    </tr>\n",
       "    <tr>\n",
       "      <th>4</th>\n",
       "      <td>CsH</td>\n",
       "      <td>46.5</td>\n",
       "      <td>4.51</td>\n",
       "      <td>260</td>\n",
       "      <td>53</td>\n",
       "      <td>6</td>\n",
       "      <td>3.849</td>\n",
       "      <td>13.590</td>\n",
       "    </tr>\n",
       "    <tr>\n",
       "      <th>5</th>\n",
       "      <td>LiCl</td>\n",
       "      <td>164.1</td>\n",
       "      <td>0.56</td>\n",
       "      <td>152</td>\n",
       "      <td>180</td>\n",
       "      <td>6</td>\n",
       "      <td>5.392</td>\n",
       "      <td>17.423</td>\n",
       "    </tr>\n",
       "    <tr>\n",
       "      <th>6</th>\n",
       "      <td>CuI</td>\n",
       "      <td>46.5</td>\n",
       "      <td>6.35</td>\n",
       "      <td>128</td>\n",
       "      <td>206</td>\n",
       "      <td>4</td>\n",
       "      <td>7.726</td>\n",
       "      <td>10.451</td>\n",
       "    </tr>\n",
       "  </tbody>\n",
       "</table>\n",
       "</div>"
      ],
      "text/plain": [
       "    Mol  Pol_C  Pol_A  Rad_C  Rad_A  CN_C  Ion_C   Ion_A\n",
       "0   LiH  164.1   4.51    152     53     6  5.392  13.590\n",
       "1   NaH  162.7   4.51    186     53     6  5.139  13.590\n",
       "2    KH  289.7   4.51    227     53     6  4.341  13.590\n",
       "3   RbH  400.9   4.51    343     53     6  4.177  13.590\n",
       "4   CsH   46.5   4.51    260     53     6  3.849  13.590\n",
       "5  LiCl  164.1   0.56    152    180     6  5.392  17.423\n",
       "6   CuI   46.5   6.35    128    206     4  7.726  10.451"
      ]
     },
     "execution_count": 40,
     "metadata": {},
     "output_type": "execute_result"
    }
   ],
   "source": [
    "df = df.iloc[:7,0:8]\n",
    "df"
   ]
  },
  {
   "cell_type": "markdown",
   "metadata": {},
   "source": [
    "### Find all the combinations"
   ]
  },
  {
   "cell_type": "code",
   "execution_count": 41,
   "metadata": {},
   "outputs": [],
   "source": [
    "## Generating all the cominations of the parameters\n",
    "\n",
    "import itertools\n",
    "import numpy as np\n",
    "import pandas as pd\n",
    "\n",
    "def generate_combinations_df(params_df, param_names):\n",
    "    results = []\n",
    "\n",
    "    # Convert all parameter values to numeric, coercing errors to NaN\n",
    "    params_df = params_df.apply(pd.to_numeric, errors='coerce')\n",
    "\n",
    "    # Precompute inverses of all parameters\n",
    "    # Convert to float to handle integer to negative power issue\n",
    "    params_inv_df = params_df.applymap(lambda x: np.power(float(x), -1) if pd.notnull(x) and x != 0 else np.nan)\n",
    "    params_inv_df.columns = [f\"{name}^(-1)\" for name in param_names]\n",
    "\n",
    "    # Combine original parameters and their inverses\n",
    "    combined_params_df = pd.concat([params_df, params_inv_df], axis=1)\n",
    "    combined_param_names = list(combined_params_df.columns)\n",
    "\n",
    "    # Generate all subsets of parameters (combinations)\n",
    "    for r in range(1, len(combined_param_names) + 1):\n",
    "        for subset_indices in itertools.combinations(range(len(combined_param_names)), r):\n",
    "\n",
    "            subset_names = [combined_param_names[i] for i in subset_indices]\n",
    "            subset = combined_params_df[subset_names]\n",
    "\n",
    "            # Replace NaN values with 0\n",
    "            subset = subset.fillna(0)\n",
    "\n",
    "            # Check if both a parameter and its inverse are in the subset\n",
    "            invalid = False\n",
    "            for name in subset_names:\n",
    "                if name.endswith(\"^(-1)\") and name[:-5] in subset_names:\n",
    "                    invalid = True\n",
    "                    break\n",
    "                elif name in param_names and f\"{name}^(-1)\" in subset_names:\n",
    "                    invalid = True\n",
    "                    break\n",
    "\n",
    "            if invalid:\n",
    "                continue\n",
    "\n",
    "            # Compute results for valid subsets\n",
    "            expr_str = \" * \".join(subset_names)\n",
    "            expr_val = subset.prod(axis=1)\n",
    "            results.append((expr_str, expr_val))\n",
    "\n",
    "    return results"
   ]
  },
  {
   "cell_type": "code",
   "execution_count": 63,
   "metadata": {},
   "outputs": [
    {
     "name": "stdout",
     "output_type": "stream",
     "text": [
      "Loaded cached expressions.\n",
      "(2186, 2)\n"
     ]
    }
   ],
   "source": [
    "\n",
    "import os\n",
    "import pandas as pd\n",
    "\n",
    "all_expressions = []\n",
    "expressions = []\n",
    "# Define file name to save/load the results\n",
    "cache_file = \"cached_expressions.pkl\"\n",
    "\n",
    "if os.path.exists(cache_file):\n",
    "    # Load the cached results if they exist\n",
    "    expressions = pd.read_pickle(cache_file)\n",
    "    all_expressions = list(expressions.itertuples(index=False, name=None))\n",
    "    print(\"Loaded cached expressions.\")\n",
    "else:\n",
    "    # Perform the costly computation if cache does not exist\n",
    "    print(\"Calculating expressions...\")\n",
    "    param_names = list(df.iloc[:7,1:8].columns)\n",
    "    all_expressions = generate_combinations_df(df.iloc[0:7, 1:8], param_names[:7])\n",
    "    expressions = pd.DataFrame(all_expressions, columns=['Expression', 'Value'])\n",
    "\n",
    "    # Save the results to cache\n",
    "    expressions.to_pickle(cache_file)\n",
    "    print(\"Expressions cached.\")\n",
    "\n",
    "# Print the shape of the expressions DataFrame\n",
    "print(expressions.shape)\n"
   ]
  },
  {
   "cell_type": "code",
   "execution_count": 59,
   "metadata": {},
   "outputs": [
    {
     "data": {
      "text/html": [
       "<div>\n",
       "<style scoped>\n",
       "    .dataframe tbody tr th:only-of-type {\n",
       "        vertical-align: middle;\n",
       "    }\n",
       "\n",
       "    .dataframe tbody tr th {\n",
       "        vertical-align: top;\n",
       "    }\n",
       "\n",
       "    .dataframe thead th {\n",
       "        text-align: right;\n",
       "    }\n",
       "</style>\n",
       "<table border=\"1\" class=\"dataframe\">\n",
       "  <thead>\n",
       "    <tr style=\"text-align: right;\">\n",
       "      <th></th>\n",
       "      <th>Expression</th>\n",
       "      <th>Value</th>\n",
       "    </tr>\n",
       "  </thead>\n",
       "  <tbody>\n",
       "    <tr>\n",
       "      <th>0</th>\n",
       "      <td>Pol_C</td>\n",
       "      <td>0    164.1\n",
       "1    162.7\n",
       "2    289.7\n",
       "3    400.9\n",
       "4 ...</td>\n",
       "    </tr>\n",
       "    <tr>\n",
       "      <th>1</th>\n",
       "      <td>Pol_A</td>\n",
       "      <td>0    4.51\n",
       "1    4.51\n",
       "2    4.51\n",
       "3    4.51\n",
       "4    4...</td>\n",
       "    </tr>\n",
       "    <tr>\n",
       "      <th>2</th>\n",
       "      <td>Rad_C</td>\n",
       "      <td>0    152\n",
       "1    186\n",
       "2    227\n",
       "3    343\n",
       "4    260\n",
       "5...</td>\n",
       "    </tr>\n",
       "    <tr>\n",
       "      <th>3</th>\n",
       "      <td>Rad_A</td>\n",
       "      <td>0     53\n",
       "1     53\n",
       "2     53\n",
       "3     53\n",
       "4     53\n",
       "5...</td>\n",
       "    </tr>\n",
       "    <tr>\n",
       "      <th>4</th>\n",
       "      <td>CN_C</td>\n",
       "      <td>0    6\n",
       "1    6\n",
       "2    6\n",
       "3    6\n",
       "4    6\n",
       "5    6\n",
       "6   ...</td>\n",
       "    </tr>\n",
       "  </tbody>\n",
       "</table>\n",
       "</div>"
      ],
      "text/plain": [
       "  Expression                                              Value\n",
       "0      Pol_C  0    164.1\n",
       "1    162.7\n",
       "2    289.7\n",
       "3    400.9\n",
       "4 ...\n",
       "1      Pol_A  0    4.51\n",
       "1    4.51\n",
       "2    4.51\n",
       "3    4.51\n",
       "4    4...\n",
       "2      Rad_C  0    152\n",
       "1    186\n",
       "2    227\n",
       "3    343\n",
       "4    260\n",
       "5...\n",
       "3      Rad_A  0     53\n",
       "1     53\n",
       "2     53\n",
       "3     53\n",
       "4     53\n",
       "5...\n",
       "4       CN_C  0    6\n",
       "1    6\n",
       "2    6\n",
       "3    6\n",
       "4    6\n",
       "5    6\n",
       "6   ..."
      ]
     },
     "execution_count": 59,
     "metadata": {},
     "output_type": "execute_result"
    }
   ],
   "source": [
    "expressions.head()"
   ]
  },
  {
   "cell_type": "markdown",
   "metadata": {},
   "source": [
    "### Adding the Result of Errors to the combinations \n",
    "\n",
    "Cheking Linear Corelations"
   ]
  },
  {
   "cell_type": "code",
   "execution_count": 64,
   "metadata": {},
   "outputs": [
    {
     "data": {
      "text/plain": [
       "[10.949597164494895,\n",
       " 10.541726430016613,\n",
       " 10.418474212336614,\n",
       " 9.50800562688988,\n",
       " 9.011645790668272,\n",
       " 4.711644133098936,\n",
       " 2.281612873138524]"
      ]
     },
     "execution_count": 64,
     "metadata": {},
     "output_type": "execute_result"
    }
   ],
   "source": [
    "%store -r res\n",
    "res"
   ]
  },
  {
   "cell_type": "code",
   "execution_count": 65,
   "metadata": {},
   "outputs": [],
   "source": [
    "\n",
    "values_dict = {expr_str: expr_val for expr_str, expr_val in all_expressions}\n",
    "values = pd.DataFrame(values_dict)\n",
    "values['res'] = res\n"
   ]
  },
  {
   "cell_type": "code",
   "execution_count": 66,
   "metadata": {},
   "outputs": [
    {
     "name": "stdout",
     "output_type": "stream",
     "text": [
      "(7, 2187)\n"
     ]
    },
    {
     "data": {
      "text/plain": [
       "(2187, 2187)"
      ]
     },
     "execution_count": 66,
     "metadata": {},
     "output_type": "execute_result"
    }
   ],
   "source": [
    "print(values.shape)\n",
    "\n",
    "correlation = values.corr()\n",
    "\n",
    "correlation.shape"
   ]
  },
  {
   "cell_type": "code",
   "execution_count": 67,
   "metadata": {},
   "outputs": [
    {
     "ename": "KeyboardInterrupt",
     "evalue": "",
     "output_type": "error",
     "traceback": [
      "\u001b[1;31m---------------------------------------------------------------------------\u001b[0m",
      "\u001b[1;31mKeyboardInterrupt\u001b[0m                         Traceback (most recent call last)",
      "Cell \u001b[1;32mIn[67], line 4\u001b[0m\n\u001b[0;32m      1\u001b[0m \u001b[38;5;28;01mimport\u001b[39;00m \u001b[38;5;21;01mdask\u001b[39;00m\u001b[38;5;21;01m.\u001b[39;00m\u001b[38;5;21;01mdataframe\u001b[39;00m \u001b[38;5;28;01mas\u001b[39;00m \u001b[38;5;21;01mdd\u001b[39;00m\n\u001b[0;32m      3\u001b[0m dask_values \u001b[38;5;241m=\u001b[39m dd\u001b[38;5;241m.\u001b[39mfrom_pandas(values, npartitions\u001b[38;5;241m=\u001b[39m\u001b[38;5;241m10\u001b[39m)\n\u001b[1;32m----> 4\u001b[0m correlation \u001b[38;5;241m=\u001b[39m \u001b[43mdask_values\u001b[49m\u001b[38;5;241;43m.\u001b[39;49m\u001b[43mcorr\u001b[49m\u001b[43m(\u001b[49m\u001b[43m)\u001b[49m\u001b[38;5;241;43m.\u001b[39;49m\u001b[43mcompute\u001b[49m\u001b[43m(\u001b[49m\u001b[43m)\u001b[49m\n",
      "File \u001b[1;32mc:\\Users\\user\\miniconda3\\Lib\\site-packages\\dask_expr\\_collection.py:477\u001b[0m, in \u001b[0;36mFrameBase.compute\u001b[1;34m(self, fuse, **kwargs)\u001b[0m\n\u001b[0;32m    475\u001b[0m     out \u001b[38;5;241m=\u001b[39m out\u001b[38;5;241m.\u001b[39mrepartition(npartitions\u001b[38;5;241m=\u001b[39m\u001b[38;5;241m1\u001b[39m)\n\u001b[0;32m    476\u001b[0m out \u001b[38;5;241m=\u001b[39m out\u001b[38;5;241m.\u001b[39moptimize(fuse\u001b[38;5;241m=\u001b[39mfuse)\n\u001b[1;32m--> 477\u001b[0m \u001b[38;5;28;01mreturn\u001b[39;00m \u001b[43mDaskMethodsMixin\u001b[49m\u001b[38;5;241;43m.\u001b[39;49m\u001b[43mcompute\u001b[49m\u001b[43m(\u001b[49m\u001b[43mout\u001b[49m\u001b[43m,\u001b[49m\u001b[43m \u001b[49m\u001b[38;5;241;43m*\u001b[39;49m\u001b[38;5;241;43m*\u001b[39;49m\u001b[43mkwargs\u001b[49m\u001b[43m)\u001b[49m\n",
      "File \u001b[1;32mc:\\Users\\user\\miniconda3\\Lib\\site-packages\\dask\\base.py:376\u001b[0m, in \u001b[0;36mDaskMethodsMixin.compute\u001b[1;34m(self, **kwargs)\u001b[0m\n\u001b[0;32m    352\u001b[0m \u001b[38;5;28;01mdef\u001b[39;00m \u001b[38;5;21mcompute\u001b[39m(\u001b[38;5;28mself\u001b[39m, \u001b[38;5;241m*\u001b[39m\u001b[38;5;241m*\u001b[39mkwargs):\n\u001b[0;32m    353\u001b[0m \u001b[38;5;250m    \u001b[39m\u001b[38;5;124;03m\"\"\"Compute this dask collection\u001b[39;00m\n\u001b[0;32m    354\u001b[0m \n\u001b[0;32m    355\u001b[0m \u001b[38;5;124;03m    This turns a lazy Dask collection into its in-memory equivalent.\u001b[39;00m\n\u001b[1;32m   (...)\u001b[0m\n\u001b[0;32m    374\u001b[0m \u001b[38;5;124;03m    dask.compute\u001b[39;00m\n\u001b[0;32m    375\u001b[0m \u001b[38;5;124;03m    \"\"\"\u001b[39;00m\n\u001b[1;32m--> 376\u001b[0m     (result,) \u001b[38;5;241m=\u001b[39m \u001b[43mcompute\u001b[49m\u001b[43m(\u001b[49m\u001b[38;5;28;43mself\u001b[39;49m\u001b[43m,\u001b[49m\u001b[43m \u001b[49m\u001b[43mtraverse\u001b[49m\u001b[38;5;241;43m=\u001b[39;49m\u001b[38;5;28;43;01mFalse\u001b[39;49;00m\u001b[43m,\u001b[49m\u001b[43m \u001b[49m\u001b[38;5;241;43m*\u001b[39;49m\u001b[38;5;241;43m*\u001b[39;49m\u001b[43mkwargs\u001b[49m\u001b[43m)\u001b[49m\n\u001b[0;32m    377\u001b[0m     \u001b[38;5;28;01mreturn\u001b[39;00m result\n",
      "File \u001b[1;32mc:\\Users\\user\\miniconda3\\Lib\\site-packages\\dask\\base.py:664\u001b[0m, in \u001b[0;36mcompute\u001b[1;34m(traverse, optimize_graph, scheduler, get, *args, **kwargs)\u001b[0m\n\u001b[0;32m    661\u001b[0m     postcomputes\u001b[38;5;241m.\u001b[39mappend(x\u001b[38;5;241m.\u001b[39m__dask_postcompute__())\n\u001b[0;32m    663\u001b[0m \u001b[38;5;28;01mwith\u001b[39;00m shorten_traceback():\n\u001b[1;32m--> 664\u001b[0m     results \u001b[38;5;241m=\u001b[39m \u001b[43mschedule\u001b[49m\u001b[43m(\u001b[49m\u001b[43mdsk\u001b[49m\u001b[43m,\u001b[49m\u001b[43m \u001b[49m\u001b[43mkeys\u001b[49m\u001b[43m,\u001b[49m\u001b[43m \u001b[49m\u001b[38;5;241;43m*\u001b[39;49m\u001b[38;5;241;43m*\u001b[39;49m\u001b[43mkwargs\u001b[49m\u001b[43m)\u001b[49m\n\u001b[0;32m    666\u001b[0m \u001b[38;5;28;01mreturn\u001b[39;00m repack([f(r, \u001b[38;5;241m*\u001b[39ma) \u001b[38;5;28;01mfor\u001b[39;00m r, (f, a) \u001b[38;5;129;01min\u001b[39;00m \u001b[38;5;28mzip\u001b[39m(results, postcomputes)])\n",
      "File \u001b[1;32mc:\\Users\\user\\miniconda3\\Lib\\queue.py:180\u001b[0m, in \u001b[0;36mQueue.get\u001b[1;34m(self, block, timeout)\u001b[0m\n\u001b[0;32m    178\u001b[0m         \u001b[38;5;28;01mif\u001b[39;00m remaining \u001b[38;5;241m<\u001b[39m\u001b[38;5;241m=\u001b[39m \u001b[38;5;241m0.0\u001b[39m:\n\u001b[0;32m    179\u001b[0m             \u001b[38;5;28;01mraise\u001b[39;00m Empty\n\u001b[1;32m--> 180\u001b[0m         \u001b[38;5;28;43mself\u001b[39;49m\u001b[38;5;241;43m.\u001b[39;49m\u001b[43mnot_empty\u001b[49m\u001b[38;5;241;43m.\u001b[39;49m\u001b[43mwait\u001b[49m\u001b[43m(\u001b[49m\u001b[43mremaining\u001b[49m\u001b[43m)\u001b[49m\n\u001b[0;32m    181\u001b[0m item \u001b[38;5;241m=\u001b[39m \u001b[38;5;28mself\u001b[39m\u001b[38;5;241m.\u001b[39m_get()\n\u001b[0;32m    182\u001b[0m \u001b[38;5;28mself\u001b[39m\u001b[38;5;241m.\u001b[39mnot_full\u001b[38;5;241m.\u001b[39mnotify()\n",
      "File \u001b[1;32mc:\\Users\\user\\miniconda3\\Lib\\threading.py:359\u001b[0m, in \u001b[0;36mCondition.wait\u001b[1;34m(self, timeout)\u001b[0m\n\u001b[0;32m    357\u001b[0m \u001b[38;5;28;01melse\u001b[39;00m:\n\u001b[0;32m    358\u001b[0m     \u001b[38;5;28;01mif\u001b[39;00m timeout \u001b[38;5;241m>\u001b[39m \u001b[38;5;241m0\u001b[39m:\n\u001b[1;32m--> 359\u001b[0m         gotit \u001b[38;5;241m=\u001b[39m \u001b[43mwaiter\u001b[49m\u001b[38;5;241;43m.\u001b[39;49m\u001b[43macquire\u001b[49m\u001b[43m(\u001b[49m\u001b[38;5;28;43;01mTrue\u001b[39;49;00m\u001b[43m,\u001b[49m\u001b[43m \u001b[49m\u001b[43mtimeout\u001b[49m\u001b[43m)\u001b[49m\n\u001b[0;32m    360\u001b[0m     \u001b[38;5;28;01melse\u001b[39;00m:\n\u001b[0;32m    361\u001b[0m         gotit \u001b[38;5;241m=\u001b[39m waiter\u001b[38;5;241m.\u001b[39macquire(\u001b[38;5;28;01mFalse\u001b[39;00m)\n",
      "\u001b[1;31mKeyboardInterrupt\u001b[0m: "
     ]
    }
   ],
   "source": [
    "import dask.dataframe as dd\n",
    "\n",
    "dask_values = dd.from_pandas(values, npartitions=10)\n",
    "correlation = dask_values.corr().compute()"
   ]
  },
  {
   "cell_type": "code",
   "execution_count": 68,
   "metadata": {},
   "outputs": [
    {
     "name": "stdout",
     "output_type": "stream",
     "text": [
      "res                                                                              1.000000\n",
      "Rad_A * Ion_C^(-1) * Ion_A^(-1)                                                  0.995080\n",
      "Rad_A * CN_C^(-1) * Ion_C^(-1)                                                   0.992923\n",
      "Rad_C * Rad_A * Ion_C * Ion_A * CN_C^(-1)                                        0.986446\n",
      "Rad_C * Rad_A * Ion_C                                                            0.984916\n",
      "CN_C * Ion_C * Ion_A * Rad_A^(-1)                                                0.983175\n",
      "Rad_A * Ion_C * Pol_C^(-1) * Pol_A^(-1) * CN_C^(-1) * Ion_A^(-1)                 0.983113\n",
      "Rad_A * Ion_C * Pol_C^(-1) * Pol_A^(-1) * Rad_C^(-1) * CN_C^(-1) * Ion_A^(-1)    0.981230\n",
      "Rad_A * CN_C * Ion_A^(-1)                                                        0.980904\n",
      "CN_C * Ion_A * Rad_A^(-1)                                                        0.980677\n",
      "Ion_A * Rad_A^(-1)                                                               0.978739\n",
      "Rad_C * Rad_A * CN_C^(-1)                                                        0.978417\n",
      "Ion_C * Pol_C^(-1) * Pol_A^(-1) * Rad_C^(-1) * CN_C^(-1) * Ion_A^(-1)            0.976735\n",
      "Rad_C * Rad_A * Ion_C * Pol_C^(-1) * Pol_A^(-1) * CN_C^(-1) * Ion_A^(-1)         0.976215\n",
      "Rad_A                                                                            0.975479\n",
      "CN_C * Rad_A^(-1)                                                                0.973833\n",
      "Ion_C * Ion_A * Rad_A^(-1)                                                       0.972220\n",
      "Rad_A * Ion_C * Ion_A * CN_C^(-1)                                                0.971237\n",
      "CN_C * Ion_C * Rad_A^(-1)                                                        0.971035\n",
      "Ion_A * Rad_A^(-1) * CN_C^(-1)                                                   0.970922\n",
      "Name: res, dtype: float64\n"
     ]
    }
   ],
   "source": [
    "results=correlation['res'].abs().sort_values(ascending=False)\n",
    "print(results.iloc[0:20])\n",
    "top_vars = results.iloc[1:20].index"
   ]
  },
  {
   "cell_type": "markdown",
   "metadata": {},
   "source": [
    "### checking non linear Relation ( spearman )"
   ]
  },
  {
   "cell_type": "code",
   "execution_count": 69,
   "metadata": {},
   "outputs": [],
   "source": [
    "non_linear_corr = values.corr(method='spearman')\n"
   ]
  },
  {
   "cell_type": "code",
   "execution_count": 71,
   "metadata": {},
   "outputs": [
    {
     "name": "stdout",
     "output_type": "stream",
     "text": [
      "res                                                         1.000000\n",
      "Rad_A * CN_C^(-1) * Ion_C^(-1)                              1.000000\n",
      "CN_C * Ion_C * Ion_A * Rad_A^(-1)                           1.000000\n",
      "Ion_C * Ion_A * Rad_A^(-1)                                  1.000000\n",
      "CN_C * Ion_C * Rad_A^(-1)                                   1.000000\n",
      "Rad_A * Ion_C^(-1) * Ion_A^(-1)                             1.000000\n",
      "Rad_A * CN_C^(-1) * Ion_C^(-1) * Ion_A^(-1)                 1.000000\n",
      "Rad_C * Rad_A * CN_C * Ion_C * Ion_A^(-1)                   0.964286\n",
      "Ion_C * Ion_A * Rad_A^(-1) * CN_C^(-1)                      0.964286\n",
      "Rad_C * Rad_A * CN_C * Ion_A^(-1)                           0.964286\n",
      "CN_C * Ion_A * Rad_C^(-1) * Rad_A^(-1)                      0.964286\n",
      "Rad_C * Rad_A * Ion_C * CN_C^(-1)                           0.964286\n",
      "Rad_C * Rad_A * Ion_C * Ion_A^(-1)                          0.964286\n",
      "Rad_A * CN_C * Ion_C^(-1) * Ion_A^(-1)                      0.964286\n",
      "CN_C * Ion_C * Rad_A^(-1) * Ion_A^(-1)                      0.964286\n",
      "Rad_C * Rad_A * CN_C^(-1) * Ion_C^(-1)                      0.964286\n",
      "Rad_C * Rad_A * CN_C^(-1) * Ion_A^(-1)                      0.964286\n",
      "CN_C * Ion_C * Rad_C^(-1) * Rad_A^(-1)                      0.964286\n",
      "Ion_A * Rad_C^(-1) * Rad_A^(-1) * CN_C^(-1)                 0.964286\n",
      "Rad_C^(-1) * Rad_A^(-1) * Ion_C^(-1)                        0.964286\n",
      "Ion_A * Rad_C^(-1) * Rad_A^(-1) * Ion_C^(-1)                0.964286\n",
      "Ion_C * Rad_A^(-1)                                          0.964286\n",
      "Rad_A * CN_C * Ion_C^(-1)                                   0.964286\n",
      "Ion_A * Rad_C^(-1) * Rad_A^(-1) * CN_C^(-1) * Ion_C^(-1)    0.964286\n",
      "Ion_A * Rad_C^(-1) * Rad_A^(-1)                             0.964286\n",
      "Ion_C * Rad_A^(-1) * Ion_A^(-1)                             0.964286\n",
      "Rad_C * Rad_A * Ion_C * CN_C^(-1) * Ion_A^(-1)              0.964286\n",
      "Rad_A * Ion_A * Ion_C^(-1)                                  0.964286\n",
      "Rad_C * Rad_A * Ion_A^(-1)                                  0.964286\n",
      "Rad_C * Rad_A * CN_C^(-1)                                   0.964286\n",
      "Name: res, dtype: float64\n"
     ]
    }
   ],
   "source": [
    "temp=non_linear_corr['res'].abs().sort_values(ascending=False)\n",
    "print(temp.iloc[0:30])\n",
    "top_vars = temp.iloc[1:30].index"
   ]
  },
  {
   "cell_type": "markdown",
   "metadata": {},
   "source": [
    "### kendal Corelations"
   ]
  },
  {
   "cell_type": "code",
   "execution_count": 28,
   "metadata": {},
   "outputs": [
    {
     "ename": "KeyboardInterrupt",
     "evalue": "",
     "output_type": "error",
     "traceback": [
      "\u001b[1;31m---------------------------------------------------------------------------\u001b[0m",
      "\u001b[1;31mKeyboardInterrupt\u001b[0m                         Traceback (most recent call last)",
      "Cell \u001b[1;32mIn[28], line 1\u001b[0m\n\u001b[1;32m----> 1\u001b[0m kendall_corr \u001b[38;5;241m=\u001b[39m \u001b[43mvalues\u001b[49m\u001b[38;5;241;43m.\u001b[39;49m\u001b[43mcorr\u001b[49m\u001b[43m(\u001b[49m\u001b[43mmethod\u001b[49m\u001b[38;5;241;43m=\u001b[39;49m\u001b[38;5;124;43m'\u001b[39;49m\u001b[38;5;124;43mkendall\u001b[39;49m\u001b[38;5;124;43m'\u001b[39;49m\u001b[43m)\u001b[49m\n",
      "File \u001b[1;32mc:\\Users\\user\\miniconda3\\Lib\\site-packages\\pandas\\core\\frame.py:11076\u001b[0m, in \u001b[0;36mDataFrame.corr\u001b[1;34m(self, method, min_periods, numeric_only)\u001b[0m\n\u001b[0;32m  11074\u001b[0m     c \u001b[38;5;241m=\u001b[39m corrf(ac[valid], bc[valid])\n\u001b[0;32m  11075\u001b[0m \u001b[38;5;28;01melse\u001b[39;00m:\n\u001b[1;32m> 11076\u001b[0m     c \u001b[38;5;241m=\u001b[39m \u001b[43mcorrf\u001b[49m\u001b[43m(\u001b[49m\u001b[43mac\u001b[49m\u001b[43m,\u001b[49m\u001b[43m \u001b[49m\u001b[43mbc\u001b[49m\u001b[43m)\u001b[49m\n\u001b[0;32m  11077\u001b[0m correl[i, j] \u001b[38;5;241m=\u001b[39m c\n\u001b[0;32m  11078\u001b[0m correl[j, i] \u001b[38;5;241m=\u001b[39m c\n",
      "File \u001b[1;32mc:\\Users\\user\\miniconda3\\Lib\\site-packages\\pandas\\core\\nanops.py:1625\u001b[0m, in \u001b[0;36mget_corr_func.<locals>.func\u001b[1;34m(a, b)\u001b[0m\n\u001b[0;32m   1624\u001b[0m \u001b[38;5;28;01mdef\u001b[39;00m \u001b[38;5;21mfunc\u001b[39m(a, b):\n\u001b[1;32m-> 1625\u001b[0m     \u001b[38;5;28;01mreturn\u001b[39;00m \u001b[43mkendalltau\u001b[49m\u001b[43m(\u001b[49m\u001b[43ma\u001b[49m\u001b[43m,\u001b[49m\u001b[43m \u001b[49m\u001b[43mb\u001b[49m\u001b[43m)\u001b[49m[\u001b[38;5;241m0\u001b[39m]\n",
      "File \u001b[1;32mc:\\Users\\user\\miniconda3\\Lib\\site-packages\\scipy\\stats\\_stats_py.py:5945\u001b[0m, in \u001b[0;36mkendalltau\u001b[1;34m(x, y, nan_policy, method, variant, alternative)\u001b[0m\n\u001b[0;32m   5942\u001b[0m y \u001b[38;5;241m=\u001b[39m np\u001b[38;5;241m.\u001b[39mr_[\u001b[38;5;28;01mTrue\u001b[39;00m, y[\u001b[38;5;241m1\u001b[39m:] \u001b[38;5;241m!=\u001b[39m y[:\u001b[38;5;241m-\u001b[39m\u001b[38;5;241m1\u001b[39m]]\u001b[38;5;241m.\u001b[39mcumsum(dtype\u001b[38;5;241m=\u001b[39mnp\u001b[38;5;241m.\u001b[39mintp)\n\u001b[0;32m   5944\u001b[0m \u001b[38;5;66;03m# stable sort on x and convert x to dense ranks\u001b[39;00m\n\u001b[1;32m-> 5945\u001b[0m perm \u001b[38;5;241m=\u001b[39m \u001b[43mnp\u001b[49m\u001b[38;5;241;43m.\u001b[39;49m\u001b[43margsort\u001b[49m\u001b[43m(\u001b[49m\u001b[43mx\u001b[49m\u001b[43m,\u001b[49m\u001b[43m \u001b[49m\u001b[43mkind\u001b[49m\u001b[38;5;241;43m=\u001b[39;49m\u001b[38;5;124;43m'\u001b[39;49m\u001b[38;5;124;43mmergesort\u001b[39;49m\u001b[38;5;124;43m'\u001b[39;49m\u001b[43m)\u001b[49m\n\u001b[0;32m   5946\u001b[0m x, y \u001b[38;5;241m=\u001b[39m x[perm], y[perm]\n\u001b[0;32m   5947\u001b[0m x \u001b[38;5;241m=\u001b[39m np\u001b[38;5;241m.\u001b[39mr_[\u001b[38;5;28;01mTrue\u001b[39;00m, x[\u001b[38;5;241m1\u001b[39m:] \u001b[38;5;241m!=\u001b[39m x[:\u001b[38;5;241m-\u001b[39m\u001b[38;5;241m1\u001b[39m]]\u001b[38;5;241m.\u001b[39mcumsum(dtype\u001b[38;5;241m=\u001b[39mnp\u001b[38;5;241m.\u001b[39mintp)\n",
      "File \u001b[1;32mc:\\Users\\user\\miniconda3\\Lib\\site-packages\\numpy\\core\\fromnumeric.py:1133\u001b[0m, in \u001b[0;36margsort\u001b[1;34m(a, axis, kind, order)\u001b[0m\n\u001b[0;32m   1025\u001b[0m \u001b[38;5;129m@array_function_dispatch\u001b[39m(_argsort_dispatcher)\n\u001b[0;32m   1026\u001b[0m \u001b[38;5;28;01mdef\u001b[39;00m \u001b[38;5;21margsort\u001b[39m(a, axis\u001b[38;5;241m=\u001b[39m\u001b[38;5;241m-\u001b[39m\u001b[38;5;241m1\u001b[39m, kind\u001b[38;5;241m=\u001b[39m\u001b[38;5;28;01mNone\u001b[39;00m, order\u001b[38;5;241m=\u001b[39m\u001b[38;5;28;01mNone\u001b[39;00m):\n\u001b[0;32m   1027\u001b[0m \u001b[38;5;250m    \u001b[39m\u001b[38;5;124;03m\"\"\"\u001b[39;00m\n\u001b[0;32m   1028\u001b[0m \u001b[38;5;124;03m    Returns the indices that would sort an array.\u001b[39;00m\n\u001b[0;32m   1029\u001b[0m \n\u001b[1;32m   (...)\u001b[0m\n\u001b[0;32m   1131\u001b[0m \n\u001b[0;32m   1132\u001b[0m \u001b[38;5;124;03m    \"\"\"\u001b[39;00m\n\u001b[1;32m-> 1133\u001b[0m     \u001b[38;5;28;01mreturn\u001b[39;00m \u001b[43m_wrapfunc\u001b[49m\u001b[43m(\u001b[49m\u001b[43ma\u001b[49m\u001b[43m,\u001b[49m\u001b[43m \u001b[49m\u001b[38;5;124;43m'\u001b[39;49m\u001b[38;5;124;43margsort\u001b[39;49m\u001b[38;5;124;43m'\u001b[39;49m\u001b[43m,\u001b[49m\u001b[43m \u001b[49m\u001b[43maxis\u001b[49m\u001b[38;5;241;43m=\u001b[39;49m\u001b[43maxis\u001b[49m\u001b[43m,\u001b[49m\u001b[43m \u001b[49m\u001b[43mkind\u001b[49m\u001b[38;5;241;43m=\u001b[39;49m\u001b[43mkind\u001b[49m\u001b[43m,\u001b[49m\u001b[43m \u001b[49m\u001b[43morder\u001b[49m\u001b[38;5;241;43m=\u001b[39;49m\u001b[43morder\u001b[49m\u001b[43m)\u001b[49m\n",
      "File \u001b[1;32mc:\\Users\\user\\miniconda3\\Lib\\site-packages\\numpy\\core\\fromnumeric.py:59\u001b[0m, in \u001b[0;36m_wrapfunc\u001b[1;34m(obj, method, *args, **kwds)\u001b[0m\n\u001b[0;32m     56\u001b[0m     \u001b[38;5;28;01mreturn\u001b[39;00m _wrapit(obj, method, \u001b[38;5;241m*\u001b[39margs, \u001b[38;5;241m*\u001b[39m\u001b[38;5;241m*\u001b[39mkwds)\n\u001b[0;32m     58\u001b[0m \u001b[38;5;28;01mtry\u001b[39;00m:\n\u001b[1;32m---> 59\u001b[0m     \u001b[38;5;28;01mreturn\u001b[39;00m \u001b[43mbound\u001b[49m\u001b[43m(\u001b[49m\u001b[38;5;241;43m*\u001b[39;49m\u001b[43margs\u001b[49m\u001b[43m,\u001b[49m\u001b[43m \u001b[49m\u001b[38;5;241;43m*\u001b[39;49m\u001b[38;5;241;43m*\u001b[39;49m\u001b[43mkwds\u001b[49m\u001b[43m)\u001b[49m\n\u001b[0;32m     60\u001b[0m \u001b[38;5;28;01mexcept\u001b[39;00m \u001b[38;5;167;01mTypeError\u001b[39;00m:\n\u001b[0;32m     61\u001b[0m     \u001b[38;5;66;03m# A TypeError occurs if the object does have such a method in its\u001b[39;00m\n\u001b[0;32m     62\u001b[0m     \u001b[38;5;66;03m# class, but its signature is not identical to that of NumPy's. This\u001b[39;00m\n\u001b[1;32m   (...)\u001b[0m\n\u001b[0;32m     66\u001b[0m     \u001b[38;5;66;03m# Call _wrapit from within the except clause to ensure a potential\u001b[39;00m\n\u001b[0;32m     67\u001b[0m     \u001b[38;5;66;03m# exception has a traceback chain.\u001b[39;00m\n\u001b[0;32m     68\u001b[0m     \u001b[38;5;28;01mreturn\u001b[39;00m _wrapit(obj, method, \u001b[38;5;241m*\u001b[39margs, \u001b[38;5;241m*\u001b[39m\u001b[38;5;241m*\u001b[39mkwds)\n",
      "\u001b[1;31mKeyboardInterrupt\u001b[0m: "
     ]
    }
   ],
   "source": [
    "kendall_corr = values.corr(method='kendall')"
   ]
  },
  {
   "cell_type": "code",
   "execution_count": null,
   "metadata": {},
   "outputs": [],
   "source": [
    "temp = kendall_corr['res'].abs().sort_values(ascending=False)\n",
    "\n",
    "print(temp.iloc[0:30])"
   ]
  },
  {
   "cell_type": "markdown",
   "metadata": {},
   "source": [
    "### More to try \n",
    "1. Mutual info regression \n",
    "\n",
    "2. Maximal Information Coefficient \n",
    "\n",
    "3.  Distance Correlation"
   ]
  },
  {
   "cell_type": "markdown",
   "metadata": {},
   "source": [
    "### Final List of Results"
   ]
  },
  {
   "cell_type": "code",
   "execution_count": 29,
   "metadata": {},
   "outputs": [
    {
     "name": "stdout",
     "output_type": "stream",
     "text": [
      "res                                                                              1.000000\n",
      "Rad_A * Ion_C^(-1) * Ion_A^(-1)                                                  0.995080\n",
      "Rad_A * CN_C^(-1) * Ion_C^(-1)                                                   0.992923\n",
      "Rad_C * Rad_A * Ion_C * Ion_A * CN_C^(-1)                                        0.986446\n",
      "Rad_C * Rad_A * Ion_C                                                            0.984916\n",
      "CN_C * Ion_C * Ion_A * Rad_A^(-1)                                                0.983175\n",
      "Rad_A * Ion_C * Pol_C^(-1) * Pol_A^(-1) * CN_C^(-1) * Ion_A^(-1)                 0.983113\n",
      "Rad_A * Ion_C * Pol_C^(-1) * Pol_A^(-1) * Rad_C^(-1) * CN_C^(-1) * Ion_A^(-1)    0.981230\n",
      "Rad_A * CN_C * Ion_A^(-1)                                                        0.980904\n",
      "CN_C * Ion_A * Rad_A^(-1)                                                        0.980677\n",
      "Ion_A * Rad_A^(-1)                                                               0.978739\n",
      "Rad_C * Rad_A * CN_C^(-1)                                                        0.978417\n",
      "Ion_C * Pol_C^(-1) * Pol_A^(-1) * Rad_C^(-1) * CN_C^(-1) * Ion_A^(-1)            0.976735\n",
      "Rad_C * Rad_A * Ion_C * Pol_C^(-1) * Pol_A^(-1) * CN_C^(-1) * Ion_A^(-1)         0.976215\n",
      "Rad_A                                                                            0.975479\n",
      "CN_C * Rad_A^(-1)                                                                0.973833\n",
      "Ion_C * Ion_A * Rad_A^(-1)                                                       0.972220\n",
      "Rad_A * Ion_C * Ion_A * CN_C^(-1)                                                0.971237\n",
      "CN_C * Ion_C * Rad_A^(-1)                                                        0.971035\n",
      "Ion_A * Rad_A^(-1) * CN_C^(-1)                                                   0.970922\n",
      "Name: res, dtype: float64\n"
     ]
    }
   ],
   "source": [
    "results=correlation['res'].abs().sort_values(ascending=False)\n",
    "print(results.iloc[0:20])\n",
    "top_vars = results.iloc[1:20].index"
   ]
  },
  {
   "cell_type": "markdown",
   "metadata": {},
   "source": [
    "### Cheking the final results"
   ]
  },
  {
   "cell_type": "code",
   "execution_count": 73,
   "metadata": {},
   "outputs": [
    {
     "data": {
      "image/png": "[encoded data removed]",
      "text/plain": [
       "<Figure size 640x480 with 1 Axes>"
      ]
     },
     "metadata": {},
     "output_type": "display_data"
    }
   ],
   "source": [
    "\n",
    "plt.scatter(non_linear_corr['res'],non_linear_corr[top_vars[3]])\n",
    "plt.plot(non_linear_corr['res'],non_linear_corr[top_vars[0]])\n",
    "plt.show()\n",
    "\n",
    "values[top_vars[0]]\n",
    "\n",
    "\n",
    "# param = df['Cat_EN']*df['Ani_EN']*df['Rad_C']*df['CN']*df['Ion_C']*df['Ion_A']\n",
    "\n",
    "y = values[top_vars[0]]\n",
    "x = values['res']\n",
    "\n",
    "\n",
    "# y = list(values[top_vars[0]])[:4]+list(values[top_vars[0]])[5:]\n",
    "# x = list(values['res'])[:4]+list(values['res'])[5:]\n",
    "\n",
    "# plt.scatter(x,y)\n",
    "# x\n"
   ]
  },
  {
   "cell_type": "code",
   "execution_count": 36,
   "metadata": {},
   "outputs": [
    {
     "data": {
      "image/png": "[encoded data removed]",
      "text/plain": [
       "<Figure size 800x600 with 1 Axes>"
      ]
     },
     "metadata": {},
     "output_type": "display_data"
    },
    {
     "data": {
      "text/plain": [
       "(0.9901839822972618, 0.004115644986140698, 'y = -0.2074x + 2.9581')"
      ]
     },
     "execution_count": 36,
     "metadata": {},
     "output_type": "execute_result"
    }
   ],
   "source": [
    "import matplotlib.pyplot as plt\n",
    "from sklearn.linear_model import LinearRegression\n",
    "from sklearn.metrics import mean_squared_error, r2_score\n",
    "\n",
    "# Assuming x and y are Pandas Series\n",
    "# Reshape x to a 2D array\n",
    "x_reshaped = x.values.reshape(-1, 1)  # Convert x to a 2D array (n, 1)\n",
    "\n",
    "# Create and fit the linear regression model\n",
    "model = LinearRegression()\n",
    "model.fit(x_reshaped, y)\n",
    "\n",
    "# Get the slope (coefficient) and intercept\n",
    "slope = model.coef_[0]  # model.coef_ gives the slope of the line\n",
    "intercept = model.intercept_  # model.intercept_ gives the intercept\n",
    "\n",
    "# Predict y values using the linear model\n",
    "y_pred = model.predict(x_reshaped)\n",
    "\n",
    "# Plot the data points and the regression line\n",
    "plt.figure(figsize=(8, 6))\n",
    "plt.scatter(x, y, color='blue', label='Data points')\n",
    "plt.plot(x, y_pred, color='red', label='Regression Line')\n",
    "plt.title('Scatter Plot of x vs y with Linear Regression Line')\n",
    "plt.xlabel('x (res)')\n",
    "plt.ylabel('y (top_var_0)')\n",
    "plt.grid()\n",
    "plt.legend()\n",
    "plt.show()\n",
    "\n",
    "# Calculate R^2 and MSE\n",
    "r_squared = r2_score(y, y_pred)\n",
    "msd = mean_squared_error(y, y_pred)\n",
    "\n",
    "# Display the equation of the line\n",
    "equation = f\"y = {slope:.4f}x + {intercept:.4f}\"\n",
    "r_squared, msd, equation\n"
   ]
  },
  {
   "cell_type": "code",
   "execution_count": 112,
   "metadata": {},
   "outputs": [],
   "source": [
    "import pickle\n",
    "\n",
    "# Save the variable to a pickle file\n",
    "with open('corel.pkl', 'wb') as f:\n",
    "    pickle.dump(results, f)"
   ]
  },
  {
   "cell_type": "code",
   "execution_count": 23,
   "metadata": {},
   "outputs": [
    {
     "ename": "NameError",
     "evalue": "name 'top_vars' is not defined",
     "output_type": "error",
     "traceback": [
      "\u001b[1;31m---------------------------------------------------------------------------\u001b[0m",
      "\u001b[1;31mNameError\u001b[0m                                 Traceback (most recent call last)",
      "Cell \u001b[1;32mIn[23], line 4\u001b[0m\n\u001b[0;32m      1\u001b[0m \u001b[38;5;66;03m# Plot each variable against `res`\u001b[39;00m\n\u001b[0;32m      2\u001b[0m plt\u001b[38;5;241m.\u001b[39mfigure(figsize\u001b[38;5;241m=\u001b[39m(\u001b[38;5;241m12\u001b[39m, \u001b[38;5;241m8\u001b[39m))\n\u001b[1;32m----> 4\u001b[0m \u001b[38;5;28;01mfor\u001b[39;00m i, var \u001b[38;5;129;01min\u001b[39;00m \u001b[38;5;28menumerate\u001b[39m(\u001b[43mtop_vars\u001b[49m, \u001b[38;5;241m1\u001b[39m):\n\u001b[0;32m      5\u001b[0m     plt\u001b[38;5;241m.\u001b[39msubplot(\u001b[38;5;241m4\u001b[39m, \u001b[38;5;241m5\u001b[39m, i)  \u001b[38;5;66;03m# 4 rows, 5 columns for subplots\u001b[39;00m\n\u001b[0;32m      7\u001b[0m     \u001b[38;5;66;03m# Plot the line\u001b[39;00m\n",
      "\u001b[1;31mNameError\u001b[0m: name 'top_vars' is not defined"
     ]
    },
    {
     "data": {
      "text/plain": [
       "<Figure size 1200x800 with 0 Axes>"
      ]
     },
     "metadata": {},
     "output_type": "display_data"
    }
   ],
   "source": [
    "# Plot each variable against `res`\n",
    "plt.figure(figsize=(12, 8))\n",
    "\n",
    "for i, var in enumerate(top_vars, 1):\n",
    "    plt.subplot(4, 5, i)  # 4 rows, 5 columns for subplots\n",
    "    \n",
    "    # Plot the line\n",
    "    plt.plot(values[var], values['res'], linestyle='-', color='blue', alpha=0.7)\n",
    "    \n",
    "    # Scatter plot with markers\n",
    "    plt.scatter(values[var], values['res'], marker='o', color='red', alpha=0.8)\n",
    "    \n",
    "    # Annotate each point with its index\n",
    "    for idx in range(len(values)):\n",
    "        plt.text(values[var].iloc[idx], values['res'].iloc[idx], str(idx), fontsize=6, color='black', alpha=0.7)\n",
    "    \n",
    "    # Titles and labels\n",
    "    plt.title(var)\n",
    "    plt.xlabel(var)\n",
    "    plt.ylabel('res')\n",
    "\n",
    "plt.tight_layout()\n",
    "plt.show()\n"
   ]
  },
  {
   "cell_type": "markdown",
   "metadata": {},
   "source": [
    "### Feature functions to be used\n",
    "\n",
    "1. Electronegetivities of each atom involded\n",
    "\n",
    "2. sum of electronegetivities \n",
    "\n",
    "3. Difference of electronegetivities\n",
    "\n",
    "4. polarisibility\n",
    "\n",
    "6. Redox potentials \n",
    "\n",
    "7. Atomic raiis , sum of atomic raii\n",
    "\n",
    "8. Formal Charges ( dont know how to take that )\n",
    "\n",
    "9. Also should have test data \n",
    "\n",
    "10. coordination number"
   ]
  },
  {
   "cell_type": "markdown",
   "metadata": {},
   "source": [
    "### TODO:\n",
    "1. Check the Y values more properly and accurately \n",
    "\n",
    "2. Add more compunds \n",
    "\n",
    "3. Try for more feature fucntions \n"
   ]
  }
 ],
 "metadata": {
  "kernelspec": {
   "display_name": "base",
   "language": "python",
   "name": "python3"
  },
  "language_info": {
   "codemirror_mode": {
    "name": "ipython",
    "version": 3
   },
   "file_extension": ".py",
   "mimetype": "text/x-python",
   "name": "python",
   "nbconvert_exporter": "python",
   "pygments_lexer": "ipython3",
   "version": "3.12.3"
  }
 },
 "nbformat": 4,
 "nbformat_minor": 2
}
